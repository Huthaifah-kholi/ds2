{
 "cells": [
  {
   "cell_type": "markdown",
   "metadata": {},
   "source": [
    "### Using pickled models and widgets for interactive predictions  \n",
    "#### Note:  \n",
    "This notebook uses the file iris_model.pkl in the same folder.  \n",
    "The iris_model.pkl was generated using the pickle.dump function after model was trained and cross validated.  \n",
    "You should also import indicated packages.  \n",
    "You __should download__ the notebook and .pkl file and run locally. Widgets will not show on GitHub."
   ]
  },
  {
   "cell_type": "code",
   "execution_count": 8,
   "metadata": {},
   "outputs": [],
   "source": [
    "import numpy as np\n",
    "import pickle\n",
    "import ipywidgets as ipw\n",
    "from IPython.display import display\n",
    "from ipywidgets import interact"
   ]
  },
  {
   "cell_type": "code",
   "execution_count": 5,
   "metadata": {},
   "outputs": [
    {
     "name": "stdout",
     "output_type": "stream",
     "text": [
      "Loaded Decision tree model ::  GridSearchCV(cv=3, error_score='raise',\n",
      "       estimator=LogisticRegression(C=1.0, class_weight=None, dual=False, fit_intercept=True,\n",
      "          intercept_scaling=1, max_iter=100, multi_class='ovr', n_jobs=3,\n",
      "          penalty='l2', random_state=None, solver='liblinear', tol=0.0001,\n",
      "          verbose=0, warm_start=False),\n",
      "       fit_params={}, iid=True, n_jobs=1,\n",
      "       param_grid={'C': [0.01, 0.1, 1, 10, 100], 'max_iter': [100, 200, 300, 400]},\n",
      "       pre_dispatch='2*n_jobs', refit=True, return_train_score=True,\n",
      "       scoring=None, verbose=0)\n"
     ]
    }
   ],
   "source": [
    "# Loading the saved model from pickle\n",
    "with open('iris_model.pkl', 'rb') as f:\n",
    "    model4use = pickle.load(f)\n",
    "print (\"Loaded Decision tree model :: \", model4use)"
   ]
  },
  {
   "cell_type": "code",
   "execution_count": 11,
   "metadata": {},
   "outputs": [
    {
     "data": {
      "application/vnd.jupyter.widget-view+json": {
       "model_id": "d35f31dc21b74e63990a8ed9b7197c0a"
      }
     },
     "metadata": {},
     "output_type": "display_data"
    }
   ],
   "source": [
    "result = ipw.Text(description=\"Prediction:\", value='Not set', disabled=True)\n",
    "display(result)"
   ]
  },
  {
   "cell_type": "code",
   "execution_count": 12,
   "metadata": {},
   "outputs": [
    {
     "data": {
      "application/vnd.jupyter.widget-view+json": {
       "model_id": "9feab6f453044c0e91c7d88ea8b02aee"
      }
     },
     "metadata": {},
     "output_type": "display_data"
    }
   ],
   "source": [
    "classes = np.array(['setosa', 'versicolor', 'virginica'])  # lookup for classes\n",
    "# sl = sepal length, sw = sepal width, pl = petal length, pw = petal width\n",
    "@interact(sl=(0.0,10.0),sw=(0.0,10.0),pl=(0.0,10.0),pw=(0.0,10.0))\n",
    "def classifyIris (sl,sw,pl,pw):\n",
    "    qarr = np.array([[sl, sw, pl,pw]])\n",
    "    result.value = classes[model4use.predict(qarr)][0]\n",
    "#return result\n",
    "#for testing: 6.8,  2.8,  4.8,  1.4 ==> 1 (versicolor)\n",
    "\n",
    "# you should see 4 sliders below, change values and watch the prediction textbox above"
   ]
  },
  {
   "cell_type": "code",
   "execution_count": null,
   "metadata": {
    "collapsed": true
   },
   "outputs": [],
   "source": []
  }
 ],
 "metadata": {
  "kernelspec": {
   "display_name": "Python [default]",
   "language": "python",
   "name": "python3"
  },
  "language_info": {
   "codemirror_mode": {
    "name": "ipython",
    "version": 3
   },
   "file_extension": ".py",
   "mimetype": "text/x-python",
   "name": "python",
   "nbconvert_exporter": "python",
   "pygments_lexer": "ipython3",
   "version": "3.5.2"
  }
 },
 "nbformat": 4,
 "nbformat_minor": 2
}
