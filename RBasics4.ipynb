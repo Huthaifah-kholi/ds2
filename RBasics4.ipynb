{
 "cells": [
  {
   "cell_type": "markdown",
   "metadata": {},
   "source": [
    "## R Basics 4: DataFrames"
   ]
  },
  {
   "cell_type": "code",
   "execution_count": 2,
   "metadata": {},
   "outputs": [
    {
     "data": {
      "text/html": [
       "<table>\n",
       "<thead><tr><th scope=col>days</th><th scope=col>temps</th><th scope=col>outlook</th></tr></thead>\n",
       "<tbody>\n",
       "\t<tr><td>Sat     </td><td>21      </td><td>sunny   </td></tr>\n",
       "\t<tr><td>Sun     </td><td>18      </td><td>overcast</td></tr>\n",
       "\t<tr><td>Mon     </td><td>24      </td><td>cloudy  </td></tr>\n",
       "\t<tr><td>Tue     </td><td>15      </td><td>rainy   </td></tr>\n",
       "</tbody>\n",
       "</table>\n"
      ],
      "text/latex": [
       "\\begin{tabular}{r|lll}\n",
       " days & temps & outlook\\\\\n",
       "\\hline\n",
       "\t Sat      & 21       & sunny   \\\\\n",
       "\t Sun      & 18       & overcast\\\\\n",
       "\t Mon      & 24       & cloudy  \\\\\n",
       "\t Tue      & 15       & rainy   \\\\\n",
       "\\end{tabular}\n"
      ],
      "text/markdown": [
       "\n",
       "days | temps | outlook | \n",
       "|---|---|---|---|\n",
       "| Sat      | 21       | sunny    | \n",
       "| Sun      | 18       | overcast | \n",
       "| Mon      | 24       | cloudy   | \n",
       "| Tue      | 15       | rainy    | \n",
       "\n",
       "\n"
      ],
      "text/plain": [
       "  days temps outlook \n",
       "1 Sat  21    sunny   \n",
       "2 Sun  18    overcast\n",
       "3 Mon  24    cloudy  \n",
       "4 Tue  15    rainy   "
      ]
     },
     "metadata": {},
     "output_type": "display_data"
    }
   ],
   "source": [
    "# dataframes allow different types and are more flexible than lists \n",
    "# rows are observations, columns are features - in data science speak\n",
    "# elements in columns are same type\n",
    "# datasets in R are dataframes \n",
    "\n",
    "# create dataframe from vectors\n",
    "days <- c(\"Sat\", \"Sun\", \"Mon\", \"Tue\")\n",
    "temps <- c(21, 18, 24, 15)\n",
    "outlook <- c(\"sunny\", \"overcast\", \"cloudy\", \"rainy\")\n",
    "\n",
    "# vector names become column names in dataframe\n",
    "df <- data.frame(days, temps, outlook)\n",
    "df"
   ]
  },
  {
   "cell_type": "code",
   "execution_count": 3,
   "metadata": {},
   "outputs": [
    {
     "data": {
      "text/html": [
       "<table>\n",
       "<thead><tr><th scope=col>Day</th><th scope=col>Temperature</th><th scope=col>Forecast</th></tr></thead>\n",
       "<tbody>\n",
       "\t<tr><td>Sat     </td><td>21      </td><td>sunny   </td></tr>\n",
       "\t<tr><td>Sun     </td><td>18      </td><td>overcast</td></tr>\n",
       "\t<tr><td>Mon     </td><td>24      </td><td>cloudy  </td></tr>\n",
       "\t<tr><td>Tue     </td><td>15      </td><td>rainy   </td></tr>\n",
       "</tbody>\n",
       "</table>\n"
      ],
      "text/latex": [
       "\\begin{tabular}{r|lll}\n",
       " Day & Temperature & Forecast\\\\\n",
       "\\hline\n",
       "\t Sat      & 21       & sunny   \\\\\n",
       "\t Sun      & 18       & overcast\\\\\n",
       "\t Mon      & 24       & cloudy  \\\\\n",
       "\t Tue      & 15       & rainy   \\\\\n",
       "\\end{tabular}\n"
      ],
      "text/markdown": [
       "\n",
       "Day | Temperature | Forecast | \n",
       "|---|---|---|---|\n",
       "| Sat      | 21       | sunny    | \n",
       "| Sun      | 18       | overcast | \n",
       "| Mon      | 24       | cloudy   | \n",
       "| Tue      | 15       | rainy    | \n",
       "\n",
       "\n"
      ],
      "text/plain": [
       "  Day Temperature Forecast\n",
       "1 Sat 21          sunny   \n",
       "2 Sun 18          overcast\n",
       "3 Mon 24          cloudy  \n",
       "4 Tue 15          rainy   "
      ]
     },
     "metadata": {},
     "output_type": "display_data"
    }
   ],
   "source": [
    "# can label columns differently \n",
    "names(df) <- c(\"Day\", \"Temperature\", \"Forecast\")\n",
    "df"
   ]
  },
  {
   "cell_type": "code",
   "execution_count": 6,
   "metadata": {},
   "outputs": [
    {
     "data": {
      "text/html": [
       "<table>\n",
       "<thead><tr><th scope=col>Day</th><th scope=col>Temp.Deg.C</th><th scope=col>Forecast</th></tr></thead>\n",
       "<tbody>\n",
       "\t<tr><td>Sat     </td><td>21      </td><td>sunny   </td></tr>\n",
       "\t<tr><td>Sun     </td><td>18      </td><td>overcast</td></tr>\n",
       "\t<tr><td>Mon     </td><td>24      </td><td>cloudy  </td></tr>\n",
       "\t<tr><td>Tue     </td><td>15      </td><td>rainy   </td></tr>\n",
       "</tbody>\n",
       "</table>\n"
      ],
      "text/latex": [
       "\\begin{tabular}{r|lll}\n",
       " Day & Temp.Deg.C & Forecast\\\\\n",
       "\\hline\n",
       "\t Sat      & 21       & sunny   \\\\\n",
       "\t Sun      & 18       & overcast\\\\\n",
       "\t Mon      & 24       & cloudy  \\\\\n",
       "\t Tue      & 15       & rainy   \\\\\n",
       "\\end{tabular}\n"
      ],
      "text/markdown": [
       "\n",
       "Day | Temp.Deg.C | Forecast | \n",
       "|---|---|---|---|\n",
       "| Sat      | 21       | sunny    | \n",
       "| Sun      | 18       | overcast | \n",
       "| Mon      | 24       | cloudy   | \n",
       "| Tue      | 15       | rainy    | \n",
       "\n",
       "\n"
      ],
      "text/plain": [
       "  Day Temp.Deg.C Forecast\n",
       "1 Sat 21         sunny   \n",
       "2 Sun 18         overcast\n",
       "3 Mon 24         cloudy  \n",
       "4 Tue 15         rainy   "
      ]
     },
     "metadata": {},
     "output_type": "display_data"
    }
   ],
   "source": [
    "# or change names when creating df \n",
    "df2 <- data.frame(Day = days, \"Temp Deg C\" = temps, Forecast = outlook)\n",
    "df2"
   ]
  },
  {
   "cell_type": "code",
   "execution_count": 8,
   "metadata": {},
   "outputs": [
    {
     "name": "stdout",
     "output_type": "stream",
     "text": [
      "'data.frame':\t4 obs. of  3 variables:\n",
      " $ Day       : Factor w/ 4 levels \"Mon\",\"Sat\",\"Sun\",..: 2 3 1 4\n",
      " $ Temp.Deg.C: num  21 18 24 15\n",
      " $ Forecast  : Factor w/ 4 levels \"cloudy\",\"overcast\",..: 4 2 1 3\n"
     ]
    }
   ],
   "source": [
    "# R interprets the dataframe with types, including factors where possible\n",
    "str(df2)"
   ]
  },
  {
   "cell_type": "code",
   "execution_count": 37,
   "metadata": {},
   "outputs": [
    {
     "name": "stdout",
     "output_type": "stream",
     "text": [
      "'data.frame':\t4 obs. of  3 variables:\n",
      " $ Day       : chr  \"Sat\" \"Sun\" \"Mon\" \"Tue\"\n",
      " $ Temp.Deg.C: num  21 18 24 15\n",
      " $ Forecast  : chr  \"sunny\" \"overcast\" \"cloudy\" \"rainy\"\n"
     ]
    }
   ],
   "source": [
    "# can over-write assumptions ...\n",
    "df3 <- data.frame(Day = days, \"Temp Deg C\" = temps, Forecast = outlook, stringsAsFactors = FALSE)\n",
    "str(df3)"
   ]
  },
  {
   "cell_type": "code",
   "execution_count": 38,
   "metadata": {},
   "outputs": [
    {
     "data": {
      "text/html": [
       "<table>\n",
       "<thead><tr><th scope=col>Day</th><th scope=col>Temp.Deg.C</th><th scope=col>Forecast</th></tr></thead>\n",
       "<tbody>\n",
       "\t<tr><td>Sat     </td><td>21      </td><td>sunny   </td></tr>\n",
       "\t<tr><td>Sun     </td><td>18      </td><td>overcast</td></tr>\n",
       "\t<tr><td>Mon     </td><td>24      </td><td>cloudy  </td></tr>\n",
       "\t<tr><td>Tue     </td><td>15      </td><td>rainy   </td></tr>\n",
       "</tbody>\n",
       "</table>\n"
      ],
      "text/latex": [
       "\\begin{tabular}{r|lll}\n",
       " Day & Temp.Deg.C & Forecast\\\\\n",
       "\\hline\n",
       "\t Sat      & 21       & sunny   \\\\\n",
       "\t Sun      & 18       & overcast\\\\\n",
       "\t Mon      & 24       & cloudy  \\\\\n",
       "\t Tue      & 15       & rainy   \\\\\n",
       "\\end{tabular}\n"
      ],
      "text/markdown": [
       "\n",
       "Day | Temp.Deg.C | Forecast | \n",
       "|---|---|---|---|\n",
       "| Sat      | 21       | sunny    | \n",
       "| Sun      | 18       | overcast | \n",
       "| Mon      | 24       | cloudy   | \n",
       "| Tue      | 15       | rainy    | \n",
       "\n",
       "\n"
      ],
      "text/plain": [
       "  Day Temp.Deg.C Forecast\n",
       "1 Sat 21         sunny   \n",
       "2 Sun 18         overcast\n",
       "3 Mon 24         cloudy  \n",
       "4 Tue 15         rainy   "
      ]
     },
     "metadata": {},
     "output_type": "display_data"
    }
   ],
   "source": [
    "# subsetting dataframes\n",
    "df3"
   ]
  },
  {
   "cell_type": "code",
   "execution_count": 39,
   "metadata": {},
   "outputs": [
    {
     "data": {
      "text/html": [
       "24"
      ],
      "text/latex": [
       "24"
      ],
      "text/markdown": [
       "24"
      ],
      "text/plain": [
       "[1] 24"
      ]
     },
     "metadata": {},
     "output_type": "display_data"
    },
    {
     "data": {
      "text/html": [
       "<ol class=list-inline>\n",
       "\t<li>'Sat'</li>\n",
       "\t<li>'Sun'</li>\n",
       "\t<li>'Mon'</li>\n",
       "\t<li>'Tue'</li>\n",
       "</ol>\n"
      ],
      "text/latex": [
       "\\begin{enumerate*}\n",
       "\\item 'Sat'\n",
       "\\item 'Sun'\n",
       "\\item 'Mon'\n",
       "\\item 'Tue'\n",
       "\\end{enumerate*}\n"
      ],
      "text/markdown": [
       "1. 'Sat'\n",
       "2. 'Sun'\n",
       "3. 'Mon'\n",
       "4. 'Tue'\n",
       "\n",
       "\n"
      ],
      "text/plain": [
       "[1] \"Sat\" \"Sun\" \"Mon\" \"Tue\""
      ]
     },
     "metadata": {},
     "output_type": "display_data"
    },
    {
     "data": {
      "text/html": [
       "<table>\n",
       "<thead><tr><th></th><th scope=col>Day</th><th scope=col>Temp.Deg.C</th><th scope=col>Forecast</th></tr></thead>\n",
       "<tbody>\n",
       "\t<tr><th scope=row>3</th><td>Mon   </td><td>24    </td><td>cloudy</td></tr>\n",
       "</tbody>\n",
       "</table>\n"
      ],
      "text/latex": [
       "\\begin{tabular}{r|lll}\n",
       "  & Day & Temp.Deg.C & Forecast\\\\\n",
       "\\hline\n",
       "\t3 & Mon    & 24     & cloudy\\\\\n",
       "\\end{tabular}\n"
      ],
      "text/markdown": [
       "\n",
       "| <!--/--> | Day | Temp.Deg.C | Forecast | \n",
       "|---|\n",
       "| 3 | Mon    | 24     | cloudy | \n",
       "\n",
       "\n"
      ],
      "text/plain": [
       "  Day Temp.Deg.C Forecast\n",
       "3 Mon 24         cloudy  "
      ]
     },
     "metadata": {},
     "output_type": "display_data"
    },
    {
     "data": {
      "text/html": [
       "<ol class=list-inline>\n",
       "\t<li>'sunny'</li>\n",
       "\t<li>'overcast'</li>\n",
       "\t<li>'cloudy'</li>\n",
       "\t<li>'rainy'</li>\n",
       "</ol>\n"
      ],
      "text/latex": [
       "\\begin{enumerate*}\n",
       "\\item 'sunny'\n",
       "\\item 'overcast'\n",
       "\\item 'cloudy'\n",
       "\\item 'rainy'\n",
       "\\end{enumerate*}\n"
      ],
      "text/markdown": [
       "1. 'sunny'\n",
       "2. 'overcast'\n",
       "3. 'cloudy'\n",
       "4. 'rainy'\n",
       "\n",
       "\n"
      ],
      "text/plain": [
       "[1] \"sunny\"    \"overcast\" \"cloudy\"   \"rainy\"   "
      ]
     },
     "metadata": {},
     "output_type": "display_data"
    },
    {
     "data": {
      "text/html": [
       "<ol class=list-inline>\n",
       "\t<li>'Sat'</li>\n",
       "\t<li>'Sun'</li>\n",
       "\t<li>'Mon'</li>\n",
       "\t<li>'Tue'</li>\n",
       "</ol>\n"
      ],
      "text/latex": [
       "\\begin{enumerate*}\n",
       "\\item 'Sat'\n",
       "\\item 'Sun'\n",
       "\\item 'Mon'\n",
       "\\item 'Tue'\n",
       "\\end{enumerate*}\n"
      ],
      "text/markdown": [
       "1. 'Sat'\n",
       "2. 'Sun'\n",
       "3. 'Mon'\n",
       "4. 'Tue'\n",
       "\n",
       "\n"
      ],
      "text/plain": [
       "[1] \"Sat\" \"Sun\" \"Mon\" \"Tue\""
      ]
     },
     "metadata": {},
     "output_type": "display_data"
    },
    {
     "data": {
      "text/html": [
       "<table>\n",
       "<thead><tr><th scope=col>Temp.Deg.C</th></tr></thead>\n",
       "<tbody>\n",
       "\t<tr><td>21</td></tr>\n",
       "\t<tr><td>18</td></tr>\n",
       "\t<tr><td>24</td></tr>\n",
       "\t<tr><td>15</td></tr>\n",
       "</tbody>\n",
       "</table>\n"
      ],
      "text/latex": [
       "\\begin{tabular}{r|l}\n",
       " Temp.Deg.C\\\\\n",
       "\\hline\n",
       "\t 21\\\\\n",
       "\t 18\\\\\n",
       "\t 24\\\\\n",
       "\t 15\\\\\n",
       "\\end{tabular}\n"
      ],
      "text/markdown": [
       "\n",
       "Temp.Deg.C | \n",
       "|---|---|---|---|\n",
       "| 21 | \n",
       "| 18 | \n",
       "| 24 | \n",
       "| 15 | \n",
       "\n",
       "\n"
      ],
      "text/plain": [
       "  Temp.Deg.C\n",
       "1 21        \n",
       "2 18        \n",
       "3 24        \n",
       "4 15        "
      ]
     },
     "metadata": {},
     "output_type": "display_data"
    }
   ],
   "source": [
    "# 3rd row, 2nd element\n",
    "df3[3,2] \n",
    "# the whole Day column\n",
    "df3$Day\n",
    "# 3rd row\n",
    "df3[3,]\n",
    "# 3rd column\n",
    "df3[,3]\n",
    "# the Day column\n",
    "df3[,\"Day\"]\n",
    "# 2nd col\n",
    "df3[2]"
   ]
  },
  {
   "cell_type": "code",
   "execution_count": 40,
   "metadata": {},
   "outputs": [
    {
     "data": {
      "text/html": [
       "<table>\n",
       "<thead><tr><th></th><th scope=col>Day</th><th scope=col>Forecast</th></tr></thead>\n",
       "<tbody>\n",
       "\t<tr><th scope=row>1</th><td>Sat   </td><td>sunny </td></tr>\n",
       "\t<tr><th scope=row>3</th><td>Mon   </td><td>cloudy</td></tr>\n",
       "\t<tr><th scope=row>4</th><td>Tue   </td><td>rainy </td></tr>\n",
       "</tbody>\n",
       "</table>\n"
      ],
      "text/latex": [
       "\\begin{tabular}{r|ll}\n",
       "  & Day & Forecast\\\\\n",
       "\\hline\n",
       "\t1 & Sat    & sunny \\\\\n",
       "\t3 & Mon    & cloudy\\\\\n",
       "\t4 & Tue    & rainy \\\\\n",
       "\\end{tabular}\n"
      ],
      "text/markdown": [
       "\n",
       "| <!--/--> | Day | Forecast | \n",
       "|---|---|---|\n",
       "| 1 | Sat    | sunny  | \n",
       "| 3 | Mon    | cloudy | \n",
       "| 4 | Tue    | rainy  | \n",
       "\n",
       "\n"
      ],
      "text/plain": [
       "  Day Forecast\n",
       "1 Sat sunny   \n",
       "3 Mon cloudy  \n",
       "4 Tue rainy   "
      ]
     },
     "metadata": {},
     "output_type": "display_data"
    }
   ],
   "source": [
    "# more selection: rows 1, 3 and 4, columns Day and Forecast\n",
    "df3[c(1,3,4), c(\"Day\", \"Forecast\")]"
   ]
  },
  {
   "cell_type": "code",
   "execution_count": 41,
   "metadata": {},
   "outputs": [
    {
     "data": {
      "text/html": [
       "<ol class=list-inline>\n",
       "\t<li>'Sat'</li>\n",
       "\t<li>'Sun'</li>\n",
       "\t<li>'Mon'</li>\n",
       "\t<li>'Tue'</li>\n",
       "</ol>\n"
      ],
      "text/latex": [
       "\\begin{enumerate*}\n",
       "\\item 'Sat'\n",
       "\\item 'Sun'\n",
       "\\item 'Mon'\n",
       "\\item 'Tue'\n",
       "\\end{enumerate*}\n"
      ],
      "text/markdown": [
       "1. 'Sat'\n",
       "2. 'Sun'\n",
       "3. 'Mon'\n",
       "4. 'Tue'\n",
       "\n",
       "\n"
      ],
      "text/plain": [
       "[1] \"Sat\" \"Sun\" \"Mon\" \"Tue\""
      ]
     },
     "metadata": {},
     "output_type": "display_data"
    },
    {
     "data": {
      "text/html": [
       "<table>\n",
       "<thead><tr><th scope=col>Day</th></tr></thead>\n",
       "<tbody>\n",
       "\t<tr><td>Sat</td></tr>\n",
       "\t<tr><td>Sun</td></tr>\n",
       "\t<tr><td>Mon</td></tr>\n",
       "\t<tr><td>Tue</td></tr>\n",
       "</tbody>\n",
       "</table>\n"
      ],
      "text/latex": [
       "\\begin{tabular}{r|l}\n",
       " Day\\\\\n",
       "\\hline\n",
       "\t Sat\\\\\n",
       "\t Sun\\\\\n",
       "\t Mon\\\\\n",
       "\t Tue\\\\\n",
       "\\end{tabular}\n"
      ],
      "text/markdown": [
       "\n",
       "Day | \n",
       "|---|---|---|---|\n",
       "| Sat | \n",
       "| Sun | \n",
       "| Mon | \n",
       "| Tue | \n",
       "\n",
       "\n"
      ],
      "text/plain": [
       "  Day\n",
       "1 Sat\n",
       "2 Sun\n",
       "3 Mon\n",
       "4 Tue"
      ]
     },
     "metadata": {},
     "output_type": "display_data"
    },
    {
     "data": {
      "text/html": [
       "<table>\n",
       "<thead><tr><th scope=col>Day</th></tr></thead>\n",
       "<tbody>\n",
       "\t<tr><td>Sat</td></tr>\n",
       "\t<tr><td>Sun</td></tr>\n",
       "\t<tr><td>Mon</td></tr>\n",
       "\t<tr><td>Tue</td></tr>\n",
       "</tbody>\n",
       "</table>\n"
      ],
      "text/latex": [
       "\\begin{tabular}{r|l}\n",
       " Day\\\\\n",
       "\\hline\n",
       "\t Sat\\\\\n",
       "\t Sun\\\\\n",
       "\t Mon\\\\\n",
       "\t Tue\\\\\n",
       "\\end{tabular}\n"
      ],
      "text/markdown": [
       "\n",
       "Day | \n",
       "|---|---|---|---|\n",
       "| Sat | \n",
       "| Sun | \n",
       "| Mon | \n",
       "| Tue | \n",
       "\n",
       "\n"
      ],
      "text/plain": [
       "  Day\n",
       "1 Sat\n",
       "2 Sun\n",
       "3 Mon\n",
       "4 Tue"
      ]
     },
     "metadata": {},
     "output_type": "display_data"
    },
    {
     "data": {
      "text/html": [
       "<ol class=list-inline>\n",
       "\t<li>'Sat'</li>\n",
       "\t<li>'Sun'</li>\n",
       "\t<li>'Mon'</li>\n",
       "\t<li>'Tue'</li>\n",
       "</ol>\n"
      ],
      "text/latex": [
       "\\begin{enumerate*}\n",
       "\\item 'Sat'\n",
       "\\item 'Sun'\n",
       "\\item 'Mon'\n",
       "\\item 'Tue'\n",
       "\\end{enumerate*}\n"
      ],
      "text/markdown": [
       "1. 'Sat'\n",
       "2. 'Sun'\n",
       "3. 'Mon'\n",
       "4. 'Tue'\n",
       "\n",
       "\n"
      ],
      "text/plain": [
       "[1] \"Sat\" \"Sun\" \"Mon\" \"Tue\""
      ]
     },
     "metadata": {},
     "output_type": "display_data"
    },
    {
     "data": {
      "text/html": [
       "<ol class=list-inline>\n",
       "\t<li>'Sat'</li>\n",
       "\t<li>'Sun'</li>\n",
       "\t<li>'Mon'</li>\n",
       "\t<li>'Tue'</li>\n",
       "</ol>\n"
      ],
      "text/latex": [
       "\\begin{enumerate*}\n",
       "\\item 'Sat'\n",
       "\\item 'Sun'\n",
       "\\item 'Mon'\n",
       "\\item 'Tue'\n",
       "\\end{enumerate*}\n"
      ],
      "text/markdown": [
       "1. 'Sat'\n",
       "2. 'Sun'\n",
       "3. 'Mon'\n",
       "4. 'Tue'\n",
       "\n",
       "\n"
      ],
      "text/plain": [
       "[1] \"Sat\" \"Sun\" \"Mon\" \"Tue\""
      ]
     },
     "metadata": {},
     "output_type": "display_data"
    },
    {
     "data": {
      "text/html": [
       "'data.frame'"
      ],
      "text/latex": [
       "'data.frame'"
      ],
      "text/markdown": [
       "'data.frame'"
      ],
      "text/plain": [
       "[1] \"data.frame\""
      ]
     },
     "metadata": {},
     "output_type": "display_data"
    },
    {
     "data": {
      "text/html": [
       "'character'"
      ],
      "text/latex": [
       "'character'"
      ],
      "text/markdown": [
       "'character'"
      ],
      "text/plain": [
       "[1] \"character\""
      ]
     },
     "metadata": {},
     "output_type": "display_data"
    }
   ],
   "source": [
    "# output type is different\n",
    "df3[[1]]\n",
    "df3[1]\n",
    "df3[\"Day\"]\n",
    "df3$Day\n",
    "df3[[\"Day\"]]\n",
    "\n",
    "class(df3[1])\n",
    "class(df3[[1]])"
   ]
  },
  {
   "cell_type": "code",
   "execution_count": 42,
   "metadata": {},
   "outputs": [
    {
     "data": {
      "text/html": [
       "<table>\n",
       "<thead><tr><th scope=col>Day</th><th scope=col>Temp.Deg.C</th><th scope=col>Forecast</th><th scope=col>RelativeHumidity</th></tr></thead>\n",
       "<tbody>\n",
       "\t<tr><td>Sat     </td><td>21      </td><td>sunny   </td><td>45      </td></tr>\n",
       "\t<tr><td>Sun     </td><td>18      </td><td>overcast</td><td>40      </td></tr>\n",
       "\t<tr><td>Mon     </td><td>24      </td><td>cloudy  </td><td>34      </td></tr>\n",
       "\t<tr><td>Tue     </td><td>15      </td><td>rainy   </td><td>55      </td></tr>\n",
       "</tbody>\n",
       "</table>\n"
      ],
      "text/latex": [
       "\\begin{tabular}{r|llll}\n",
       " Day & Temp.Deg.C & Forecast & RelativeHumidity\\\\\n",
       "\\hline\n",
       "\t Sat      & 21       & sunny    & 45      \\\\\n",
       "\t Sun      & 18       & overcast & 40      \\\\\n",
       "\t Mon      & 24       & cloudy   & 34      \\\\\n",
       "\t Tue      & 15       & rainy    & 55      \\\\\n",
       "\\end{tabular}\n"
      ],
      "text/markdown": [
       "\n",
       "Day | Temp.Deg.C | Forecast | RelativeHumidity | \n",
       "|---|---|---|---|\n",
       "| Sat      | 21       | sunny    | 45       | \n",
       "| Sun      | 18       | overcast | 40       | \n",
       "| Mon      | 24       | cloudy   | 34       | \n",
       "| Tue      | 15       | rainy    | 55       | \n",
       "\n",
       "\n"
      ],
      "text/plain": [
       "  Day Temp.Deg.C Forecast RelativeHumidity\n",
       "1 Sat 21         sunny    45              \n",
       "2 Sun 18         overcast 40              \n",
       "3 Mon 24         cloudy   34              \n",
       "4 Tue 15         rainy    55              "
      ]
     },
     "metadata": {},
     "output_type": "display_data"
    }
   ],
   "source": [
    "# extendng dataframes \n",
    "# adding columns \n",
    "humidity <- c(45, 40, 34, 55)\n",
    "df3$RelativeHumidity <- humidity \n",
    "df3"
   ]
  },
  {
   "cell_type": "code",
   "execution_count": 43,
   "metadata": {},
   "outputs": [
    {
     "data": {
      "text/html": [
       "<table>\n",
       "<thead><tr><th scope=col>Day</th><th scope=col>Temp.Deg.C</th><th scope=col>Forecast</th><th scope=col>RelativeHumidity</th><th scope=col>wind</th></tr></thead>\n",
       "<tbody>\n",
       "\t<tr><td>Sat     </td><td>21      </td><td>sunny   </td><td>45      </td><td>S       </td></tr>\n",
       "\t<tr><td>Sun     </td><td>18      </td><td>overcast</td><td>40      </td><td>W       </td></tr>\n",
       "\t<tr><td>Mon     </td><td>24      </td><td>cloudy  </td><td>34      </td><td>SW      </td></tr>\n",
       "\t<tr><td>Tue     </td><td>15      </td><td>rainy   </td><td>55      </td><td>NW      </td></tr>\n",
       "</tbody>\n",
       "</table>\n"
      ],
      "text/latex": [
       "\\begin{tabular}{r|lllll}\n",
       " Day & Temp.Deg.C & Forecast & RelativeHumidity & wind\\\\\n",
       "\\hline\n",
       "\t Sat      & 21       & sunny    & 45       & S       \\\\\n",
       "\t Sun      & 18       & overcast & 40       & W       \\\\\n",
       "\t Mon      & 24       & cloudy   & 34       & SW      \\\\\n",
       "\t Tue      & 15       & rainy    & 55       & NW      \\\\\n",
       "\\end{tabular}\n"
      ],
      "text/markdown": [
       "\n",
       "Day | Temp.Deg.C | Forecast | RelativeHumidity | wind | \n",
       "|---|---|---|---|\n",
       "| Sat      | 21       | sunny    | 45       | S        | \n",
       "| Sun      | 18       | overcast | 40       | W        | \n",
       "| Mon      | 24       | cloudy   | 34       | SW       | \n",
       "| Tue      | 15       | rainy    | 55       | NW       | \n",
       "\n",
       "\n"
      ],
      "text/plain": [
       "  Day Temp.Deg.C Forecast RelativeHumidity wind\n",
       "1 Sat 21         sunny    45               S   \n",
       "2 Sun 18         overcast 40               W   \n",
       "3 Mon 24         cloudy   34               SW  \n",
       "4 Tue 15         rainy    55               NW  "
      ]
     },
     "metadata": {},
     "output_type": "display_data"
    },
    {
     "data": {
      "text/html": [
       "<table>\n",
       "<thead><tr><th scope=col>Day</th><th scope=col>Temp.Deg.C</th><th scope=col>Forecast</th><th scope=col>RelativeHumidity</th></tr></thead>\n",
       "<tbody>\n",
       "\t<tr><td>Sat     </td><td>21      </td><td>sunny   </td><td>45      </td></tr>\n",
       "\t<tr><td>Sun     </td><td>18      </td><td>overcast</td><td>40      </td></tr>\n",
       "\t<tr><td>Mon     </td><td>24      </td><td>cloudy  </td><td>34      </td></tr>\n",
       "\t<tr><td>Tue     </td><td>15      </td><td>rainy   </td><td>55      </td></tr>\n",
       "</tbody>\n",
       "</table>\n"
      ],
      "text/latex": [
       "\\begin{tabular}{r|llll}\n",
       " Day & Temp.Deg.C & Forecast & RelativeHumidity\\\\\n",
       "\\hline\n",
       "\t Sat      & 21       & sunny    & 45      \\\\\n",
       "\t Sun      & 18       & overcast & 40      \\\\\n",
       "\t Mon      & 24       & cloudy   & 34      \\\\\n",
       "\t Tue      & 15       & rainy    & 55      \\\\\n",
       "\\end{tabular}\n"
      ],
      "text/markdown": [
       "\n",
       "Day | Temp.Deg.C | Forecast | RelativeHumidity | \n",
       "|---|---|---|---|\n",
       "| Sat      | 21       | sunny    | 45       | \n",
       "| Sun      | 18       | overcast | 40       | \n",
       "| Mon      | 24       | cloudy   | 34       | \n",
       "| Tue      | 15       | rainy    | 55       | \n",
       "\n",
       "\n"
      ],
      "text/plain": [
       "  Day Temp.Deg.C Forecast RelativeHumidity\n",
       "1 Sat 21         sunny    45              \n",
       "2 Sun 18         overcast 40              \n",
       "3 Mon 24         cloudy   34              \n",
       "4 Tue 15         rainy    55              "
      ]
     },
     "metadata": {},
     "output_type": "display_data"
    }
   ],
   "source": [
    "# can also use cbind and rbind \n",
    "wind <- c(\"S\", \"W\", \"SW\", \"NW\")\n",
    "df4 <- cbind(df3, wind)\n",
    "df4\n",
    "# df3 is not changed \n",
    "df3"
   ]
  },
  {
   "cell_type": "code",
   "execution_count": 44,
   "metadata": {},
   "outputs": [
    {
     "data": {
      "text/html": [
       "<table>\n",
       "<thead><tr><th scope=col>Day</th><th scope=col>Temp.Deg.C</th><th scope=col>Forecast</th><th scope=col>RelativeHumidity</th></tr></thead>\n",
       "<tbody>\n",
       "\t<tr><td>Sat     </td><td>21      </td><td>sunny   </td><td>45      </td></tr>\n",
       "\t<tr><td>Sun     </td><td>18      </td><td>overcast</td><td>40      </td></tr>\n",
       "\t<tr><td>Mon     </td><td>24      </td><td>cloudy  </td><td>34      </td></tr>\n",
       "\t<tr><td>Tue     </td><td>15      </td><td>rainy   </td><td>55      </td></tr>\n",
       "\t<tr><td>Wed     </td><td>22      </td><td>snowy   </td><td>48      </td></tr>\n",
       "</tbody>\n",
       "</table>\n"
      ],
      "text/latex": [
       "\\begin{tabular}{r|llll}\n",
       " Day & Temp.Deg.C & Forecast & RelativeHumidity\\\\\n",
       "\\hline\n",
       "\t Sat      & 21       & sunny    & 45      \\\\\n",
       "\t Sun      & 18       & overcast & 40      \\\\\n",
       "\t Mon      & 24       & cloudy   & 34      \\\\\n",
       "\t Tue      & 15       & rainy    & 55      \\\\\n",
       "\t Wed      & 22       & snowy    & 48      \\\\\n",
       "\\end{tabular}\n"
      ],
      "text/markdown": [
       "\n",
       "Day | Temp.Deg.C | Forecast | RelativeHumidity | \n",
       "|---|---|---|---|---|\n",
       "| Sat      | 21       | sunny    | 45       | \n",
       "| Sun      | 18       | overcast | 40       | \n",
       "| Mon      | 24       | cloudy   | 34       | \n",
       "| Tue      | 15       | rainy    | 55       | \n",
       "| Wed      | 22       | snowy    | 48       | \n",
       "\n",
       "\n"
      ],
      "text/plain": [
       "  Day Temp.Deg.C Forecast RelativeHumidity\n",
       "1 Sat 21         sunny    45              \n",
       "2 Sun 18         overcast 40              \n",
       "3 Mon 24         cloudy   34              \n",
       "4 Tue 15         rainy    55              \n",
       "5 Wed 22         snowy    48              "
      ]
     },
     "metadata": {},
     "output_type": "display_data"
    }
   ],
   "source": [
    "# adding a row using dataframe\n",
    "newRow <- data.frame(Day = \"Wed\", \"Temp Deg C\" = 22, Forecast = \"snowy\", RelativeHumidity = 48)\n",
    "df4 <- rbind(df3,newRow)\n",
    "df4"
   ]
  },
  {
   "cell_type": "code",
   "execution_count": 47,
   "metadata": {},
   "outputs": [
    {
     "data": {
      "text/html": [
       "<ol class=list-inline>\n",
       "\t<li>34</li>\n",
       "\t<li>40</li>\n",
       "\t<li>45</li>\n",
       "\t<li>48</li>\n",
       "\t<li>55</li>\n",
       "</ol>\n"
      ],
      "text/latex": [
       "\\begin{enumerate*}\n",
       "\\item 34\n",
       "\\item 40\n",
       "\\item 45\n",
       "\\item 48\n",
       "\\item 55\n",
       "\\end{enumerate*}\n"
      ],
      "text/markdown": [
       "1. 34\n",
       "2. 40\n",
       "3. 45\n",
       "4. 48\n",
       "5. 55\n",
       "\n",
       "\n"
      ],
      "text/plain": [
       "[1] 34 40 45 48 55"
      ]
     },
     "metadata": {},
     "output_type": "display_data"
    }
   ],
   "source": [
    "# sorting and ranking\n",
    "sort(df4$RelativeHumidity)"
   ]
  },
  {
   "cell_type": "code",
   "execution_count": 49,
   "metadata": {},
   "outputs": [
    {
     "data": {
      "text/html": [
       "<ol class=list-inline>\n",
       "\t<li>3</li>\n",
       "\t<li>2</li>\n",
       "\t<li>1</li>\n",
       "\t<li>5</li>\n",
       "\t<li>4</li>\n",
       "</ol>\n"
      ],
      "text/latex": [
       "\\begin{enumerate*}\n",
       "\\item 3\n",
       "\\item 2\n",
       "\\item 1\n",
       "\\item 5\n",
       "\\item 4\n",
       "\\end{enumerate*}\n"
      ],
      "text/markdown": [
       "1. 3\n",
       "2. 2\n",
       "3. 1\n",
       "4. 5\n",
       "5. 4\n",
       "\n",
       "\n"
      ],
      "text/plain": [
       "[1] 3 2 1 5 4"
      ]
     },
     "metadata": {},
     "output_type": "display_data"
    }
   ],
   "source": [
    "ranks <- order(df4$RelativeHumidity)\n",
    "ranks"
   ]
  },
  {
   "cell_type": "code",
   "execution_count": 50,
   "metadata": {},
   "outputs": [
    {
     "data": {
      "text/html": [
       "<ol class=list-inline>\n",
       "\t<li>55</li>\n",
       "\t<li>48</li>\n",
       "\t<li>45</li>\n",
       "\t<li>40</li>\n",
       "\t<li>34</li>\n",
       "</ol>\n"
      ],
      "text/latex": [
       "\\begin{enumerate*}\n",
       "\\item 55\n",
       "\\item 48\n",
       "\\item 45\n",
       "\\item 40\n",
       "\\item 34\n",
       "\\end{enumerate*}\n"
      ],
      "text/markdown": [
       "1. 55\n",
       "2. 48\n",
       "3. 45\n",
       "4. 40\n",
       "5. 34\n",
       "\n",
       "\n"
      ],
      "text/plain": [
       "[1] 55 48 45 40 34"
      ]
     },
     "metadata": {},
     "output_type": "display_data"
    }
   ],
   "source": [
    "# reverse order (descending)\n",
    "sort(df4$RelativeHumidity, decreasing = TRUE)"
   ]
  },
  {
   "cell_type": "code",
   "execution_count": 52,
   "metadata": {},
   "outputs": [
    {
     "data": {
      "text/html": [
       "<table>\n",
       "<thead><tr><th></th><th scope=col>Day</th><th scope=col>Temp.Deg.C</th><th scope=col>Forecast</th><th scope=col>RelativeHumidity</th></tr></thead>\n",
       "<tbody>\n",
       "\t<tr><th scope=row>1</th><td>Sat  </td><td>21   </td><td>sunny</td><td>45   </td></tr>\n",
       "\t<tr><th scope=row>4</th><td>Tue  </td><td>15   </td><td>rainy</td><td>55   </td></tr>\n",
       "\t<tr><th scope=row>5</th><td>Wed  </td><td>22   </td><td>snowy</td><td>48   </td></tr>\n",
       "</tbody>\n",
       "</table>\n"
      ],
      "text/latex": [
       "\\begin{tabular}{r|llll}\n",
       "  & Day & Temp.Deg.C & Forecast & RelativeHumidity\\\\\n",
       "\\hline\n",
       "\t1 & Sat   & 21    & sunny & 45   \\\\\n",
       "\t4 & Tue   & 15    & rainy & 55   \\\\\n",
       "\t5 & Wed   & 22    & snowy & 48   \\\\\n",
       "\\end{tabular}\n"
      ],
      "text/markdown": [
       "\n",
       "| <!--/--> | Day | Temp.Deg.C | Forecast | RelativeHumidity | \n",
       "|---|---|---|\n",
       "| 1 | Sat   | 21    | sunny | 45    | \n",
       "| 4 | Tue   | 15    | rainy | 55    | \n",
       "| 5 | Wed   | 22    | snowy | 48    | \n",
       "\n",
       "\n"
      ],
      "text/plain": [
       "  Day Temp.Deg.C Forecast RelativeHumidity\n",
       "1 Sat 21         sunny    45              \n",
       "4 Tue 15         rainy    55              \n",
       "5 Wed 22         snowy    48              "
      ]
     },
     "metadata": {},
     "output_type": "display_data"
    }
   ],
   "source": [
    "# subset based on criteria, always add , to end\n",
    "df4[df4$RelativeHumidity > 40,]"
   ]
  },
  {
   "cell_type": "code",
   "execution_count": 54,
   "metadata": {},
   "outputs": [
    {
     "data": {
      "text/html": [
       "<table>\n",
       "<thead><tr><th></th><th scope=col>Day</th><th scope=col>Temp.Deg.C</th><th scope=col>Forecast</th><th scope=col>RelativeHumidity</th></tr></thead>\n",
       "<tbody>\n",
       "\t<tr><th scope=row>4</th><td>Tue     </td><td>15      </td><td>rainy   </td><td>55      </td></tr>\n",
       "\t<tr><th scope=row>5</th><td>Wed     </td><td>22      </td><td>snowy   </td><td>48      </td></tr>\n",
       "\t<tr><th scope=row>1</th><td>Sat     </td><td>21      </td><td>sunny   </td><td>45      </td></tr>\n",
       "\t<tr><th scope=row>2</th><td>Sun     </td><td>18      </td><td>overcast</td><td>40      </td></tr>\n",
       "\t<tr><th scope=row>3</th><td>Mon     </td><td>24      </td><td>cloudy  </td><td>34      </td></tr>\n",
       "</tbody>\n",
       "</table>\n"
      ],
      "text/latex": [
       "\\begin{tabular}{r|llll}\n",
       "  & Day & Temp.Deg.C & Forecast & RelativeHumidity\\\\\n",
       "\\hline\n",
       "\t4 & Tue      & 15       & rainy    & 55      \\\\\n",
       "\t5 & Wed      & 22       & snowy    & 48      \\\\\n",
       "\t1 & Sat      & 21       & sunny    & 45      \\\\\n",
       "\t2 & Sun      & 18       & overcast & 40      \\\\\n",
       "\t3 & Mon      & 24       & cloudy   & 34      \\\\\n",
       "\\end{tabular}\n"
      ],
      "text/markdown": [
       "\n",
       "| <!--/--> | Day | Temp.Deg.C | Forecast | RelativeHumidity | \n",
       "|---|---|---|---|---|\n",
       "| 4 | Tue      | 15       | rainy    | 55       | \n",
       "| 5 | Wed      | 22       | snowy    | 48       | \n",
       "| 1 | Sat      | 21       | sunny    | 45       | \n",
       "| 2 | Sun      | 18       | overcast | 40       | \n",
       "| 3 | Mon      | 24       | cloudy   | 34       | \n",
       "\n",
       "\n"
      ],
      "text/plain": [
       "  Day Temp.Deg.C Forecast RelativeHumidity\n",
       "4 Tue 15         rainy    55              \n",
       "5 Wed 22         snowy    48              \n",
       "1 Sat 21         sunny    45              \n",
       "2 Sun 18         overcast 40              \n",
       "3 Mon 24         cloudy   34              "
      ]
     },
     "metadata": {},
     "output_type": "display_data"
    }
   ],
   "source": [
    "# display sorted \n",
    "df4[order(df4$RelativeHumidity, decreasing = TRUE),]"
   ]
  },
  {
   "cell_type": "code",
   "execution_count": null,
   "metadata": {
    "collapsed": true
   },
   "outputs": [],
   "source": []
  }
 ],
 "metadata": {
  "kernelspec": {
   "display_name": "R",
   "language": "R",
   "name": "ir"
  },
  "language_info": {
   "codemirror_mode": "r",
   "file_extension": ".r",
   "mimetype": "text/x-r-source",
   "name": "R",
   "pygments_lexer": "r",
   "version": "3.3.2"
  }
 },
 "nbformat": 4,
 "nbformat_minor": 2
}
