{
 "cells": [
  {
   "cell_type": "markdown",
   "metadata": {},
   "source": [
    "## R Basics - Applied Data Science  \n",
    "** Make sure you practice these in a Jupyter notebook and make your own changes and tests. Reading alone is not useful!"
   ]
  },
  {
   "cell_type": "code",
   "execution_count": 2,
   "metadata": {
    "collapsed": false
   },
   "outputs": [
    {
     "data": {
      "text/html": [
       "20"
      ],
      "text/latex": [
       "20"
      ],
      "text/markdown": [
       "20"
      ],
      "text/plain": [
       "[1] 20"
      ]
     },
     "metadata": {},
     "output_type": "display_data"
    }
   ],
   "source": [
    "# as in Python, the hash symbol (#) indicates a comment\n",
    "\n",
    "# variable assignment: use <- \n",
    "var <- 7\n",
    "width <- 4\n",
    "height <- 5 \n",
    "\n",
    "# rectangle area\n",
    "area <- width * height\n",
    "\n",
    "# display it\n",
    "area"
   ]
  },
  {
   "cell_type": "code",
   "execution_count": 3,
   "metadata": {
    "collapsed": false
   },
   "outputs": [
    {
     "data": {
      "text/html": [
       "<ol class=list-inline>\n",
       "\t<li>'area'</li>\n",
       "\t<li>'height'</li>\n",
       "\t<li>'var'</li>\n",
       "\t<li>'width'</li>\n",
       "</ol>\n"
      ],
      "text/latex": [
       "\\begin{enumerate*}\n",
       "\\item 'area'\n",
       "\\item 'height'\n",
       "\\item 'var'\n",
       "\\item 'width'\n",
       "\\end{enumerate*}\n"
      ],
      "text/markdown": [
       "1. 'area'\n",
       "2. 'height'\n",
       "3. 'var'\n",
       "4. 'width'\n",
       "\n",
       "\n"
      ],
      "text/plain": [
       "[1] \"area\"   \"height\" \"var\"    \"width\" "
      ]
     },
     "metadata": {},
     "output_type": "display_data"
    }
   ],
   "source": [
    "# list variables in use\n",
    "ls()"
   ]
  },
  {
   "cell_type": "code",
   "execution_count": 4,
   "metadata": {
    "collapsed": true
   },
   "outputs": [],
   "source": [
    "# remove a variable\n",
    "rm(area)"
   ]
  },
  {
   "cell_type": "code",
   "execution_count": 5,
   "metadata": {
    "collapsed": false
   },
   "outputs": [
    {
     "ename": "ERROR",
     "evalue": "Error in eval(expr, envir, enclos): object 'area' not found\n",
     "output_type": "error",
     "traceback": [
      "Error in eval(expr, envir, enclos): object 'area' not found\nTraceback:\n"
     ]
    }
   ],
   "source": [
    "# not there anymore\n",
    "area"
   ]
  },
  {
   "cell_type": "code",
   "execution_count": 10,
   "metadata": {
    "collapsed": false
   },
   "outputs": [
    {
     "data": {
      "text/html": [
       "TRUE"
      ],
      "text/latex": [
       "TRUE"
      ],
      "text/markdown": [
       "TRUE"
      ],
      "text/plain": [
       "[1] TRUE"
      ]
     },
     "metadata": {},
     "output_type": "display_data"
    },
    {
     "data": {
      "text/html": [
       "TRUE"
      ],
      "text/latex": [
       "TRUE"
      ],
      "text/markdown": [
       "TRUE"
      ],
      "text/plain": [
       "[1] TRUE"
      ]
     },
     "metadata": {},
     "output_type": "display_data"
    },
    {
     "data": {
      "text/html": [
       "TRUE"
      ],
      "text/latex": [
       "TRUE"
      ],
      "text/markdown": [
       "TRUE"
      ],
      "text/plain": [
       "[1] TRUE"
      ]
     },
     "metadata": {},
     "output_type": "display_data"
    }
   ],
   "source": [
    "# data types\n",
    "# data can be: numeric, logical, character, complex or raw (bytes)\n",
    "#  check type using class() or is.type() or mode()\n",
    "is.logical(T); is.logical(FALSE); is.logical(NA)"
   ]
  },
  {
   "cell_type": "code",
   "execution_count": 13,
   "metadata": {
    "collapsed": false
   },
   "outputs": [
    {
     "name": "stdout",
     "output_type": "stream",
     "text": [
      "[1] TRUE\n",
      "[1] \"character\"\n",
      "[1] \"complex\"\n"
     ]
    }
   ],
   "source": [
    "# assign and print results\n",
    "sent <- \"This is a short sentence.\"\n",
    "print(is.numeric(8))\n",
    "print(class(sent))\n",
    "print(mode(2 + 3i))"
   ]
  },
  {
   "cell_type": "code",
   "execution_count": 18,
   "metadata": {
    "collapsed": false
   },
   "outputs": [
    {
     "name": "stdout",
     "output_type": "stream",
     "text": [
      "[1] 0\n",
      "[1] \"TRUE\"\n",
      "[1] \"75\"\n",
      "[1] NA\n"
     ]
    },
    {
     "name": "stderr",
     "output_type": "stream",
     "text": [
      "Warning message in print(as.numeric(\"Data Science\")):\n",
      "\"NAs introduced by coercion\""
     ]
    },
    {
     "name": "stdout",
     "output_type": "stream",
     "text": [
      "[1] NA\n"
     ]
    }
   ],
   "source": [
    "# type coersion: use as.type()\n",
    "print(as.numeric(FALSE))\n",
    "print(as.character(TRUE))\n",
    "print(as.character(75))\n",
    "print(as.numeric(NA))\n",
    "print(as.numeric(\"Data Science\"))"
   ]
  },
  {
   "cell_type": "code",
   "execution_count": 22,
   "metadata": {
    "collapsed": false
   },
   "outputs": [
    {
     "data": {
      "text/html": [
       "5"
      ],
      "text/latex": [
       "5"
      ],
      "text/markdown": [
       "5"
      ],
      "text/plain": [
       "[1] 5"
      ]
     },
     "metadata": {},
     "output_type": "display_data"
    },
    {
     "data": {
      "text/html": [
       "TRUE"
      ],
      "text/latex": [
       "TRUE"
      ],
      "text/markdown": [
       "TRUE"
      ],
      "text/plain": [
       "[1] TRUE"
      ]
     },
     "metadata": {},
     "output_type": "display_data"
    }
   ],
   "source": [
    "# vectors ( c for combine)\n",
    "topics <- c(\"English\", \"math\", \"Arabic\", \"history\", \"science\")\n",
    "grades <- c(90, 87, 92, 83, 85)\n",
    "# output ...\n",
    "length(grades)\n",
    "length(grades) == length(topics)"
   ]
  },
  {
   "cell_type": "code",
   "execution_count": 23,
   "metadata": {
    "collapsed": false
   },
   "outputs": [
    {
     "data": {
      "text/html": [
       "<dl class=dl-horizontal>\n",
       "\t<dt>English</dt>\n",
       "\t\t<dd>90</dd>\n",
       "\t<dt>math</dt>\n",
       "\t\t<dd>87</dd>\n",
       "\t<dt>Arabic</dt>\n",
       "\t\t<dd>92</dd>\n",
       "\t<dt>history</dt>\n",
       "\t\t<dd>83</dd>\n",
       "\t<dt>science</dt>\n",
       "\t\t<dd>85</dd>\n",
       "</dl>\n"
      ],
      "text/latex": [
       "\\begin{description*}\n",
       "\\item[English] 90\n",
       "\\item[math] 87\n",
       "\\item[Arabic] 92\n",
       "\\item[history] 83\n",
       "\\item[science] 85\n",
       "\\end{description*}\n"
      ],
      "text/markdown": [
       "English\n",
       ":   90math\n",
       ":   87Arabic\n",
       ":   92history\n",
       ":   83science\n",
       ":   85\n",
       "\n"
      ],
      "text/plain": [
       "English    math  Arabic history science \n",
       "     90      87      92      83      85 "
      ]
     },
     "metadata": {},
     "output_type": "display_data"
    }
   ],
   "source": [
    "# assign topics as headers (names) for grades\n",
    "names(grades) <- topics\n",
    "grades"
   ]
  },
  {
   "cell_type": "code",
   "execution_count": 25,
   "metadata": {
    "collapsed": false
   },
   "outputs": [
    {
     "data": {
      "text/html": [
       "TRUE"
      ],
      "text/latex": [
       "TRUE"
      ],
      "text/markdown": [
       "TRUE"
      ],
      "text/plain": [
       "[1] TRUE"
      ]
     },
     "metadata": {},
     "output_type": "display_data"
    }
   ],
   "source": [
    "# grades is still a vector\n",
    "is.vector(grades)"
   ]
  },
  {
   "cell_type": "code",
   "execution_count": 26,
   "metadata": {
    "collapsed": false
   },
   "outputs": [
    {
     "data": {
      "text/html": [
       "<dl class=dl-horizontal>\n",
       "\t<dt>English</dt>\n",
       "\t\t<dd>90</dd>\n",
       "\t<dt>math</dt>\n",
       "\t\t<dd>78</dd>\n",
       "\t<dt>science</dt>\n",
       "\t\t<dd>84</dd>\n",
       "\t<dt>data science</dt>\n",
       "\t\t<dd>93</dd>\n",
       "</dl>\n"
      ],
      "text/latex": [
       "\\begin{description*}\n",
       "\\item[English] 90\n",
       "\\item[math] 78\n",
       "\\item[science] 84\n",
       "\\item[data science] 93\n",
       "\\end{description*}\n"
      ],
      "text/markdown": [
       "English\n",
       ":   90math\n",
       ":   78science\n",
       ":   84data science\n",
       ":   93\n",
       "\n"
      ],
      "text/plain": [
       "     English         math      science data science \n",
       "          90           78           84           93 "
      ]
     },
     "metadata": {},
     "output_type": "display_data"
    }
   ],
   "source": [
    "# can also write it directly (need to quote if name has spaces)\n",
    "myGrades <- c(English = 90, math = 78, \"science\" = 84, \"data science\" = 93) \n",
    "myGrades"
   ]
  },
  {
   "cell_type": "code",
   "execution_count": 27,
   "metadata": {
    "collapsed": false
   },
   "outputs": [
    {
     "name": "stdout",
     "output_type": "stream",
     "text": [
      " Named num [1:4] 90 78 84 93\n",
      " - attr(*, \"names\")= chr [1:4] \"English\" \"math\" \"science\" \"data science\"\n"
     ]
    }
   ],
   "source": [
    "# display structure of vector (notice that R counts from 1 unlike Python)\n",
    "str(myGrades)"
   ]
  },
  {
   "cell_type": "code",
   "execution_count": 28,
   "metadata": {
    "collapsed": false
   },
   "outputs": [
    {
     "data": {
      "text/html": [
       "TRUE"
      ],
      "text/latex": [
       "TRUE"
      ],
      "text/markdown": [
       "TRUE"
      ],
      "text/plain": [
       "[1] TRUE"
      ]
     },
     "metadata": {},
     "output_type": "display_data"
    }
   ],
   "source": [
    "# a single variable is also a vector (length =1), besides being numeric\n",
    "one_var <- 5 \n",
    "is.vector(one_var) & is.numeric(one_var)"
   ]
  },
  {
   "cell_type": "code",
   "execution_count": 50,
   "metadata": {
    "collapsed": false
   },
   "outputs": [
    {
     "data": {
      "text/html": [
       "<ol class=list-inline>\n",
       "\t<li>'1'</li>\n",
       "\t<li>'two'</li>\n",
       "\t<li>'3'</li>\n",
       "\t<li>'4'</li>\n",
       "\t<li>'5'</li>\n",
       "\t<li>'A'</li>\n",
       "\t<li>'TRUE'</li>\n",
       "\t<li>'NA'</li>\n",
       "</ol>\n"
      ],
      "text/latex": [
       "\\begin{enumerate*}\n",
       "\\item '1'\n",
       "\\item 'two'\n",
       "\\item '3'\n",
       "\\item '4'\n",
       "\\item '5'\n",
       "\\item 'A'\n",
       "\\item 'TRUE'\n",
       "\\item 'NA'\n",
       "\\end{enumerate*}\n"
      ],
      "text/markdown": [
       "1. '1'\n",
       "2. 'two'\n",
       "3. '3'\n",
       "4. '4'\n",
       "5. '5'\n",
       "6. 'A'\n",
       "7. 'TRUE'\n",
       "8. 'NA'\n",
       "\n",
       "\n"
      ],
      "text/plain": [
       "[1] \"1\"    \"two\"  \"3\"    \"4\"    \"5\"    \"A\"    \"TRUE\" NA    "
      ]
     },
     "metadata": {},
     "output_type": "display_data"
    },
    {
     "name": "stdout",
     "output_type": "stream",
     "text": [
      "[1] \"coerced to: character\"\n"
     ]
    }
   ],
   "source": [
    "# coersion (vectors accept same type only). If different types used, R tries to force the common type\n",
    "coerced <- c(1,\"two\", 3, 4, 5, 'A', TRUE, NA)\n",
    "coerced \n",
    "# use paste or cat to combine printed items\n",
    "print(paste(\"coerced to:\", class(coerced)))"
   ]
  },
  {
   "cell_type": "code",
   "execution_count": 55,
   "metadata": {
    "collapsed": false
   },
   "outputs": [
    {
     "data": {
      "text/html": [
       "<ol class=list-inline>\n",
       "\t<li>6</li>\n",
       "\t<li>6</li>\n",
       "\t<li>13</li>\n",
       "\t<li>12</li>\n",
       "\t<li>22</li>\n",
       "</ol>\n"
      ],
      "text/latex": [
       "\\begin{enumerate*}\n",
       "\\item 6\n",
       "\\item 6\n",
       "\\item 13\n",
       "\\item 12\n",
       "\\item 22\n",
       "\\end{enumerate*}\n"
      ],
      "text/markdown": [
       "1. 6\n",
       "2. 6\n",
       "3. 13\n",
       "4. 12\n",
       "5. 22\n",
       "\n",
       "\n"
      ],
      "text/plain": [
       "[1]  6  6 13 12 22"
      ]
     },
     "metadata": {},
     "output_type": "display_data"
    },
    {
     "data": {
      "text/html": [
       "<ol class=list-inline>\n",
       "\t<li>5</li>\n",
       "\t<li>8</li>\n",
       "\t<li>42</li>\n",
       "\t<li>27</li>\n",
       "\t<li>120</li>\n",
       "</ol>\n"
      ],
      "text/latex": [
       "\\begin{enumerate*}\n",
       "\\item 5\n",
       "\\item 8\n",
       "\\item 42\n",
       "\\item 27\n",
       "\\item 120\n",
       "\\end{enumerate*}\n"
      ],
      "text/markdown": [
       "1. 5\n",
       "2. 8\n",
       "3. 42\n",
       "4. 27\n",
       "5. 120\n",
       "\n",
       "\n"
      ],
      "text/plain": [
       "[1]   5   8  42  27 120"
      ]
     },
     "metadata": {},
     "output_type": "display_data"
    },
    {
     "data": {
      "text/html": [
       "<ol class=list-inline>\n",
       "\t<li>25</li>\n",
       "\t<li>10</li>\n",
       "\t<li>35</li>\n",
       "\t<li>15</li>\n",
       "\t<li>50</li>\n",
       "</ol>\n"
      ],
      "text/latex": [
       "\\begin{enumerate*}\n",
       "\\item 25\n",
       "\\item 10\n",
       "\\item 35\n",
       "\\item 15\n",
       "\\item 50\n",
       "\\end{enumerate*}\n"
      ],
      "text/markdown": [
       "1. 25\n",
       "2. 10\n",
       "3. 35\n",
       "4. 15\n",
       "5. 50\n",
       "\n",
       "\n"
      ],
      "text/plain": [
       "[1] 25 10 35 15 50"
      ]
     },
     "metadata": {},
     "output_type": "display_data"
    },
    {
     "data": {
      "text/html": [
       "<ol class=list-inline>\n",
       "\t<li>-3</li>\n",
       "\t<li>0</li>\n",
       "\t<li>2</li>\n",
       "\t<li>5</li>\n",
       "\t<li>8</li>\n",
       "</ol>\n"
      ],
      "text/latex": [
       "\\begin{enumerate*}\n",
       "\\item -3\n",
       "\\item 0\n",
       "\\item 2\n",
       "\\item 5\n",
       "\\item 8\n",
       "\\end{enumerate*}\n"
      ],
      "text/markdown": [
       "1. -3\n",
       "2. 0\n",
       "3. 2\n",
       "4. 5\n",
       "5. 8\n",
       "\n",
       "\n"
      ],
      "text/plain": [
       "[1] -3  0  2  5  8"
      ]
     },
     "metadata": {},
     "output_type": "display_data"
    }
   ],
   "source": [
    "# operations with vectors \n",
    "vec1 <- c(5, 2, 7, 3, 10)\n",
    "vec2 <- c(1, 4, 6, 9, 12)\n",
    "# addition is done elemen by element and so is subtraction, multiplication, division and power\n",
    "vec1 + vec2\n",
    "vec1 * vec2\n",
    "vec1 * 5\n",
    "vec2 - 4"
   ]
  },
  {
   "cell_type": "code",
   "execution_count": 61,
   "metadata": {
    "collapsed": false
   },
   "outputs": [
    {
     "data": {
      "text/html": [
       "27"
      ],
      "text/latex": [
       "27"
      ],
      "text/markdown": [
       "27"
      ],
      "text/plain": [
       "[1] 27"
      ]
     },
     "metadata": {},
     "output_type": "display_data"
    },
    {
     "data": {
      "text/html": [
       "6.4"
      ],
      "text/latex": [
       "6.4"
      ],
      "text/markdown": [
       "6.4"
      ],
      "text/plain": [
       "[1] 6.4"
      ]
     },
     "metadata": {},
     "output_type": "display_data"
    },
    {
     "data": {
      "text/html": [
       "<ol class=list-inline>\n",
       "\t<li>TRUE</li>\n",
       "\t<li>FALSE</li>\n",
       "\t<li>TRUE</li>\n",
       "\t<li>FALSE</li>\n",
       "\t<li>FALSE</li>\n",
       "</ol>\n"
      ],
      "text/latex": [
       "\\begin{enumerate*}\n",
       "\\item TRUE\n",
       "\\item FALSE\n",
       "\\item TRUE\n",
       "\\item FALSE\n",
       "\\item FALSE\n",
       "\\end{enumerate*}\n"
      ],
      "text/markdown": [
       "1. TRUE\n",
       "2. FALSE\n",
       "3. TRUE\n",
       "4. FALSE\n",
       "5. FALSE\n",
       "\n",
       "\n"
      ],
      "text/plain": [
       "[1]  TRUE FALSE  TRUE FALSE FALSE"
      ]
     },
     "metadata": {},
     "output_type": "display_data"
    }
   ],
   "source": [
    "# add all elements in a vector and get sum\n",
    "sum(vec1)\n",
    "\n",
    "# find the mean of all elements\n",
    "mean(vec2)\n",
    "\n",
    "# check logical operator elementwise \n",
    "vec2 < vec1"
   ]
  },
  {
   "cell_type": "code",
   "execution_count": 73,
   "metadata": {
    "collapsed": false
   },
   "outputs": [
    {
     "data": {
      "text/html": [
       "88"
      ],
      "text/latex": [
       "88"
      ],
      "text/markdown": [
       "88"
      ],
      "text/plain": [
       "[1] 88"
      ]
     },
     "metadata": {},
     "output_type": "display_data"
    },
    {
     "data": {
      "text/html": [
       "<strong>math:</strong> 88"
      ],
      "text/latex": [
       "\\textbf{math:} 88"
      ],
      "text/markdown": [
       "**math:** 88"
      ],
      "text/plain": [
       "math \n",
       "  88 "
      ]
     },
     "metadata": {},
     "output_type": "display_data"
    },
    {
     "data": {
      "text/html": [
       "<strong>science:</strong> 85"
      ],
      "text/latex": [
       "\\textbf{science:} 85"
      ],
      "text/markdown": [
       "**science:** 85"
      ],
      "text/plain": [
       "science \n",
       "     85 "
      ]
     },
     "metadata": {},
     "output_type": "display_data"
    },
    {
     "data": {
      "text/html": [
       "<ol class=list-inline>\n",
       "\t<li>88</li>\n",
       "\t<li>85</li>\n",
       "\t<li>92</li>\n",
       "</ol>\n"
      ],
      "text/latex": [
       "\\begin{enumerate*}\n",
       "\\item 88\n",
       "\\item 85\n",
       "\\item 92\n",
       "\\end{enumerate*}\n"
      ],
      "text/markdown": [
       "1. 88\n",
       "2. 85\n",
       "3. 92\n",
       "\n",
       "\n"
      ],
      "text/plain": [
       "[1] 88 85 92"
      ]
     },
     "metadata": {},
     "output_type": "display_data"
    },
    {
     "data": {
      "text/html": [
       "<ol class=list-inline>\n",
       "\t<li>80</li>\n",
       "\t<li>85</li>\n",
       "\t<li>92</li>\n",
       "</ol>\n"
      ],
      "text/latex": [
       "\\begin{enumerate*}\n",
       "\\item 80\n",
       "\\item 85\n",
       "\\item 92\n",
       "\\end{enumerate*}\n"
      ],
      "text/markdown": [
       "1. 80\n",
       "2. 85\n",
       "3. 92\n",
       "\n",
       "\n"
      ],
      "text/plain": [
       "[1] 80 85 92"
      ]
     },
     "metadata": {},
     "output_type": "display_data"
    },
    {
     "data": {
      "text/html": [
       "80"
      ],
      "text/latex": [
       "80"
      ],
      "text/markdown": [
       "80"
      ],
      "text/plain": [
       "[1] 80"
      ]
     },
     "metadata": {},
     "output_type": "display_data"
    }
   ],
   "source": [
    "# subsetting vectors (R counts from 1)\n",
    "onlyGrades <- myGrades <- c(80, 88, 85, 92) \n",
    "classGrades <- c(English = 80, math = 88, science = 85, \"data science\" = 92) \n",
    "onlyGrades[2]\n",
    "classGrades[2]\n",
    "\n",
    "# can also subset by name if available\n",
    "classGrades[\"science\"]\n",
    "\n",
    "# subset by a vector (selected indices)\n",
    "onlyGrades[c(2,3,4)]\n",
    "\n",
    "# all except indicated\n",
    "onlyGrades[-2]\n",
    "onlyGrades[-c(2,3,4)]"
   ]
  },
  {
   "cell_type": "code",
   "execution_count": 78,
   "metadata": {
    "collapsed": false
   },
   "outputs": [
    {
     "data": {
      "text/html": [
       "<ol class=list-inline>\n",
       "\t<li>FALSE</li>\n",
       "\t<li>TRUE</li>\n",
       "\t<li>FALSE</li>\n",
       "\t<li>TRUE</li>\n",
       "</ol>\n"
      ],
      "text/latex": [
       "\\begin{enumerate*}\n",
       "\\item FALSE\n",
       "\\item TRUE\n",
       "\\item FALSE\n",
       "\\item TRUE\n",
       "\\end{enumerate*}\n"
      ],
      "text/markdown": [
       "1. FALSE\n",
       "2. TRUE\n",
       "3. FALSE\n",
       "4. TRUE\n",
       "\n",
       "\n"
      ],
      "text/plain": [
       "[1] FALSE  TRUE FALSE  TRUE"
      ]
     },
     "metadata": {},
     "output_type": "display_data"
    },
    {
     "data": {
      "text/html": [
       "<ol class=list-inline>\n",
       "\t<li>88</li>\n",
       "\t<li>92</li>\n",
       "</ol>\n"
      ],
      "text/latex": [
       "\\begin{enumerate*}\n",
       "\\item 88\n",
       "\\item 92\n",
       "\\end{enumerate*}\n"
      ],
      "text/markdown": [
       "1. 88\n",
       "2. 92\n",
       "\n",
       "\n"
      ],
      "text/plain": [
       "[1] 88 92"
      ]
     },
     "metadata": {},
     "output_type": "display_data"
    },
    {
     "data": {
      "text/html": [
       "<ol class=list-inline>\n",
       "\t<li>80</li>\n",
       "\t<li>85</li>\n",
       "</ol>\n"
      ],
      "text/latex": [
       "\\begin{enumerate*}\n",
       "\\item 80\n",
       "\\item 85\n",
       "\\end{enumerate*}\n"
      ],
      "text/markdown": [
       "1. 80\n",
       "2. 85\n",
       "\n",
       "\n"
      ],
      "text/plain": [
       "[1] 80 85"
      ]
     },
     "metadata": {},
     "output_type": "display_data"
    }
   ],
   "source": [
    "# use logical mask\n",
    "onlyGrades > 85\n",
    "onlyGrades[onlyGrades > 85]\n",
    "\n",
    "# if mask is shorter than vector, it is repeated (T, F, T, F)\n",
    "onlyGrades[c(T,F)]"
   ]
  },
  {
   "cell_type": "code",
   "execution_count": null,
   "metadata": {
    "collapsed": true
   },
   "outputs": [],
   "source": []
  }
 ],
 "metadata": {
  "kernelspec": {
   "display_name": "R",
   "language": "R",
   "name": "ir"
  },
  "language_info": {
   "codemirror_mode": "r",
   "file_extension": ".r",
   "mimetype": "text/x-r-source",
   "name": "R",
   "pygments_lexer": "r",
   "version": "3.3.2"
  }
 },
 "nbformat": 4,
 "nbformat_minor": 2
}
