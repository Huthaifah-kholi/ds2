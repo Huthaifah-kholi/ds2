{
 "cells": [
  {
   "cell_type": "markdown",
   "metadata": {},
   "source": [
    "### Perceptrons and SGD  \n",
    "In scikit learn, there is a (one layer) perceptron binary classifier that is the basis of multi-layer neural nets. It is similar to stochastic gradient descent SGD). Here, we run both on the whole Iris dataset focusing on classifying one species against the rest.  \n",
    "Scikit-learn has multi-layer perceptrons as well but they are not suitable for heavy processing. Here, we use them on the breast cancer set (binary) and Iris (3 classes). They are also used for regression."
   ]
  },
  {
   "cell_type": "code",
   "execution_count": 378,
   "metadata": {
    "collapsed": true
   },
   "outputs": [],
   "source": [
    "import numpy as np \n",
    "from sklearn.linear_model import SGDClassifier, Perceptron\n",
    "from sklearn.datasets import load_iris \n",
    "import matplotlib.pyplot as plt\n",
    "%matplotlib inline\n",
    "iris = load_iris()\n",
    "X = iris.data\n",
    "y = (iris.target == 0).astype(np.int) # is it setosa"
   ]
  },
  {
   "cell_type": "code",
   "execution_count": 379,
   "metadata": {},
   "outputs": [
    {
     "name": "stdout",
     "output_type": "stream",
     "text": [
      "[1]\n",
      "[1]\n"
     ]
    }
   ],
   "source": [
    "clf_p = Perceptron(random_state = 777)\n",
    "clf_s = SGDClassifier()\n",
    "clf_p.fit(X,y)\n",
    "clf_s.fit(X,y)\n",
    "print(clf_p.predict([[5.1,3.3,1.5,.3]]))\n",
    "print(clf_s.predict([[3.1,3.3,1.5,1.3]]))"
   ]
  },
  {
   "cell_type": "code",
   "execution_count": 380,
   "metadata": {},
   "outputs": [
    {
     "name": "stdout",
     "output_type": "stream",
     "text": [
      "SGDClassifier(alpha=0.0001, average=False, class_weight=None, epsilon=0.1,\n",
      "       eta0=0.0, fit_intercept=True, l1_ratio=0.15,\n",
      "       learning_rate='optimal', loss='hinge', n_iter=5, n_jobs=1,\n",
      "       penalty='l2', power_t=0.5, random_state=None, shuffle=True,\n",
      "       verbose=0, warm_start=False) [[  6.86106346  21.72670097 -46.88393368 -22.29845626]] [ 9.97032653]\n",
      "Perceptron(alpha=0.0001, class_weight=None, eta0=1.0, fit_intercept=True,\n",
      "      n_iter=5, n_jobs=1, penalty=None, random_state=777, shuffle=True,\n",
      "      verbose=0, warm_start=False) [[ 2.6  5.9 -8.9 -3.9]] [ 1.]\n"
     ]
    }
   ],
   "source": [
    "print(clf_s, clf_s.coef_, clf_s.intercept_)\n",
    "print(clf_p, clf_p.coef_, clf_p.intercept_)"
   ]
  },
  {
   "cell_type": "markdown",
   "metadata": {},
   "source": [
    "### Multi-layer perceptrons"
   ]
  },
  {
   "cell_type": "code",
   "execution_count": 381,
   "metadata": {
    "collapsed": true
   },
   "outputs": [],
   "source": [
    "from sklearn.model_selection import train_test_split\n",
    "from sklearn.neural_network import MLPClassifier\n",
    "from sklearn.preprocessing import StandardScaler\n",
    "from sklearn.metrics import classification_report,confusion_matrix\n",
    "from sklearn.datasets import load_breast_cancer\n",
    "cancer = load_breast_cancer()\n",
    "scaler = StandardScaler()\n",
    "X = cancer['data']\n",
    "y = cancer['target']\n",
    "X_train, X_test, y_train, y_test = train_test_split(X, y, stratify = y, random_state=707)  "
   ]
  },
  {
   "cell_type": "code",
   "execution_count": 382,
   "metadata": {
    "collapsed": true
   },
   "outputs": [],
   "source": [
    "scaler.fit(X_train)\n",
    "X_train = scaler.transform(X_train)\n",
    "X_test = scaler.transform(X_test)"
   ]
  },
  {
   "cell_type": "code",
   "execution_count": 383,
   "metadata": {},
   "outputs": [
    {
     "name": "stdout",
     "output_type": "stream",
     "text": [
      "train score =  0.99765258216\n"
     ]
    }
   ],
   "source": [
    "# 3 layers, with 90, 60 and 30 neurons \n",
    "mlp = MLPClassifier(hidden_layer_sizes=(90,60,30), solver = \"sgd\", alpha = 0.1, \n",
    "        activation='relu', learning_rate_init=0.01, learning_rate='adaptive', max_iter=180, random_state = 0) \n",
    "mlp.fit(X_train,y_train)\n",
    "print(\"train score = \", mlp.score(X_train,y_train))"
   ]
  },
  {
   "cell_type": "code",
   "execution_count": 384,
   "metadata": {},
   "outputs": [
    {
     "name": "stdout",
     "output_type": "stream",
     "text": [
      "test score =  0.979020979021\n",
      "[[51  2]\n",
      " [ 1 89]]\n",
      "             precision    recall  f1-score   support\n",
      "\n",
      "          0       0.98      0.96      0.97        53\n",
      "          1       0.98      0.99      0.98        90\n",
      "\n",
      "avg / total       0.98      0.98      0.98       143\n",
      "\n"
     ]
    }
   ],
   "source": [
    "predictions = mlp.predict(X_test)\n",
    "print(\"test score = \", mlp.score(X_test,y_test))\n",
    "print(confusion_matrix(y_test,predictions))\n",
    "print(classification_report(y_test,predictions))"
   ]
  },
  {
   "cell_type": "code",
   "execution_count": 385,
   "metadata": {},
   "outputs": [
    {
     "data": {
      "image/png": "[encoded data removed]",
      "text/plain": [
       "<matplotlib.figure.Figure at 0x21c2d9678d0>"
      ]
     },
     "metadata": {},
     "output_type": "display_data"
    }
   ],
   "source": [
    "# not all solvers have loss_curves_, sgd does.\n",
    "plt.plot(mlp.loss_curve_)\n",
    "plt.ylabel(\"loss function\")\n",
    "plt.xlabel(\"number of steps\")\n",
    "None"
   ]
  },
  {
   "cell_type": "code",
   "execution_count": 386,
   "metadata": {},
   "outputs": [],
   "source": [
    "#print(mlp.coefs_[3]) # for each layer neurons, weights\n",
    "#print(mlp.intercepts_[0]) # for each layer, biases per neuron"
   ]
  },
  {
   "cell_type": "markdown",
   "metadata": {},
   "source": [
    "### 3 classes, iris data"
   ]
  },
  {
   "cell_type": "code",
   "execution_count": 387,
   "metadata": {
    "collapsed": true
   },
   "outputs": [],
   "source": [
    "X2 = iris.data  # iris defined above\n",
    "y2 = iris.target"
   ]
  },
  {
   "cell_type": "code",
   "execution_count": 388,
   "metadata": {},
   "outputs": [
    {
     "name": "stdout",
     "output_type": "stream",
     "text": [
      "[[12  0  0]\n",
      " [ 0 13  0]\n",
      " [ 0  0 13]]\n",
      "             precision    recall  f1-score   support\n",
      "\n",
      "          0       1.00      1.00      1.00        12\n",
      "          1       1.00      1.00      1.00        13\n",
      "          2       1.00      1.00      1.00        13\n",
      "\n",
      "avg / total       1.00      1.00      1.00        38\n",
      "\n"
     ]
    }
   ],
   "source": [
    "X2_train, X2_test, y2_train, y2_test = train_test_split(X2, y2, stratify=y2, train_size=0.75, random_state=717)\n",
    "scaler2 = StandardScaler() # StandardScaler(copy=True, with_mean=True, with_std=True)\n",
    "#Iris dataset is 'scaled by default' (values between 0 to 10). In other cases, scaling is required.\n",
    "#scaler2.fit(X2_train)\n",
    "#X2_train = scaler2.transform(X2_train)\n",
    "#X2_test = scaler2.transform(X2_test)\n",
    "mlp2 = MLPClassifier(solver='lbfgs',hidden_layer_sizes=(4,8,4,8,4), \n",
    "                     activation='tanh', max_iter=300, random_state = 0) # \n",
    "mlp2.fit(X2_train,y2_train)\n",
    "predictions2 = mlp2.predict(X2_test)\n",
    "print(confusion_matrix(y2_test,predictions2))\n",
    "print(classification_report(y2_test,predictions2))"
   ]
  },
  {
   "cell_type": "code",
   "execution_count": 389,
   "metadata": {},
   "outputs": [
    {
     "data": {
      "text/plain": [
       "MLPClassifier(activation='tanh', alpha=0.0001, batch_size='auto', beta_1=0.9,\n",
       "       beta_2=0.999, early_stopping=False, epsilon=1e-08,\n",
       "       hidden_layer_sizes=(4, 8, 4, 8, 4), learning_rate='constant',\n",
       "       learning_rate_init=0.001, max_iter=300, momentum=0.9,\n",
       "       nesterovs_momentum=True, power_t=0.5, random_state=0, shuffle=True,\n",
       "       solver='lbfgs', tol=0.0001, validation_fraction=0.1, verbose=False,\n",
       "       warm_start=False)"
      ]
     },
     "execution_count": 389,
     "metadata": {},
     "output_type": "execute_result"
    }
   ],
   "source": [
    "mlp2"
   ]
  },
  {
   "cell_type": "markdown",
   "metadata": {},
   "source": [
    "### Note:   \n",
    "This does not mean we achieved perfect prediction. Change the splitted samples using another random state and see. We can also compute calss probabilities as follows: \n"
   ]
  },
  {
   "cell_type": "code",
   "execution_count": 390,
   "metadata": {},
   "outputs": [
    {
     "data": {
      "text/plain": [
       "array([[  9.99999373e-01,   6.27494309e-07,   2.52893983e-23],\n",
       "       [  9.99999373e-01,   6.27335002e-07,   2.52834117e-23],\n",
       "       [  2.52420329e-15,   1.00000000e+00,   5.60348794e-16],\n",
       "       [  9.99999373e-01,   6.27317352e-07,   2.52827484e-23],\n",
       "       [  2.52420360e-15,   1.00000000e+00,   5.60348782e-16]])"
      ]
     },
     "execution_count": 390,
     "metadata": {},
     "output_type": "execute_result"
    }
   ],
   "source": [
    "probs = mlp2.predict_proba(X2_test)\n",
    "probs[:5]"
   ]
  },
  {
   "cell_type": "markdown",
   "metadata": {
    "collapsed": true
   },
   "source": [
    "### MLP Regression Example"
   ]
  },
  {
   "cell_type": "code",
   "execution_count": 391,
   "metadata": {},
   "outputs": [],
   "source": [
    "from sklearn.neural_network import MLPRegressor\n",
    "from sklearn.datasets import load_boston \n",
    "from sklearn.utils import shuffle\n",
    "boston = load_boston()\n",
    "Xb, yb = shuffle(boston.data, boston.target, random_state=13)\n",
    "Xb_train, Xb_test, yb_train, yb_test = train_test_split(Xb, yb, train_size=0.75, random_state=717)\n",
    "scaler3 = StandardScaler()\n",
    "scaler3.fit(Xb_train)\n",
    "Xb_train = scaler3.transform(Xb_train)\n",
    "Xb_test = scaler3.transform(Xb_test)"
   ]
  },
  {
   "cell_type": "code",
   "execution_count": 392,
   "metadata": {},
   "outputs": [
    {
     "data": {
      "text/plain": [
       "(506, 13)"
      ]
     },
     "execution_count": 392,
     "metadata": {},
     "output_type": "execute_result"
    }
   ],
   "source": [
    "Xb.shape\n",
    "#Xb[:5]"
   ]
  },
  {
   "cell_type": "code",
   "execution_count": 393,
   "metadata": {},
   "outputs": [
    {
     "name": "stdout",
     "output_type": "stream",
     "text": [
      "R^2 train = 0.962219247616\n",
      "R^2 test = 0.938375143166\n"
     ]
    }
   ],
   "source": [
    "# lbfgs is good and fast for small datasets, adam (default) is also OK\n",
    "mlg = MLPRegressor(solver='sgd',hidden_layer_sizes=(13,12,13), learning_rate = 'adaptive',\n",
    "    alpha = 1.0, learning_rate_init=0.001, activation='tanh', max_iter=1000, verbose=False, random_state = 0)  \n",
    "mlg.fit(Xb_train,yb_train)\n",
    "predictionsb = mlg.predict(Xb_test)\n",
    "print(\"R^2 train =\", mlg.score(Xb_train,yb_train))\n",
    "print(\"R^2 test =\", mlg.score(Xb_test,yb_test))"
   ]
  },
  {
   "cell_type": "code",
   "execution_count": 394,
   "metadata": {},
   "outputs": [
    {
     "data": {
      "text/plain": [
       "array([ 10.86997782,  33.45083231,  22.43095408,  25.78199258,\n",
       "        22.58335859,  24.4719946 ,  23.23578447,  23.80631976,\n",
       "        35.13443828,  22.51245327])"
      ]
     },
     "execution_count": 394,
     "metadata": {},
     "output_type": "execute_result"
    }
   ],
   "source": [
    "predictionsb[:10]"
   ]
  },
  {
   "cell_type": "code",
   "execution_count": 395,
   "metadata": {},
   "outputs": [
    {
     "data": {
      "text/plain": [
       "array([ 14.9,  31.7,  22.5,  30.7,  20.3,  27. ,  23. ,  18.6,  34.9,  21. ])"
      ]
     },
     "execution_count": 395,
     "metadata": {},
     "output_type": "execute_result"
    }
   ],
   "source": [
    "yb_test[:10]"
   ]
  },
  {
   "cell_type": "code",
   "execution_count": 396,
   "metadata": {},
   "outputs": [
    {
     "data": {
      "text/plain": [
       "MLPRegressor(activation='tanh', alpha=1.0, batch_size='auto', beta_1=0.9,\n",
       "       beta_2=0.999, early_stopping=False, epsilon=1e-08,\n",
       "       hidden_layer_sizes=(13, 12, 13), learning_rate='adaptive',\n",
       "       learning_rate_init=0.001, max_iter=1000, momentum=0.9,\n",
       "       nesterovs_momentum=True, power_t=0.5, random_state=0, shuffle=True,\n",
       "       solver='sgd', tol=0.0001, validation_fraction=0.1, verbose=False,\n",
       "       warm_start=False)"
      ]
     },
     "execution_count": 396,
     "metadata": {},
     "output_type": "execute_result"
    }
   ],
   "source": [
    "mlg"
   ]
  },
  {
   "cell_type": "code",
   "execution_count": null,
   "metadata": {
    "collapsed": true
   },
   "outputs": [],
   "source": []
  }
 ],
 "metadata": {
  "kernelspec": {
   "display_name": "Python [default]",
   "language": "python",
   "name": "python3"
  },
  "language_info": {
   "codemirror_mode": {
    "name": "ipython",
    "version": 3
   },
   "file_extension": ".py",
   "mimetype": "text/x-python",
   "name": "python",
   "nbconvert_exporter": "python",
   "pygments_lexer": "ipython3",
   "version": "3.5.2"
  }
 },
 "nbformat": 4,
 "nbformat_minor": 2
}
