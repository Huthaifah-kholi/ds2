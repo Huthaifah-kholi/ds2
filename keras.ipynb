{
 "cells": [
  {
   "cell_type": "markdown",
   "metadata": {},
   "source": [
    "### Classification using Keras \n",
    "Note: Keras uses TensorFlow by default. You can switch backend to Theano (see https://keras.io/backend/ for details)"
   ]
  },
  {
   "cell_type": "code",
   "execution_count": 653,
   "metadata": {},
   "outputs": [
    {
     "data": {
      "text/plain": [
       "'2.0.4'"
      ]
     },
     "execution_count": 653,
     "metadata": {},
     "output_type": "execute_result"
    }
   ],
   "source": [
    "import keras \n",
    "keras.__version__"
   ]
  },
  {
   "cell_type": "code",
   "execution_count": 654,
   "metadata": {},
   "outputs": [
    {
     "name": "stdout",
     "output_type": "stream",
     "text": [
      "3 classes\n",
      "4 dims\n"
     ]
    }
   ],
   "source": [
    "import pandas as pd \n",
    "import numpy as np\n",
    "from sklearn.model_selection import train_test_split\n",
    "from sklearn.metrics import accuracy_score, precision_score, log_loss, classification_report\n",
    "from sklearn.metrics import confusion_matrix , mean_squared_error, r2_score\n",
    "from sklearn.datasets import load_iris, load_boston\n",
    "\n",
    "# Import `Sequential` from `keras.models`\n",
    "from keras.models import Sequential\n",
    "# Import `Dense` from `keras.layers`\n",
    "from keras.layers import Dense, Activation, Dropout\n",
    "from keras.callbacks import EarlyStopping, ModelCheckpoint\n",
    "from keras.optimizers import SGD, RMSprop, Adam\n",
    "\n",
    "iris = load_iris()\n",
    "X = iris.data\n",
    "y = iris.target \n",
    "X = X.astype('float32')\n",
    "X_train, X_test, y_train, y_test = train_test_split(X, y, stratify = y, train_size = 0.7, random_state=707)\n",
    "\n",
    "nb_classes = len(set(y_train))\n",
    "print(nb_classes, 'classes')\n",
    "\n",
    "dims = X_train.shape[1]\n",
    "print(dims, 'dims')#\n",
    "\n",
    "y_test_c = y_test\n",
    "# Convert labels to categorical one-hot encoding (there is also a sklear wrapper)\n",
    "y_train = keras.utils.to_categorical(y_train, num_classes=3)\n",
    "y_test = keras.utils.to_categorical(y_test, num_classes=3)"
   ]
  },
  {
   "cell_type": "code",
   "execution_count": 655,
   "metadata": {},
   "outputs": [
    {
     "name": "stdout",
     "output_type": "stream",
     "text": [
      "_________________________________________________________________\n",
      "Layer (type)                 Output Shape              Param #   \n",
      "=================================================================\n",
      "dense_363 (Dense)            (None, 100)               500       \n",
      "_________________________________________________________________\n",
      "dense_364 (Dense)            (None, 3)                 303       \n",
      "=================================================================\n",
      "Total params: 803\n",
      "Trainable params: 803\n",
      "Non-trainable params: 0\n",
      "_________________________________________________________________\n"
     ]
    }
   ],
   "source": [
    "#### https://keras.io/getting-started/sequential-model-guide/\n",
    "model = Sequential()\n",
    "model.add(Dense(100, activation='relu', input_dim=dims))\n",
    "model.add(Dense(nb_classes, activation='softmax'))\n",
    "model.compile(optimizer='rmsprop', loss='categorical_crossentropy', metrics=['accuracy'])\n",
    "model.summary()"
   ]
  },
  {
   "cell_type": "code",
   "execution_count": 656,
   "metadata": {},
   "outputs": [
    {
     "name": "stdout",
     "output_type": "stream",
     "text": [
      "Train on 105 samples, validate on 45 samples\n",
      "Epoch 1/50\n",
      "105/105 [==============================] - 1s - loss: 1.2700 - acc: 0.3810 - val_loss: 1.0270 - val_acc: 0.6667\n",
      "Epoch 2/50\n",
      "105/105 [==============================] - 0s - loss: 0.9802 - acc: 0.6381 - val_loss: 0.9081 - val_acc: 0.6667\n",
      "Epoch 3/50\n",
      "105/105 [==============================] - 0s - loss: 0.8833 - acc: 0.6667 - val_loss: 0.8385 - val_acc: 0.6667\n",
      "Epoch 4/50\n",
      "105/105 [==============================] - 0s - loss: 0.8281 - acc: 0.6571 - val_loss: 0.7875 - val_acc: 0.6667\n",
      "Epoch 5/50\n",
      "105/105 [==============================] - 0s - loss: 0.7667 - acc: 0.6762 - val_loss: 0.7466 - val_acc: 0.7111\n",
      "Epoch 6/50\n",
      "105/105 [==============================] - 0s - loss: 0.7262 - acc: 0.7048 - val_loss: 0.6980 - val_acc: 0.6667\n",
      "Epoch 7/50\n",
      "105/105 [==============================] - 0s - loss: 0.6962 - acc: 0.7048 - val_loss: 0.6643 - val_acc: 0.6667\n",
      "Epoch 8/50\n",
      "105/105 [==============================] - 0s - loss: 0.6562 - acc: 0.7048 - val_loss: 0.6331 - val_acc: 0.9778\n",
      "Epoch 9/50\n",
      "105/105 [==============================] - 0s - loss: 0.6278 - acc: 0.7714 - val_loss: 0.6058 - val_acc: 1.0000\n",
      "Epoch 10/50\n",
      "105/105 [==============================] - 0s - loss: 0.6117 - acc: 0.7905 - val_loss: 0.5774 - val_acc: 0.7333\n",
      "Epoch 11/50\n",
      "105/105 [==============================] - 0s - loss: 0.5740 - acc: 0.7238 - val_loss: 0.5548 - val_acc: 0.9778\n",
      "Epoch 12/50\n",
      "105/105 [==============================] - 0s - loss: 0.5488 - acc: 0.8476 - val_loss: 0.5307 - val_acc: 0.7556\n",
      "Epoch 13/50\n",
      "105/105 [==============================] - 0s - loss: 0.5300 - acc: 0.7714 - val_loss: 0.5158 - val_acc: 1.0000\n",
      "Epoch 14/50\n",
      "105/105 [==============================] - 0s - loss: 0.5139 - acc: 0.8571 - val_loss: 0.4904 - val_acc: 0.8444\n",
      "Epoch 15/50\n",
      "105/105 [==============================] - 0s - loss: 0.4949 - acc: 0.8095 - val_loss: 0.4731 - val_acc: 0.9778\n",
      "Epoch 16/50\n",
      "105/105 [==============================] - 0s - loss: 0.4867 - acc: 0.8476 - val_loss: 0.4582 - val_acc: 0.8444\n",
      "Epoch 17/50\n",
      "105/105 [==============================] - 0s - loss: 0.4641 - acc: 0.8190 - val_loss: 0.4525 - val_acc: 0.9556\n",
      "Epoch 18/50\n",
      "105/105 [==============================] - 0s - loss: 0.4526 - acc: 0.9333 - val_loss: 0.4312 - val_acc: 1.0000\n",
      "Epoch 19/50\n",
      "105/105 [==============================] - 0s - loss: 0.4481 - acc: 0.8762 - val_loss: 0.4185 - val_acc: 0.8444\n",
      "Epoch 20/50\n",
      "105/105 [==============================] - 0s - loss: 0.4349 - acc: 0.8762 - val_loss: 0.4108 - val_acc: 0.8000\n",
      "Epoch 21/50\n",
      "105/105 [==============================] - 0s - loss: 0.4196 - acc: 0.8762 - val_loss: 0.3949 - val_acc: 1.0000\n",
      "Epoch 22/50\n",
      "105/105 [==============================] - 0s - loss: 0.4120 - acc: 0.9333 - val_loss: 0.3833 - val_acc: 0.9333\n",
      "Epoch 23/50\n",
      "105/105 [==============================] - 0s - loss: 0.4171 - acc: 0.8667 - val_loss: 0.3727 - val_acc: 0.9778\n",
      "Epoch 24/50\n",
      "105/105 [==============================] - 0s - loss: 0.3996 - acc: 0.8762 - val_loss: 0.3647 - val_acc: 0.9778\n",
      "Epoch 25/50\n",
      "105/105 [==============================] - 0s - loss: 0.3820 - acc: 0.9143 - val_loss: 0.3569 - val_acc: 1.0000\n",
      "Epoch 26/50\n",
      "105/105 [==============================] - 0s - loss: 0.3736 - acc: 0.9429 - val_loss: 0.3467 - val_acc: 0.9778\n",
      "Epoch 27/50\n",
      "105/105 [==============================] - 0s - loss: 0.3659 - acc: 0.9619 - val_loss: 0.3400 - val_acc: 0.9556\n",
      "Epoch 28/50\n",
      "105/105 [==============================] - 0s - loss: 0.3643 - acc: 0.9429 - val_loss: 0.3282 - val_acc: 0.9778\n",
      "Epoch 29/50\n",
      "105/105 [==============================] - 0s - loss: 0.3496 - acc: 0.9333 - val_loss: 0.3243 - val_acc: 1.0000\n",
      "Epoch 30/50\n",
      "105/105 [==============================] - 0s - loss: 0.3412 - acc: 0.9714 - val_loss: 0.3192 - val_acc: 0.8889\n",
      "Epoch 31/50\n",
      "105/105 [==============================] - 0s - loss: 0.3399 - acc: 0.9143 - val_loss: 0.3032 - val_acc: 1.0000\n",
      "Epoch 32/50\n",
      "105/105 [==============================] - 0s - loss: 0.3304 - acc: 0.9238 - val_loss: 0.2950 - val_acc: 1.0000\n",
      "Epoch 33/50\n",
      "105/105 [==============================] - 0s - loss: 0.3243 - acc: 0.9333 - val_loss: 0.2882 - val_acc: 1.0000\n",
      "Epoch 34/50\n",
      "105/105 [==============================] - 0s - loss: 0.3143 - acc: 0.9429 - val_loss: 0.2833 - val_acc: 0.9778\n",
      "Epoch 35/50\n",
      "105/105 [==============================] - 0s - loss: 0.3112 - acc: 0.9524 - val_loss: 0.2822 - val_acc: 0.9778\n",
      "Epoch 36/50\n",
      "105/105 [==============================] - 0s - loss: 0.3026 - acc: 0.9048 - val_loss: 0.2681 - val_acc: 0.9778\n",
      "Epoch 37/50\n",
      "105/105 [==============================] - 0s - loss: 0.2950 - acc: 0.9524 - val_loss: 0.2623 - val_acc: 1.0000\n",
      "Epoch 38/50\n",
      "105/105 [==============================] - 0s - loss: 0.3058 - acc: 0.9333 - val_loss: 0.2560 - val_acc: 1.0000\n",
      "Epoch 39/50\n",
      "105/105 [==============================] - 0s - loss: 0.2826 - acc: 0.9524 - val_loss: 0.2605 - val_acc: 1.0000\n",
      "Epoch 40/50\n",
      "105/105 [==============================] - 0s - loss: 0.2832 - acc: 0.9238 - val_loss: 0.2435 - val_acc: 1.0000\n",
      "Epoch 41/50\n",
      "105/105 [==============================] - 0s - loss: 0.2801 - acc: 0.9524 - val_loss: 0.2381 - val_acc: 0.9778\n",
      "Epoch 42/50\n",
      "105/105 [==============================] - 0s - loss: 0.2721 - acc: 0.9524 - val_loss: 0.2300 - val_acc: 1.0000\n",
      "Epoch 43/50\n",
      "105/105 [==============================] - 0s - loss: 0.2666 - acc: 0.9619 - val_loss: 0.2261 - val_acc: 1.0000\n",
      "Epoch 44/50\n",
      "105/105 [==============================] - 0s - loss: 0.2629 - acc: 0.9524 - val_loss: 0.2228 - val_acc: 0.9778\n",
      "Epoch 45/50\n",
      "105/105 [==============================] - 0s - loss: 0.2595 - acc: 0.9238 - val_loss: 0.2140 - val_acc: 1.0000\n",
      "Epoch 46/50\n",
      "105/105 [==============================] - 0s - loss: 0.2474 - acc: 0.9619 - val_loss: 0.2088 - val_acc: 1.0000\n",
      "Epoch 47/50\n",
      "105/105 [==============================] - 0s - loss: 0.2474 - acc: 0.9619 - val_loss: 0.2026 - val_acc: 1.0000\n",
      "Epoch 48/50\n",
      "105/105 [==============================] - 0s - loss: 0.2538 - acc: 0.9429 - val_loss: 0.1991 - val_acc: 1.0000\n",
      "Epoch 49/50\n",
      "105/105 [==============================] - ETA: 0s - loss: 0.2319 - acc: 1.000 - 0s - loss: 0.2462 - acc: 0.9524 - val_loss: 0.1968 - val_acc: 1.0000\n",
      "Epoch 50/50\n",
      "105/105 [==============================] - 0s - loss: 0.2459 - acc: 0.9619 - val_loss: 0.1902 - val_acc: 1.0000\n"
     ]
    }
   ],
   "source": [
    "early_stop = EarlyStopping(monitor='val_loss', patience=5, verbose=1) \n",
    "Result = model.fit(X_train, y_train, validation_data = (X_test, y_test), epochs=50, \n",
    "          batch_size=15, verbose=True, callbacks=[early_stop]) #callbacks=[best_model, early_stop]"
   ]
  },
  {
   "cell_type": "code",
   "execution_count": 657,
   "metadata": {},
   "outputs": [
    {
     "data": {
      "text/plain": [
       "<matplotlib.legend.Legend at 0x1c7913a9320>"
      ]
     },
     "execution_count": 657,
     "metadata": {},
     "output_type": "execute_result"
    },
    {
     "data": {
      "image/png": "[encoded data removed]",
      "text/plain": [
       "<matplotlib.figure.Figure at 0x1c7deda2240>"
      ]
     },
     "metadata": {},
     "output_type": "display_data"
    },
    {
     "data": {
      "image/png": "[encoded data removed]",
      "text/plain": [
       "<matplotlib.figure.Figure at 0x1c790966978>"
      ]
     },
     "metadata": {},
     "output_type": "display_data"
    }
   ],
   "source": [
    "import matplotlib.pyplot as plt\n",
    "%matplotlib inline\n",
    "\n",
    "plt.figure()\n",
    "plt.xlabel('Epochs')\n",
    "plt.ylabel('Loss')\n",
    "plt.plot(Result.history['loss'])\n",
    "plt.plot(Result.history['val_loss'])\n",
    "plt.legend(['Training', 'Validation'])\n",
    "\n",
    "plt.figure()\n",
    "plt.xlabel('Epochs')\n",
    "plt.ylabel('Accuracy')\n",
    "plt.plot(Result.history['acc'])\n",
    "plt.plot(Result.history['val_acc'])\n",
    "plt.legend(['Training', 'Validation'], loc='lower right')"
   ]
  },
  {
   "cell_type": "code",
   "execution_count": 658,
   "metadata": {},
   "outputs": [
    {
     "name": "stdout",
     "output_type": "stream",
     "text": [
      "32/45 [====================>.........] - ETA: 0s\n",
      " score:  [0.19020041459136539, 1.0]\n"
     ]
    }
   ],
   "source": [
    "y_pred = model.predict(X_test)\n",
    "score = model.evaluate(X_test, y_test,verbose=1)\n",
    "print(\"\\n score: \",score)"
   ]
  },
  {
   "cell_type": "code",
   "execution_count": 659,
   "metadata": {},
   "outputs": [
    {
     "name": "stdout",
     "output_type": "stream",
     "text": [
      "\r",
      "32/45 [====================>.........] - ETA: 0s"
     ]
    },
    {
     "data": {
      "text/plain": [
       "array([[15,  0,  0],\n",
       "       [ 0, 15,  0],\n",
       "       [ 0,  0, 15]])"
      ]
     },
     "execution_count": 659,
     "metadata": {},
     "output_type": "execute_result"
    }
   ],
   "source": [
    "y_pred_c = model.predict_classes(X_test)\n",
    "# Confusion matrix\n",
    "confusion_matrix(y_test_c, y_pred_c)"
   ]
  },
  {
   "cell_type": "code",
   "execution_count": 660,
   "metadata": {},
   "outputs": [
    {
     "data": {
      "text/plain": [
       "0.1902004086929891"
      ]
     },
     "execution_count": 660,
     "metadata": {},
     "output_type": "execute_result"
    }
   ],
   "source": [
    "# Precision \n",
    "#precision_score(y_test, y_pred)\n",
    "log_loss(y_test, y_pred)"
   ]
  },
  {
   "cell_type": "code",
   "execution_count": 661,
   "metadata": {},
   "outputs": [
    {
     "data": {
      "text/plain": [
       "array([2, 1, 2, 0, 0, 1, 2, 0, 1, 2], dtype=int64)"
      ]
     },
     "execution_count": 661,
     "metadata": {},
     "output_type": "execute_result"
    }
   ],
   "source": [
    "y_pred_c[:10]"
   ]
  },
  {
   "cell_type": "code",
   "execution_count": 662,
   "metadata": {},
   "outputs": [
    {
     "data": {
      "text/plain": [
       "array([[  5.21784859e-05,   1.93580702e-01,   8.06367099e-01],\n",
       "       [  6.05266448e-03,   7.97284126e-01,   1.96663260e-01],\n",
       "       [  1.34400660e-04,   3.22120309e-01,   6.77745283e-01],\n",
       "       [  9.91758406e-01,   8.20064638e-03,   4.09144413e-05],\n",
       "       [  9.93722856e-01,   6.25763787e-03,   1.95137982e-05],\n",
       "       [  3.01304050e-02,   8.14757049e-01,   1.55112579e-01],\n",
       "       [  1.21510329e-05,   1.27031967e-01,   8.72955918e-01],\n",
       "       [  9.85171497e-01,   1.47529300e-02,   7.55901856e-05],\n",
       "       [  4.32500942e-03,   7.70483077e-01,   2.25191981e-01],\n",
       "       [  1.46794860e-04,   3.19045871e-01,   6.80807292e-01]], dtype=float32)"
      ]
     },
     "execution_count": 662,
     "metadata": {},
     "output_type": "execute_result"
    }
   ],
   "source": [
    "y_pred[:10]"
   ]
  },
  {
   "cell_type": "markdown",
   "metadata": {},
   "source": [
    "### Regression example in Keras"
   ]
  },
  {
   "cell_type": "code",
   "execution_count": 663,
   "metadata": {},
   "outputs": [],
   "source": [
    "from sklearn.datasets import load_boston \n",
    "from sklearn.preprocessing import StandardScaler, MinMaxScaler\n",
    "from sklearn.utils import shuffle\n",
    "from sklearn.metrics import r2_score, mean_squared_error\n",
    "boston = load_boston()\n",
    "Xb, yb = shuffle(boston.data, boston.target, random_state=13)\n",
    "Xb_train, Xb_test, yb_train, yb_test = train_test_split(Xb, yb, train_size=0.751, random_state=717)\n",
    "scalerS = StandardScaler()\n",
    "scalerM = MinMaxScaler()\n",
    "scalerS.fit(Xb_train)\n",
    "Xb_train = scalerS.transform(Xb_train)\n",
    "Xb_test = scalerS.transform(Xb_test)"
   ]
  },
  {
   "cell_type": "code",
   "execution_count": 664,
   "metadata": {},
   "outputs": [
    {
     "data": {
      "text/plain": [
       "MinMaxScaler(copy=True, feature_range=(0, 1))"
      ]
     },
     "execution_count": 664,
     "metadata": {},
     "output_type": "execute_result"
    }
   ],
   "source": [
    "boston.data.shape\n",
    "scalerM"
   ]
  },
  {
   "cell_type": "code",
   "execution_count": 665,
   "metadata": {},
   "outputs": [
    {
     "name": "stdout",
     "output_type": "stream",
     "text": [
      "_________________________________________________________________\n",
      "Layer (type)                 Output Shape              Param #   \n",
      "=================================================================\n",
      "dense_365 (Dense)            (None, 52)                728       \n",
      "_________________________________________________________________\n",
      "dense_366 (Dense)            (None, 26)                1378      \n",
      "_________________________________________________________________\n",
      "dense_367 (Dense)            (None, 1)                 27        \n",
      "=================================================================\n",
      "Total params: 2,133\n",
      "Trainable params: 2,133\n",
      "Non-trainable params: 0\n",
      "_________________________________________________________________\n"
     ]
    }
   ],
   "source": [
    "modelb = Sequential()\n",
    "modelb.add(Dense(52, input_dim=13, activation='relu'))\n",
    "modelb.add(Dense(26, activation='relu'))\n",
    "modelb.add(Dense(1, activation='linear'))\n",
    "# Compile model\n",
    "modelb.compile(loss='mean_squared_error', optimizer='rmsprop')\n",
    "modelb.summary()"
   ]
  },
  {
   "cell_type": "code",
   "execution_count": 666,
   "metadata": {},
   "outputs": [
    {
     "name": "stdout",
     "output_type": "stream",
     "text": [
      "Train on 380 samples, validate on 126 samples\n",
      "Epoch 1/200\n",
      "380/380 [==============================] - 1s - loss: 544.4865 - val_loss: 576.3575\n",
      "Epoch 2/200\n",
      "380/380 [==============================] - 0s - loss: 514.7952 - val_loss: 547.5043\n",
      "Epoch 3/200\n",
      "380/380 [==============================] - 0s - loss: 489.3269 - val_loss: 519.6476\n",
      "Epoch 4/200\n",
      "380/380 [==============================] - 0s - loss: 464.5426 - val_loss: 491.8042\n",
      "Epoch 5/200\n",
      "380/380 [==============================] - 0s - loss: 439.2039 - val_loss: 463.6501\n",
      "Epoch 6/200\n",
      "380/380 [==============================] - 0s - loss: 413.2381 - val_loss: 434.5330\n",
      "Epoch 7/200\n",
      "380/380 [==============================] - 0s - loss: 386.3220 - val_loss: 404.2145\n",
      "Epoch 8/200\n",
      "380/380 [==============================] - 0s - loss: 358.9595 - val_loss: 373.7110\n",
      "Epoch 9/200\n",
      "380/380 [==============================] - 0s - loss: 331.4310 - val_loss: 342.9657\n",
      "Epoch 10/200\n",
      "380/380 [==============================] - 0s - loss: 303.9267 - val_loss: 312.5220\n",
      "Epoch 11/200\n",
      "380/380 [==============================] - 0s - loss: 276.4769 - val_loss: 281.9466\n",
      "Epoch 12/200\n",
      "380/380 [==============================] - 0s - loss: 248.9706 - val_loss: 251.6390\n",
      "Epoch 13/200\n",
      "380/380 [==============================] - 0s - loss: 222.1773 - val_loss: 222.4758\n",
      "Epoch 14/200\n",
      "380/380 [==============================] - 0s - loss: 196.3929 - val_loss: 194.4594\n",
      "Epoch 15/200\n",
      "380/380 [==============================] - 0s - loss: 172.0064 - val_loss: 168.3781\n",
      "Epoch 16/200\n",
      "380/380 [==============================] - 0s - loss: 149.3930 - val_loss: 144.1788\n",
      "Epoch 17/200\n",
      "380/380 [==============================] - 0s - loss: 129.1742 - val_loss: 122.7845\n",
      "Epoch 18/200\n",
      "380/380 [==============================] - 0s - loss: 110.8538 - val_loss: 103.1844\n",
      "Epoch 19/200\n",
      "380/380 [==============================] - 0s - loss: 95.0361 - val_loss: 86.6974\n",
      "Epoch 20/200\n",
      "380/380 [==============================] - 0s - loss: 81.6172 - val_loss: 72.7494\n",
      "Epoch 21/200\n",
      "380/380 [==============================] - 0s - loss: 70.5282 - val_loss: 61.3485\n",
      "Epoch 22/200\n",
      "380/380 [==============================] - 0s - loss: 61.6012 - val_loss: 52.1804\n",
      "Epoch 23/200\n",
      "380/380 [==============================] - 0s - loss: 54.4291 - val_loss: 44.7150\n",
      "Epoch 24/200\n",
      "380/380 [==============================] - 0s - loss: 48.3676 - val_loss: 38.5409\n",
      "Epoch 25/200\n",
      "380/380 [==============================] - 0s - loss: 43.5635 - val_loss: 33.8760\n",
      "Epoch 26/200\n",
      "380/380 [==============================] - 0s - loss: 39.6736 - val_loss: 30.4158\n",
      "Epoch 27/200\n",
      "380/380 [==============================] - 0s - loss: 36.5332 - val_loss: 27.3280\n",
      "Epoch 28/200\n",
      "380/380 [==============================] - 0s - loss: 33.8763 - val_loss: 25.2068\n",
      "Epoch 29/200\n",
      "380/380 [==============================] - 0s - loss: 31.5293 - val_loss: 23.5426\n",
      "Epoch 30/200\n",
      "380/380 [==============================] - 0s - loss: 29.5261 - val_loss: 22.0129\n",
      "Epoch 31/200\n",
      "380/380 [==============================] - 0s - loss: 27.8258 - val_loss: 20.8171\n",
      "Epoch 32/200\n",
      "380/380 [==============================] - 0s - loss: 26.5525 - val_loss: 19.9503\n",
      "Epoch 33/200\n",
      "380/380 [==============================] - 0s - loss: 25.3918 - val_loss: 19.2100\n",
      "Epoch 34/200\n",
      "380/380 [==============================] - 0s - loss: 24.2043 - val_loss: 18.6153\n",
      "Epoch 35/200\n",
      "380/380 [==============================] - 0s - loss: 23.4392 - val_loss: 18.0504\n",
      "Epoch 36/200\n",
      "380/380 [==============================] - 0s - loss: 22.7145 - val_loss: 17.6174\n",
      "Epoch 37/200\n",
      "380/380 [==============================] - 0s - loss: 22.0335 - val_loss: 17.0410\n",
      "Epoch 38/200\n",
      "380/380 [==============================] - 0s - loss: 21.2687 - val_loss: 16.8229\n",
      "Epoch 39/200\n",
      "380/380 [==============================] - 0s - loss: 20.5892 - val_loss: 16.4696\n",
      "Epoch 40/200\n",
      "380/380 [==============================] - 0s - loss: 20.0506 - val_loss: 15.8457\n",
      "Epoch 41/200\n",
      "380/380 [==============================] - 0s - loss: 19.4518 - val_loss: 15.4223\n",
      "Epoch 42/200\n",
      "380/380 [==============================] - 0s - loss: 18.8662 - val_loss: 15.0434\n",
      "Epoch 43/200\n",
      "380/380 [==============================] - 0s - loss: 18.3934 - val_loss: 15.0269\n",
      "Epoch 44/200\n",
      "380/380 [==============================] - 0s - loss: 18.0959 - val_loss: 14.2036\n",
      "Epoch 45/200\n",
      "380/380 [==============================] - 0s - loss: 17.6611 - val_loss: 14.3287\n",
      "Epoch 46/200\n",
      "380/380 [==============================] - 0s - loss: 17.1688 - val_loss: 14.0542\n",
      "Epoch 47/200\n",
      "380/380 [==============================] - 0s - loss: 16.7659 - val_loss: 13.4802\n",
      "Epoch 48/200\n",
      "380/380 [==============================] - 0s - loss: 16.5664 - val_loss: 13.2772\n",
      "Epoch 49/200\n",
      "380/380 [==============================] - 0s - loss: 16.0404 - val_loss: 13.1511\n",
      "Epoch 50/200\n",
      "380/380 [==============================] - 0s - loss: 15.8102 - val_loss: 12.6530\n",
      "Epoch 51/200\n",
      "380/380 [==============================] - 0s - loss: 15.4662 - val_loss: 12.6412\n",
      "Epoch 52/200\n",
      "380/380 [==============================] - 0s - loss: 15.1839 - val_loss: 12.4309\n",
      "Epoch 53/200\n",
      "380/380 [==============================] - 0s - loss: 15.0585 - val_loss: 12.1571\n",
      "Epoch 54/200\n",
      "380/380 [==============================] - 0s - loss: 14.7746 - val_loss: 12.2093\n",
      "Epoch 55/200\n",
      "380/380 [==============================] - 0s - loss: 14.4649 - val_loss: 11.7759\n",
      "Epoch 56/200\n",
      "380/380 [==============================] - 0s - loss: 14.3245 - val_loss: 11.7109\n",
      "Epoch 57/200\n",
      "380/380 [==============================] - 0s - loss: 14.1732 - val_loss: 11.6364\n",
      "Epoch 58/200\n",
      "380/380 [==============================] - 0s - loss: 13.9815 - val_loss: 11.3087\n",
      "Epoch 59/200\n",
      "380/380 [==============================] - 0s - loss: 13.6831 - val_loss: 11.4459\n",
      "Epoch 60/200\n",
      "380/380 [==============================] - 0s - loss: 13.6487 - val_loss: 11.4053\n",
      "Epoch 61/200\n",
      "380/380 [==============================] - 0s - loss: 13.4179 - val_loss: 11.3571\n",
      "Epoch 62/200\n",
      "380/380 [==============================] - 0s - loss: 13.1977 - val_loss: 11.0765\n",
      "Epoch 63/200\n",
      "380/380 [==============================] - 0s - loss: 13.1090 - val_loss: 11.2555\n",
      "Epoch 64/200\n",
      "380/380 [==============================] - 0s - loss: 12.9531 - val_loss: 10.7387\n",
      "Epoch 65/200\n",
      "380/380 [==============================] - 0s - loss: 12.9102 - val_loss: 10.9722\n",
      "Epoch 66/200\n",
      "380/380 [==============================] - 0s - loss: 12.5512 - val_loss: 10.9368\n",
      "Epoch 67/200\n",
      "380/380 [==============================] - 0s - loss: 12.5002 - val_loss: 10.6152\n",
      "Epoch 68/200\n",
      "380/380 [==============================] - 0s - loss: 12.4226 - val_loss: 10.7070\n",
      "Epoch 69/200\n",
      "380/380 [==============================] - 0s - loss: 12.2495 - val_loss: 10.6323\n",
      "Epoch 70/200\n",
      "380/380 [==============================] - 0s - loss: 12.1658 - val_loss: 10.3662\n",
      "Epoch 71/200\n",
      "380/380 [==============================] - 0s - loss: 12.1352 - val_loss: 10.4100\n",
      "Epoch 72/200\n",
      "380/380 [==============================] - 0s - loss: 11.9106 - val_loss: 10.5307\n",
      "Epoch 73/200\n",
      "380/380 [==============================] - 0s - loss: 11.8587 - val_loss: 10.2910\n",
      "Epoch 74/200\n",
      "380/380 [==============================] - 0s - loss: 11.7073 - val_loss: 10.3493\n",
      "Epoch 75/200\n",
      "380/380 [==============================] - 0s - loss: 11.6631 - val_loss: 10.3962\n",
      "Epoch 76/200\n",
      "380/380 [==============================] - 0s - loss: 11.4499 - val_loss: 10.1521\n",
      "Epoch 77/200\n",
      "380/380 [==============================] - 0s - loss: 11.4233 - val_loss: 10.0790\n",
      "Epoch 78/200\n",
      "380/380 [==============================] - 0s - loss: 11.5214 - val_loss: 10.1860\n",
      "Epoch 79/200\n",
      "380/380 [==============================] - 0s - loss: 11.3369 - val_loss: 10.2172\n",
      "Epoch 80/200\n",
      "380/380 [==============================] - 0s - loss: 11.1413 - val_loss: 10.3766\n",
      "Epoch 81/200\n",
      "380/380 [==============================] - 0s - loss: 11.1804 - val_loss: 10.0208\n",
      "Epoch 82/200\n",
      "380/380 [==============================] - 0s - loss: 11.1957 - val_loss: 10.0674\n",
      "Epoch 83/200\n",
      "380/380 [==============================] - 0s - loss: 10.9781 - val_loss: 9.9463\n",
      "Epoch 84/200\n",
      "380/380 [==============================] - 0s - loss: 10.9189 - val_loss: 9.8217\n",
      "Epoch 85/200\n",
      "380/380 [==============================] - 0s - loss: 10.8422 - val_loss: 9.6922\n",
      "Epoch 86/200\n"
     ]
    },
    {
     "name": "stdout",
     "output_type": "stream",
     "text": [
      "380/380 [==============================] - 0s - loss: 10.7601 - val_loss: 10.1649\n",
      "Epoch 87/200\n",
      "380/380 [==============================] - 0s - loss: 10.6600 - val_loss: 9.6818\n",
      "Epoch 88/200\n",
      "380/380 [==============================] - 0s - loss: 10.6763 - val_loss: 9.6185\n",
      "Epoch 89/200\n",
      "380/380 [==============================] - 0s - loss: 10.5096 - val_loss: 9.9138\n",
      "Epoch 90/200\n",
      "380/380 [==============================] - 0s - loss: 10.4854 - val_loss: 9.9138\n",
      "Epoch 91/200\n",
      "380/380 [==============================] - 0s - loss: 10.4149 - val_loss: 9.6205\n",
      "Epoch 92/200\n",
      "380/380 [==============================] - 0s - loss: 10.3851 - val_loss: 9.8830\n",
      "Epoch 93/200\n",
      "380/380 [==============================] - 0s - loss: 10.2627 - val_loss: 9.5707\n",
      "Epoch 94/200\n",
      "380/380 [==============================] - 0s - loss: 10.3178 - val_loss: 9.6948\n",
      "Epoch 95/200\n",
      "380/380 [==============================] - 0s - loss: 10.2434 - val_loss: 9.7630\n",
      "Epoch 96/200\n",
      "380/380 [==============================] - 0s - loss: 10.1088 - val_loss: 9.6119\n",
      "Epoch 97/200\n",
      "380/380 [==============================] - 0s - loss: 10.1419 - val_loss: 9.7304\n",
      "Epoch 98/200\n",
      "380/380 [==============================] - 0s - loss: 9.9899 - val_loss: 9.7599\n",
      "Epoch 99/200\n",
      "380/380 [==============================] - 0s - loss: 10.0316 - val_loss: 9.4045\n",
      "Epoch 100/200\n",
      "380/380 [==============================] - 0s - loss: 9.9013 - val_loss: 9.4143\n",
      "Epoch 101/200\n",
      "380/380 [==============================] - 0s - loss: 9.8149 - val_loss: 10.0835\n",
      "Epoch 102/200\n",
      "380/380 [==============================] - 0s - loss: 9.7573 - val_loss: 9.1172\n",
      "Epoch 103/200\n",
      "380/380 [==============================] - 0s - loss: 9.8636 - val_loss: 9.3791\n",
      "Epoch 104/200\n",
      "380/380 [==============================] - 0s - loss: 9.9633 - val_loss: 9.3535\n",
      "Epoch 105/200\n",
      "380/380 [==============================] - 0s - loss: 9.6866 - val_loss: 9.2484\n",
      "Epoch 106/200\n",
      "380/380 [==============================] - 0s - loss: 9.6398 - val_loss: 9.6460\n",
      "Epoch 107/200\n",
      "380/380 [==============================] - 0s - loss: 9.7360 - val_loss: 9.5778\n",
      "Epoch 108/200\n",
      "380/380 [==============================] - 0s - loss: 9.4800 - val_loss: 9.3307\n",
      "Epoch 00107: early stopping\n"
     ]
    }
   ],
   "source": [
    "early_stopb = EarlyStopping(monitor='val_loss', patience=5, verbose=1) \n",
    "Resultb = modelb.fit(Xb_train, yb_train, validation_data = (Xb_test, yb_test), epochs=200, \n",
    "          batch_size=76, verbose=True, callbacks=[early_stopb])"
   ]
  },
  {
   "cell_type": "code",
   "execution_count": 667,
   "metadata": {},
   "outputs": [],
   "source": [
    "#[item for item in Resultb.history], [item for item in Result.history]"
   ]
  },
  {
   "cell_type": "code",
   "execution_count": 668,
   "metadata": {},
   "outputs": [
    {
     "data": {
      "text/plain": [
       "<matplotlib.legend.Legend at 0x1c791932e48>"
      ]
     },
     "execution_count": 668,
     "metadata": {},
     "output_type": "execute_result"
    },
    {
     "data": {
      "image/png": "[encoded data removed]",
      "text/plain": [
       "<matplotlib.figure.Figure at 0x1c791867780>"
      ]
     },
     "metadata": {},
     "output_type": "display_data"
    }
   ],
   "source": [
    "plt.figure()\n",
    "plt.xlabel('Epochs')\n",
    "plt.ylabel('Loss')\n",
    "plt.plot(Resultb.history['loss'])\n",
    "plt.plot(Resultb.history['val_loss'])\n",
    "plt.legend(['Training', 'Validation'])"
   ]
  },
  {
   "cell_type": "code",
   "execution_count": 669,
   "metadata": {},
   "outputs": [
    {
     "name": "stdout",
     "output_type": "stream",
     "text": [
      "MSE: 9.330693\n",
      "RMSE: 3.054618\n",
      "R^2: 0.889260\n"
     ]
    }
   ],
   "source": [
    "yb_predicted = modelb.predict(Xb_test)\n",
    "score = mean_squared_error(yb_predicted, yb_test)\n",
    "Rsq = r2_score(yb_test, yb_predicted)\n",
    "print('MSE: {0:f}'.format(score))\n",
    "print('RMSE: {0:f}'.format(score**0.5))\n",
    "print('R^2: {0:f}'.format(Rsq))\n"
   ]
  },
  {
   "cell_type": "code",
   "execution_count": 671,
   "metadata": {},
   "outputs": [
    {
     "data": {
      "text/plain": [
       "array([[ 11.51678944],\n",
       "       [ 33.99082947],\n",
       "       [ 22.6405468 ],\n",
       "       [ 28.96929169],\n",
       "       [ 21.90566635],\n",
       "       [ 31.74049377],\n",
       "       [ 22.77473831],\n",
       "       [ 18.49347496],\n",
       "       [ 33.55136108],\n",
       "       [ 22.15528488]], dtype=float32)"
      ]
     },
     "execution_count": 671,
     "metadata": {},
     "output_type": "execute_result"
    }
   ],
   "source": [
    "yb_predicted[:10]"
   ]
  },
  {
   "cell_type": "code",
   "execution_count": 670,
   "metadata": {},
   "outputs": [
    {
     "data": {
      "text/plain": [
       "array([ 14.9,  31.7,  22.5,  30.7,  20.3,  27. ,  23. ,  18.6,  34.9,  21. ])"
      ]
     },
     "execution_count": 670,
     "metadata": {},
     "output_type": "execute_result"
    }
   ],
   "source": [
    "yb_test[:10]"
   ]
  },
  {
   "cell_type": "code",
   "execution_count": null,
   "metadata": {
    "collapsed": true
   },
   "outputs": [],
   "source": []
  }
 ],
 "metadata": {
  "kernelspec": {
   "display_name": "Python [default]",
   "language": "python",
   "name": "python3"
  },
  "language_info": {
   "codemirror_mode": {
    "name": "ipython",
    "version": 3
   },
   "file_extension": ".py",
   "mimetype": "text/x-python",
   "name": "python",
   "nbconvert_exporter": "python",
   "pygments_lexer": "ipython3",
   "version": "3.5.2"
  }
 },
 "nbformat": 4,
 "nbformat_minor": 2
}
