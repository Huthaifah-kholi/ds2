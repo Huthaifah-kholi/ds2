{
 "cells": [
  {
   "cell_type": "markdown",
   "metadata": {},
   "source": [
    "### Classification using Keras \n",
    "Note: Keras uses TensorFlow by default. You can switch backend to Theano (see https://keras.io/backend/ for details)"
   ]
  },
  {
   "cell_type": "code",
   "execution_count": 264,
   "metadata": {},
   "outputs": [
    {
     "data": {
      "text/plain": [
       "'2.0.4'"
      ]
     },
     "execution_count": 264,
     "metadata": {},
     "output_type": "execute_result"
    }
   ],
   "source": [
    "import keras \n",
    "keras.__version__"
   ]
  },
  {
   "cell_type": "code",
   "execution_count": 265,
   "metadata": {},
   "outputs": [
    {
     "name": "stdout",
     "output_type": "stream",
     "text": [
      "3 classes\n",
      "4 dims\n"
     ]
    }
   ],
   "source": [
    "import pandas as pd \n",
    "import numpy as np\n",
    "from sklearn.model_selection import train_test_split\n",
    "from sklearn.metrics import accuracy_score, precision_score, log_loss, classification_report\n",
    "from sklearn.metrics import confusion_matrix , mean_squared_error, r2_score\n",
    "from sklearn.datasets import load_iris, load_boston\n",
    "\n",
    "# Import `Sequential` from `keras.models`\n",
    "from keras.models import Sequential\n",
    "# Import `Dense` from `keras.layers`\n",
    "from keras.layers import Dense, Activation, Dropout\n",
    "from keras.callbacks import EarlyStopping, ModelCheckpoint\n",
    "from keras.optimizers import SGD, RMSprop, Adam\n",
    "\n",
    "iris = load_iris()\n",
    "X = iris.data\n",
    "y = iris.target \n",
    "X = X.astype('float32')\n",
    "X_train, X_test, y_train, y_test = train_test_split(X, y, stratify = y, train_size = 0.7, random_state=707)\n",
    "\n",
    "nb_classes = len(set(y_train))\n",
    "print(nb_classes, 'classes')\n",
    "\n",
    "dims = X_train.shape[1]\n",
    "print(dims, 'dims')#\n",
    "\n",
    "y_test_c = y_test\n",
    "# Convert labels to categorical one-hot encoding (there is also a sklear wrapper)\n",
    "y_train = keras.utils.to_categorical(y_train, num_classes=3)\n",
    "y_test = keras.utils.to_categorical(y_test, num_classes=3)"
   ]
  },
  {
   "cell_type": "code",
   "execution_count": 266,
   "metadata": {},
   "outputs": [
    {
     "name": "stdout",
     "output_type": "stream",
     "text": [
      "_________________________________________________________________\n",
      "Layer (type)                 Output Shape              Param #   \n",
      "=================================================================\n",
      "dense_148 (Dense)            (None, 100)               500       \n",
      "_________________________________________________________________\n",
      "dense_149 (Dense)            (None, 3)                 303       \n",
      "=================================================================\n",
      "Total params: 803\n",
      "Trainable params: 803\n",
      "Non-trainable params: 0\n",
      "_________________________________________________________________\n"
     ]
    }
   ],
   "source": [
    "#### https://keras.io/getting-started/sequential-model-guide/\n",
    "model = Sequential()\n",
    "model.add(Dense(100, activation='relu', input_dim=dims))\n",
    "model.add(Dense(nb_classes, activation='softmax'))\n",
    "model.compile(optimizer='rmsprop', loss='categorical_crossentropy', metrics=['accuracy'])\n",
    "model.summary()"
   ]
  },
  {
   "cell_type": "code",
   "execution_count": 267,
   "metadata": {},
   "outputs": [
    {
     "name": "stdout",
     "output_type": "stream",
     "text": [
      "Train on 105 samples, validate on 45 samples\n",
      "Epoch 1/50\n",
      "105/105 [==============================] - 0s - loss: 1.2667 - acc: 0.3333 - val_loss: 1.0381 - val_acc: 0.3556\n",
      "Epoch 2/50\n",
      "105/105 [==============================] - 0s - loss: 1.0018 - acc: 0.4952 - val_loss: 0.9289 - val_acc: 0.3556\n",
      "Epoch 3/50\n",
      "105/105 [==============================] - 0s - loss: 0.9208 - acc: 0.5524 - val_loss: 0.8585 - val_acc: 0.8444\n",
      "Epoch 4/50\n",
      "105/105 [==============================] - 0s - loss: 0.8417 - acc: 0.8000 - val_loss: 0.8088 - val_acc: 0.6667\n",
      "Epoch 5/50\n",
      "105/105 [==============================] - 0s - loss: 0.7862 - acc: 0.6667 - val_loss: 0.7488 - val_acc: 0.9778\n",
      "Epoch 6/50\n",
      "105/105 [==============================] - 0s - loss: 0.7317 - acc: 0.7048 - val_loss: 0.7018 - val_acc: 0.9556\n",
      "Epoch 7/50\n",
      "105/105 [==============================] - 0s - loss: 0.6949 - acc: 0.8286 - val_loss: 0.6526 - val_acc: 0.9778\n",
      "Epoch 8/50\n",
      "105/105 [==============================] - 0s - loss: 0.6440 - acc: 0.8476 - val_loss: 0.6086 - val_acc: 0.8889\n",
      "Epoch 9/50\n",
      "105/105 [==============================] - 0s - loss: 0.6243 - acc: 0.7810 - val_loss: 0.5810 - val_acc: 0.9778\n",
      "Epoch 10/50\n",
      "105/105 [==============================] - 0s - loss: 0.5779 - acc: 0.8857 - val_loss: 0.5511 - val_acc: 0.9333\n",
      "Epoch 11/50\n",
      "105/105 [==============================] - 0s - loss: 0.5627 - acc: 0.8381 - val_loss: 0.5281 - val_acc: 0.9778\n",
      "Epoch 12/50\n",
      "105/105 [==============================] - 0s - loss: 0.5387 - acc: 0.8952 - val_loss: 0.5050 - val_acc: 0.8667\n",
      "Epoch 13/50\n",
      "105/105 [==============================] - 0s - loss: 0.5123 - acc: 0.9143 - val_loss: 0.4936 - val_acc: 0.6889\n",
      "Epoch 14/50\n",
      "105/105 [==============================] - 0s - loss: 0.5061 - acc: 0.8476 - val_loss: 0.4658 - val_acc: 0.8889\n",
      "Epoch 15/50\n",
      "105/105 [==============================] - 0s - loss: 0.4773 - acc: 0.8476 - val_loss: 0.4481 - val_acc: 0.9778\n",
      "Epoch 16/50\n",
      "105/105 [==============================] - 0s - loss: 0.4675 - acc: 0.8952 - val_loss: 0.4359 - val_acc: 0.8667\n",
      "Epoch 17/50\n",
      "105/105 [==============================] - 0s - loss: 0.4479 - acc: 0.8667 - val_loss: 0.4209 - val_acc: 0.9778\n",
      "Epoch 18/50\n",
      "105/105 [==============================] - 0s - loss: 0.4475 - acc: 0.8857 - val_loss: 0.4083 - val_acc: 0.9778\n",
      "Epoch 19/50\n",
      "105/105 [==============================] - 0s - loss: 0.4210 - acc: 0.9143 - val_loss: 0.3945 - val_acc: 0.9778\n",
      "Epoch 20/50\n",
      "105/105 [==============================] - 0s - loss: 0.4095 - acc: 0.9238 - val_loss: 0.3795 - val_acc: 0.9778\n",
      "Epoch 21/50\n",
      "105/105 [==============================] - 0s - loss: 0.4037 - acc: 0.9143 - val_loss: 0.3702 - val_acc: 0.9778\n",
      "Epoch 22/50\n",
      "105/105 [==============================] - 0s - loss: 0.3878 - acc: 0.9524 - val_loss: 0.3572 - val_acc: 0.9778\n",
      "Epoch 23/50\n",
      "105/105 [==============================] - 0s - loss: 0.3840 - acc: 0.9143 - val_loss: 0.3469 - val_acc: 0.9778\n",
      "Epoch 24/50\n",
      "105/105 [==============================] - 0s - loss: 0.3716 - acc: 0.9238 - val_loss: 0.3362 - val_acc: 0.9778\n",
      "Epoch 25/50\n",
      "105/105 [==============================] - 0s - loss: 0.3562 - acc: 0.9238 - val_loss: 0.3391 - val_acc: 0.8667\n",
      "Epoch 26/50\n",
      "105/105 [==============================] - 0s - loss: 0.3589 - acc: 0.8857 - val_loss: 0.3195 - val_acc: 1.0000\n",
      "Epoch 27/50\n",
      "105/105 [==============================] - 0s - loss: 0.3425 - acc: 0.9238 - val_loss: 0.3203 - val_acc: 0.8889\n",
      "Epoch 28/50\n",
      "105/105 [==============================] - 0s - loss: 0.3479 - acc: 0.8857 - val_loss: 0.3023 - val_acc: 0.9778\n",
      "Epoch 29/50\n",
      "105/105 [==============================] - 0s - loss: 0.3353 - acc: 0.9429 - val_loss: 0.2962 - val_acc: 0.9778\n",
      "Epoch 30/50\n",
      "105/105 [==============================] - 0s - loss: 0.3229 - acc: 0.9524 - val_loss: 0.2892 - val_acc: 1.0000\n",
      "Epoch 31/50\n",
      "105/105 [==============================] - 0s - loss: 0.3290 - acc: 0.9143 - val_loss: 0.2807 - val_acc: 0.9778\n",
      "Epoch 32/50\n",
      "105/105 [==============================] - 0s - loss: 0.3082 - acc: 0.9429 - val_loss: 0.2763 - val_acc: 1.0000\n",
      "Epoch 33/50\n",
      "105/105 [==============================] - 0s - loss: 0.3055 - acc: 0.9524 - val_loss: 0.2811 - val_acc: 0.9333\n",
      "Epoch 34/50\n",
      "105/105 [==============================] - 0s - loss: 0.3064 - acc: 0.9333 - val_loss: 0.2621 - val_acc: 0.9778\n",
      "Epoch 35/50\n",
      "105/105 [==============================] - 0s - loss: 0.2886 - acc: 0.9619 - val_loss: 0.2652 - val_acc: 0.9556\n",
      "Epoch 36/50\n",
      "105/105 [==============================] - 0s - loss: 0.2886 - acc: 0.9524 - val_loss: 0.2645 - val_acc: 1.0000\n",
      "Epoch 37/50\n",
      "105/105 [==============================] - 0s - loss: 0.2820 - acc: 0.9333 - val_loss: 0.2658 - val_acc: 0.9778\n",
      "Epoch 38/50\n",
      "105/105 [==============================] - 0s - loss: 0.2866 - acc: 0.9143 - val_loss: 0.2376 - val_acc: 0.9778\n",
      "Epoch 39/50\n",
      "105/105 [==============================] - 0s - loss: 0.2725 - acc: 0.9429 - val_loss: 0.2345 - val_acc: 1.0000\n",
      "Epoch 40/50\n",
      "105/105 [==============================] - 0s - loss: 0.2615 - acc: 0.9524 - val_loss: 0.2263 - val_acc: 0.9778\n",
      "Epoch 41/50\n",
      "105/105 [==============================] - 0s - loss: 0.2647 - acc: 0.9429 - val_loss: 0.2301 - val_acc: 1.0000\n",
      "Epoch 42/50\n",
      "105/105 [==============================] - 0s - loss: 0.2555 - acc: 0.9524 - val_loss: 0.2164 - val_acc: 1.0000\n",
      "Epoch 43/50\n",
      "105/105 [==============================] - 0s - loss: 0.2617 - acc: 0.9429 - val_loss: 0.2143 - val_acc: 1.0000\n",
      "Epoch 44/50\n",
      "105/105 [==============================] - 0s - loss: 0.2489 - acc: 0.9524 - val_loss: 0.2040 - val_acc: 1.0000\n",
      "Epoch 45/50\n",
      "105/105 [==============================] - 0s - loss: 0.2568 - acc: 0.9333 - val_loss: 0.2054 - val_acc: 1.0000\n",
      "Epoch 46/50\n",
      "105/105 [==============================] - 0s - loss: 0.2407 - acc: 0.9429 - val_loss: 0.2073 - val_acc: 1.0000\n",
      "Epoch 47/50\n",
      "105/105 [==============================] - 0s - loss: 0.2385 - acc: 0.9619 - val_loss: 0.1927 - val_acc: 1.0000\n",
      "Epoch 48/50\n",
      "105/105 [==============================] - 0s - loss: 0.2313 - acc: 0.9714 - val_loss: 0.1932 - val_acc: 0.9778\n",
      "Epoch 49/50\n",
      "105/105 [==============================] - 0s - loss: 0.2302 - acc: 0.9619 - val_loss: 0.1840 - val_acc: 1.0000\n",
      "Epoch 50/50\n",
      "105/105 [==============================] - 0s - loss: 0.2298 - acc: 0.9619 - val_loss: 0.1817 - val_acc: 1.0000\n"
     ]
    }
   ],
   "source": [
    "early_stop = EarlyStopping(monitor='val_loss', patience=5, verbose=1) \n",
    "Result = model.fit(X_train, y_train, validation_data = (X_test, y_test), epochs=50, \n",
    "          batch_size=15, verbose=True, callbacks=[early_stop]) #callbacks=[best_model, early_stop]"
   ]
  },
  {
   "cell_type": "code",
   "execution_count": 268,
   "metadata": {},
   "outputs": [
    {
     "data": {
      "text/plain": [
       "<matplotlib.legend.Legend at 0x1c7e3ebe048>"
      ]
     },
     "execution_count": 268,
     "metadata": {},
     "output_type": "execute_result"
    },
    {
     "data": {
      "image/png": "[encoded data removed]",
      "text/plain": [
       "<matplotlib.figure.Figure at 0x1c7ded93ef0>"
      ]
     },
     "metadata": {},
     "output_type": "display_data"
    },
    {
     "data": {
      "image/png": "[encoded data removed]",
      "text/plain": [
       "<matplotlib.figure.Figure at 0x1c7e3f4a780>"
      ]
     },
     "metadata": {},
     "output_type": "display_data"
    }
   ],
   "source": [
    "import matplotlib.pyplot as plt\n",
    "%matplotlib inline\n",
    "\n",
    "plt.figure()\n",
    "plt.xlabel('Epochs')\n",
    "plt.ylabel('Loss')\n",
    "plt.plot(Result.history['loss'])\n",
    "plt.plot(Result.history['val_loss'])\n",
    "plt.legend(['Training', 'Validation'])\n",
    "\n",
    "plt.figure()\n",
    "plt.xlabel('Epochs')\n",
    "plt.ylabel('Accuracy')\n",
    "plt.plot(Result.history['acc'])\n",
    "plt.plot(Result.history['val_acc'])\n",
    "plt.legend(['Training', 'Validation'], loc='lower right')"
   ]
  },
  {
   "cell_type": "code",
   "execution_count": 269,
   "metadata": {},
   "outputs": [
    {
     "name": "stdout",
     "output_type": "stream",
     "text": [
      "32/45 [====================>.........] - ETA: 0s\n",
      " score:  [0.18169943955209519, 1.0]\n"
     ]
    }
   ],
   "source": [
    "y_pred = model.predict(X_test)\n",
    "score = model.evaluate(X_test, y_test,verbose=1)\n",
    "print(\"\\n score: \",score)"
   ]
  },
  {
   "cell_type": "code",
   "execution_count": 270,
   "metadata": {},
   "outputs": [
    {
     "name": "stdout",
     "output_type": "stream",
     "text": [
      "\r",
      "32/45 [====================>.........] - ETA: 0s"
     ]
    },
    {
     "data": {
      "text/plain": [
       "array([[15,  0,  0],\n",
       "       [ 0, 15,  0],\n",
       "       [ 0,  0, 15]])"
      ]
     },
     "execution_count": 270,
     "metadata": {},
     "output_type": "execute_result"
    }
   ],
   "source": [
    "y_pred_c = model.predict_classes(X_test)\n",
    "# Confusion matrix\n",
    "confusion_matrix(y_test_c, y_pred_c)"
   ]
  },
  {
   "cell_type": "code",
   "execution_count": 271,
   "metadata": {},
   "outputs": [
    {
     "data": {
      "text/plain": [
       "0.18169944274963604"
      ]
     },
     "execution_count": 271,
     "metadata": {},
     "output_type": "execute_result"
    }
   ],
   "source": [
    "# Precision \n",
    "#precision_score(y_test, y_pred)\n",
    "log_loss(y_test, y_pred)"
   ]
  },
  {
   "cell_type": "code",
   "execution_count": 272,
   "metadata": {},
   "outputs": [
    {
     "data": {
      "text/plain": [
       "array([2, 1, 2, 0, 0, 1, 2, 0, 1, 2], dtype=int64)"
      ]
     },
     "execution_count": 272,
     "metadata": {},
     "output_type": "execute_result"
    }
   ],
   "source": [
    "y_pred_c[:10]"
   ]
  },
  {
   "cell_type": "code",
   "execution_count": 273,
   "metadata": {},
   "outputs": [
    {
     "data": {
      "text/plain": [
       "array([[  5.61227316e-05,   1.86268598e-01,   8.13675284e-01],\n",
       "       [  5.64851658e-03,   8.38743210e-01,   1.55608237e-01],\n",
       "       [  1.47026731e-04,   3.50805521e-01,   6.49047494e-01],\n",
       "       [  9.92429316e-01,   7.44723110e-03,   1.23470003e-04],\n",
       "       [  9.94610190e-01,   5.32885408e-03,   6.09070084e-05],\n",
       "       [  2.92654615e-02,   8.35862458e-01,   1.34872079e-01],\n",
       "       [  1.33497260e-05,   1.30741030e-01,   8.69245648e-01],\n",
       "       [  9.88747597e-01,   1.11099090e-02,   1.42510864e-04],\n",
       "       [  4.17491514e-03,   8.12151432e-01,   1.83673695e-01],\n",
       "       [  1.56149050e-04,   3.54266614e-01,   6.45577312e-01]], dtype=float32)"
      ]
     },
     "execution_count": 273,
     "metadata": {},
     "output_type": "execute_result"
    }
   ],
   "source": [
    "y_pred[:10]"
   ]
  },
  {
   "cell_type": "markdown",
   "metadata": {},
   "source": [
    "### Regression example"
   ]
  },
  {
   "cell_type": "code",
   "execution_count": 423,
   "metadata": {},
   "outputs": [],
   "source": [
    "from sklearn.datasets import load_boston \n",
    "from sklearn.preprocessing import StandardScaler, MinMaxScaler\n",
    "from sklearn.utils import shuffle\n",
    "from sklearn.metrics import r2_score, mean_squared_error\n",
    "boston = load_boston()\n",
    "Xb, yb = shuffle(boston.data, boston.target, random_state=13)\n",
    "Xb_train, Xb_test, yb_train, yb_test = train_test_split(Xb, yb, train_size=0.751, random_state=717)\n",
    "scalerS = StandardScaler()\n",
    "scalerM = MinMaxScaler()\n",
    "scalerS.fit(Xb_train)\n",
    "Xb_train = scalerS.transform(Xb_train)\n",
    "Xb_test = scalerS.transform(Xb_test)"
   ]
  },
  {
   "cell_type": "code",
   "execution_count": 424,
   "metadata": {},
   "outputs": [
    {
     "data": {
      "text/plain": [
       "MinMaxScaler(copy=True, feature_range=(0, 1))"
      ]
     },
     "execution_count": 424,
     "metadata": {},
     "output_type": "execute_result"
    }
   ],
   "source": [
    "boston.data.shape\n",
    "scalerM"
   ]
  },
  {
   "cell_type": "code",
   "execution_count": 647,
   "metadata": {},
   "outputs": [
    {
     "name": "stdout",
     "output_type": "stream",
     "text": [
      "_________________________________________________________________\n",
      "Layer (type)                 Output Shape              Param #   \n",
      "=================================================================\n",
      "dense_360 (Dense)            (None, 52)                728       \n",
      "_________________________________________________________________\n",
      "dense_361 (Dense)            (None, 26)                1378      \n",
      "_________________________________________________________________\n",
      "dense_362 (Dense)            (None, 1)                 27        \n",
      "=================================================================\n",
      "Total params: 2,133\n",
      "Trainable params: 2,133\n",
      "Non-trainable params: 0\n",
      "_________________________________________________________________\n"
     ]
    }
   ],
   "source": [
    "modelb = Sequential()\n",
    "modelb.add(Dense(52, input_dim=13, activation='relu'))\n",
    "modelb.add(Dense(26, activation='relu'))\n",
    "modelb.add(Dense(1, activation='linear'))\n",
    "# Compile model\n",
    "modelb.compile(loss='mean_squared_error', optimizer='rmsprop')\n",
    "modelb.summary()"
   ]
  },
  {
   "cell_type": "code",
   "execution_count": 648,
   "metadata": {},
   "outputs": [
    {
     "name": "stdout",
     "output_type": "stream",
     "text": [
      "Train on 380 samples, validate on 126 samples\n",
      "Epoch 1/200\n",
      "380/380 [==============================] - 1s - loss: 566.1648 - val_loss: 601.7783\n",
      "Epoch 2/200\n",
      "380/380 [==============================] - ETA: 0s - loss: 627.764 - 0s - loss: 541.5861 - val_loss: 577.1656\n",
      "Epoch 3/200\n",
      "380/380 [==============================] - 0s - loss: 520.7392 - val_loss: 553.3426\n",
      "Epoch 4/200\n",
      "380/380 [==============================] - 0s - loss: 500.1651 - val_loss: 529.2089\n",
      "Epoch 5/200\n",
      "380/380 [==============================] - 0s - loss: 478.7532 - val_loss: 503.9466\n",
      "Epoch 6/200\n",
      "380/380 [==============================] - 0s - loss: 456.2676 - val_loss: 477.7845\n",
      "Epoch 7/200\n",
      "380/380 [==============================] - 0s - loss: 432.8802 - val_loss: 450.8349\n",
      "Epoch 8/200\n",
      "380/380 [==============================] - 0s - loss: 408.9841 - val_loss: 423.7338\n",
      "Epoch 9/200\n",
      "380/380 [==============================] - 0s - loss: 384.5626 - val_loss: 395.9731\n",
      "Epoch 10/200\n",
      "380/380 [==============================] - 0s - loss: 359.5199 - val_loss: 367.6506\n",
      "Epoch 11/200\n",
      "380/380 [==============================] - 0s - loss: 333.9436 - val_loss: 339.1595\n",
      "Epoch 12/200\n",
      "380/380 [==============================] - 0s - loss: 308.3225 - val_loss: 310.7603\n",
      "Epoch 13/200\n",
      "380/380 [==============================] - 0s - loss: 282.6996 - val_loss: 282.4422\n",
      "Epoch 14/200\n",
      "380/380 [==============================] - 0s - loss: 257.2207 - val_loss: 254.6418\n",
      "Epoch 15/200\n",
      "380/380 [==============================] - 0s - loss: 232.5933 - val_loss: 228.1800\n",
      "Epoch 16/200\n",
      "380/380 [==============================] - 0s - loss: 208.9334 - val_loss: 202.5826\n",
      "Epoch 17/200\n",
      "380/380 [==============================] - 0s - loss: 186.5512 - val_loss: 178.9483\n",
      "Epoch 18/200\n",
      "380/380 [==============================] - 0s - loss: 165.8802 - val_loss: 157.0864\n",
      "Epoch 19/200\n",
      "380/380 [==============================] - 0s - loss: 146.8610 - val_loss: 137.2163\n",
      "Epoch 20/200\n",
      "380/380 [==============================] - 0s - loss: 129.9059 - val_loss: 119.6094\n",
      "Epoch 21/200\n",
      "380/380 [==============================] - 0s - loss: 114.9916 - val_loss: 104.4941\n",
      "Epoch 22/200\n",
      "380/380 [==============================] - 0s - loss: 102.1705 - val_loss: 91.3767\n",
      "Epoch 23/200\n",
      "380/380 [==============================] - 0s - loss: 91.1986 - val_loss: 80.2835\n",
      "Epoch 24/200\n",
      "380/380 [==============================] - 0s - loss: 81.7413 - val_loss: 70.6658\n",
      "Epoch 25/200\n",
      "380/380 [==============================] - 0s - loss: 73.8673 - val_loss: 62.7044\n",
      "Epoch 26/200\n",
      "380/380 [==============================] - 0s - loss: 67.0377 - val_loss: 55.7356\n",
      "Epoch 27/200\n",
      "380/380 [==============================] - 0s - loss: 60.9660 - val_loss: 49.9181\n",
      "Epoch 28/200\n",
      "380/380 [==============================] - 0s - loss: 55.7941 - val_loss: 44.8523\n",
      "Epoch 29/200\n",
      "380/380 [==============================] - 0s - loss: 51.0689 - val_loss: 40.4248\n",
      "Epoch 30/200\n",
      "380/380 [==============================] - 0s - loss: 47.0659 - val_loss: 36.6532\n",
      "Epoch 31/200\n",
      "380/380 [==============================] - 0s - loss: 43.1610 - val_loss: 33.2701\n",
      "Epoch 32/200\n",
      "380/380 [==============================] - 0s - loss: 39.7410 - val_loss: 30.3847\n",
      "Epoch 33/200\n",
      "380/380 [==============================] - 0s - loss: 36.8164 - val_loss: 27.9583\n",
      "Epoch 34/200\n",
      "380/380 [==============================] - 0s - loss: 34.2668 - val_loss: 25.8819\n",
      "Epoch 35/200\n",
      "380/380 [==============================] - 0s - loss: 32.0742 - val_loss: 24.2893\n",
      "Epoch 36/200\n",
      "380/380 [==============================] - 0s - loss: 30.1114 - val_loss: 23.0291\n",
      "Epoch 37/200\n",
      "380/380 [==============================] - 0s - loss: 28.6080 - val_loss: 21.9333\n",
      "Epoch 38/200\n",
      "380/380 [==============================] - 0s - loss: 27.2243 - val_loss: 21.1665\n",
      "Epoch 39/200\n",
      "380/380 [==============================] - 0s - loss: 25.9819 - val_loss: 20.3406\n",
      "Epoch 40/200\n",
      "380/380 [==============================] - 0s - loss: 24.9444 - val_loss: 19.9910\n",
      "Epoch 41/200\n",
      "380/380 [==============================] - 0s - loss: 24.1439 - val_loss: 19.1694\n",
      "Epoch 42/200\n",
      "380/380 [==============================] - 0s - loss: 23.4102 - val_loss: 18.7414\n",
      "Epoch 43/200\n",
      "380/380 [==============================] - 0s - loss: 22.7117 - val_loss: 18.2928\n",
      "Epoch 44/200\n",
      "380/380 [==============================] - 0s - loss: 22.0117 - val_loss: 17.8517\n",
      "Epoch 45/200\n",
      "380/380 [==============================] - 0s - loss: 21.4841 - val_loss: 17.5410\n",
      "Epoch 46/200\n",
      "380/380 [==============================] - 0s - loss: 20.8969 - val_loss: 17.2178\n",
      "Epoch 47/200\n",
      "380/380 [==============================] - 0s - loss: 20.4401 - val_loss: 16.5892\n",
      "Epoch 48/200\n",
      "380/380 [==============================] - 0s - loss: 19.9195 - val_loss: 16.0687\n",
      "Epoch 49/200\n",
      "380/380 [==============================] - 0s - loss: 19.4656 - val_loss: 15.8947\n",
      "Epoch 50/200\n",
      "380/380 [==============================] - 0s - loss: 19.1225 - val_loss: 15.5962\n",
      "Epoch 51/200\n",
      "380/380 [==============================] - 0s - loss: 18.6057 - val_loss: 15.4452\n",
      "Epoch 52/200\n",
      "380/380 [==============================] - 0s - loss: 18.5116 - val_loss: 14.9820\n",
      "Epoch 53/200\n",
      "380/380 [==============================] - 0s - loss: 18.1209 - val_loss: 14.6268\n",
      "Epoch 54/200\n",
      "380/380 [==============================] - 0s - loss: 17.8265 - val_loss: 14.4231\n",
      "Epoch 55/200\n",
      "380/380 [==============================] - ETA: 0s - loss: 10.44 - 0s - loss: 17.4906 - val_loss: 14.2848\n",
      "Epoch 56/200\n",
      "380/380 [==============================] - 0s - loss: 17.1053 - val_loss: 14.1933\n",
      "Epoch 57/200\n",
      "380/380 [==============================] - 0s - loss: 16.9287 - val_loss: 13.8881\n",
      "Epoch 58/200\n",
      "380/380 [==============================] - 0s - loss: 16.5638 - val_loss: 13.7521\n",
      "Epoch 59/200\n",
      "380/380 [==============================] - 0s - loss: 16.3058 - val_loss: 13.6722\n",
      "Epoch 60/200\n",
      "380/380 [==============================] - 0s - loss: 16.0189 - val_loss: 13.4647\n",
      "Epoch 61/200\n",
      "380/380 [==============================] - 0s - loss: 15.9660 - val_loss: 13.2059\n",
      "Epoch 62/200\n",
      "380/380 [==============================] - 0s - loss: 15.8379 - val_loss: 13.1397\n",
      "Epoch 63/200\n",
      "380/380 [==============================] - 0s - loss: 15.4768 - val_loss: 13.0933\n",
      "Epoch 64/200\n",
      "380/380 [==============================] - 0s - loss: 15.2134 - val_loss: 12.7921\n",
      "Epoch 65/200\n",
      "380/380 [==============================] - 0s - loss: 15.0061 - val_loss: 12.6842\n",
      "Epoch 66/200\n",
      "380/380 [==============================] - 0s - loss: 15.0000 - val_loss: 12.8185\n",
      "Epoch 67/200\n",
      "380/380 [==============================] - 0s - loss: 14.7734 - val_loss: 12.4488\n",
      "Epoch 68/200\n",
      "380/380 [==============================] - 0s - loss: 14.5278 - val_loss: 12.2217\n",
      "Epoch 69/200\n",
      "380/380 [==============================] - 0s - loss: 14.3885 - val_loss: 12.3141\n",
      "Epoch 70/200\n",
      "380/380 [==============================] - 0s - loss: 14.2785 - val_loss: 11.9847\n",
      "Epoch 71/200\n",
      "380/380 [==============================] - 0s - loss: 14.3291 - val_loss: 11.7498\n",
      "Epoch 72/200\n",
      "380/380 [==============================] - 0s - loss: 13.8485 - val_loss: 11.6716\n",
      "Epoch 73/200\n",
      "380/380 [==============================] - 0s - loss: 13.7560 - val_loss: 11.9598\n",
      "Epoch 74/200\n",
      "380/380 [==============================] - 0s - loss: 13.7216 - val_loss: 11.7672\n",
      "Epoch 75/200\n",
      "380/380 [==============================] - 0s - loss: 13.6384 - val_loss: 11.6043\n",
      "Epoch 76/200\n",
      "380/380 [==============================] - 0s - loss: 13.5433 - val_loss: 11.5530\n",
      "Epoch 77/200\n",
      "380/380 [==============================] - 0s - loss: 13.4298 - val_loss: 11.4339\n",
      "Epoch 78/200\n",
      "380/380 [==============================] - 0s - loss: 13.1270 - val_loss: 11.4535\n",
      "Epoch 79/200\n",
      "380/380 [==============================] - 0s - loss: 13.0877 - val_loss: 11.1978\n",
      "Epoch 80/200\n",
      "380/380 [==============================] - 0s - loss: 12.9893 - val_loss: 11.1640\n",
      "Epoch 81/200\n",
      "380/380 [==============================] - 0s - loss: 12.9657 - val_loss: 10.9982\n",
      "Epoch 82/200\n",
      "380/380 [==============================] - 0s - loss: 12.8820 - val_loss: 11.1364\n",
      "Epoch 83/200\n",
      "380/380 [==============================] - 0s - loss: 12.7087 - val_loss: 10.9064\n",
      "Epoch 84/200\n",
      "380/380 [==============================] - 0s - loss: 12.4906 - val_loss: 11.2529\n",
      "Epoch 85/200\n"
     ]
    },
    {
     "name": "stdout",
     "output_type": "stream",
     "text": [
      "380/380 [==============================] - 0s - loss: 12.4578 - val_loss: 11.0103\n",
      "Epoch 86/200\n",
      "380/380 [==============================] - 0s - loss: 12.4472 - val_loss: 10.7253\n",
      "Epoch 87/200\n",
      "380/380 [==============================] - 0s - loss: 12.3659 - val_loss: 10.9880\n",
      "Epoch 88/200\n",
      "380/380 [==============================] - 0s - loss: 12.2496 - val_loss: 11.1272\n",
      "Epoch 89/200\n",
      "380/380 [==============================] - 0s - loss: 12.1556 - val_loss: 10.6605\n",
      "Epoch 90/200\n",
      "380/380 [==============================] - 0s - loss: 12.4143 - val_loss: 10.4995\n",
      "Epoch 91/200\n",
      "380/380 [==============================] - 0s - loss: 11.9491 - val_loss: 10.6078\n",
      "Epoch 92/200\n",
      "380/380 [==============================] - 0s - loss: 12.0758 - val_loss: 10.4704\n",
      "Epoch 93/200\n",
      "380/380 [==============================] - 0s - loss: 11.8619 - val_loss: 10.7842\n",
      "Epoch 94/200\n",
      "380/380 [==============================] - 0s - loss: 11.7727 - val_loss: 10.4190\n",
      "Epoch 95/200\n",
      "380/380 [==============================] - 0s - loss: 11.6990 - val_loss: 10.5165\n",
      "Epoch 96/200\n",
      "380/380 [==============================] - 0s - loss: 11.5594 - val_loss: 10.5976\n",
      "Epoch 97/200\n",
      "380/380 [==============================] - 0s - loss: 11.4591 - val_loss: 10.4249\n",
      "Epoch 98/200\n",
      "380/380 [==============================] - 0s - loss: 11.5966 - val_loss: 10.2594\n",
      "Epoch 99/200\n",
      "380/380 [==============================] - 0s - loss: 11.3819 - val_loss: 10.2520\n",
      "Epoch 100/200\n",
      "380/380 [==============================] - 0s - loss: 11.4574 - val_loss: 10.4542\n",
      "Epoch 101/200\n",
      "380/380 [==============================] - 0s - loss: 11.2334 - val_loss: 10.3800\n",
      "Epoch 102/200\n",
      "380/380 [==============================] - 0s - loss: 11.0878 - val_loss: 10.0234\n",
      "Epoch 103/200\n",
      "380/380 [==============================] - 0s - loss: 11.0825 - val_loss: 10.3153\n",
      "Epoch 104/200\n",
      "380/380 [==============================] - 0s - loss: 11.0118 - val_loss: 10.1256\n",
      "Epoch 105/200\n",
      "380/380 [==============================] - 0s - loss: 10.9363 - val_loss: 10.1759\n",
      "Epoch 106/200\n",
      "380/380 [==============================] - 0s - loss: 11.0694 - val_loss: 9.8939\n",
      "Epoch 107/200\n",
      "380/380 [==============================] - 0s - loss: 10.7877 - val_loss: 9.8744\n",
      "Epoch 108/200\n",
      "380/380 [==============================] - 0s - loss: 10.7286 - val_loss: 10.1628\n",
      "Epoch 109/200\n",
      "380/380 [==============================] - 0s - loss: 10.7056 - val_loss: 10.0017\n",
      "Epoch 110/200\n",
      "380/380 [==============================] - 0s - loss: 10.7819 - val_loss: 9.9087\n",
      "Epoch 111/200\n",
      "380/380 [==============================] - 0s - loss: 10.6344 - val_loss: 9.9036\n",
      "Epoch 112/200\n",
      "380/380 [==============================] - 0s - loss: 10.4482 - val_loss: 9.9043\n",
      "Epoch 113/200\n",
      "380/380 [==============================] - 0s - loss: 10.4212 - val_loss: 9.5973\n",
      "Epoch 114/200\n",
      "380/380 [==============================] - 0s - loss: 10.4113 - val_loss: 9.7200\n",
      "Epoch 115/200\n",
      "380/380 [==============================] - 0s - loss: 10.3202 - val_loss: 9.9436\n",
      "Epoch 116/200\n",
      "380/380 [==============================] - 0s - loss: 10.4457 - val_loss: 9.7075\n",
      "Epoch 117/200\n",
      "380/380 [==============================] - 0s - loss: 10.2153 - val_loss: 9.5264\n",
      "Epoch 118/200\n",
      "380/380 [==============================] - 0s - loss: 10.1304 - val_loss: 9.6102\n",
      "Epoch 119/200\n",
      "380/380 [==============================] - 0s - loss: 10.1862 - val_loss: 9.5894\n",
      "Epoch 120/200\n",
      "380/380 [==============================] - 0s - loss: 10.0560 - val_loss: 9.3782\n",
      "Epoch 121/200\n",
      "380/380 [==============================] - 0s - loss: 10.0278 - val_loss: 9.7260\n",
      "Epoch 122/200\n",
      "380/380 [==============================] - 0s - loss: 10.0156 - val_loss: 9.5559\n",
      "Epoch 123/200\n",
      "380/380 [==============================] - 0s - loss: 9.8859 - val_loss: 9.9673\n",
      "Epoch 124/200\n",
      "380/380 [==============================] - 0s - loss: 9.8186 - val_loss: 9.7991\n",
      "Epoch 125/200\n",
      "380/380 [==============================] - 0s - loss: 9.8693 - val_loss: 9.4536\n",
      "Epoch 126/200\n",
      "380/380 [==============================] - 0s - loss: 9.7404 - val_loss: 9.3634\n",
      "Epoch 127/200\n",
      "380/380 [==============================] - 0s - loss: 9.8844 - val_loss: 9.3672\n",
      "Epoch 128/200\n",
      "380/380 [==============================] - 0s - loss: 9.6926 - val_loss: 9.6059\n",
      "Epoch 129/200\n",
      "380/380 [==============================] - 0s - loss: 9.8174 - val_loss: 9.6233\n",
      "Epoch 130/200\n",
      "380/380 [==============================] - 0s - loss: 9.5496 - val_loss: 9.2279\n",
      "Epoch 131/200\n",
      "380/380 [==============================] - 0s - loss: 9.5209 - val_loss: 9.2407\n",
      "Epoch 132/200\n",
      "380/380 [==============================] - 0s - loss: 9.5084 - val_loss: 9.3028\n",
      "Epoch 133/200\n",
      "380/380 [==============================] - 0s - loss: 9.5001 - val_loss: 9.4299\n",
      "Epoch 134/200\n",
      "380/380 [==============================] - 0s - loss: 9.4455 - val_loss: 9.6655\n",
      "Epoch 135/200\n",
      "380/380 [==============================] - 0s - loss: 9.3236 - val_loss: 9.2587\n",
      "Epoch 136/200\n",
      "380/380 [==============================] - 0s - loss: 9.2780 - val_loss: 9.4401\n",
      "Epoch 00135: early stopping\n"
     ]
    }
   ],
   "source": [
    "early_stopb = EarlyStopping(monitor='val_loss', patience=5, verbose=1) \n",
    "Resultb = modelb.fit(Xb_train, yb_train, validation_data = (Xb_test, yb_test), epochs=200, \n",
    "          batch_size=76, verbose=True, callbacks=[early_stopb])"
   ]
  },
  {
   "cell_type": "code",
   "execution_count": 649,
   "metadata": {},
   "outputs": [],
   "source": [
    "#[item for item in Resultb.history], [item for item in Result.history]"
   ]
  },
  {
   "cell_type": "code",
   "execution_count": 650,
   "metadata": {},
   "outputs": [
    {
     "data": {
      "text/plain": [
       "<matplotlib.legend.Legend at 0x1c7911d9d68>"
      ]
     },
     "execution_count": 650,
     "metadata": {},
     "output_type": "execute_result"
    },
    {
     "data": {
      "image/png": "[encoded data removed]",
      "text/plain": [
       "<matplotlib.figure.Figure at 0x1c7910c8c88>"
      ]
     },
     "metadata": {},
     "output_type": "display_data"
    }
   ],
   "source": [
    "plt.figure()\n",
    "plt.xlabel('Epochs')\n",
    "plt.ylabel('Loss')\n",
    "plt.plot(Resultb.history['loss'])\n",
    "plt.plot(Resultb.history['val_loss'])\n",
    "plt.legend(['Training', 'Validation'])"
   ]
  },
  {
   "cell_type": "code",
   "execution_count": 651,
   "metadata": {},
   "outputs": [
    {
     "name": "stdout",
     "output_type": "stream",
     "text": [
      "MSE: 9.440119\n",
      "RMSE: 3.072478\n",
      "R^2: 0.887962\n"
     ]
    }
   ],
   "source": [
    "yb_predicted = modelb.predict(Xb_test)\n",
    "score = mean_squared_error(yb_predicted, yb_test)\n",
    "Rsq = r2_score(yb_test, yb_predicted)\n",
    "print('MSE: {0:f}'.format(score))\n",
    "print('RMSE: {0:f}'.format(score**0.5))\n",
    "print('R^2: {0:f}'.format(Rsq))\n"
   ]
  },
  {
   "cell_type": "code",
   "execution_count": 652,
   "metadata": {},
   "outputs": [
    {
     "data": {
      "text/plain": [
       "(380, 13)"
      ]
     },
     "execution_count": 652,
     "metadata": {},
     "output_type": "execute_result"
    }
   ],
   "source": [
    "Xb_train.shape"
   ]
  },
  {
   "cell_type": "code",
   "execution_count": null,
   "metadata": {
    "collapsed": true
   },
   "outputs": [],
   "source": []
  }
 ],
 "metadata": {
  "kernelspec": {
   "display_name": "Python [default]",
   "language": "python",
   "name": "python3"
  },
  "language_info": {
   "codemirror_mode": {
    "name": "ipython",
    "version": 3
   },
   "file_extension": ".py",
   "mimetype": "text/x-python",
   "name": "python",
   "nbconvert_exporter": "python",
   "pygments_lexer": "ipython3",
   "version": "3.5.2"
  }
 },
 "nbformat": 4,
 "nbformat_minor": 2
}
