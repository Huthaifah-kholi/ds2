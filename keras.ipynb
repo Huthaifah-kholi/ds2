{
 "cells": [
  {
   "cell_type": "markdown",
   "metadata": {},
   "source": [
    "### Classification using Keras \n",
    "Note: Keras uses TensorFlow by default. You can switch backend to Theano (see https://keras.io/backend/ for details)"
   ]
  },
  {
   "cell_type": "code",
   "execution_count": 1034,
   "metadata": {},
   "outputs": [
    {
     "data": {
      "text/plain": [
       "'2.0.4'"
      ]
     },
     "execution_count": 1034,
     "metadata": {},
     "output_type": "execute_result"
    }
   ],
   "source": [
    "import keras \n",
    "keras.__version__"
   ]
  },
  {
   "cell_type": "code",
   "execution_count": 1035,
   "metadata": {},
   "outputs": [
    {
     "name": "stdout",
     "output_type": "stream",
     "text": [
      "3 classes\n",
      "4 dims\n"
     ]
    }
   ],
   "source": [
    "import pandas as pd \n",
    "import numpy as np\n",
    "from sklearn.model_selection import train_test_split\n",
    "from sklearn.metrics import accuracy_score, precision_score, log_loss, classification_report\n",
    "from sklearn.metrics import confusion_matrix , mean_squared_error, r2_score\n",
    "from sklearn.datasets import load_iris, load_boston\n",
    "\n",
    "# Import `Sequential` from `keras.models`\n",
    "from keras.models import Sequential\n",
    "# Import `Dense` from `keras.layers`\n",
    "from keras.layers import Dense, Activation, Dropout\n",
    "from keras.callbacks import EarlyStopping, ModelCheckpoint\n",
    "from keras.optimizers import SGD, RMSprop, Adam\n",
    "from keras.regularizers import l1, l2\n",
    "\n",
    "np.random.seed = 42   # for reproduction\n",
    "iris = load_iris()\n",
    "X = iris.data\n",
    "y = iris.target \n",
    "X = X.astype('float32')\n",
    "X_train, X_test, y_train, y_test = train_test_split(X, y, stratify = y, train_size = 0.7, random_state=707)\n",
    "\n",
    "nb_classes = len(set(y_train))\n",
    "print(nb_classes, 'classes')\n",
    "\n",
    "dims = X_train.shape[1]\n",
    "print(dims, 'dims')#\n",
    "\n",
    "y_test_c = y_test\n",
    "# Convert labels to categorical one-hot encoding (there is also a sklear wrapper)\n",
    "y_train = keras.utils.to_categorical(y_train, num_classes=3)\n",
    "y_test = keras.utils.to_categorical(y_test, num_classes=3)"
   ]
  },
  {
   "cell_type": "code",
   "execution_count": 1036,
   "metadata": {},
   "outputs": [
    {
     "name": "stdout",
     "output_type": "stream",
     "text": [
      "_________________________________________________________________\n",
      "Layer (type)                 Output Shape              Param #   \n",
      "=================================================================\n",
      "dense_497 (Dense)            (None, 10)                50        \n",
      "_________________________________________________________________\n",
      "dense_498 (Dense)            (None, 3)                 33        \n",
      "=================================================================\n",
      "Total params: 83\n",
      "Trainable params: 83\n",
      "Non-trainable params: 0\n",
      "_________________________________________________________________\n"
     ]
    }
   ],
   "source": [
    "#### https://keras.io/getting-started/sequential-model-guide/\n",
    "sgdi = SGD(lr=0.01, decay=1e-6, momentum=0.9, nesterov=True)\n",
    "model = Sequential()\n",
    "model.add(Dense(10, activation='relu', input_dim=dims))\n",
    "model.add(Dense(nb_classes, activation='softmax'))\n",
    "model.compile(optimizer=sgdi, loss='categorical_crossentropy', metrics=['accuracy'])\n",
    "model.summary()"
   ]
  },
  {
   "cell_type": "code",
   "execution_count": 1037,
   "metadata": {},
   "outputs": [
    {
     "name": "stdout",
     "output_type": "stream",
     "text": [
      "Train on 84 samples, validate on 21 samples\n",
      "Epoch 1/50\n",
      "84/84 [==============================] - 2s - loss: 1.3085 - acc: 0.3333 - val_loss: 1.3342 - val_acc: 0.2381\n",
      "Epoch 2/50\n",
      "84/84 [==============================] - 0s - loss: 0.9324 - acc: 0.6548 - val_loss: 0.8086 - val_acc: 0.7619\n",
      "Epoch 3/50\n",
      "84/84 [==============================] - 0s - loss: 0.7091 - acc: 0.8214 - val_loss: 0.8038 - val_acc: 0.5238\n",
      "Epoch 4/50\n",
      "84/84 [==============================] - 0s - loss: 0.5683 - acc: 0.7024 - val_loss: 0.6324 - val_acc: 0.5714\n",
      "Epoch 5/50\n",
      "84/84 [==============================] - 0s - loss: 0.4720 - acc: 0.7262 - val_loss: 0.5430 - val_acc: 0.7619\n",
      "Epoch 6/50\n",
      "84/84 [==============================] - 0s - loss: 0.4136 - acc: 0.8690 - val_loss: 0.4834 - val_acc: 0.8095\n",
      "Epoch 7/50\n",
      "84/84 [==============================] - 0s - loss: 0.3940 - acc: 0.8690 - val_loss: 0.4533 - val_acc: 0.8095\n",
      "Epoch 8/50\n",
      "84/84 [==============================] - 0s - loss: 0.3469 - acc: 0.9048 - val_loss: 0.3967 - val_acc: 0.9048\n",
      "Epoch 9/50\n",
      "84/84 [==============================] - 0s - loss: 0.3355 - acc: 0.8690 - val_loss: 0.3460 - val_acc: 0.9048\n",
      "Epoch 10/50\n",
      "84/84 [==============================] - 0s - loss: 0.3031 - acc: 0.9286 - val_loss: 0.5044 - val_acc: 0.7143\n",
      "Epoch 11/50\n",
      "84/84 [==============================] - 0s - loss: 0.3104 - acc: 0.8571 - val_loss: 0.3188 - val_acc: 0.8571\n",
      "Epoch 12/50\n",
      "84/84 [==============================] - 0s - loss: 0.3036 - acc: 0.8810 - val_loss: 0.3812 - val_acc: 0.8571\n",
      "Epoch 13/50\n",
      "84/84 [==============================] - 0s - loss: 0.2697 - acc: 0.9167 - val_loss: 0.3213 - val_acc: 0.9048\n",
      "Epoch 14/50\n",
      "84/84 [==============================] - 0s - loss: 0.2445 - acc: 0.9286 - val_loss: 0.2655 - val_acc: 0.9524\n",
      "Epoch 15/50\n",
      "84/84 [==============================] - 0s - loss: 0.2309 - acc: 0.9524 - val_loss: 0.2610 - val_acc: 0.9524\n",
      "Epoch 16/50\n",
      "84/84 [==============================] - 0s - loss: 0.2146 - acc: 0.9762 - val_loss: 0.2375 - val_acc: 0.9524\n",
      "Epoch 17/50\n",
      "84/84 [==============================] - 0s - loss: 0.2070 - acc: 0.9643 - val_loss: 0.2394 - val_acc: 0.9524\n",
      "Epoch 18/50\n",
      "84/84 [==============================] - 0s - loss: 0.2042 - acc: 0.9405 - val_loss: 0.2788 - val_acc: 0.9048\n",
      "Epoch 19/50\n",
      "84/84 [==============================] - 0s - loss: 0.1982 - acc: 0.9643 - val_loss: 0.2087 - val_acc: 0.9048\n",
      "Epoch 20/50\n",
      "84/84 [==============================] - 0s - loss: 0.1863 - acc: 0.9286 - val_loss: 0.2645 - val_acc: 0.9048\n",
      "Epoch 21/50\n",
      "84/84 [==============================] - 0s - loss: 0.1910 - acc: 0.9286 - val_loss: 0.2437 - val_acc: 0.9048\n",
      "Epoch 22/50\n",
      "84/84 [==============================] - 0s - loss: 0.1811 - acc: 0.9405 - val_loss: 0.1911 - val_acc: 0.9048\n",
      "Epoch 23/50\n",
      "84/84 [==============================] - 0s - loss: 0.1754 - acc: 0.9524 - val_loss: 0.1815 - val_acc: 0.9048\n",
      "Epoch 24/50\n",
      "84/84 [==============================] - 0s - loss: 0.1664 - acc: 0.9643 - val_loss: 0.2192 - val_acc: 0.9524\n",
      "Epoch 25/50\n",
      "84/84 [==============================] - 0s - loss: 0.1702 - acc: 0.9762 - val_loss: 0.1714 - val_acc: 0.9524\n",
      "Epoch 26/50\n",
      "84/84 [==============================] - 0s - loss: 0.1569 - acc: 0.9524 - val_loss: 0.2015 - val_acc: 0.9524\n",
      "Epoch 27/50\n",
      "84/84 [==============================] - 0s - loss: 0.1556 - acc: 0.9643 - val_loss: 0.1783 - val_acc: 0.9524\n",
      "Epoch 28/50\n",
      "84/84 [==============================] - 0s - loss: 0.1464 - acc: 0.9643 - val_loss: 0.1614 - val_acc: 0.9048\n",
      "Epoch 29/50\n",
      "84/84 [==============================] - 0s - loss: 0.1558 - acc: 0.9524 - val_loss: 0.1579 - val_acc: 0.9524\n",
      "Epoch 30/50\n",
      "84/84 [==============================] - 0s - loss: 0.1573 - acc: 0.9524 - val_loss: 0.1957 - val_acc: 0.9524\n",
      "Epoch 31/50\n",
      "84/84 [==============================] - 0s - loss: 0.1477 - acc: 0.9405 - val_loss: 0.1675 - val_acc: 0.9524\n",
      "Epoch 32/50\n",
      "84/84 [==============================] - 0s - loss: 0.1347 - acc: 0.9643 - val_loss: 0.1554 - val_acc: 0.9048\n",
      "Epoch 33/50\n",
      "84/84 [==============================] - 0s - loss: 0.1575 - acc: 0.9405 - val_loss: 0.1532 - val_acc: 0.9048\n",
      "Epoch 34/50\n",
      "84/84 [==============================] - 0s - loss: 0.1413 - acc: 0.9524 - val_loss: 0.1997 - val_acc: 0.9048\n",
      "Epoch 35/50\n",
      "84/84 [==============================] - 0s - loss: 0.1536 - acc: 0.9643 - val_loss: 0.1798 - val_acc: 0.9524\n",
      "Epoch 36/50\n",
      "84/84 [==============================] - 0s - loss: 0.1378 - acc: 0.9762 - val_loss: 0.1430 - val_acc: 0.9048\n",
      "Epoch 37/50\n",
      "84/84 [==============================] - 0s - loss: 0.1277 - acc: 0.9643 - val_loss: 0.2061 - val_acc: 0.9048\n",
      "Epoch 38/50\n",
      "84/84 [==============================] - 0s - loss: 0.1692 - acc: 0.9048 - val_loss: 0.1719 - val_acc: 0.9524\n",
      "Epoch 39/50\n",
      "84/84 [==============================] - 0s - loss: 0.1325 - acc: 0.9524 - val_loss: 0.1789 - val_acc: 0.9524\n",
      "Epoch 40/50\n",
      "84/84 [==============================] - 0s - loss: 0.1377 - acc: 0.9643 - val_loss: 0.1438 - val_acc: 0.9524\n",
      "Epoch 41/50\n",
      "84/84 [==============================] - 0s - loss: 0.1280 - acc: 0.9643 - val_loss: 0.2449 - val_acc: 0.9048\n",
      "Epoch 42/50\n",
      "84/84 [==============================] - 0s - loss: 0.1421 - acc: 0.9167 - val_loss: 0.1430 - val_acc: 0.9524\n",
      "Epoch 43/50\n",
      "84/84 [==============================] - 0s - loss: 0.1207 - acc: 0.9524 - val_loss: 0.1494 - val_acc: 0.9524\n",
      "Epoch 44/50\n",
      "84/84 [==============================] - 0s - loss: 0.1314 - acc: 0.9643 - val_loss: 0.1339 - val_acc: 0.9524\n",
      "Epoch 45/50\n",
      "84/84 [==============================] - 0s - loss: 0.1259 - acc: 0.9643 - val_loss: 0.1345 - val_acc: 0.9048\n",
      "Epoch 46/50\n",
      "84/84 [==============================] - 0s - loss: 0.1698 - acc: 0.9167 - val_loss: 0.1294 - val_acc: 0.9524\n",
      "Epoch 47/50\n",
      "84/84 [==============================] - 0s - loss: 0.1147 - acc: 0.9643 - val_loss: 0.1289 - val_acc: 0.9524\n",
      "Epoch 48/50\n",
      "84/84 [==============================] - 0s - loss: 0.1168 - acc: 0.9762 - val_loss: 0.1511 - val_acc: 0.9524\n",
      "Epoch 49/50\n",
      "84/84 [==============================] - 0s - loss: 0.1106 - acc: 0.9762 - val_loss: 0.1515 - val_acc: 0.9048\n",
      "Epoch 50/50\n",
      "84/84 [==============================] - 0s - loss: 0.1279 - acc: 0.9762 - val_loss: 0.1269 - val_acc: 0.9524\n"
     ]
    }
   ],
   "source": [
    "early_stop = EarlyStopping(monitor='val_loss', patience=5, verbose=1) \n",
    "Result = model.fit(X_train, y_train, validation_split =0.2, epochs=50, # validation_data = (X_test, y_test)\n",
    "          batch_size=15, verbose=True, callbacks=[early_stop]) #callbacks=[best_model, early_stop]"
   ]
  },
  {
   "cell_type": "code",
   "execution_count": 1038,
   "metadata": {},
   "outputs": [
    {
     "data": {
      "text/plain": [
       "<matplotlib.legend.Legend at 0x1c7adf9b080>"
      ]
     },
     "execution_count": 1038,
     "metadata": {},
     "output_type": "execute_result"
    },
    {
     "data": {
      "image/png": "[encoded data removed]",
      "text/plain": [
       "<matplotlib.figure.Figure at 0x1c7aaed14e0>"
      ]
     },
     "metadata": {},
     "output_type": "display_data"
    },
    {
     "data": {
      "image/png": "[encoded data removed]",
      "text/plain": [
       "<matplotlib.figure.Figure at 0x1c7ae04dfd0>"
      ]
     },
     "metadata": {},
     "output_type": "display_data"
    }
   ],
   "source": [
    "import matplotlib.pyplot as plt\n",
    "%matplotlib inline\n",
    "\n",
    "plt.figure()\n",
    "plt.xlabel('Epochs')\n",
    "plt.ylabel('Loss')\n",
    "plt.plot(Result.history['loss'])\n",
    "plt.plot(Result.history['val_loss'])\n",
    "plt.legend(['Training', 'Validation'])\n",
    "\n",
    "plt.figure()\n",
    "plt.xlabel('Epochs')\n",
    "plt.ylabel('Accuracy')\n",
    "plt.plot(Result.history['acc'])\n",
    "plt.plot(Result.history['val_acc'])\n",
    "plt.legend(['Training', 'Validation'], loc='lower right')"
   ]
  },
  {
   "cell_type": "code",
   "execution_count": 1039,
   "metadata": {},
   "outputs": [
    {
     "name": "stdout",
     "output_type": "stream",
     "text": [
      "32/45 [====================>.........] - ETA: 0s\n",
      " score:  [0.051197536951965758, 0.97777777777777775]\n"
     ]
    }
   ],
   "source": [
    "y_pred = model.predict(X_test)\n",
    "score = model.evaluate(X_test, y_test,verbose=1)\n",
    "print(\"\\n score: \",score)"
   ]
  },
  {
   "cell_type": "code",
   "execution_count": 1040,
   "metadata": {},
   "outputs": [
    {
     "name": "stdout",
     "output_type": "stream",
     "text": [
      "\r",
      "32/45 [====================>.........] - ETA: 0s"
     ]
    },
    {
     "data": {
      "text/plain": [
       "array([[15,  0,  0],\n",
       "       [ 0, 14,  1],\n",
       "       [ 0,  0, 15]])"
      ]
     },
     "execution_count": 1040,
     "metadata": {},
     "output_type": "execute_result"
    }
   ],
   "source": [
    "y_pred_c = model.predict_classes(X_test)\n",
    "# Confusion matrix\n",
    "confusion_matrix(y_test_c, y_pred_c)"
   ]
  },
  {
   "cell_type": "code",
   "execution_count": 1041,
   "metadata": {},
   "outputs": [
    {
     "data": {
      "text/plain": [
       "0.051197537285689682"
      ]
     },
     "execution_count": 1041,
     "metadata": {},
     "output_type": "execute_result"
    }
   ],
   "source": [
    "# Precision \n",
    "#precision_score(y_test, y_pred)\n",
    "log_loss(y_test, y_pred)"
   ]
  },
  {
   "cell_type": "code",
   "execution_count": 1042,
   "metadata": {},
   "outputs": [
    {
     "data": {
      "text/plain": [
       "array([2, 1, 2, 0, 0, 1, 2, 0, 1, 2], dtype=int64)"
      ]
     },
     "execution_count": 1042,
     "metadata": {},
     "output_type": "execute_result"
    }
   ],
   "source": [
    "y_pred_c[:10]"
   ]
  },
  {
   "cell_type": "code",
   "execution_count": 1043,
   "metadata": {},
   "outputs": [
    {
     "data": {
      "text/plain": [
       "array([[  4.29935562e-06,   1.22276517e-02,   9.87767994e-01],\n",
       "       [  5.33890584e-03,   9.85195398e-01,   9.46568418e-03],\n",
       "       [  4.50710431e-05,   1.54280931e-01,   8.45673978e-01],\n",
       "       [  9.96310174e-01,   3.68983857e-03,   3.73962528e-10],\n",
       "       [  9.97425973e-01,   2.57403450e-03,   4.58050924e-11],\n",
       "       [  2.96956971e-02,   9.63809311e-01,   6.49506226e-03],\n",
       "       [  2.19391595e-07,   4.52001439e-03,   9.95479703e-01],\n",
       "       [  9.94876564e-01,   5.12344716e-03,   2.60549582e-10],\n",
       "       [  5.38422726e-03,   9.78536487e-01,   1.60792395e-02],\n",
       "       [  1.41054825e-05,   1.25773221e-01,   8.74212623e-01]], dtype=float32)"
      ]
     },
     "execution_count": 1043,
     "metadata": {},
     "output_type": "execute_result"
    }
   ],
   "source": [
    "y_pred[:10]"
   ]
  },
  {
   "cell_type": "markdown",
   "metadata": {},
   "source": [
    "### Regression example in Keras"
   ]
  },
  {
   "cell_type": "code",
   "execution_count": 1044,
   "metadata": {},
   "outputs": [],
   "source": [
    "from sklearn.datasets import load_boston \n",
    "from sklearn.preprocessing import StandardScaler, MinMaxScaler\n",
    "from sklearn.utils import shuffle\n",
    "from sklearn.metrics import r2_score, mean_squared_error\n",
    "boston = load_boston()\n",
    "Xb, yb = shuffle(boston.data, boston.target, random_state=13)\n",
    "Xb_train, Xb_test, yb_train, yb_test = train_test_split(Xb, yb, train_size=0.751, random_state=717)\n",
    "scalerS = StandardScaler()\n",
    "scalerM = MinMaxScaler()\n",
    "scalerS.fit(Xb_train)\n",
    "Xb_train = scalerS.transform(Xb_train)\n",
    "Xb_test = scalerS.transform(Xb_test)"
   ]
  },
  {
   "cell_type": "code",
   "execution_count": 1045,
   "metadata": {},
   "outputs": [
    {
     "name": "stdout",
     "output_type": "stream",
     "text": [
      "_________________________________________________________________\n",
      "Layer (type)                 Output Shape              Param #   \n",
      "=================================================================\n",
      "dense_499 (Dense)            (None, 52)                728       \n",
      "_________________________________________________________________\n",
      "dense_500 (Dense)            (None, 26)                1378      \n",
      "_________________________________________________________________\n",
      "dense_501 (Dense)            (None, 1)                 27        \n",
      "=================================================================\n",
      "Total params: 2,133\n",
      "Trainable params: 2,133\n",
      "Non-trainable params: 0\n",
      "_________________________________________________________________\n"
     ]
    }
   ],
   "source": [
    "## https://keras.io/initializers/\n",
    "modelb = Sequential()\n",
    "modelb.add(Dense(52, input_dim=13, activation='relu', kernel_regularizer=l2(0.01),\n",
    "                activity_regularizer=l1(0.01),\n",
    "        kernel_initializer='random_normal', bias_initializer='random_normal')) # try w/out kernel & bias\n",
    "modelb.add(Dense(26, activation='relu'))\n",
    "modelb.add(Dense(1, activation='linear'))\n",
    "# Compile model\n",
    "#adam = Adam(lr=0.001, beta_1=0.9, beta_2=0.999, epsilon=1e-08, decay=0.0)\n",
    "sgd = SGD(lr=0.00125, decay=1e-6, momentum=0.9, nesterov=True)\n",
    "modelb.compile(loss='mean_squared_error', optimizer=sgd)  # rmsprop\n",
    "modelb.summary()"
   ]
  },
  {
   "cell_type": "code",
   "execution_count": 1046,
   "metadata": {},
   "outputs": [
    {
     "name": "stdout",
     "output_type": "stream",
     "text": [
      "Train on 380 samples, validate on 126 samples\n",
      "Epoch 1/200\n",
      "380/380 [==============================] - 2s - loss: 565.2475 - val_loss: 577.1082\n",
      "Epoch 2/200\n",
      "380/380 [==============================] - 0s - loss: 475.4054 - val_loss: 321.2440\n",
      "Epoch 3/200\n",
      "380/380 [==============================] - 0s - loss: 200.2006 - val_loss: 100.9111\n",
      "Epoch 4/200\n",
      "380/380 [==============================] - 0s - loss: 77.3871 - val_loss: 45.5275\n",
      "Epoch 5/200\n",
      "380/380 [==============================] - 0s - loss: 48.5056 - val_loss: 46.5390\n",
      "Epoch 6/200\n",
      "380/380 [==============================] - 0s - loss: 44.1652 - val_loss: 41.4886\n",
      "Epoch 7/200\n",
      "380/380 [==============================] - 0s - loss: 41.9866 - val_loss: 37.6308\n",
      "Epoch 8/200\n",
      "380/380 [==============================] - 0s - loss: 38.7698 - val_loss: 32.7485\n",
      "Epoch 9/200\n",
      "380/380 [==============================] - 0s - loss: 35.1914 - val_loss: 30.9177\n",
      "Epoch 10/200\n",
      "380/380 [==============================] - 0s - loss: 33.3120 - val_loss: 29.5645\n",
      "Epoch 11/200\n",
      "380/380 [==============================] - 0s - loss: 31.7160 - val_loss: 28.5022\n",
      "Epoch 12/200\n",
      "380/380 [==============================] - 0s - loss: 30.1266 - val_loss: 26.8476\n",
      "Epoch 13/200\n",
      "380/380 [==============================] - 0s - loss: 28.8810 - val_loss: 25.8951\n",
      "Epoch 14/200\n",
      "380/380 [==============================] - 0s - loss: 27.4150 - val_loss: 24.4825\n",
      "Epoch 15/200\n",
      "380/380 [==============================] - 0s - loss: 26.1043 - val_loss: 23.1066\n",
      "Epoch 16/200\n",
      "380/380 [==============================] - 0s - loss: 24.8590 - val_loss: 22.0929\n",
      "Epoch 17/200\n",
      "380/380 [==============================] - 0s - loss: 23.7576 - val_loss: 20.8466\n",
      "Epoch 18/200\n",
      "380/380 [==============================] - 0s - loss: 22.6302 - val_loss: 20.5567\n",
      "Epoch 19/200\n",
      "380/380 [==============================] - 0s - loss: 21.6532 - val_loss: 19.9833\n",
      "Epoch 20/200\n",
      "380/380 [==============================] - 0s - loss: 21.0329 - val_loss: 19.6740\n",
      "Epoch 21/200\n",
      "380/380 [==============================] - 0s - loss: 20.3414 - val_loss: 19.0599\n",
      "Epoch 22/200\n",
      "380/380 [==============================] - 0s - loss: 19.3470 - val_loss: 18.8129\n",
      "Epoch 23/200\n",
      "380/380 [==============================] - 0s - loss: 18.7477 - val_loss: 18.7240\n",
      "Epoch 24/200\n",
      "380/380 [==============================] - 0s - loss: 18.1434 - val_loss: 18.5766\n",
      "Epoch 25/200\n",
      "380/380 [==============================] - 0s - loss: 17.7896 - val_loss: 18.2205\n",
      "Epoch 26/200\n",
      "380/380 [==============================] - 0s - loss: 17.2921 - val_loss: 17.8079\n",
      "Epoch 27/200\n",
      "380/380 [==============================] - 0s - loss: 16.9559 - val_loss: 17.4841\n",
      "Epoch 28/200\n",
      "380/380 [==============================] - 0s - loss: 16.4008 - val_loss: 17.3898\n",
      "Epoch 29/200\n",
      "380/380 [==============================] - 0s - loss: 16.1781 - val_loss: 17.4202\n",
      "Epoch 30/200\n",
      "380/380 [==============================] - 0s - loss: 15.6026 - val_loss: 17.1789\n",
      "Epoch 31/200\n",
      "380/380 [==============================] - 0s - loss: 15.3038 - val_loss: 16.8558\n",
      "Epoch 32/200\n",
      "380/380 [==============================] - 0s - loss: 15.0080 - val_loss: 17.0201\n",
      "Epoch 33/200\n",
      "380/380 [==============================] - 0s - loss: 14.7538 - val_loss: 16.4229\n",
      "Epoch 34/200\n",
      "380/380 [==============================] - 0s - loss: 14.5047 - val_loss: 16.3564\n",
      "Epoch 35/200\n",
      "380/380 [==============================] - 0s - loss: 14.0920 - val_loss: 16.0785\n",
      "Epoch 36/200\n",
      "380/380 [==============================] - 0s - loss: 13.8175 - val_loss: 16.0320\n",
      "Epoch 37/200\n",
      "380/380 [==============================] - 0s - loss: 13.6735 - val_loss: 15.8433\n",
      "Epoch 38/200\n",
      "380/380 [==============================] - 0s - loss: 13.4361 - val_loss: 15.4476\n",
      "Epoch 39/200\n",
      "380/380 [==============================] - 0s - loss: 13.1141 - val_loss: 15.7032\n",
      "Epoch 40/200\n",
      "380/380 [==============================] - 0s - loss: 13.1892 - val_loss: 15.2028\n",
      "Epoch 41/200\n",
      "380/380 [==============================] - 0s - loss: 13.2132 - val_loss: 14.8403\n",
      "Epoch 42/200\n",
      "380/380 [==============================] - 0s - loss: 12.6814 - val_loss: 15.0054\n",
      "Epoch 43/200\n",
      "380/380 [==============================] - 0s - loss: 12.3161 - val_loss: 14.9436\n",
      "Epoch 44/200\n",
      "380/380 [==============================] - 0s - loss: 12.2721 - val_loss: 15.3113\n",
      "Epoch 45/200\n",
      "380/380 [==============================] - 0s - loss: 12.0416 - val_loss: 14.9246\n",
      "Epoch 46/200\n",
      "380/380 [==============================] - 0s - loss: 11.9851 - val_loss: 14.4857\n",
      "Epoch 47/200\n",
      "380/380 [==============================] - 0s - loss: 11.7462 - val_loss: 14.1279\n",
      "Epoch 48/200\n",
      "380/380 [==============================] - 0s - loss: 11.6145 - val_loss: 13.9770\n",
      "Epoch 49/200\n",
      "380/380 [==============================] - 0s - loss: 11.4112 - val_loss: 14.5147\n",
      "Epoch 50/200\n",
      "380/380 [==============================] - 0s - loss: 11.3802 - val_loss: 14.2342\n",
      "Epoch 51/200\n",
      "380/380 [==============================] - 0s - loss: 11.1146 - val_loss: 14.0029\n",
      "Epoch 52/200\n",
      "380/380 [==============================] - 0s - loss: 10.9092 - val_loss: 13.6294\n",
      "Epoch 53/200\n",
      "380/380 [==============================] - 0s - loss: 10.8678 - val_loss: 13.4445\n",
      "Epoch 54/200\n",
      "380/380 [==============================] - 0s - loss: 10.6353 - val_loss: 13.1401\n",
      "Epoch 55/200\n",
      "380/380 [==============================] - 0s - loss: 10.4404 - val_loss: 13.3196\n",
      "Epoch 56/200\n",
      "380/380 [==============================] - 0s - loss: 10.3312 - val_loss: 13.0466\n",
      "Epoch 57/200\n",
      "380/380 [==============================] - 0s - loss: 10.1780 - val_loss: 12.7262\n",
      "Epoch 58/200\n",
      "380/380 [==============================] - 0s - loss: 10.3548 - val_loss: 12.7003\n",
      "Epoch 59/200\n",
      "380/380 [==============================] - 0s - loss: 10.0449 - val_loss: 12.8189\n",
      "Epoch 60/200\n",
      "380/380 [==============================] - 0s - loss: 9.9904 - val_loss: 12.9814\n",
      "Epoch 61/200\n",
      "380/380 [==============================] - 0s - loss: 9.8595 - val_loss: 13.0647\n",
      "Epoch 62/200\n",
      "380/380 [==============================] - 0s - loss: 9.6200 - val_loss: 13.0649\n",
      "Epoch 63/200\n",
      "380/380 [==============================] - 0s - loss: 9.5952 - val_loss: 12.7397\n",
      "Epoch 64/200\n",
      "380/380 [==============================] - 0s - loss: 9.5468 - val_loss: 12.3544\n",
      "Epoch 65/200\n",
      "380/380 [==============================] - 0s - loss: 9.3882 - val_loss: 12.0328\n",
      "Epoch 66/200\n",
      "380/380 [==============================] - 0s - loss: 9.4106 - val_loss: 12.2240\n",
      "Epoch 67/200\n",
      "380/380 [==============================] - 0s - loss: 9.1371 - val_loss: 12.0000\n",
      "Epoch 68/200\n",
      "380/380 [==============================] - 0s - loss: 9.1963 - val_loss: 12.9668\n",
      "Epoch 69/200\n",
      "380/380 [==============================] - 0s - loss: 9.1957 - val_loss: 11.9417\n",
      "Epoch 70/200\n",
      "380/380 [==============================] - 0s - loss: 9.0435 - val_loss: 12.0548\n",
      "Epoch 71/200\n",
      "380/380 [==============================] - ETA: 0s - loss: 8.938 - 0s - loss: 8.9136 - val_loss: 11.6622\n",
      "Epoch 72/200\n",
      "380/380 [==============================] - 0s - loss: 9.0454 - val_loss: 11.7711\n",
      "Epoch 73/200\n",
      "380/380 [==============================] - 0s - loss: 8.9491 - val_loss: 11.7554\n",
      "Epoch 74/200\n",
      "380/380 [==============================] - 0s - loss: 8.8328 - val_loss: 12.3775\n",
      "Epoch 75/200\n",
      "380/380 [==============================] - 0s - loss: 8.7829 - val_loss: 11.6114\n",
      "Epoch 76/200\n",
      "380/380 [==============================] - 0s - loss: 8.7702 - val_loss: 11.3503\n",
      "Epoch 77/200\n",
      "380/380 [==============================] - 0s - loss: 8.4967 - val_loss: 10.9734\n",
      "Epoch 78/200\n",
      "380/380 [==============================] - 0s - loss: 8.6216 - val_loss: 10.9293\n",
      "Epoch 79/200\n",
      "380/380 [==============================] - 0s - loss: 8.6634 - val_loss: 11.2114\n",
      "Epoch 80/200\n",
      "380/380 [==============================] - 0s - loss: 8.3452 - val_loss: 10.9365\n",
      "Epoch 81/200\n",
      "380/380 [==============================] - 0s - loss: 8.3287 - val_loss: 11.6567\n",
      "Epoch 82/200\n",
      "380/380 [==============================] - 0s - loss: 8.3446 - val_loss: 11.0912\n",
      "Epoch 83/200\n",
      "380/380 [==============================] - 0s - loss: 8.2224 - val_loss: 10.6377\n",
      "Epoch 84/200\n",
      "380/380 [==============================] - 0s - loss: 8.3771 - val_loss: 10.4636\n",
      "Epoch 85/200\n",
      "380/380 [==============================] - 0s - loss: 8.0033 - val_loss: 10.7075\n",
      "Epoch 86/200\n"
     ]
    },
    {
     "name": "stdout",
     "output_type": "stream",
     "text": [
      "380/380 [==============================] - 0s - loss: 8.0164 - val_loss: 10.3223\n",
      "Epoch 87/200\n",
      "380/380 [==============================] - 0s - loss: 8.1769 - val_loss: 10.3573\n",
      "Epoch 88/200\n",
      "380/380 [==============================] - 0s - loss: 8.1123 - val_loss: 10.0470\n",
      "Epoch 89/200\n",
      "380/380 [==============================] - 0s - loss: 7.9204 - val_loss: 10.1309\n",
      "Epoch 90/200\n",
      "380/380 [==============================] - 0s - loss: 8.0432 - val_loss: 10.5751\n",
      "Epoch 91/200\n",
      "380/380 [==============================] - 0s - loss: 7.9096 - val_loss: 9.8698\n",
      "Epoch 92/200\n",
      "380/380 [==============================] - 0s - loss: 8.2153 - val_loss: 9.6688\n",
      "Epoch 93/200\n",
      "380/380 [==============================] - 0s - loss: 8.3476 - val_loss: 10.9251\n",
      "Epoch 94/200\n",
      "380/380 [==============================] - 0s - loss: 7.9757 - val_loss: 10.2974\n",
      "Epoch 95/200\n",
      "380/380 [==============================] - 0s - loss: 7.7295 - val_loss: 10.4619\n",
      "Epoch 96/200\n",
      "380/380 [==============================] - 0s - loss: 7.7986 - val_loss: 9.5904\n",
      "Epoch 97/200\n",
      "380/380 [==============================] - 0s - loss: 7.8265 - val_loss: 10.2776\n",
      "Epoch 98/200\n",
      "380/380 [==============================] - 0s - loss: 7.5255 - val_loss: 10.3129\n",
      "Epoch 99/200\n",
      "380/380 [==============================] - 0s - loss: 7.5126 - val_loss: 10.0059\n",
      "Epoch 100/200\n",
      "380/380 [==============================] - 0s - loss: 7.6892 - val_loss: 10.1437\n",
      "Epoch 101/200\n",
      "380/380 [==============================] - 0s - loss: 7.6607 - val_loss: 10.4887\n",
      "Epoch 102/200\n",
      "380/380 [==============================] - 0s - loss: 7.9578 - val_loss: 9.7212\n",
      "Epoch 00101: early stopping\n"
     ]
    }
   ],
   "source": [
    "early_stopb = EarlyStopping(monitor='val_loss', patience=5, verbose=1) \n",
    "Resultb = modelb.fit(Xb_train, yb_train, validation_data = (Xb_test, yb_test), epochs=200, \n",
    "          batch_size=128, verbose=True, validation_split=0.25, callbacks=[early_stopb])"
   ]
  },
  {
   "cell_type": "code",
   "execution_count": 1047,
   "metadata": {},
   "outputs": [],
   "source": [
    "#[item for item in Resultb.history], [item for item in Result.history]"
   ]
  },
  {
   "cell_type": "code",
   "execution_count": 1048,
   "metadata": {},
   "outputs": [
    {
     "data": {
      "text/plain": [
       "<matplotlib.legend.Legend at 0x1c7ae338518>"
      ]
     },
     "execution_count": 1048,
     "metadata": {},
     "output_type": "execute_result"
    },
    {
     "data": {
      "image/png": "[encoded data removed]",
      "text/plain": [
       "<matplotlib.figure.Figure at 0x1c7ada7fdd8>"
      ]
     },
     "metadata": {},
     "output_type": "display_data"
    }
   ],
   "source": [
    "plt.figure()\n",
    "plt.xlabel('Epochs')\n",
    "plt.ylabel('Loss')\n",
    "plt.plot(Resultb.history['loss'])\n",
    "plt.plot(Resultb.history['val_loss'])\n",
    "plt.legend(['Training', 'Validation'])"
   ]
  },
  {
   "cell_type": "code",
   "execution_count": 1049,
   "metadata": {},
   "outputs": [
    {
     "name": "stdout",
     "output_type": "stream",
     "text": [
      "MSE: 7.578426\n",
      "RMSE: 2.752894\n",
      "R^2: 0.910057\n"
     ]
    }
   ],
   "source": [
    "yb_predicted = modelb.predict(Xb_test)\n",
    "score = mean_squared_error(yb_predicted, yb_test)\n",
    "Rsq = r2_score(yb_test, yb_predicted)\n",
    "print('MSE: {0:f}'.format(score))\n",
    "print('RMSE: {0:f}'.format(score**0.5))\n",
    "print('R^2: {0:f}'.format(Rsq))\n"
   ]
  },
  {
   "cell_type": "code",
   "execution_count": 1050,
   "metadata": {},
   "outputs": [
    {
     "data": {
      "text/plain": [
       "array([[ 12.23628044],\n",
       "       [ 32.5753479 ],\n",
       "       [ 23.41984367],\n",
       "       [ 30.30661583],\n",
       "       [ 22.70264435],\n",
       "       [ 38.24320221],\n",
       "       [ 23.43625069],\n",
       "       [ 18.67465973],\n",
       "       [ 34.53895187],\n",
       "       [ 21.55364799]], dtype=float32)"
      ]
     },
     "execution_count": 1050,
     "metadata": {},
     "output_type": "execute_result"
    }
   ],
   "source": [
    "yb_predicted[:10]"
   ]
  },
  {
   "cell_type": "code",
   "execution_count": 1051,
   "metadata": {},
   "outputs": [
    {
     "data": {
      "text/plain": [
       "array([ 14.9,  31.7,  22.5,  30.7,  20.3,  27. ,  23. ,  18.6,  34.9,  21. ])"
      ]
     },
     "execution_count": 1051,
     "metadata": {},
     "output_type": "execute_result"
    }
   ],
   "source": [
    "yb_test[:10]"
   ]
  },
  {
   "cell_type": "code",
   "execution_count": 1052,
   "metadata": {},
   "outputs": [
    {
     "name": "stdout",
     "output_type": "stream",
     "text": [
      "(12.23628, 14.9)\n",
      "(32.575348, 31.699999999999999)\n",
      "(23.419844, 22.5)\n",
      "(30.306616, 30.699999999999999)\n",
      "(22.702644, 20.300000000000001)\n",
      "(38.243202, 27.0)\n",
      "(23.436251, 23.0)\n",
      "(18.67466, 18.600000000000001)\n",
      "(34.538952, 34.899999999999999)\n",
      "(21.553648, 21.0)\n"
     ]
    }
   ],
   "source": [
    "# put next to each other ...\n",
    "for i in zip(list(yb_predicted[:10,0]),yb_test[:10]):\n",
    "    print (i)"
   ]
  },
  {
   "cell_type": "code",
   "execution_count": null,
   "metadata": {
    "collapsed": true
   },
   "outputs": [],
   "source": []
  }
 ],
 "metadata": {
  "kernelspec": {
   "display_name": "Python [default]",
   "language": "python",
   "name": "python3"
  },
  "language_info": {
   "codemirror_mode": {
    "name": "ipython",
    "version": 3
   },
   "file_extension": ".py",
   "mimetype": "text/x-python",
   "name": "python",
   "nbconvert_exporter": "python",
   "pygments_lexer": "ipython3",
   "version": "3.5.2"
  }
 },
 "nbformat": 4,
 "nbformat_minor": 2
}
