{
 "cells": [
  {
   "cell_type": "markdown",
   "metadata": {},
   "source": [
    "### Classification using Keras \n",
    "Note: Keras uses TensorFlow by default. You can switch backend to Theano (see https://keras.io/backend/ for details)"
   ]
  },
  {
   "cell_type": "code",
   "execution_count": 190,
   "metadata": {},
   "outputs": [
    {
     "data": {
      "text/plain": [
       "'2.0.4'"
      ]
     },
     "execution_count": 190,
     "metadata": {},
     "output_type": "execute_result"
    }
   ],
   "source": [
    "import keras \n",
    "keras.__version__"
   ]
  },
  {
   "cell_type": "code",
   "execution_count": 191,
   "metadata": {},
   "outputs": [
    {
     "name": "stdout",
     "output_type": "stream",
     "text": [
      "3 classes\n",
      "4 dims\n"
     ]
    }
   ],
   "source": [
    "import pandas as pd \n",
    "import numpy as np\n",
    "from sklearn.model_selection import train_test_split\n",
    "from sklearn.metrics import accuracy_score, precision_score, log_loss, classification_report\n",
    "from sklearn.metrics import confusion_matrix , mean_squared_error, r2_score\n",
    "from sklearn.datasets import load_iris, load_boston\n",
    "\n",
    "# Import `Sequential` from `keras.models`\n",
    "from keras.models import Sequential\n",
    "# Import `Dense` from `keras.layers`\n",
    "from keras.layers import Dense, Activation, Dropout\n",
    "from keras.callbacks import EarlyStopping, ModelCheckpoint\n",
    "from keras.optimizers import SGD, RMSprop, Adam\n",
    "\n",
    "iris = load_iris()\n",
    "X = iris.data\n",
    "y = iris.target \n",
    "X = X.astype('float32')\n",
    "X_train, X_test, y_train, y_test = train_test_split(X, y, stratify = y, train_size = 0.7, random_state=707)\n",
    "\n",
    "nb_classes = len(set(y_train))\n",
    "print(nb_classes, 'classes')\n",
    "\n",
    "dims = X_train.shape[1]\n",
    "print(dims, 'dims')#\n",
    "\n",
    "y_test_c = y_test\n",
    "# Convert labels to categorical one-hot encoding (there is also a sklear wrapper)\n",
    "y_train = keras.utils.to_categorical(y_train, num_classes=3)\n",
    "y_test = keras.utils.to_categorical(y_test, num_classes=3)"
   ]
  },
  {
   "cell_type": "code",
   "execution_count": 192,
   "metadata": {},
   "outputs": [
    {
     "name": "stdout",
     "output_type": "stream",
     "text": [
      "_________________________________________________________________\n",
      "Layer (type)                 Output Shape              Param #   \n",
      "=================================================================\n",
      "dense_112 (Dense)            (None, 100)               500       \n",
      "_________________________________________________________________\n",
      "dense_113 (Dense)            (None, 3)                 303       \n",
      "=================================================================\n",
      "Total params: 803\n",
      "Trainable params: 803\n",
      "Non-trainable params: 0\n",
      "_________________________________________________________________\n"
     ]
    }
   ],
   "source": [
    "#### https://keras.io/getting-started/sequential-model-guide/\n",
    "model = Sequential()\n",
    "model.add(Dense(100, activation='relu', input_dim=dims))\n",
    "model.add(Dense(nb_classes, activation='softmax'))\n",
    "model.compile(optimizer='rmsprop', loss='categorical_crossentropy', metrics=['accuracy'])\n",
    "model.summary()"
   ]
  },
  {
   "cell_type": "code",
   "execution_count": 193,
   "metadata": {},
   "outputs": [
    {
     "name": "stdout",
     "output_type": "stream",
     "text": [
      "Train on 105 samples, validate on 45 samples\n",
      "Epoch 1/50\n",
      "105/105 [==============================] - 0s - loss: 1.2239 - acc: 0.3333 - val_loss: 1.0249 - val_acc: 0.3333\n",
      "Epoch 2/50\n",
      "105/105 [==============================] - 0s - loss: 0.9736 - acc: 0.5143 - val_loss: 0.9047 - val_acc: 0.6667\n",
      "Epoch 3/50\n",
      "105/105 [==============================] - 0s - loss: 0.8763 - acc: 0.6476 - val_loss: 0.8368 - val_acc: 0.6889\n",
      "Epoch 4/50\n",
      "105/105 [==============================] - 0s - loss: 0.8109 - acc: 0.7143 - val_loss: 0.7790 - val_acc: 0.7111\n",
      "Epoch 5/50\n",
      "105/105 [==============================] - 0s - loss: 0.7711 - acc: 0.7048 - val_loss: 0.7407 - val_acc: 0.9556\n",
      "Epoch 6/50\n",
      "105/105 [==============================] - 0s - loss: 0.7299 - acc: 0.7238 - val_loss: 0.7052 - val_acc: 0.9556\n",
      "Epoch 7/50\n",
      "105/105 [==============================] - 0s - loss: 0.6952 - acc: 0.8762 - val_loss: 0.6697 - val_acc: 0.6667\n",
      "Epoch 8/50\n",
      "105/105 [==============================] - 0s - loss: 0.6644 - acc: 0.7619 - val_loss: 0.6414 - val_acc: 0.6667\n",
      "Epoch 9/50\n",
      "105/105 [==============================] - 0s - loss: 0.6384 - acc: 0.6952 - val_loss: 0.6140 - val_acc: 0.9556\n",
      "Epoch 10/50\n",
      "105/105 [==============================] - 0s - loss: 0.6138 - acc: 0.8190 - val_loss: 0.5884 - val_acc: 0.8667\n",
      "Epoch 11/50\n",
      "105/105 [==============================] - 0s - loss: 0.5840 - acc: 0.8095 - val_loss: 0.5655 - val_acc: 0.9556\n",
      "Epoch 12/50\n",
      "105/105 [==============================] - 0s - loss: 0.5754 - acc: 0.7429 - val_loss: 0.5485 - val_acc: 0.9778\n",
      "Epoch 13/50\n",
      "105/105 [==============================] - 0s - loss: 0.5507 - acc: 0.9143 - val_loss: 0.5255 - val_acc: 0.8444\n",
      "Epoch 14/50\n",
      "105/105 [==============================] - 0s - loss: 0.5293 - acc: 0.7810 - val_loss: 0.5118 - val_acc: 0.9778\n",
      "Epoch 15/50\n",
      "105/105 [==============================] - 0s - loss: 0.5145 - acc: 0.9333 - val_loss: 0.4926 - val_acc: 0.8222\n",
      "Epoch 16/50\n",
      "105/105 [==============================] - 0s - loss: 0.4962 - acc: 0.8762 - val_loss: 0.4756 - val_acc: 0.8889\n",
      "Epoch 17/50\n",
      "105/105 [==============================] - 0s - loss: 0.4931 - acc: 0.7905 - val_loss: 0.4630 - val_acc: 0.9778\n",
      "Epoch 18/50\n",
      "105/105 [==============================] - ETA: 0s - loss: 0.5066 - acc: 0.933 - 0s - loss: 0.4685 - acc: 0.8762 - val_loss: 0.4482 - val_acc: 0.9778\n",
      "Epoch 19/50\n",
      "105/105 [==============================] - 0s - loss: 0.4588 - acc: 0.9143 - val_loss: 0.4342 - val_acc: 0.9333\n",
      "Epoch 20/50\n",
      "105/105 [==============================] - 0s - loss: 0.4448 - acc: 0.8476 - val_loss: 0.4270 - val_acc: 1.0000\n",
      "Epoch 21/50\n",
      "105/105 [==============================] - 0s - loss: 0.4384 - acc: 0.9333 - val_loss: 0.4100 - val_acc: 0.9556\n",
      "Epoch 22/50\n",
      "105/105 [==============================] - 0s - loss: 0.4237 - acc: 0.9048 - val_loss: 0.3987 - val_acc: 0.9556\n",
      "Epoch 23/50\n",
      "105/105 [==============================] - 0s - loss: 0.4140 - acc: 0.9238 - val_loss: 0.3914 - val_acc: 0.8667\n",
      "Epoch 24/50\n",
      "105/105 [==============================] - 0s - loss: 0.4089 - acc: 0.9238 - val_loss: 0.3779 - val_acc: 0.9556\n",
      "Epoch 25/50\n",
      "105/105 [==============================] - 0s - loss: 0.3928 - acc: 0.9048 - val_loss: 0.3692 - val_acc: 1.0000\n",
      "Epoch 26/50\n",
      "105/105 [==============================] - 0s - loss: 0.3784 - acc: 0.9333 - val_loss: 0.3636 - val_acc: 0.8667\n",
      "Epoch 27/50\n",
      "105/105 [==============================] - 0s - loss: 0.3873 - acc: 0.8952 - val_loss: 0.3484 - val_acc: 0.9778\n",
      "Epoch 28/50\n",
      "105/105 [==============================] - 0s - loss: 0.3670 - acc: 0.9238 - val_loss: 0.3419 - val_acc: 1.0000\n",
      "Epoch 29/50\n",
      "105/105 [==============================] - 0s - loss: 0.3593 - acc: 0.9429 - val_loss: 0.3331 - val_acc: 0.9556\n",
      "Epoch 30/50\n",
      "105/105 [==============================] - 0s - loss: 0.3579 - acc: 0.9143 - val_loss: 0.3239 - val_acc: 0.9778\n",
      "Epoch 31/50\n",
      "105/105 [==============================] - 0s - loss: 0.3519 - acc: 0.9333 - val_loss: 0.3230 - val_acc: 1.0000\n",
      "Epoch 32/50\n",
      "105/105 [==============================] - 0s - loss: 0.3347 - acc: 0.9238 - val_loss: 0.3167 - val_acc: 0.9333\n",
      "Epoch 33/50\n",
      "105/105 [==============================] - 0s - loss: 0.3383 - acc: 0.9333 - val_loss: 0.3029 - val_acc: 0.9778\n",
      "Epoch 34/50\n",
      "105/105 [==============================] - 0s - loss: 0.3280 - acc: 0.9429 - val_loss: 0.2963 - val_acc: 0.9778\n",
      "Epoch 35/50\n",
      "105/105 [==============================] - 0s - loss: 0.3283 - acc: 0.9333 - val_loss: 0.2936 - val_acc: 1.0000\n",
      "Epoch 36/50\n",
      "105/105 [==============================] - 0s - loss: 0.3181 - acc: 0.9429 - val_loss: 0.2895 - val_acc: 0.9556\n",
      "Epoch 37/50\n",
      "105/105 [==============================] - 0s - loss: 0.3191 - acc: 0.9238 - val_loss: 0.2773 - val_acc: 0.9778\n",
      "Epoch 38/50\n",
      "105/105 [==============================] - 0s - loss: 0.3045 - acc: 0.9619 - val_loss: 0.2733 - val_acc: 1.0000\n",
      "Epoch 39/50\n",
      "105/105 [==============================] - 0s - loss: 0.3053 - acc: 0.9333 - val_loss: 0.2720 - val_acc: 1.0000\n",
      "Epoch 40/50\n",
      "105/105 [==============================] - 0s - loss: 0.2983 - acc: 0.9524 - val_loss: 0.2621 - val_acc: 1.0000\n",
      "Epoch 41/50\n",
      "105/105 [==============================] - 0s - loss: 0.2887 - acc: 0.9619 - val_loss: 0.2603 - val_acc: 0.9778\n",
      "Epoch 42/50\n",
      "105/105 [==============================] - 0s - loss: 0.2880 - acc: 0.9619 - val_loss: 0.2491 - val_acc: 0.9778\n",
      "Epoch 43/50\n",
      "105/105 [==============================] - 0s - loss: 0.2808 - acc: 0.9524 - val_loss: 0.2432 - val_acc: 0.9778\n",
      "Epoch 44/50\n",
      "105/105 [==============================] - 0s - loss: 0.2780 - acc: 0.9429 - val_loss: 0.2371 - val_acc: 0.9778\n",
      "Epoch 45/50\n",
      "105/105 [==============================] - 0s - loss: 0.2685 - acc: 0.9524 - val_loss: 0.2316 - val_acc: 1.0000\n",
      "Epoch 46/50\n",
      "105/105 [==============================] - 0s - loss: 0.2705 - acc: 0.9333 - val_loss: 0.2356 - val_acc: 1.0000\n",
      "Epoch 47/50\n",
      "105/105 [==============================] - 0s - loss: 0.2600 - acc: 0.9429 - val_loss: 0.2216 - val_acc: 0.9778\n",
      "Epoch 48/50\n",
      "105/105 [==============================] - 0s - loss: 0.2650 - acc: 0.9333 - val_loss: 0.2188 - val_acc: 0.9778\n",
      "Epoch 49/50\n",
      "105/105 [==============================] - 0s - loss: 0.2504 - acc: 0.9524 - val_loss: 0.2204 - val_acc: 1.0000\n",
      "Epoch 50/50\n",
      "105/105 [==============================] - 0s - loss: 0.2579 - acc: 0.9524 - val_loss: 0.2089 - val_acc: 1.0000\n"
     ]
    },
    {
     "data": {
      "text/plain": [
       "<keras.callbacks.History at 0x1c7dc1bbf28>"
      ]
     },
     "execution_count": 193,
     "metadata": {},
     "output_type": "execute_result"
    }
   ],
   "source": [
    "early_stop = EarlyStopping(monitor='val_loss', patience=5, verbose=1) \n",
    "model.fit(X_train, y_train, validation_data = (X_test, y_test), epochs=50, \n",
    "          batch_size=15, verbose=True, callbacks=[early_stop]) #callbacks=[best_model, early_stop]"
   ]
  },
  {
   "cell_type": "code",
   "execution_count": 194,
   "metadata": {},
   "outputs": [
    {
     "name": "stdout",
     "output_type": "stream",
     "text": [
      "32/45 [====================>.........] - ETA: 0s\n",
      " score:  [0.20887947115633224, 1.0]\n"
     ]
    }
   ],
   "source": [
    "y_pred = model.predict(X_test)\n",
    "score = model.evaluate(X_test, y_test,verbose=1)\n",
    "print(\"\\n score: \",score)"
   ]
  },
  {
   "cell_type": "code",
   "execution_count": 195,
   "metadata": {},
   "outputs": [
    {
     "name": "stdout",
     "output_type": "stream",
     "text": [
      "\r",
      "32/45 [====================>.........] - ETA: 0s"
     ]
    },
    {
     "data": {
      "text/plain": [
       "array([[15,  0,  0],\n",
       "       [ 0, 15,  0],\n",
       "       [ 0,  0, 15]])"
      ]
     },
     "execution_count": 195,
     "metadata": {},
     "output_type": "execute_result"
    }
   ],
   "source": [
    "y_pred_c = model.predict_classes(X_test)\n",
    "# Confusion matrix\n",
    "confusion_matrix(y_test_c, y_pred_c)"
   ]
  },
  {
   "cell_type": "code",
   "execution_count": 196,
   "metadata": {},
   "outputs": [
    {
     "data": {
      "text/plain": [
       "0.20887947768076426"
      ]
     },
     "execution_count": 196,
     "metadata": {},
     "output_type": "execute_result"
    }
   ],
   "source": [
    "# Precision \n",
    "#precision_score(y_test, y_pred)\n",
    "log_loss(y_test, y_pred)"
   ]
  },
  {
   "cell_type": "code",
   "execution_count": 197,
   "metadata": {},
   "outputs": [
    {
     "data": {
      "text/plain": [
       "array([2, 1, 2, 0, 0, 1, 2, 0, 1, 2], dtype=int64)"
      ]
     },
     "execution_count": 197,
     "metadata": {},
     "output_type": "execute_result"
    }
   ],
   "source": [
    "y_pred_c[:10]"
   ]
  },
  {
   "cell_type": "code",
   "execution_count": 198,
   "metadata": {},
   "outputs": [
    {
     "data": {
      "text/plain": [
       "array([[  2.27587458e-04,   1.83421224e-01,   8.16351116e-01],\n",
       "       [  9.05075390e-03,   7.75601208e-01,   2.15347961e-01],\n",
       "       [  5.54333616e-04,   3.26268613e-01,   6.73177004e-01],\n",
       "       [  9.91156936e-01,   8.73902813e-03,   1.04094273e-04],\n",
       "       [  9.93084908e-01,   6.86344272e-03,   5.16137516e-05],\n",
       "       [  4.08209860e-02,   7.71686494e-01,   1.87492505e-01],\n",
       "       [  9.18427104e-05,   1.42435327e-01,   8.57472837e-01],\n",
       "       [  9.84468520e-01,   1.53532578e-02,   1.78321672e-04],\n",
       "       [  6.98237168e-03,   7.40357816e-01,   2.52659768e-01],\n",
       "       [  6.65806991e-04,   3.56565475e-01,   6.42768741e-01]], dtype=float32)"
      ]
     },
     "execution_count": 198,
     "metadata": {},
     "output_type": "execute_result"
    }
   ],
   "source": [
    "y_pred[:10]"
   ]
  },
  {
   "cell_type": "code",
   "execution_count": null,
   "metadata": {
    "collapsed": true
   },
   "outputs": [],
   "source": []
  }
 ],
 "metadata": {
  "kernelspec": {
   "display_name": "Python [default]",
   "language": "python",
   "name": "python3"
  },
  "language_info": {
   "codemirror_mode": {
    "name": "ipython",
    "version": 3
   },
   "file_extension": ".py",
   "mimetype": "text/x-python",
   "name": "python",
   "nbconvert_exporter": "python",
   "pygments_lexer": "ipython3",
   "version": "3.5.2"
  }
 },
 "nbformat": 4,
 "nbformat_minor": 2
}
