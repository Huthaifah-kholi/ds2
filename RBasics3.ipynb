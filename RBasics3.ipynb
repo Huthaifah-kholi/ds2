{
 "cells": [
  {
   "cell_type": "markdown",
   "metadata": {},
   "source": [
    "## R Basics 3: Factors and Lists"
   ]
  },
  {
   "cell_type": "code",
   "execution_count": 25,
   "metadata": {},
   "outputs": [
    {
     "data": {
      "text/html": [
       "<ol class=list-inline>\n",
       "\t<li>'cloudy'</li>\n",
       "\t<li>'rainy'</li>\n",
       "\t<li>'cloudy'</li>\n",
       "\t<li>'snowy'</li>\n",
       "\t<li>'snowy'</li>\n",
       "\t<li>'sunny'</li>\n",
       "\t<li>'overcast'</li>\n",
       "\t<li>'rainy'</li>\n",
       "</ol>\n"
      ],
      "text/latex": [
       "\\begin{enumerate*}\n",
       "\\item 'cloudy'\n",
       "\\item 'rainy'\n",
       "\\item 'cloudy'\n",
       "\\item 'snowy'\n",
       "\\item 'snowy'\n",
       "\\item 'sunny'\n",
       "\\item 'overcast'\n",
       "\\item 'rainy'\n",
       "\\end{enumerate*}\n"
      ],
      "text/markdown": [
       "1. 'cloudy'\n",
       "2. 'rainy'\n",
       "3. 'cloudy'\n",
       "4. 'snowy'\n",
       "5. 'snowy'\n",
       "6. 'sunny'\n",
       "7. 'overcast'\n",
       "8. 'rainy'\n",
       "\n",
       "\n"
      ],
      "text/plain": [
       "[1] \"cloudy\"   \"rainy\"    \"cloudy\"   \"snowy\"    \"snowy\"    \"sunny\"    \"overcast\"\n",
       "[8] \"rainy\"   "
      ]
     },
     "metadata": {},
     "output_type": "display_data"
    },
    {
     "data": {
      "text/html": [
       "<ol class=list-inline>\n",
       "\t<li>cloudy</li>\n",
       "\t<li>rainy</li>\n",
       "\t<li>cloudy</li>\n",
       "\t<li>snowy</li>\n",
       "\t<li>snowy</li>\n",
       "\t<li>sunny</li>\n",
       "\t<li>overcast</li>\n",
       "\t<li>rainy</li>\n",
       "</ol>\n"
      ],
      "text/latex": [
       "\\begin{enumerate*}\n",
       "\\item cloudy\n",
       "\\item rainy\n",
       "\\item cloudy\n",
       "\\item snowy\n",
       "\\item snowy\n",
       "\\item sunny\n",
       "\\item overcast\n",
       "\\item rainy\n",
       "\\end{enumerate*}\n"
      ],
      "text/markdown": [
       "1. cloudy\n",
       "2. rainy\n",
       "3. cloudy\n",
       "4. snowy\n",
       "5. snowy\n",
       "6. sunny\n",
       "7. overcast\n",
       "8. rainy\n",
       "\n",
       "\n"
      ],
      "text/plain": [
       "[1] cloudy   rainy    cloudy   snowy    snowy    sunny    overcast rainy   \n",
       "Levels: cloudy overcast rainy snowy sunny"
      ]
     },
     "metadata": {},
     "output_type": "display_data"
    },
    {
     "name": "stdout",
     "output_type": "stream",
     "text": [
      " Factor w/ 5 levels \"cloudy\",\"overcast\",..: 1 3 1 4 4 5 2 3\n"
     ]
    }
   ],
   "source": [
    "# define a vector \n",
    "forecast <- c(\"cloudy\", \"rainy\", \"cloudy\", \"snowy\", \"snowy\", \"sunny\", \"overcast\", \"rainy\")\n",
    "forecast\n",
    "forecastFactor <- factor(forecast)\n",
    "# display levels\n",
    "forecastFactor\n",
    "# display structure\n",
    "str(forecastFactor)"
   ]
  },
  {
   "cell_type": "code",
   "execution_count": 26,
   "metadata": {},
   "outputs": [
    {
     "data": {
      "text/html": [
       "<ol class=list-inline>\n",
       "\t<li>cloudy</li>\n",
       "\t<li>rainy</li>\n",
       "\t<li>cloudy</li>\n",
       "\t<li>snowy</li>\n",
       "\t<li>snowy</li>\n",
       "\t<li>sunny</li>\n",
       "\t<li>overcast</li>\n",
       "\t<li>rainy</li>\n",
       "</ol>\n"
      ],
      "text/latex": [
       "\\begin{enumerate*}\n",
       "\\item cloudy\n",
       "\\item rainy\n",
       "\\item cloudy\n",
       "\\item snowy\n",
       "\\item snowy\n",
       "\\item sunny\n",
       "\\item overcast\n",
       "\\item rainy\n",
       "\\end{enumerate*}\n"
      ],
      "text/markdown": [
       "1. cloudy\n",
       "2. rainy\n",
       "3. cloudy\n",
       "4. snowy\n",
       "5. snowy\n",
       "6. sunny\n",
       "7. overcast\n",
       "8. rainy\n",
       "\n",
       "\n"
      ],
      "text/plain": [
       "[1] cloudy   rainy    cloudy   snowy    snowy    sunny    overcast rainy   \n",
       "Levels: sunny overcast cloudy rainy snowy"
      ]
     },
     "metadata": {},
     "output_type": "display_data"
    },
    {
     "name": "stdout",
     "output_type": "stream",
     "text": [
      " Factor w/ 5 levels \"sunny\",\"overcast\",..: 3 4 3 5 5 1 2 4\n"
     ]
    }
   ],
   "source": [
    "# force desired order \n",
    "forecastFactor2 <- factor(forecast, levels = c(\"sunny\", \"overcast\", \"cloudy\", \"rainy\", \"snowy\"))\n",
    "forecastFactor2\n",
    "str(forecastFactor2)"
   ]
  },
  {
   "cell_type": "code",
   "execution_count": 27,
   "metadata": {},
   "outputs": [
    {
     "name": "stdout",
     "output_type": "stream",
     "text": [
      " Factor w/ 5 levels \"nice\",\"not sure\",..: 3 4 3 5 5 1 2 4\n"
     ]
    }
   ],
   "source": [
    "# can also add labels instead of levels\n",
    "forecastFactor3 <- factor(forecastFactor2, levels = c(\"sunny\", \"overcast\", \"cloudy\", \"rainy\", \"snowy\"),\n",
    "                          labels = c(\"nice\", \"not sure\", \"no sun\", \"drops\", \"ice\"))\n",
    "str(forecastFactor3)"
   ]
  },
  {
   "cell_type": "code",
   "execution_count": 30,
   "metadata": {},
   "outputs": [
    {
     "data": {
      "text/html": [
       "ice"
      ],
      "text/latex": [
       "ice"
      ],
      "text/markdown": [
       "ice"
      ],
      "text/plain": [
       "[1] ice\n",
       "Levels: nice not sure no sun drops ice"
      ]
     },
     "metadata": {},
     "output_type": "display_data"
    },
    {
     "name": "stderr",
     "output_type": "stream",
     "text": [
      "Warning message in Ops.factor(forecastFactor3[4], forecastFactor3[2]):\n",
      "\"'>' not meaningful for factors\""
     ]
    },
    {
     "data": {
      "text/plain": [
       "[1] NA"
      ]
     },
     "metadata": {},
     "output_type": "display_data"
    }
   ],
   "source": [
    "# can reference items\n",
    "forecastFactor3[4]\n",
    "# but comparing factors is meaningless (can't say cloudy < rainy) \n",
    "forecastFactor3[4] > forecastFactor3[2]"
   ]
  },
  {
   "cell_type": "code",
   "execution_count": 35,
   "metadata": {},
   "outputs": [
    {
     "data": {
      "text/html": [
       "<ol class=list-inline>\n",
       "\t<li>M</li>\n",
       "\t<li>L</li>\n",
       "\t<li>S</li>\n",
       "\t<li>S</li>\n",
       "\t<li>L</li>\n",
       "\t<li>M</li>\n",
       "\t<li>L</li>\n",
       "\t<li>M</li>\n",
       "</ol>\n"
      ],
      "text/latex": [
       "\\begin{enumerate*}\n",
       "\\item M\n",
       "\\item L\n",
       "\\item S\n",
       "\\item S\n",
       "\\item L\n",
       "\\item M\n",
       "\\item L\n",
       "\\item M\n",
       "\\end{enumerate*}\n"
      ],
      "text/markdown": [
       "1. M\n",
       "2. L\n",
       "3. S\n",
       "4. S\n",
       "5. L\n",
       "6. M\n",
       "7. L\n",
       "8. M\n",
       "\n",
       "\n"
      ],
      "text/plain": [
       "[1] M L S S L M L M\n",
       "Levels: S < M < L"
      ]
     },
     "metadata": {},
     "output_type": "display_data"
    },
    {
     "name": "stdout",
     "output_type": "stream",
     "text": [
      " Ord.factor w/ 3 levels \"S\"<\"M\"<\"L\": 2 3 1 1 3 2 3 2\n"
     ]
    },
    {
     "data": {
      "text/html": [
       "FALSE"
      ],
      "text/latex": [
       "FALSE"
      ],
      "text/markdown": [
       "FALSE"
      ],
      "text/plain": [
       "[1] FALSE"
      ]
     },
     "metadata": {},
     "output_type": "display_data"
    }
   ],
   "source": [
    "# levels can be ordered \n",
    "sizes <- c(\"M\", \"L\", \"S\", \"S\", \"L\", \"M\", \"L\", \"M\")\n",
    "# if ordered, comparison is OK\n",
    "sizesFactor <- factor(sizes, ordered = TRUE, levels = c(\"S\", \"M\", \"L\"))\n",
    "sizesFactor \n",
    "str(sizesFactor)\n",
    "# M is not smaller than S\n",
    "sizesFactor[1] < sizesFactor[3]"
   ]
  },
  {
   "cell_type": "markdown",
   "metadata": {},
   "source": [
    "# Lists"
   ]
  },
  {
   "cell_type": "code",
   "execution_count": 36,
   "metadata": {},
   "outputs": [
    {
     "data": {
      "text/html": [
       "<ol class=list-inline>\n",
       "\t<li>'R'</li>\n",
       "\t<li>'Python'</li>\n",
       "\t<li>'7'</li>\n",
       "\t<li>'500'</li>\n",
       "\t<li>'TRUE'</li>\n",
       "</ol>\n"
      ],
      "text/latex": [
       "\\begin{enumerate*}\n",
       "\\item 'R'\n",
       "\\item 'Python'\n",
       "\\item '7'\n",
       "\\item '500'\n",
       "\\item 'TRUE'\n",
       "\\end{enumerate*}\n"
      ],
      "text/markdown": [
       "1. 'R'\n",
       "2. 'Python'\n",
       "3. '7'\n",
       "4. '500'\n",
       "5. 'TRUE'\n",
       "\n",
       "\n"
      ],
      "text/plain": [
       "[1] \"R\"      \"Python\" \"7\"      \"500\"    \"TRUE\"  "
      ]
     },
     "metadata": {},
     "output_type": "display_data"
    }
   ],
   "source": [
    "# vectors and matrices accept same type (or coerce to a suitable type). Lists accept different types\n",
    "vec <- c(\"R\", \"Python\", 7, 500, TRUE)\n",
    "vec"
   ]
  },
  {
   "cell_type": "code",
   "execution_count": 37,
   "metadata": {},
   "outputs": [
    {
     "data": {
      "text/html": [
       "<ol>\n",
       "\t<li>'R'</li>\n",
       "\t<li>'Python'</li>\n",
       "\t<li>7</li>\n",
       "\t<li>500</li>\n",
       "\t<li>TRUE</li>\n",
       "</ol>\n"
      ],
      "text/latex": [
       "\\begin{enumerate}\n",
       "\\item 'R'\n",
       "\\item 'Python'\n",
       "\\item 7\n",
       "\\item 500\n",
       "\\item TRUE\n",
       "\\end{enumerate}\n"
      ],
      "text/markdown": [
       "1. 'R'\n",
       "2. 'Python'\n",
       "3. 7\n",
       "4. 500\n",
       "5. TRUE\n",
       "\n",
       "\n"
      ],
      "text/plain": [
       "[[1]]\n",
       "[1] \"R\"\n",
       "\n",
       "[[2]]\n",
       "[1] \"Python\"\n",
       "\n",
       "[[3]]\n",
       "[1] 7\n",
       "\n",
       "[[4]]\n",
       "[1] 500\n",
       "\n",
       "[[5]]\n",
       "[1] TRUE\n"
      ]
     },
     "metadata": {},
     "output_type": "display_data"
    }
   ],
   "source": [
    "# lists accept different types\n",
    "alist <- list (\"R\", \"Python\", 7, 500, TRUE)\n",
    "alist"
   ]
  },
  {
   "cell_type": "code",
   "execution_count": 41,
   "metadata": {},
   "outputs": [
    {
     "data": {
      "text/html": [
       "'Python'"
      ],
      "text/latex": [
       "'Python'"
      ],
      "text/markdown": [
       "'Python'"
      ],
      "text/plain": [
       "[1] \"Python\""
      ]
     },
     "metadata": {},
     "output_type": "display_data"
    },
    {
     "data": {
      "text/html": [
       "<ol>\n",
       "\t<li>500</li>\n",
       "</ol>\n"
      ],
      "text/latex": [
       "\\begin{enumerate}\n",
       "\\item 500\n",
       "\\end{enumerate}\n"
      ],
      "text/markdown": [
       "1. 500\n",
       "\n",
       "\n"
      ],
      "text/plain": [
       "[[1]]\n",
       "[1] 500\n"
      ]
     },
     "metadata": {},
     "output_type": "display_data"
    },
    {
     "data": {
      "text/html": [
       "TRUE"
      ],
      "text/latex": [
       "TRUE"
      ],
      "text/markdown": [
       "TRUE"
      ],
      "text/plain": [
       "[1] TRUE"
      ]
     },
     "metadata": {},
     "output_type": "display_data"
    }
   ],
   "source": [
    "# 2nd element in the list\n",
    "alist[[2]]\n",
    "# 4th element\n",
    "alist[4]\n",
    "# check if it is a list\n",
    "is.list(alist)"
   ]
  },
  {
   "cell_type": "code",
   "execution_count": 47,
   "metadata": {},
   "outputs": [
    {
     "data": {
      "text/html": [
       "<dl>\n",
       "\t<dt>$statLang</dt>\n",
       "\t\t<dd>'R'</dd>\n",
       "\t<dt>$DSLang</dt>\n",
       "\t\t<dd>'Python'</dd>\n",
       "\t<dt>$smallNum</dt>\n",
       "\t\t<dd>7</dd>\n",
       "\t<dt>$fiveHundred</dt>\n",
       "\t\t<dd>500</dd>\n",
       "\t<dt>$TrueFalse</dt>\n",
       "\t\t<dd>TRUE</dd>\n",
       "</dl>\n"
      ],
      "text/latex": [
       "\\begin{description}\n",
       "\\item[\\$statLang] 'R'\n",
       "\\item[\\$DSLang] 'Python'\n",
       "\\item[\\$smallNum] 7\n",
       "\\item[\\$fiveHundred] 500\n",
       "\\item[\\$TrueFalse] TRUE\n",
       "\\end{description}\n"
      ],
      "text/markdown": [
       "$statLang\n",
       ":   'R'\n",
       "$DSLang\n",
       ":   'Python'\n",
       "$smallNum\n",
       ":   7\n",
       "$fiveHundred\n",
       ":   500\n",
       "$TrueFalse\n",
       ":   TRUE\n",
       "\n",
       "\n"
      ],
      "text/plain": [
       "$statLang\n",
       "[1] \"R\"\n",
       "\n",
       "$DSLang\n",
       "[1] \"Python\"\n",
       "\n",
       "$smallNum\n",
       "[1] 7\n",
       "\n",
       "$fiveHundred\n",
       "[1] 500\n",
       "\n",
       "$TrueFalse\n",
       "[1] TRUE\n"
      ]
     },
     "metadata": {},
     "output_type": "display_data"
    },
    {
     "data": {
      "text/html": [
       "'Python'"
      ],
      "text/latex": [
       "'Python'"
      ],
      "text/markdown": [
       "'Python'"
      ],
      "text/plain": [
       "[1] \"Python\""
      ]
     },
     "metadata": {},
     "output_type": "display_data"
    },
    {
     "data": {
      "text/html": [
       "7"
      ],
      "text/latex": [
       "7"
      ],
      "text/markdown": [
       "7"
      ],
      "text/plain": [
       "[1] 7"
      ]
     },
     "metadata": {},
     "output_type": "display_data"
    }
   ],
   "source": [
    "#  assign names/labels to elements \n",
    "names(alist) <- c(\"statLang\", \"DSLang\", \"smallNum\", \"fiveHundred\", \"TrueFalse\") \n",
    "alist\n",
    "# get element by label\n",
    "alist$DSLang\n",
    "alist$smallNum"
   ]
  },
  {
   "cell_type": "code",
   "execution_count": 48,
   "metadata": {},
   "outputs": [
    {
     "name": "stdout",
     "output_type": "stream",
     "text": [
      "List of 5\n",
      " $ statLang   : chr \"R\"\n",
      " $ DSLang     : chr \"Python\"\n",
      " $ smallNum   : num 7\n",
      " $ fiveHundred: num 500\n",
      " $ TrueFalse  : logi TRUE\n"
     ]
    }
   ],
   "source": [
    "# structure of the list\n",
    "str(alist)"
   ]
  },
  {
   "cell_type": "code",
   "execution_count": 55,
   "metadata": {},
   "outputs": [
    {
     "data": {
      "text/html": [
       "<dl>\n",
       "\t<dt>$`title and name`</dt>\n",
       "\t\t<dd>'Trainee1'</dd>\n",
       "\t<dt>$age</dt>\n",
       "\t\t<dd>32</dd>\n",
       "\t<dt>$work</dt>\n",
       "\t\t<dd><dl>\n",
       "\t<dt>$statLang</dt>\n",
       "\t\t<dd>'R'</dd>\n",
       "\t<dt>$DSLang</dt>\n",
       "\t\t<dd>'Python'</dd>\n",
       "\t<dt>$smallNum</dt>\n",
       "\t\t<dd>7</dd>\n",
       "\t<dt>$fiveHundred</dt>\n",
       "\t\t<dd>500</dd>\n",
       "\t<dt>$TrueFalse</dt>\n",
       "\t\t<dd>TRUE</dd>\n",
       "</dl>\n",
       "</dd>\n",
       "</dl>\n"
      ],
      "text/latex": [
       "\\begin{description}\n",
       "\\item[\\$`title and name`] 'Trainee1'\n",
       "\\item[\\$age] 32\n",
       "\\item[\\$work] \\begin{description}\n",
       "\\item[\\$statLang] 'R'\n",
       "\\item[\\$DSLang] 'Python'\n",
       "\\item[\\$smallNum] 7\n",
       "\\item[\\$fiveHundred] 500\n",
       "\\item[\\$TrueFalse] TRUE\n",
       "\\end{description}\n",
       "\n",
       "\\end{description}\n"
      ],
      "text/markdown": [
       "$`title and name`\n",
       ":   'Trainee1'\n",
       "$age\n",
       ":   32\n",
       "$work\n",
       ":   $statLang\n",
       ":   'R'\n",
       "$DSLang\n",
       ":   'Python'\n",
       "$smallNum\n",
       ":   7\n",
       "$fiveHundred\n",
       ":   500\n",
       "$TrueFalse\n",
       ":   TRUE\n",
       "\n",
       "\n",
       "\n",
       "\n",
       "\n"
      ],
      "text/plain": [
       "$`title and name`\n",
       "[1] \"Trainee1\"\n",
       "\n",
       "$age\n",
       "[1] 32\n",
       "\n",
       "$work\n",
       "$work$statLang\n",
       "[1] \"R\"\n",
       "\n",
       "$work$DSLang\n",
       "[1] \"Python\"\n",
       "\n",
       "$work$smallNum\n",
       "[1] 7\n",
       "\n",
       "$work$fiveHundred\n",
       "[1] 500\n",
       "\n",
       "$work$TrueFalse\n",
       "[1] TRUE\n",
       "\n"
      ]
     },
     "metadata": {},
     "output_type": "display_data"
    }
   ],
   "source": [
    "# lists can be nested, quote labels with spaces\n",
    "anotherList <- list(\"title and name\" = \"Trainee1\", age = 32, work = alist)\n",
    "anotherList"
   ]
  },
  {
   "cell_type": "code",
   "execution_count": 57,
   "metadata": {},
   "outputs": [
    {
     "data": {
      "text/html": [
       "32"
      ],
      "text/latex": [
       "32"
      ],
      "text/markdown": [
       "32"
      ],
      "text/plain": [
       "[1] 32"
      ]
     },
     "metadata": {},
     "output_type": "display_data"
    },
    {
     "data": {
      "text/html": [
       "'Trainee1'"
      ],
      "text/latex": [
       "'Trainee1'"
      ],
      "text/markdown": [
       "'Trainee1'"
      ],
      "text/plain": [
       "[1] \"Trainee1\""
      ]
     },
     "metadata": {},
     "output_type": "display_data"
    }
   ],
   "source": [
    "anotherList$age\n",
    "# quote labels with spaces\n",
    "anotherList$'title and name'"
   ]
  },
  {
   "cell_type": "code",
   "execution_count": 52,
   "metadata": {},
   "outputs": [
    {
     "data": {
      "text/html": [
       "<dl>\n",
       "\t<dt>$statLang</dt>\n",
       "\t\t<dd>'R'</dd>\n",
       "\t<dt>$DSLang</dt>\n",
       "\t\t<dd>'Python'</dd>\n",
       "\t<dt>$smallNum</dt>\n",
       "\t\t<dd>7</dd>\n",
       "\t<dt>$fiveHundred</dt>\n",
       "\t\t<dd>500</dd>\n",
       "\t<dt>$TrueFalse</dt>\n",
       "\t\t<dd>TRUE</dd>\n",
       "</dl>\n"
      ],
      "text/latex": [
       "\\begin{description}\n",
       "\\item[\\$statLang] 'R'\n",
       "\\item[\\$DSLang] 'Python'\n",
       "\\item[\\$smallNum] 7\n",
       "\\item[\\$fiveHundred] 500\n",
       "\\item[\\$TrueFalse] TRUE\n",
       "\\end{description}\n"
      ],
      "text/markdown": [
       "$statLang\n",
       ":   'R'\n",
       "$DSLang\n",
       ":   'Python'\n",
       "$smallNum\n",
       ":   7\n",
       "$fiveHundred\n",
       ":   500\n",
       "$TrueFalse\n",
       ":   TRUE\n",
       "\n",
       "\n"
      ],
      "text/plain": [
       "$statLang\n",
       "[1] \"R\"\n",
       "\n",
       "$DSLang\n",
       "[1] \"Python\"\n",
       "\n",
       "$smallNum\n",
       "[1] 7\n",
       "\n",
       "$fiveHundred\n",
       "[1] 500\n",
       "\n",
       "$TrueFalse\n",
       "[1] TRUE\n"
      ]
     },
     "metadata": {},
     "output_type": "display_data"
    }
   ],
   "source": [
    "# element as list\n",
    "anotherList$work"
   ]
  },
  {
   "cell_type": "code",
   "execution_count": 53,
   "metadata": {},
   "outputs": [
    {
     "data": {
      "text/html": [
       "7"
      ],
      "text/latex": [
       "7"
      ],
      "text/markdown": [
       "7"
      ],
      "text/plain": [
       "[1] 7"
      ]
     },
     "metadata": {},
     "output_type": "display_data"
    }
   ],
   "source": [
    "# reference element inside 2nd list\n",
    "anotherList$work$smallNum"
   ]
  },
  {
   "cell_type": "code",
   "execution_count": 62,
   "metadata": {},
   "outputs": [
    {
     "data": {
      "text/html": [
       "<strong>$age</strong> = 32"
      ],
      "text/latex": [
       "\\textbf{\\$age} = 32"
      ],
      "text/markdown": [
       "**$age** = 32"
      ],
      "text/plain": [
       "$age\n",
       "[1] 32\n"
      ]
     },
     "metadata": {},
     "output_type": "display_data"
    },
    {
     "data": {
      "text/html": [
       "32"
      ],
      "text/latex": [
       "32"
      ],
      "text/markdown": [
       "32"
      ],
      "text/plain": [
       "[1] 32"
      ]
     },
     "metadata": {},
     "output_type": "display_data"
    },
    {
     "data": {
      "text/html": [
       "32"
      ],
      "text/latex": [
       "32"
      ],
      "text/markdown": [
       "32"
      ],
      "text/plain": [
       "[1] 32"
      ]
     },
     "metadata": {},
     "output_type": "display_data"
    },
    {
     "data": {
      "text/html": [
       "<dl>\n",
       "\t<dt>$`title and name`</dt>\n",
       "\t\t<dd>'Trainee1'</dd>\n",
       "\t<dt>$age</dt>\n",
       "\t\t<dd>32</dd>\n",
       "</dl>\n"
      ],
      "text/latex": [
       "\\begin{description}\n",
       "\\item[\\$`title and name`] 'Trainee1'\n",
       "\\item[\\$age] 32\n",
       "\\end{description}\n"
      ],
      "text/markdown": [
       "$`title and name`\n",
       ":   'Trainee1'\n",
       "$age\n",
       ":   32\n",
       "\n",
       "\n"
      ],
      "text/plain": [
       "$`title and name`\n",
       "[1] \"Trainee1\"\n",
       "\n",
       "$age\n",
       "[1] 32\n"
      ]
     },
     "metadata": {},
     "output_type": "display_data"
    }
   ],
   "source": [
    "# subsetting lists \n",
    "# output label and value\n",
    "anotherList[2]\n",
    "# get value by label\n",
    "anotherList$age \n",
    "# get value by index using double brackets\n",
    "anotherList[[2]] \n",
    "\n",
    "# use a vector \n",
    "anotherList[c(1,2)]"
   ]
  },
  {
   "cell_type": "code",
   "execution_count": 68,
   "metadata": {},
   "outputs": [
    {
     "data": {
      "text/html": [
       "'R'"
      ],
      "text/latex": [
       "'R'"
      ],
      "text/markdown": [
       "'R'"
      ],
      "text/plain": [
       "[1] \"R\""
      ]
     },
     "metadata": {},
     "output_type": "display_data"
    },
    {
     "data": {
      "text/html": [
       "'R'"
      ],
      "text/latex": [
       "'R'"
      ],
      "text/markdown": [
       "'R'"
      ],
      "text/plain": [
       "[1] \"R\""
      ]
     },
     "metadata": {},
     "output_type": "display_data"
    }
   ],
   "source": [
    "# this is wrong (out of bounds)\n",
    "#anotherList[[c(1,3)]]\n",
    "\n",
    "# these are the same\n",
    "anotherList[[c(3,1)]]\n",
    "anotherList[[3]][[1]]"
   ]
  },
  {
   "cell_type": "code",
   "execution_count": 69,
   "metadata": {},
   "outputs": [
    {
     "data": {
      "text/html": [
       "<dl>\n",
       "\t<dt>$age</dt>\n",
       "\t\t<dd>32</dd>\n",
       "\t<dt>$work</dt>\n",
       "\t\t<dd><dl>\n",
       "\t<dt>$statLang</dt>\n",
       "\t\t<dd>'R'</dd>\n",
       "\t<dt>$DSLang</dt>\n",
       "\t\t<dd>'Python'</dd>\n",
       "\t<dt>$smallNum</dt>\n",
       "\t\t<dd>7</dd>\n",
       "\t<dt>$fiveHundred</dt>\n",
       "\t\t<dd>500</dd>\n",
       "\t<dt>$TrueFalse</dt>\n",
       "\t\t<dd>TRUE</dd>\n",
       "</dl>\n",
       "</dd>\n",
       "</dl>\n"
      ],
      "text/latex": [
       "\\begin{description}\n",
       "\\item[\\$age] 32\n",
       "\\item[\\$work] \\begin{description}\n",
       "\\item[\\$statLang] 'R'\n",
       "\\item[\\$DSLang] 'Python'\n",
       "\\item[\\$smallNum] 7\n",
       "\\item[\\$fiveHundred] 500\n",
       "\\item[\\$TrueFalse] TRUE\n",
       "\\end{description}\n",
       "\n",
       "\\end{description}\n"
      ],
      "text/markdown": [
       "$age\n",
       ":   32\n",
       "$work\n",
       ":   $statLang\n",
       ":   'R'\n",
       "$DSLang\n",
       ":   'Python'\n",
       "$smallNum\n",
       ":   7\n",
       "$fiveHundred\n",
       ":   500\n",
       "$TrueFalse\n",
       ":   TRUE\n",
       "\n",
       "\n",
       "\n",
       "\n",
       "\n"
      ],
      "text/plain": [
       "$age\n",
       "[1] 32\n",
       "\n",
       "$work\n",
       "$work$statLang\n",
       "[1] \"R\"\n",
       "\n",
       "$work$DSLang\n",
       "[1] \"Python\"\n",
       "\n",
       "$work$smallNum\n",
       "[1] 7\n",
       "\n",
       "$work$fiveHundred\n",
       "[1] 500\n",
       "\n",
       "$work$TrueFalse\n",
       "[1] TRUE\n",
       "\n"
      ]
     },
     "metadata": {},
     "output_type": "display_data"
    }
   ],
   "source": [
    "# ref by name, 2nd element is a list\n",
    "anotherList[c(\"age\", \"work\")]"
   ]
  },
  {
   "cell_type": "code",
   "execution_count": 70,
   "metadata": {},
   "outputs": [
    {
     "data": {
      "text/html": [
       "<dl>\n",
       "\t<dt>$`title and name`</dt>\n",
       "\t\t<dd>'Trainee1'</dd>\n",
       "\t<dt>$age</dt>\n",
       "\t\t<dd>32</dd>\n",
       "</dl>\n"
      ],
      "text/latex": [
       "\\begin{description}\n",
       "\\item[\\$`title and name`] 'Trainee1'\n",
       "\\item[\\$age] 32\n",
       "\\end{description}\n"
      ],
      "text/markdown": [
       "$`title and name`\n",
       ":   'Trainee1'\n",
       "$age\n",
       ":   32\n",
       "\n",
       "\n"
      ],
      "text/plain": [
       "$`title and name`\n",
       "[1] \"Trainee1\"\n",
       "\n",
       "$age\n",
       "[1] 32\n"
      ]
     },
     "metadata": {},
     "output_type": "display_data"
    }
   ],
   "source": [
    "# subset by logicals \n",
    "anotherList[c(T,T,F)]"
   ]
  },
  {
   "cell_type": "code",
   "execution_count": 71,
   "metadata": {},
   "outputs": [
    {
     "data": {
      "text/html": [
       "<dl>\n",
       "\t<dt>$`title and name`</dt>\n",
       "\t\t<dd>'Trainee1'</dd>\n",
       "\t<dt>$age</dt>\n",
       "\t\t<dd>32</dd>\n",
       "\t<dt>$work</dt>\n",
       "\t\t<dd><dl>\n",
       "\t<dt>$statLang</dt>\n",
       "\t\t<dd>'R'</dd>\n",
       "\t<dt>$DSLang</dt>\n",
       "\t\t<dd>'Python'</dd>\n",
       "\t<dt>$smallNum</dt>\n",
       "\t\t<dd>7</dd>\n",
       "\t<dt>$fiveHundred</dt>\n",
       "\t\t<dd>500</dd>\n",
       "\t<dt>$TrueFalse</dt>\n",
       "\t\t<dd>TRUE</dd>\n",
       "</dl>\n",
       "</dd>\n",
       "\t<dt>$Rating</dt>\n",
       "\t\t<dd>'good'</dd>\n",
       "</dl>\n"
      ],
      "text/latex": [
       "\\begin{description}\n",
       "\\item[\\$`title and name`] 'Trainee1'\n",
       "\\item[\\$age] 32\n",
       "\\item[\\$work] \\begin{description}\n",
       "\\item[\\$statLang] 'R'\n",
       "\\item[\\$DSLang] 'Python'\n",
       "\\item[\\$smallNum] 7\n",
       "\\item[\\$fiveHundred] 500\n",
       "\\item[\\$TrueFalse] TRUE\n",
       "\\end{description}\n",
       "\n",
       "\\item[\\$Rating] 'good'\n",
       "\\end{description}\n"
      ],
      "text/markdown": [
       "$`title and name`\n",
       ":   'Trainee1'\n",
       "$age\n",
       ":   32\n",
       "$work\n",
       ":   $statLang\n",
       ":   'R'\n",
       "$DSLang\n",
       ":   'Python'\n",
       "$smallNum\n",
       ":   7\n",
       "$fiveHundred\n",
       ":   500\n",
       "$TrueFalse\n",
       ":   TRUE\n",
       "\n",
       "\n",
       "\n",
       "$Rating\n",
       ":   'good'\n",
       "\n",
       "\n"
      ],
      "text/plain": [
       "$`title and name`\n",
       "[1] \"Trainee1\"\n",
       "\n",
       "$age\n",
       "[1] 32\n",
       "\n",
       "$work\n",
       "$work$statLang\n",
       "[1] \"R\"\n",
       "\n",
       "$work$DSLang\n",
       "[1] \"Python\"\n",
       "\n",
       "$work$smallNum\n",
       "[1] 7\n",
       "\n",
       "$work$fiveHundred\n",
       "[1] 500\n",
       "\n",
       "$work$TrueFalse\n",
       "[1] TRUE\n",
       "\n",
       "\n",
       "$Rating\n",
       "[1] \"good\"\n"
      ]
     },
     "metadata": {},
     "output_type": "display_data"
    }
   ],
   "source": [
    "# extend lists \n",
    "anotherList$Rating <- \"good\"\n",
    "anotherList"
   ]
  },
  {
   "cell_type": "code",
   "execution_count": 72,
   "metadata": {},
   "outputs": [
    {
     "data": {
      "text/html": [
       "'R'"
      ],
      "text/latex": [
       "'R'"
      ],
      "text/markdown": [
       "'R'"
      ],
      "text/plain": [
       "[1] \"R\""
      ]
     },
     "metadata": {},
     "output_type": "display_data"
    }
   ],
   "source": [
    "anotherList$work$statLang"
   ]
  },
  {
   "cell_type": "code",
   "execution_count": 74,
   "metadata": {},
   "outputs": [
    {
     "data": {
      "text/plain": [
       "$`title and name`\n",
       "[1] \"Trainee1\"\n",
       "\n",
       "$age\n",
       "[1] 32\n",
       "\n",
       "$work\n",
       "$work$statLang\n",
       "[1] \"R\"\n",
       "\n",
       "$work$DSLang\n",
       "[1] \"Python\"\n",
       "\n",
       "$work$smallNum\n",
       "[1] 7\n",
       "\n",
       "$work$fiveHundred\n",
       "[1] 500\n",
       "\n",
       "$work$TrueFalse\n",
       "[1] TRUE\n",
       "\n",
       "\n",
       "$Rating\n",
       "[1] \"good\"\n",
       "\n",
       "[[5]]\n",
       "paid \n",
       "TRUE \n"
      ]
     },
     "metadata": {},
     "output_type": "display_data"
    }
   ],
   "source": [
    "# another way to extend\n",
    "anotherList[[5]] <- c(paid = TRUE)\n",
    "anotherList"
   ]
  },
  {
   "cell_type": "code",
   "execution_count": 75,
   "metadata": {
    "collapsed": true
   },
   "outputs": [],
   "source": [
    "# practice more ..."
   ]
  }
 ],
 "metadata": {
  "kernelspec": {
   "display_name": "R",
   "language": "R",
   "name": "ir"
  },
  "language_info": {
   "codemirror_mode": "r",
   "file_extension": ".r",
   "mimetype": "text/x-r-source",
   "name": "R",
   "pygments_lexer": "r",
   "version": "3.3.2"
  }
 },
 "nbformat": 4,
 "nbformat_minor": 2
}
