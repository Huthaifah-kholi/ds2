{
 "cells": [
  {
   "cell_type": "code",
   "execution_count": 203,
   "metadata": {
    "collapsed": true
   },
   "outputs": [],
   "source": [
    "# adapted from facepy.ipnb\n",
    "# facepy = https://github.com/jgorset/facepy  (see also https://github.com/mobolic/facebook-sdk)\n",
    "# users who liked fb page posts: https://github.com/OPSECman/fb_scaper\n",
    "# use https://www.functions-online.com/strtotime.html to convert date to number (unix style)\n",
    "# Jazeera en https://twitter.com/ajenglish  https://www.facebook.com/aljazeera  http://www.aljazeera.com/\n",
    "# Jazeera ar https://twitter.com/ajarabic   https://www.facebook.com/aljazeerachannel  http://www.aljazeera.net/portal\n",
    "\n",
    "# https://www.linkedin.com/pulse/comparing-arabic-english-sentiment-three-news-channels-abed-khooli/"
   ]
  },
  {
   "cell_type": "code",
   "execution_count": 1,
   "metadata": {
    "collapsed": true
   },
   "outputs": [],
   "source": [
    "from facepy import GraphAPI\n",
    "import os\n",
    "import sys\n",
    "import csv\n",
    "open_kwargs = {'newline': ''} # for Python 3+ file writing\n",
    "from datetime import datetime\n",
    "#'app_id' => '1578374648887802',\n",
    "# 'app_secret' => '326222474004cfb11fb5e9dfd09362f4'\n",
    "# from https://stackoverflow.com/questions/47785552/parse-access-token-from-userid-facebook/47785900#47785900    \n",
    "access_token = 'EAAWbhfxEZBfoBADXwIhBhZAmCOYsSKUGYmlcI2TsZAZCvihO8ewXKWcvCmRVuuuAioLN0JAql4ioacx6dv7nO4Qr4jk96ZC9wdQ0MZAVOSxC25fRqrDd4VKzAEPqJIV0c1EHRxVZB2uouSuLTGpuW2eZApfhgBx65gdnFQrzw6MJJAZDZD'\n",
    "graph = GraphAPI(access_token)"
   ]
  },
  {
   "cell_type": "code",
   "execution_count": 8,
   "metadata": {
    "collapsed": true
   },
   "outputs": [],
   "source": [
    "def tidyDate(ts):\n",
    "    dobj = datetime.strptime(ts,'%Y-%m-%dT%H:%M:%S%z')\n",
    "    return dobj.strftime(\"%b %d %Y %H:%M:%S\")\n",
    " "
   ]
  },
  {
   "cell_type": "code",
   "execution_count": 206,
   "metadata": {},
   "outputs": [
    {
     "data": {
      "text/plain": [
       "'Jan 04 2018 13:30:00'"
      ]
     },
     "execution_count": 206,
     "metadata": {},
     "output_type": "execute_result"
    }
   ],
   "source": [
    "mydate = '2018-01-04T13:30:00+0000'\n",
    "tidyDate(mydate)"
   ]
  },
  {
   "cell_type": "code",
   "execution_count": 15,
   "metadata": {
    "collapsed": true
   },
   "outputs": [],
   "source": [
    "pages_en = graph.get('aljazeera' + \"/posts\", \n",
    "page=True, \n",
    "retry=3, \n",
    "limit=100,\n",
    "since= 1512687600, # Dec. 8, 2017\n",
    "until= 1515366000 # Jan. 8, 2018\n",
    "                 )  # use https://www.functions-online.com/strtotime.html to convert to #s\n",
    "posts_en =[]\n",
    "for p in pages_en:\n",
    "    posts_en.extend(p['data'])\n"
   ]
  },
  {
   "cell_type": "code",
   "execution_count": 16,
   "metadata": {},
   "outputs": [
    {
     "data": {
      "text/plain": [
       "477"
      ]
     },
     "execution_count": 16,
     "metadata": {},
     "output_type": "execute_result"
    }
   ],
   "source": [
    "len(posts_en) # 1513292400 = dec. 15"
   ]
  },
  {
   "cell_type": "code",
   "execution_count": 17,
   "metadata": {},
   "outputs": [
    {
     "name": "stdout",
     "output_type": "stream",
     "text": [
      "New file is being created.\n"
     ]
    }
   ],
   "source": [
    "file_name_en = 'Jazeera_en_fb.csv'\n",
    "\n",
    "if os.path.exists(file_name_en):\n",
    "    print('File already there. Delete it if you want to start from scratch.')\n",
    "else:\n",
    "    print('New file is being created.')\n",
    "    with open(file_name_en, 'w', **open_kwargs) as f:\n",
    "        csv.writer(f).writerow([\n",
    "\t                                \"id\",\n",
    "\t                                \"message\",\n",
    "\t                                \"created_time\"])"
   ]
  },
  {
   "cell_type": "code",
   "execution_count": 18,
   "metadata": {},
   "outputs": [
    {
     "name": "stdout",
     "output_type": "stream",
     "text": [
      "Exception caught: key not found: {'id': '7382473689_10156287474683690', 'created_time': '2017-12-11T15:00:17+0000', 'story': 'Al Jazeera English was live.'}\n",
      "Exception caught: key not found: {'id': '7382473689_10156284209898690', 'created_time': '2017-12-10T15:00:10+0000', 'story': 'Al Jazeera English was live.'}\n",
      "Exception caught: key not found: {'id': '7382473689_10156278065153690', 'created_time': '2017-12-08T14:59:54+0000', 'story': 'Al Jazeera English was live.'}\n",
      "Except errors above, if any, data written to file.\n"
     ]
    }
   ],
   "source": [
    "# open a csv file to store the posts and their sentiment\n",
    "with open(file_name_en, 'a', **open_kwargs) as csvfile:\n",
    "    csv_writer = csv.DictWriter(\n",
    "        f=csvfile,\n",
    "        fieldnames=[\n",
    "                    \"id\",\n",
    "                    \"message\",\n",
    "                    \"created_time\"]\n",
    "    )\n",
    "\n",
    "  \n",
    "    # tidy up the posts \n",
    "    for item in posts_en:\n",
    "        try:\n",
    "            message = item['message'].strip().encode('ascii', 'ignore').decode('ascii')\n",
    "            csv_writer.writerow({\n",
    "        \t\"id\": item['id'],\n",
    "        \t\"message\": message,\n",
    "            \"created_time\": tidyDate(item['created_time'])\n",
    "            })\n",
    "        except KeyError:\n",
    "            print(\"Exception caught: key not found:\", item) \n",
    "            continue\n",
    "print(\"Except errors above, if any, data written to file.\")"
   ]
  },
  {
   "cell_type": "code",
   "execution_count": 19,
   "metadata": {
    "collapsed": true
   },
   "outputs": [],
   "source": [
    "pages_ar = graph.get('aljazeerachannel' + \"/posts\", \n",
    "page=True, \n",
    "retry=3, \n",
    "limit=100,\n",
    "since= 1512687600, # Dec. 8, 2017\n",
    "until= 1515366000 # Jan. 8, 2018\n",
    "                 )  # use https://www.functions-online.com/strtotime.html to convert to #s\n",
    "posts_ar =[]\n",
    "for p in pages_ar:\n",
    "    posts_ar.extend(p['data'])"
   ]
  },
  {
   "cell_type": "code",
   "execution_count": 20,
   "metadata": {},
   "outputs": [
    {
     "data": {
      "text/plain": [
       "492"
      ]
     },
     "execution_count": 20,
     "metadata": {},
     "output_type": "execute_result"
    }
   ],
   "source": [
    "len(posts_ar)"
   ]
  },
  {
   "cell_type": "code",
   "execution_count": 21,
   "metadata": {},
   "outputs": [
    {
     "name": "stdout",
     "output_type": "stream",
     "text": [
      "New file is being created.\n"
     ]
    }
   ],
   "source": [
    "file_name_ar = 'Jazeera_ar_fb.csv'\n",
    "\n",
    "if os.path.exists(file_name_ar):\n",
    "    print('File already there. Delete it if you want to start from scratch.')\n",
    "else:\n",
    "    print('New file is being created.')\n",
    "    with open(file_name_ar, 'w', **open_kwargs) as f:\n",
    "        csv.writer(f).writerow([\n",
    "\t                                \"id\",\n",
    "\t                                \"message\",\n",
    "\t                                \"created_time\"])"
   ]
  },
  {
   "cell_type": "code",
   "execution_count": 22,
   "metadata": {},
   "outputs": [
    {
     "name": "stdout",
     "output_type": "stream",
     "text": [
      "Exception caught: key not found: {'id': '160729029892_10156419263389893', 'created_time': '2018-01-07T10:44:57+0000', 'story': '\\u200eAl Jazeera Channel - قناة الجزيرة\\u200e shared their video.'}\n",
      "Exception caught: key not found: {'id': '160729029892_10156412801914893', 'created_time': '2018-01-05T06:01:39+0000', 'story': \"\\u200eAl Jazeera Channel - قناة الجزيرة\\u200e shared \\u200eالجزيرة – هذا الصباح\\u200e's live video.\"}\n",
      "Exception caught: key not found: {'id': '160729029892_10156411139709893', 'created_time': '2018-01-04T15:42:13+0000', 'story': \"\\u200eAl Jazeera Channel - قناة الجزيرة\\u200e shared \\u200eطب وصحة - الجزيرة\\u200e's live video.\"}\n",
      "Exception caught: key not found: {'id': '160729029892_10156410153959893', 'created_time': '2018-01-04T05:57:19+0000', 'story': \"\\u200eAl Jazeera Channel - قناة الجزيرة\\u200e shared \\u200eالجزيرة – هذا الصباح\\u200e's live video.\"}\n",
      "Exception caught: key not found: {'id': '160729029892_10156408012029893', 'created_time': '2018-01-03T15:00:00+0000', 'story': \"\\u200eAl Jazeera Channel - قناة الجزيرة\\u200e shared \\u200eللقصة بقية\\u200e's video.\"}\n",
      "Exception caught: key not found: {'id': '160729029892_10156407291299893', 'created_time': '2018-01-03T05:56:03+0000', 'story': \"\\u200eAl Jazeera Channel - قناة الجزيرة\\u200e shared \\u200eالجزيرة – هذا الصباح\\u200e's live video.\"}\n",
      "Exception caught: key not found: {'id': '160729029892_10156405128479893', 'created_time': '2018-01-02T14:45:00+0000', 'story': \"\\u200eAl Jazeera Channel - قناة الجزيرة\\u200e shared \\u200eللقصة بقية\\u200e's video.\"}\n",
      "Exception caught: key not found: {'id': '160729029892_10156404528614893', 'created_time': '2018-01-02T06:01:15+0000', 'story': \"\\u200eAl Jazeera Channel - قناة الجزيرة\\u200e shared \\u200eالجزيرة – هذا الصباح\\u200e's live video.\"}\n",
      "Except errors above, if any, data written to file.\n"
     ]
    }
   ],
   "source": [
    "# open a csv file to store the posts and their sentiment\n",
    "with open(file_name_ar, 'a', **open_kwargs) as csvfile:\n",
    "    csv_writer = csv.DictWriter(\n",
    "        f=csvfile,\n",
    "        fieldnames=[\n",
    "                    \"id\",\n",
    "                    \"message\",\n",
    "                    \"created_time\"]\n",
    "    )\n",
    "\n",
    "  \n",
    "    # tidy up the posts - note decode('utf-8-sig') removes BOM\n",
    "    for item in posts_ar:\n",
    "        try:\n",
    "            # avoid decoding issues by using this ...\n",
    "            message = item['message'].strip().encode('cp1256', 'ignore').decode('cp1256')\n",
    "          \n",
    "            csv_writer.writerow({\n",
    "        \t\"id\": item['id'],\n",
    "        \t\"message\": message,\n",
    "            \"created_time\": tidyDate(item['created_time'])\n",
    "            })\n",
    "        except KeyError:\n",
    "            print(\"Exception caught: key not found:\", item) \n",
    "            continue\n",
    "print(\"Except errors above, if any, data written to file.\")"
   ]
  },
  {
   "cell_type": "code",
   "execution_count": null,
   "metadata": {
    "collapsed": true
   },
   "outputs": [],
   "source": [
    "# https://english.alarabiya.net/   https://twitter.com/AlArabiya_Eng    https://www.facebook.com/alarabiya.english\n",
    "# https://www.alarabiya.net/   https://www.twitter.com/AlArabiya    https://www.facebook.com/AlArabiya"
   ]
  },
  {
   "cell_type": "code",
   "execution_count": 4,
   "metadata": {},
   "outputs": [],
   "source": [
    "pages_en_a = graph.get('alarabiya.english' + \"/posts\", \n",
    "page=True, \n",
    "retry=3, \n",
    "limit=100,\n",
    "since= 1512687600, # Dec. 8, 2017\n",
    "until= 1515366000 # Jan. 8, 2018\n",
    "                 )  # use https://www.functions-online.com/strtotime.html to convert to #s\n",
    "posts_en_a =[]\n",
    "for p in pages_en_a:\n",
    "    posts_en_a.extend(p['data'])"
   ]
  },
  {
   "cell_type": "code",
   "execution_count": 5,
   "metadata": {},
   "outputs": [
    {
     "data": {
      "text/plain": [
       "473"
      ]
     },
     "execution_count": 5,
     "metadata": {},
     "output_type": "execute_result"
    }
   ],
   "source": [
    "len(posts_en_a)"
   ]
  },
  {
   "cell_type": "code",
   "execution_count": 6,
   "metadata": {},
   "outputs": [
    {
     "name": "stdout",
     "output_type": "stream",
     "text": [
      "New file is being created.\n"
     ]
    }
   ],
   "source": [
    "file_name_en_a = 'Arabia_en_fb.csv'\n",
    "\n",
    "if os.path.exists(file_name_en_a):\n",
    "    print('File already there. Delete it if you want to start from scratch.')\n",
    "else:\n",
    "    print('New file is being created.')\n",
    "    with open(file_name_en_a, 'w', **open_kwargs) as f:\n",
    "        csv.writer(f).writerow([\n",
    "\t                                \"id\",\n",
    "\t                                \"message\",\n",
    "\t                                \"created_time\"])"
   ]
  },
  {
   "cell_type": "code",
   "execution_count": 9,
   "metadata": {},
   "outputs": [
    {
     "name": "stdout",
     "output_type": "stream",
     "text": [
      "Exception caught: key not found: {'id': '114884335231354_1541854049201035', 'created_time': '2017-12-29T05:21:38+0000', 'story': 'Al Arabiya English shared a link.'}\n",
      "Exception caught: key not found: {'id': '114884335231354_1525267987526308', 'created_time': '2017-12-11T13:39:49+0000', 'story': 'Al Arabiya English was live.'}\n",
      "Except errors above, if any, data written to file.\n"
     ]
    }
   ],
   "source": [
    "# open a csv file to store the posts and their sentiment\n",
    "with open(file_name_en_a, 'a', **open_kwargs) as csvfile:\n",
    "    csv_writer = csv.DictWriter(\n",
    "        f=csvfile,\n",
    "        fieldnames=[\n",
    "                    \"id\",\n",
    "                    \"message\",\n",
    "                    \"created_time\"]\n",
    "    )\n",
    "\n",
    "  \n",
    "    # tidy up the posts \n",
    "    for item in posts_en_a:\n",
    "        try:\n",
    "            message = item['message'].strip().encode('ascii', 'ignore').decode('ascii')\n",
    "            csv_writer.writerow({\n",
    "        \t\"id\": item['id'],\n",
    "        \t\"message\": message,\n",
    "            \"created_time\": tidyDate(item['created_time'])\n",
    "            })\n",
    "        except KeyError:\n",
    "            print(\"Exception caught: key not found:\", item) \n",
    "            continue\n",
    "print(\"Except errors above, if any, data written to file.\")"
   ]
  },
  {
   "cell_type": "code",
   "execution_count": 11,
   "metadata": {},
   "outputs": [],
   "source": [
    "pages_ar_a = graph.get('AlArabiya' + \"/posts\", \n",
    "page=True, \n",
    "retry=3, \n",
    "limit=100,\n",
    "since= 1512687600, # Dec. 8, 2017\n",
    "until= 1515366000 # Jan. 8, 2018\n",
    "                 )  # use https://www.functions-online.com/strtotime.html to convert to #s\n",
    "posts_ar_a =[]\n",
    "for p in pages_ar_a:\n",
    "    posts_ar_a.extend(p['data'])"
   ]
  },
  {
   "cell_type": "code",
   "execution_count": 12,
   "metadata": {},
   "outputs": [
    {
     "data": {
      "text/plain": [
       "494"
      ]
     },
     "execution_count": 12,
     "metadata": {},
     "output_type": "execute_result"
    }
   ],
   "source": [
    "len(posts_ar_a)"
   ]
  },
  {
   "cell_type": "code",
   "execution_count": 13,
   "metadata": {},
   "outputs": [
    {
     "name": "stdout",
     "output_type": "stream",
     "text": [
      "New file is being created.\n"
     ]
    }
   ],
   "source": [
    "file_name_ar_a = 'Arabia_ar_fb.csv'\n",
    "\n",
    "if os.path.exists(file_name_ar_a):\n",
    "    print('File already there. Delete it if you want to start from scratch.')\n",
    "else:\n",
    "    print('New file is being created.')\n",
    "    with open(file_name_ar_a, 'w', **open_kwargs) as f:\n",
    "        csv.writer(f).writerow([\n",
    "\t                                \"id\",\n",
    "\t                                \"message\",\n",
    "\t                                \"created_time\"])"
   ]
  },
  {
   "cell_type": "code",
   "execution_count": 14,
   "metadata": {},
   "outputs": [
    {
     "name": "stdout",
     "output_type": "stream",
     "text": [
      "Exception caught: key not found: {'id': '113791238657176_1739590699410547', 'created_time': '2018-01-07T20:22:05+0000', 'story': \"\\u200eقناة العربية  Al Arabiya\\u200e shared \\u200eTafa3olcom #تفاعلكم\\u200e's video.\"}\n",
      "Exception caught: key not found: {'id': '113791238657176_1739175042785446', 'created_time': '2018-01-07T12:17:17+0000', 'story': \"\\u200eقناة العربية  Al Arabiya\\u200e shared \\u200eصباح العربية - Sabah Al Arabiya\\u200e's video.\"}\n",
      "Exception caught: key not found: {'id': '113791238657176_1737836346252649', 'created_time': '2018-01-06T06:44:50+0000', 'story': \"\\u200eقناة العربية  Al Arabiya\\u200e shared \\u200eالشاشة الكبيرة - The Big Screen Show\\u200e's post.\"}\n",
      "Exception caught: key not found: {'id': '113791238657176_1736687863034164', 'created_time': '2018-01-05T06:15:46+0000', 'story': \"\\u200eقناة العربية  Al Arabiya\\u200e shared \\u200eTafa3olcom #تفاعلكم\\u200e's video.\"}\n",
      "Exception caught: key not found: {'id': '113791238657176_1735917313111219', 'created_time': '2018-01-04T18:00:00+0000', 'story': \"\\u200eقناة العربية  Al Arabiya\\u200e shared \\u200eالعربية برامج - Al Arabiya Programs\\u200e's video.\"}\n",
      "Exception caught: key not found: {'id': '113791238657176_1735943926441891', 'created_time': '2018-01-04T14:00:00+0000', 'story': \"\\u200eقناة العربية  Al Arabiya\\u200e shared \\u200eالعربية برامج - Al Arabiya Programs\\u200e's video.\"}\n",
      "Exception caught: key not found: {'id': '113791238657176_1735819216454362', 'created_time': '2018-01-04T10:37:26+0000', 'story': \"\\u200eقناة العربية  Al Arabiya\\u200e shared \\u200eالعربية برامج - Al Arabiya Programs\\u200e's video.\"}\n",
      "Exception caught: key not found: {'id': '113791238657176_1735183459851271', 'created_time': '2018-01-03T19:35:39+0000', 'story': \"\\u200eقناة العربية  Al Arabiya\\u200e shared \\u200eTafa3olcom #تفاعلكم\\u200e's video.\"}\n",
      "Exception caught: key not found: {'id': '113791238657176_1734881849881432', 'created_time': '2018-01-03T14:11:29+0000', 'story': \"\\u200eقناة العربية  Al Arabiya\\u200e shared \\u200eالعربية برامج - Al Arabiya Programs\\u200e's video.\"}\n",
      "Exception caught: key not found: {'id': '113791238657176_1734820119887605', 'created_time': '2018-01-03T12:46:47+0000', 'story': \"\\u200eقناة العربية  Al Arabiya\\u200e shared \\u200eTafa3olcom #تفاعلكم\\u200e's video.\"}\n",
      "Exception caught: key not found: {'id': '113791238657176_1734758016560482', 'created_time': '2018-01-03T11:07:12+0000', 'story': \"\\u200eقناة العربية  Al Arabiya\\u200e shared Al Arabiya English's video.\"}\n",
      "Exception caught: key not found: {'id': '113791238657176_1733960543306896', 'created_time': '2018-01-02T14:37:28+0000', 'story': \"\\u200eقناة العربية  Al Arabiya\\u200e shared \\u200eصباح العربية - Sabah Al Arabiya\\u200e's video.\"}\n",
      "Exception caught: key not found: {'id': '113791238657176_1731782326858051', 'created_time': '2017-12-31T12:30:22+0000', 'story': \"\\u200eقناة العربية  Al Arabiya\\u200e shared \\u200eصباح العربية - Sabah Al Arabiya\\u200e's video.\"}\n",
      "Exception caught: key not found: {'id': '113791238657176_1730811053621845', 'created_time': '2017-12-30T11:57:34+0000', 'story': \"\\u200eقناة العربية  Al Arabiya\\u200e shared \\u200eالعربية مصر - Al Arabiya Egypt\\u200e's post.\"}\n",
      "Exception caught: key not found: {'id': '113791238657176_1729471263755824', 'created_time': '2017-12-28T21:05:45+0000', 'story': \"\\u200eقناة العربية  Al Arabiya\\u200e shared Al Arabiya English's video.\"}\n",
      "Exception caught: key not found: {'id': '113791238657176_1729470320422585', 'created_time': '2017-12-28T21:04:16+0000', 'story': \"\\u200eقناة العربية  Al Arabiya\\u200e shared \\u200eالعربية برامج - Al Arabiya Programs\\u200e's video.\"}\n",
      "Exception caught: key not found: {'id': '113791238657176_1729461733756777', 'created_time': '2017-12-28T20:51:54+0000', 'story': \"\\u200eقناة العربية  Al Arabiya\\u200e shared \\u200eصباح العربية - Sabah Al Arabiya\\u200e's video.\"}\n",
      "Exception caught: key not found: {'id': '113791238657176_1729454173757533', 'created_time': '2017-12-28T20:41:24+0000', 'story': \"\\u200eقناة العربية  Al Arabiya\\u200e shared \\u200eTafa3olcom #تفاعلكم\\u200e's video.\"}\n",
      "Exception caught: key not found: {'id': '113791238657176_1728485847187699', 'created_time': '2017-12-27T18:14:35+0000', 'story': \"\\u200eقناة العربية  Al Arabiya\\u200e shared \\u200eTafa3olcom #تفاعلكم\\u200e's video.\"}\n",
      "Exception caught: key not found: {'id': '113791238657176_1728345760535041', 'created_time': '2017-12-27T14:46:07+0000', 'story': \"\\u200eقناة العربية  Al Arabiya\\u200e shared \\u200eالعربية السعودية - Al Arabiya Saudi\\u200e's video.\"}\n",
      "Exception caught: key not found: {'id': '113791238657176_1728304227205861', 'created_time': '2017-12-27T13:51:23+0000', 'story': \"\\u200eقناة العربية  Al Arabiya\\u200e shared \\u200eصباح العربية - Sabah Al Arabiya\\u200e's video.\"}\n",
      "Exception caught: key not found: {'created_time': '2017-12-22T08:10:00+0000', 'id': '113791238657176_1723486304354320'}\n",
      "Except errors above, if any, data written to file.\n"
     ]
    }
   ],
   "source": [
    "# open a csv file to store the posts and their sentiment\n",
    "with open(file_name_ar_a, 'a', **open_kwargs) as csvfile:\n",
    "    csv_writer = csv.DictWriter(\n",
    "        f=csvfile,\n",
    "        fieldnames=[\n",
    "                    \"id\",\n",
    "                    \"message\",\n",
    "                    \"created_time\"]\n",
    "    )\n",
    "\n",
    "  \n",
    "    # tidy up the posts - note decode('utf-8-sig') removes BOM\n",
    "    for item in posts_ar_a:\n",
    "        try:\n",
    "            # avoid decoding issues by using this ...\n",
    "            message = item['message'].strip().encode('cp1256', 'ignore').decode('cp1256')\n",
    "          \n",
    "            csv_writer.writerow({\n",
    "        \t\"id\": item['id'],\n",
    "        \t\"message\": message,\n",
    "            \"created_time\": tidyDate(item['created_time'])\n",
    "            })\n",
    "        except KeyError:\n",
    "            print(\"Exception caught: key not found:\", item) \n",
    "            continue\n",
    "print(\"Except errors above, if any, data written to file.\")"
   ]
  },
  {
   "cell_type": "code",
   "execution_count": 24,
   "metadata": {},
   "outputs": [
    {
     "data": {
      "text/plain": [
       "465"
      ]
     },
     "execution_count": 24,
     "metadata": {},
     "output_type": "execute_result"
    }
   ],
   "source": [
    "# BBC http://www.bbc.com/news   https://www.facebook.com/bbcnews https://twitter.com/BBCNews https://twitter.com/BBCWorld\n",
    "pages_en_bbc = graph.get('bbcnews' + \"/posts\", \n",
    "page=True, \n",
    "retry=3, \n",
    "limit=100,\n",
    "since= 1512687600, # Dec. 8, 2017\n",
    "until= 1515366000 # Jan. 8, 2018\n",
    "                 )  # use https://www.functions-online.com/strtotime.html to convert to #s\n",
    "posts_en_bbc =[]\n",
    "for p in pages_en_bbc:\n",
    "    posts_en_bbc.extend(p['data'])\n",
    "    \n",
    "len(posts_en_bbc)"
   ]
  },
  {
   "cell_type": "code",
   "execution_count": 25,
   "metadata": {},
   "outputs": [
    {
     "name": "stdout",
     "output_type": "stream",
     "text": [
      "New file is being created.\n"
     ]
    }
   ],
   "source": [
    "file_name_en_bbc = 'BBC_en_fb.csv'\n",
    "\n",
    "if os.path.exists(file_name_en_bbc):\n",
    "    print('File already there. Delete it if you want to start from scratch.')\n",
    "else:\n",
    "    print('New file is being created.')\n",
    "    with open(file_name_en_bbc, 'w', **open_kwargs) as f:\n",
    "        csv.writer(f).writerow([\n",
    "\t                                \"id\",\n",
    "\t                                \"message\",\n",
    "\t                                \"created_time\"])"
   ]
  },
  {
   "cell_type": "code",
   "execution_count": 26,
   "metadata": {},
   "outputs": [
    {
     "name": "stdout",
     "output_type": "stream",
     "text": [
      "Except errors above, if any, data written to file.\n"
     ]
    }
   ],
   "source": [
    "# open a csv file to store the posts and their sentiment\n",
    "with open(file_name_en_bbc, 'a', **open_kwargs) as csvfile:\n",
    "    csv_writer = csv.DictWriter(\n",
    "        f=csvfile,\n",
    "        fieldnames=[\n",
    "                    \"id\",\n",
    "                    \"message\",\n",
    "                    \"created_time\"]\n",
    "    )\n",
    "\n",
    "  \n",
    "    # tidy up the posts \n",
    "    for item in posts_en_bbc:\n",
    "        try:\n",
    "            message = item['message'].strip().encode('ascii', 'ignore').decode('ascii')\n",
    "            csv_writer.writerow({\n",
    "        \t\"id\": item['id'],\n",
    "        \t\"message\": message,\n",
    "            \"created_time\": tidyDate(item['created_time'])\n",
    "            })\n",
    "        except KeyError:\n",
    "            print(\"Exception caught: key not found:\", item) \n",
    "            continue\n",
    "print(\"Except errors above, if any, data written to file.\")"
   ]
  },
  {
   "cell_type": "code",
   "execution_count": 27,
   "metadata": {},
   "outputs": [
    {
     "data": {
      "text/plain": [
       "513"
      ]
     },
     "execution_count": 27,
     "metadata": {},
     "output_type": "execute_result"
    }
   ],
   "source": [
    "# https://www.facebook.com/bbcarabic/\n",
    "pages_ar_bbc = graph.get('bbcarabic' + \"/posts\", \n",
    "page=True, \n",
    "retry=3, \n",
    "limit=100,\n",
    "since= 1512687600, # Dec. 8, 2017\n",
    "until= 1515366000 # Jan. 8, 2018\n",
    "                 )  # use https://www.functions-online.com/strtotime.html to convert to #s\n",
    "posts_ar_bbc =[]\n",
    "for p in pages_ar_bbc:\n",
    "    posts_ar_bbc.extend(p['data'])\n",
    "    \n",
    "len(posts_ar_bbc)"
   ]
  },
  {
   "cell_type": "code",
   "execution_count": 28,
   "metadata": {},
   "outputs": [
    {
     "name": "stdout",
     "output_type": "stream",
     "text": [
      "New file is being created.\n"
     ]
    }
   ],
   "source": [
    "file_name_ar_bbc = 'BBC_ar_fb.csv'\n",
    "\n",
    "if os.path.exists(file_name_ar_bbc):\n",
    "    print('File already there. Delete it if you want to start from scratch.')\n",
    "else:\n",
    "    print('New file is being created.')\n",
    "    with open(file_name_ar_bbc, 'w', **open_kwargs) as f:\n",
    "        csv.writer(f).writerow([\n",
    "\t                                \"id\",\n",
    "\t                                \"message\",\n",
    "\t                                \"created_time\"])"
   ]
  },
  {
   "cell_type": "code",
   "execution_count": 29,
   "metadata": {},
   "outputs": [
    {
     "name": "stdout",
     "output_type": "stream",
     "text": [
      "Exception caught: key not found: {'id': '9432520138_10156340362125139', 'created_time': '2018-01-07T21:24:26+0000', 'story': \"BBC Arabic shared \\u200eHuna London - BBC Arabic هنا لندن - إذاعة بي بي سي العربية\\u200e's video.\"}\n",
      "Exception caught: key not found: {'id': '9432520138_10156340361160139', 'created_time': '2018-01-07T21:23:55+0000', 'story': \"BBC Arabic shared \\u200eHuna London - BBC Arabic هنا لندن - إذاعة بي بي سي العربية\\u200e's video.\"}\n",
      "Exception caught: key not found: {'id': '9432520138_10156339815845139', 'created_time': '2018-01-07T17:18:39+0000', 'story': \"BBC Arabic shared BBC Arabic Our World - Dunyana's video.\"}\n",
      "Exception caught: key not found: {'id': '9432520138_10156338797135139', 'created_time': '2018-01-07T07:51:42+0000', 'story': \"BBC Arabic shared BBC Arabic Our World - Dunyana's video.\"}\n",
      "Exception caught: key not found: {'id': '9432520138_10156337851015139', 'created_time': '2018-01-06T21:30:38+0000', 'story': \"BBC Arabic shared BBC Arabic Our World - Dunyana's video.\"}\n",
      "Exception caught: key not found: {'id': '9432520138_10156336929705139', 'created_time': '2018-01-06T14:28:51+0000', 'story': \"BBC Arabic shared \\u200eBBC Arabic Midnight Talk دردشة ليلية\\u200e's post.\"}\n",
      "Exception caught: key not found: {'id': '9432520138_10156336676255139', 'created_time': '2018-01-06T12:47:52+0000', 'story': \"BBC Arabic shared \\u200eBBC Arabic Midnight Talk دردشة ليلية\\u200e's post.\"}\n",
      "Exception caught: key not found: {'id': '9432520138_10156336131695139', 'created_time': '2018-01-06T07:07:01+0000', 'story': \"BBC Arabic shared BBC Arabic Our World - Dunyana's video.\"}\n",
      "Exception caught: key not found: {'id': '9432520138_10156333840570139', 'created_time': '2018-01-05T12:42:50+0000', 'story': \"BBC Arabic shared BBC Arabic Our World - Dunyana's video.\"}\n",
      "Exception caught: key not found: {'id': '9432520138_10156333488255139', 'created_time': '2018-01-05T09:09:36+0000', 'story': \"BBC Arabic shared BBC Arabic Our World - Dunyana's video.\"}\n",
      "Exception caught: key not found: {'id': '9432520138_10156332633145139', 'created_time': '2018-01-04T23:31:05+0000', 'story': \"BBC Arabic shared \\u200eBBC Arabic Book World عالم الكتب\\u200e's post.\"}\n",
      "Exception caught: key not found: {'id': '9432520138_10156330778745139', 'created_time': '2018-01-04T09:52:31+0000', 'story': \"BBC Arabic shared BBC Arabic Our World - Dunyana's post.\"}\n",
      "Exception caught: key not found: {'id': '9432520138_10156329884360139', 'created_time': '2018-01-03T22:51:33+0000', 'story': \"BBC Arabic shared BBC Arabic Our World - Dunyana's video.\"}\n",
      "Exception caught: key not found: {'id': '9432520138_10156329224100139', 'created_time': '2018-01-03T17:30:17+0000', 'story': \"BBC Arabic shared \\u200eBBC Arabic Midnight Talk دردشة ليلية\\u200e's video.\"}\n",
      "Exception caught: key not found: {'id': '9432520138_10156328842320139', 'created_time': '2018-01-03T14:59:10+0000', 'story': \"BBC Arabic shared \\u200eBBC Arabic Midnight Talk دردشة ليلية\\u200e's video.\"}\n",
      "Exception caught: key not found: {'id': '9432520138_10156327325120139', 'created_time': '2018-01-02T23:16:34+0000', 'story': \"BBC Arabic shared BBC Arabic Our World - Dunyana's video.\"}\n",
      "Exception caught: key not found: {'id': '9432520138_10156326542375139', 'created_time': '2018-01-02T16:40:04+0000', 'story': \"BBC Arabic shared BBC Arabic Our World - Dunyana's video.\"}\n",
      "Exception caught: key not found: {'id': '9432520138_10156326094135139', 'created_time': '2018-01-02T13:05:27+0000', 'story': \"BBC Arabic shared \\u200eBBC Arabic Midnight Talk دردشة ليلية\\u200e's post.\"}\n",
      "Exception caught: key not found: {'id': '9432520138_10156325815170139', 'created_time': '2018-01-02T11:27:02+0000', 'story': \"BBC Arabic shared \\u200eBBC Arabic Midnight Talk دردشة ليلية\\u200e's post.\"}\n",
      "Exception caught: key not found: {'id': '9432520138_10156323965855139', 'created_time': '2018-01-01T16:45:33+0000', 'story': \"BBC Arabic shared \\u200eأيام من بي بي سي BBC Arabic Radio Archive\\u200e's post.\"}\n",
      "Exception caught: key not found: {'id': '9432520138_10156323837045139', 'created_time': '2018-01-01T16:09:17+0000', 'story': \"BBC Arabic shared BBC Arabic Music Box's post.\"}\n",
      "Exception caught: key not found: {'id': '9432520138_10156323056860139', 'created_time': '2018-01-01T11:04:19+0000', 'story': \"BBC Arabic shared BBC Arabic Our World - Dunyana's video.\"}\n",
      "Exception caught: key not found: {'id': '9432520138_10156321204295139', 'created_time': '2017-12-31T20:29:09+0000', 'story': \"BBC Arabic shared BBC Arabic Our World - Dunyana's video.\"}\n",
      "Exception caught: key not found: {'id': '9432520138_10156320353685139', 'created_time': '2017-12-31T15:09:51+0000', 'story': \"BBC Arabic shared BBC Arabic Our World - Dunyana's video.\"}\n",
      "Exception caught: key not found: {'id': '9432520138_10156320054870139', 'created_time': '2017-12-31T13:03:58+0000', 'story': 'BBC Arabic shared a link.'}\n",
      "Exception caught: key not found: {'id': '9432520138_10156319406955139', 'created_time': '2017-12-31T07:58:27+0000', 'story': \"BBC Arabic shared BBC Arabic Our World - Dunyana's video.\"}\n",
      "Exception caught: key not found: {'id': '9432520138_10156318503385139', 'created_time': '2017-12-30T22:57:08+0000', 'story': \"BBC Arabic shared \\u200eBBC Arabic Book World عالم الكتب\\u200e's post.\"}\n",
      "Except errors above, if any, data written to file.\n"
     ]
    }
   ],
   "source": [
    "# open a csv file to store the posts and their sentiment\n",
    "with open(file_name_ar_bbc, 'a', **open_kwargs) as csvfile:\n",
    "    csv_writer = csv.DictWriter(\n",
    "        f=csvfile,\n",
    "        fieldnames=[\n",
    "                    \"id\",\n",
    "                    \"message\",\n",
    "                    \"created_time\"]\n",
    "    )\n",
    "\n",
    "  \n",
    "    # tidy up the posts - note decode('utf-8-sig') removes BOM\n",
    "    for item in posts_ar_bbc:\n",
    "        try:\n",
    "            # avoid decoding issues by using this ...\n",
    "            message = item['message'].strip().encode('cp1256', 'ignore').decode('cp1256')\n",
    "          \n",
    "            csv_writer.writerow({\n",
    "        \t\"id\": item['id'],\n",
    "        \t\"message\": message,\n",
    "            \"created_time\": tidyDate(item['created_time'])\n",
    "            })\n",
    "        except KeyError:\n",
    "            print(\"Exception caught: key not found:\", item) \n",
    "            continue\n",
    "print(\"Except errors above, if any, data written to file.\")"
   ]
  },
  {
   "cell_type": "code",
   "execution_count": null,
   "metadata": {
    "collapsed": true
   },
   "outputs": [],
   "source": []
  }
 ],
 "metadata": {
  "kernelspec": {
   "display_name": "Python [default]",
   "language": "python",
   "name": "python3"
  },
  "language_info": {
   "codemirror_mode": {
    "name": "ipython",
    "version": 3
   },
   "file_extension": ".py",
   "mimetype": "text/x-python",
   "name": "python",
   "nbconvert_exporter": "python",
   "pygments_lexer": "ipython3",
   "version": "3.6.4"
  }
 },
 "nbformat": 4,
 "nbformat_minor": 2
}
