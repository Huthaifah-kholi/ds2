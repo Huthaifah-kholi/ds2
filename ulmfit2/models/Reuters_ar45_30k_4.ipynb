{
  "nbformat": 4,
  "nbformat_minor": 0,
  "metadata": {
    "colab": {
      "name": "Reuters_ar45_30k_4.ipynb",
      "version": "0.3.2",
      "provenance": [],
      "collapsed_sections": []
    },
    "kernelspec": {
      "name": "python3",
      "display_name": "Python 3"
    },
    "accelerator": "GPU"
  },
  "cells": [
    {
      "metadata": {
        "id": "yjrZeSGPDK9q",
        "colab_type": "code",
        "colab": {}
      },
      "cell_type": "code",
      "source": [
        "!curl https://course-v3.fast.ai/setup/colab | bash "
      ],
      "execution_count": 0,
      "outputs": []
    },
    {
      "metadata": {
        "id": "AShRKaXnI3Lf",
        "colab_type": "code",
        "colab": {}
      },
      "cell_type": "code",
      "source": [
        "from fastai import *\n",
        "from fastai.text import * \n",
        "import fastai.utils.collect_env\n",
        "fastai.utils.collect_env.show_install() # may have changed to python -m fastai.utils.show_install\n",
        "#fastai.check_perf()\n",
        "\n",
        "def random_seed(seed_value, use_cuda):\n",
        "    np.random.seed(seed_value) # cpu vars\n",
        "    torch.manual_seed(seed_value) # cpu  vars\n",
        "    random.seed(seed_value) # Python\n",
        "    if use_cuda: \n",
        "        torch.cuda.manual_seed(seed_value)\n",
        "        torch.cuda.manual_seed_all(seed_value) # gpu vars\n",
        "        torch.backends.cudnn.deterministic = True  #needed\n",
        "        torch.backends.cudnn.benchmark = False\n",
        "        \n",
        "# to get reproducible measures across runs and kernel restarts, use the above random_seed function and \n",
        "# pass num_workers=0 when generating the DataBunch. \n",
        "# Non-repeatabilty was leaking in through CudaNN and the data loader workers.\n",
        "\n",
        "random_seed(42, True)"
      ],
      "execution_count": 0,
      "outputs": []
    },
    {
      "metadata": {
        "id": "F4JzHUjVK5Ed",
        "colab_type": "code",
        "outputId": "cea7a3d0-d2af-438c-e390-cd434e7ecac8",
        "colab": {
          "base_uri": "https://localhost:8080/",
          "height": 126
        }
      },
      "cell_type": "code",
      "source": [
        "from google.colab import drive\n",
        "drive.mount('/gdrive')"
      ],
      "execution_count": 2,
      "outputs": [
        {
          "output_type": "stream",
          "text": [
            "Go to this URL in a browser: \n",
            "\n",
            "Enter your authorization code:\n",
            "··········\n",
            "Mounted at /gdrive\n"
          ],
          "name": "stdout"
        }
      ]
    },
    {
      "metadata": {
        "colab_type": "code",
        "id": "lR_JQJNc3JKL",
        "colab": {}
      },
      "cell_type": "code",
      "source": [
        "# create a data folder and copy train and test data into it \n",
        "# ......... awaiting for clearnce from reuters to publish the news titles as dataset \n",
        "\n",
        "Path('data/reuters/').mkdir(parents=True, exist_ok=True)\n",
        "!cp '/gdrive/My Drive/ulmfit/aiecom/reuters_corpus_2012_2017_ar.zip' data/reuters/"
      ],
      "execution_count": 0,
      "outputs": []
    },
    {
      "metadata": {
        "id": "_jgJVZqKNojG",
        "colab_type": "code",
        "colab": {}
      },
      "cell_type": "code",
      "source": [
        "path=Path('data/reuters/')"
      ],
      "execution_count": 0,
      "outputs": []
    },
    {
      "metadata": {
        "id": "-nBDffyMLHCx",
        "colab_type": "code",
        "outputId": "886802bd-66eb-49bd-e4bb-bfad738df285",
        "colab": {
          "base_uri": "https://localhost:8080/",
          "height": 206
        }
      },
      "cell_type": "code",
      "source": [
        "df_ar = pd.read_csv(path/'reuters_corpus_2012_2017_ar.zip')\n",
        "df_ar.head()"
      ],
      "execution_count": 5,
      "outputs": [
        {
          "output_type": "execute_result",
          "data": {
            "text/html": [
              "<div>\n",
              "<style scoped>\n",
              "    .dataframe tbody tr th:only-of-type {\n",
              "        vertical-align: middle;\n",
              "    }\n",
              "\n",
              "    .dataframe tbody tr th {\n",
              "        vertical-align: top;\n",
              "    }\n",
              "\n",
              "    .dataframe thead th {\n",
              "        text-align: right;\n",
              "    }\n",
              "</style>\n",
              "<table border=\"1\" class=\"dataframe\">\n",
              "  <thead>\n",
              "    <tr style=\"text-align: right;\">\n",
              "      <th></th>\n",
              "      <th>Unnamed: 0</th>\n",
              "      <th>id</th>\n",
              "      <th>title</th>\n",
              "      <th>date</th>\n",
              "      <th>category</th>\n",
              "    </tr>\n",
              "  </thead>\n",
              "  <tbody>\n",
              "    <tr>\n",
              "      <th>0</th>\n",
              "      <td>0</td>\n",
              "      <td>0</td>\n",
              "      <td>مصر تعتزم خفض الدعم على الطاقة للصناعات كثيفة ...</td>\n",
              "      <td>1012012</td>\n",
              "      <td>business</td>\n",
              "    </tr>\n",
              "    <tr>\n",
              "      <th>1</th>\n",
              "      <td>1</td>\n",
              "      <td>1</td>\n",
              "      <td>بريطانيا تبيع نورذرن روك لفيرجين رغم اعتراضات</td>\n",
              "      <td>1012012</td>\n",
              "      <td>business</td>\n",
              "    </tr>\n",
              "    <tr>\n",
              "      <th>2</th>\n",
              "      <td>2</td>\n",
              "      <td>2</td>\n",
              "      <td>إيران تكثف الضغط على الكويت حول حقل للغاز</td>\n",
              "      <td>1012012</td>\n",
              "      <td>business</td>\n",
              "    </tr>\n",
              "    <tr>\n",
              "      <th>3</th>\n",
              "      <td>3</td>\n",
              "      <td>3</td>\n",
              "      <td>اكسون تحصل على حكم بتعويض 908 ملايين دولار في ...</td>\n",
              "      <td>1012012</td>\n",
              "      <td>business</td>\n",
              "    </tr>\n",
              "    <tr>\n",
              "      <th>4</th>\n",
              "      <td>4</td>\n",
              "      <td>4</td>\n",
              "      <td>غرفة التجارة: ارتفاع أسعار التجزئة في اسطنبول ...</td>\n",
              "      <td>1012012</td>\n",
              "      <td>business</td>\n",
              "    </tr>\n",
              "  </tbody>\n",
              "</table>\n",
              "</div>"
            ],
            "text/plain": [
              "   Unnamed: 0  id                                              title     date  \\\n",
              "0           0   0  مصر تعتزم خفض الدعم على الطاقة للصناعات كثيفة ...  1012012   \n",
              "1           1   1      بريطانيا تبيع نورذرن روك لفيرجين رغم اعتراضات  1012012   \n",
              "2           2   2          إيران تكثف الضغط على الكويت حول حقل للغاز  1012012   \n",
              "3           3   3  اكسون تحصل على حكم بتعويض 908 ملايين دولار في ...  1012012   \n",
              "4           4   4  غرفة التجارة: ارتفاع أسعار التجزئة في اسطنبول ...  1012012   \n",
              "\n",
              "   category  \n",
              "0  business  \n",
              "1  business  \n",
              "2  business  \n",
              "3  business  \n",
              "4  business  "
            ]
          },
          "metadata": {
            "tags": []
          },
          "execution_count": 5
        }
      ]
    },
    {
      "metadata": {
        "id": "i_p0_nuCfjpH",
        "colab_type": "code",
        "colab": {}
      },
      "cell_type": "code",
      "source": [
        "df_ar = df_ar[['category', 'title']]"
      ],
      "execution_count": 0,
      "outputs": []
    },
    {
      "metadata": {
        "id": "DVghOVe-ztI_",
        "colab_type": "code",
        "outputId": "355cd716-dcc5-4be3-9e04-cde34f8412db",
        "colab": {
          "base_uri": "https://localhost:8080/",
          "height": 142
        }
      },
      "cell_type": "code",
      "source": [
        "df_ar['category'].value_counts()"
      ],
      "execution_count": 7,
      "outputs": [
        {
          "output_type": "execute_result",
          "data": {
            "text/plain": [
              "business         54300\n",
              "world_news       51214\n",
              "top_news         39773\n",
              "sports           28181\n",
              "sci_env          12598\n",
              "entertainment    11382\n",
              "Name: category, dtype: int64"
            ]
          },
          "metadata": {
            "tags": []
          },
          "execution_count": 7
        }
      ]
    },
    {
      "metadata": {
        "id": "tFrJp2HJy3g7",
        "colab_type": "code",
        "outputId": "be14d1f8-42ef-459a-d933-559c1bdfce92",
        "colab": {
          "base_uri": "https://localhost:8080/",
          "height": 124
        }
      },
      "cell_type": "code",
      "source": [
        "# remove top_news as it causes confusion (usually belongs to other categories)\n",
        "df = df_ar.loc[df_ar['category'].isin(['business','world_news', 'sports', 'sci_env', 'entertainment'])]\n",
        "df['category'].value_counts()"
      ],
      "execution_count": 8,
      "outputs": [
        {
          "output_type": "execute_result",
          "data": {
            "text/plain": [
              "business         54300\n",
              "world_news       51214\n",
              "sports           28181\n",
              "sci_env          12598\n",
              "entertainment    11382\n",
              "Name: category, dtype: int64"
            ]
          },
          "metadata": {
            "tags": []
          },
          "execution_count": 8
        }
      ]
    },
    {
      "metadata": {
        "id": "PG9pCzRj2pla",
        "colab_type": "code",
        "outputId": "ff009a75-2c1f-4980-8429-f2173c69ff70",
        "colab": {
          "base_uri": "https://localhost:8080/",
          "height": 124
        }
      },
      "cell_type": "code",
      "source": [
        "# limit to least number of items to balance\n",
        "df5 = df.groupby('category').apply(lambda grp: grp.sample(n=11382))\n",
        "df5['category'].value_counts()"
      ],
      "execution_count": 9,
      "outputs": [
        {
          "output_type": "execute_result",
          "data": {
            "text/plain": [
              "world_news       11382\n",
              "business         11382\n",
              "entertainment    11382\n",
              "sports           11382\n",
              "sci_env          11382\n",
              "Name: category, dtype: int64"
            ]
          },
          "metadata": {
            "tags": []
          },
          "execution_count": 9
        }
      ]
    },
    {
      "metadata": {
        "id": "0RvT4nIRz3Fg",
        "colab_type": "code",
        "outputId": "81aef188-25f1-4019-83d4-8e51eed00bd9",
        "colab": {
          "base_uri": "https://localhost:8080/",
          "height": 238
        }
      },
      "cell_type": "code",
      "source": [
        "df_valid = df5.sample(2275, replace = False) # 20% for validation\n",
        "df_valid['is_valid'] = True\n",
        "df_train = df5.drop(df_valid.index)\n",
        "df_train['is_valid'] = False\n",
        "\n",
        "df_all = pd.concat([df_train, df_valid])\n",
        "df_all.head()"
      ],
      "execution_count": 10,
      "outputs": [
        {
          "output_type": "execute_result",
          "data": {
            "text/html": [
              "<div>\n",
              "<style scoped>\n",
              "    .dataframe tbody tr th:only-of-type {\n",
              "        vertical-align: middle;\n",
              "    }\n",
              "\n",
              "    .dataframe tbody tr th {\n",
              "        vertical-align: top;\n",
              "    }\n",
              "\n",
              "    .dataframe thead th {\n",
              "        text-align: right;\n",
              "    }\n",
              "</style>\n",
              "<table border=\"1\" class=\"dataframe\">\n",
              "  <thead>\n",
              "    <tr style=\"text-align: right;\">\n",
              "      <th></th>\n",
              "      <th></th>\n",
              "      <th>category</th>\n",
              "      <th>title</th>\n",
              "      <th>is_valid</th>\n",
              "    </tr>\n",
              "    <tr>\n",
              "      <th>category</th>\n",
              "      <th></th>\n",
              "      <th></th>\n",
              "      <th></th>\n",
              "      <th></th>\n",
              "    </tr>\n",
              "  </thead>\n",
              "  <tbody>\n",
              "    <tr>\n",
              "      <th rowspan=\"5\" valign=\"top\">business</th>\n",
              "      <th>52215</th>\n",
              "      <td>business</td>\n",
              "      <td>نيكي يتراجع مع انخفاض عوائد السندات إلى مستوى ...</td>\n",
              "      <td>False</td>\n",
              "    </tr>\n",
              "    <tr>\n",
              "      <th>3633</th>\n",
              "      <td>business</td>\n",
              "      <td>النفط برتفع لحوالي 116 دولارا بفضل آمال تحفيز ...</td>\n",
              "      <td>False</td>\n",
              "    </tr>\n",
              "    <tr>\n",
              "      <th>28877</th>\n",
              "      <td>business</td>\n",
              "      <td>الذهب يتراجع مع استقرار الدولار واستمرار شكوك ...</td>\n",
              "      <td>False</td>\n",
              "    </tr>\n",
              "    <tr>\n",
              "      <th>23437</th>\n",
              "      <td>business</td>\n",
              "      <td>باركليز يفضل النيكل في 2014 وينصح بالابتعاد عن...</td>\n",
              "      <td>False</td>\n",
              "    </tr>\n",
              "    <tr>\n",
              "      <th>44869</th>\n",
              "      <td>business</td>\n",
              "      <td>مقابلة-البنك الدولي يقول إصلاحات مصر يجب أن تر...</td>\n",
              "      <td>False</td>\n",
              "    </tr>\n",
              "  </tbody>\n",
              "</table>\n",
              "</div>"
            ],
            "text/plain": [
              "                category                                              title  \\\n",
              "category                                                                      \n",
              "business 52215  business  نيكي يتراجع مع انخفاض عوائد السندات إلى مستوى ...   \n",
              "         3633   business  النفط برتفع لحوالي 116 دولارا بفضل آمال تحفيز ...   \n",
              "         28877  business  الذهب يتراجع مع استقرار الدولار واستمرار شكوك ...   \n",
              "         23437  business  باركليز يفضل النيكل في 2014 وينصح بالابتعاد عن...   \n",
              "         44869  business  مقابلة-البنك الدولي يقول إصلاحات مصر يجب أن تر...   \n",
              "\n",
              "                is_valid  \n",
              "category                  \n",
              "business 52215     False  \n",
              "         3633      False  \n",
              "         28877     False  \n",
              "         23437     False  \n",
              "         44869     False  "
            ]
          },
          "metadata": {
            "tags": []
          },
          "execution_count": 10
        }
      ]
    },
    {
      "metadata": {
        "id": "EVBUwPv20TN3",
        "colab_type": "code",
        "outputId": "4f95ffc8-d876-46d4-b5b4-df37433c525b",
        "colab": {
          "base_uri": "https://localhost:8080/",
          "height": 124
        }
      },
      "cell_type": "code",
      "source": [
        "df_valid['category'].value_counts()"
      ],
      "execution_count": 11,
      "outputs": [
        {
          "output_type": "execute_result",
          "data": {
            "text/plain": [
              "business         471\n",
              "sports           458\n",
              "world_news       449\n",
              "entertainment    449\n",
              "sci_env          448\n",
              "Name: category, dtype: int64"
            ]
          },
          "metadata": {
            "tags": []
          },
          "execution_count": 11
        }
      ]
    },
    {
      "metadata": {
        "id": "XKUGCymLN44o",
        "colab_type": "code",
        "colab": {}
      },
      "cell_type": "code",
      "source": [
        "# write to csv (overwrites by default)\n",
        "df_all.to_csv(path/'news_text.csv', index=False)"
      ],
      "execution_count": 0,
      "outputs": []
    },
    {
      "metadata": {
        "id": "2yDVcqmBOA-F",
        "colab_type": "code",
        "outputId": "dbf98490-6a5c-4ee7-a4e7-0d341794153a",
        "colab": {
          "base_uri": "https://localhost:8080/",
          "height": 206
        }
      },
      "cell_type": "code",
      "source": [
        "# ------------------------------------------------------------------------\n",
        "# from here, we follow fastai tutorial at https://docs.fast.ai/text.html\n",
        "df = pd.read_csv(path/'news_text.csv')\n",
        "df.head()"
      ],
      "execution_count": 13,
      "outputs": [
        {
          "output_type": "execute_result",
          "data": {
            "text/html": [
              "<div>\n",
              "<style scoped>\n",
              "    .dataframe tbody tr th:only-of-type {\n",
              "        vertical-align: middle;\n",
              "    }\n",
              "\n",
              "    .dataframe tbody tr th {\n",
              "        vertical-align: top;\n",
              "    }\n",
              "\n",
              "    .dataframe thead th {\n",
              "        text-align: right;\n",
              "    }\n",
              "</style>\n",
              "<table border=\"1\" class=\"dataframe\">\n",
              "  <thead>\n",
              "    <tr style=\"text-align: right;\">\n",
              "      <th></th>\n",
              "      <th>category</th>\n",
              "      <th>title</th>\n",
              "      <th>is_valid</th>\n",
              "    </tr>\n",
              "  </thead>\n",
              "  <tbody>\n",
              "    <tr>\n",
              "      <th>0</th>\n",
              "      <td>business</td>\n",
              "      <td>نيكي يتراجع مع انخفاض عوائد السندات إلى مستوى ...</td>\n",
              "      <td>False</td>\n",
              "    </tr>\n",
              "    <tr>\n",
              "      <th>1</th>\n",
              "      <td>business</td>\n",
              "      <td>النفط برتفع لحوالي 116 دولارا بفضل آمال تحفيز ...</td>\n",
              "      <td>False</td>\n",
              "    </tr>\n",
              "    <tr>\n",
              "      <th>2</th>\n",
              "      <td>business</td>\n",
              "      <td>الذهب يتراجع مع استقرار الدولار واستمرار شكوك ...</td>\n",
              "      <td>False</td>\n",
              "    </tr>\n",
              "    <tr>\n",
              "      <th>3</th>\n",
              "      <td>business</td>\n",
              "      <td>باركليز يفضل النيكل في 2014 وينصح بالابتعاد عن...</td>\n",
              "      <td>False</td>\n",
              "    </tr>\n",
              "    <tr>\n",
              "      <th>4</th>\n",
              "      <td>business</td>\n",
              "      <td>مقابلة-البنك الدولي يقول إصلاحات مصر يجب أن تر...</td>\n",
              "      <td>False</td>\n",
              "    </tr>\n",
              "  </tbody>\n",
              "</table>\n",
              "</div>"
            ],
            "text/plain": [
              "   category                                              title  is_valid\n",
              "0  business  نيكي يتراجع مع انخفاض عوائد السندات إلى مستوى ...     False\n",
              "1  business  النفط برتفع لحوالي 116 دولارا بفضل آمال تحفيز ...     False\n",
              "2  business  الذهب يتراجع مع استقرار الدولار واستمرار شكوك ...     False\n",
              "3  business  باركليز يفضل النيكل في 2014 وينصح بالابتعاد عن...     False\n",
              "4  business  مقابلة-البنك الدولي يقول إصلاحات مصر يجب أن تر...     False"
            ]
          },
          "metadata": {
            "tags": []
          },
          "execution_count": 13
        }
      ]
    },
    {
      "metadata": {
        "id": "ueiXUhLpYnUm",
        "colab_type": "code",
        "colab": {}
      },
      "cell_type": "code",
      "source": [
        "#wget gives forbidden, download and upload to gdrive\n",
        "!rm -rf data/reuters/models\n",
        "!rm -rf data/reuters/tmp\n",
        "#!rm -rf models/\n",
        "#Path('models/').mkdir(parents=True, exist_ok=True)"
      ],
      "execution_count": 0,
      "outputs": []
    },
    {
      "metadata": {
        "id": "aHzy8PSMFjRW",
        "colab_type": "code",
        "colab": {}
      },
      "cell_type": "code",
      "source": [
        "#ls -la \n",
        "!cp '/gdrive/My Drive/ulmfit/ar2/ar45/30k/lm_best.pth' models/\n",
        "!cp '/gdrive/My Drive/ulmfit/ar2/ar45/30k/itos.pkl' models/"
      ],
      "execution_count": 0,
      "outputs": []
    },
    {
      "metadata": {
        "id": "DfLdGExeOEis",
        "colab_type": "code",
        "colab": {}
      },
      "cell_type": "code",
      "source": [
        "# Language model data\n",
        "data_lm = TextLMDataBunch.from_csv(path, 'news_text.csv')\n",
        "# Classifier model data\n",
        "data_clas = TextClasDataBunch.from_csv(path, 'news_text.csv', vocab=data_lm.train_ds.vocab, bs=64, num_workers=0)"
      ],
      "execution_count": 0,
      "outputs": []
    },
    {
      "metadata": {
        "id": "rDq6Ut50OIwY",
        "colab_type": "code",
        "colab": {}
      },
      "cell_type": "code",
      "source": [
        "data_lm.save()\n",
        "data_clas.save()\n",
        "data_lm = TextLMDataBunch.load(path)\n",
        "data_clas = TextClasDataBunch.load(path, bs=64)"
      ],
      "execution_count": 0,
      "outputs": []
    },
    {
      "metadata": {
        "id": "tnVtbz_sOMyX",
        "colab_type": "code",
        "colab": {}
      },
      "cell_type": "code",
      "source": [
        "pretrained_fnames=['/content/models/lm_best','/content/models/itos']"
      ],
      "execution_count": 0,
      "outputs": []
    },
    {
      "metadata": {
        "id": "XHlkXAirO5Pj",
        "colab_type": "code",
        "outputId": "164794e6-227a-4e1a-f2e1-e8cb3e4f2c50",
        "colab": {
          "base_uri": "https://localhost:8080/",
          "height": 452
        }
      },
      "cell_type": "code",
      "source": [
        "learn = language_model_learner(data_lm, pretrained_fnames=pretrained_fnames, drop_mult=0.1) # was .5\n",
        "learn.lr_find(start_lr = slice(10e-7,10e-5),end_lr=slice(0.1,10))#start_lr = slice(10e-7,10e-5),end_lr=slice(0.1,10))\n",
        "learn.recorder.plot(skip_end=10)"
      ],
      "execution_count": 18,
      "outputs": [
        {
          "output_type": "display_data",
          "data": {
            "text/html": [
              "\n",
              "    <div>\n",
              "        <style>\n",
              "            /* Turns off some styling */\n",
              "            progress {\n",
              "                /* gets rid of default border in Firefox and Opera. */\n",
              "                border: none;\n",
              "                /* Needs to be in here for Safari polyfill so background images work as expected. */\n",
              "                background-size: auto;\n",
              "            }\n",
              "            .progress-bar-interrupted, .progress-bar-interrupted::-webkit-progress-bar {\n",
              "                background: #F44336;\n",
              "            }\n",
              "        </style>\n",
              "      <progress value='0' class='' max='1', style='width:300px; height:20px; vertical-align: middle;'></progress>\n",
              "      0.00% [0/1 00:00<00:00]\n",
              "    </div>\n",
              "    \n",
              "<table style='width:300px; margin-bottom:10px'>\n",
              "  <tr>\n",
              "    <th>epoch</th>\n",
              "    <th>train_loss</th>\n",
              "    <th>valid_loss</th>\n",
              "    <th>accuracy</th>\n",
              "  </tr>\n",
              "</table>\n",
              "\n",
              "\n",
              "    <div>\n",
              "        <style>\n",
              "            /* Turns off some styling */\n",
              "            progress {\n",
              "                /* gets rid of default border in Firefox and Opera. */\n",
              "                border: none;\n",
              "                /* Needs to be in here for Safari polyfill so background images work as expected. */\n",
              "                background-size: auto;\n",
              "            }\n",
              "            .progress-bar-interrupted, .progress-bar-interrupted::-webkit-progress-bar {\n",
              "                background: #F44336;\n",
              "            }\n",
              "        </style>\n",
              "      <progress value='0' class='progress-bar-interrupted' max='111', style='width:300px; height:20px; vertical-align: middle;'></progress>\n",
              "      Interrupted\n",
              "    </div>\n",
              "    "
            ],
            "text/plain": [
              "<IPython.core.display.HTML object>"
            ]
          },
          "metadata": {
            "tags": []
          }
        },
        {
          "output_type": "stream",
          "text": [
            "LR Finder is complete, type {learner_name}.recorder.plot() to see the graph.\n"
          ],
          "name": "stdout"
        },
        {
          "output_type": "display_data",
          "data": {
            "image/png": "[encoded data removed]",
            "text/plain": [
              "<matplotlib.figure.Figure at 0x7ff294061a20>"
            ]
          },
          "metadata": {
            "tags": []
          }
        }
      ]
    },
    {
      "metadata": {
        "id": "10Tg8A_sPeLt",
        "colab_type": "code",
        "outputId": "32aa3bd4-15f0-45db-98d3-c9503c5adae5",
        "colab": {
          "base_uri": "https://localhost:8080/",
          "height": 95
        }
      },
      "cell_type": "code",
      "source": [
        "learn.fit_one_cycle(1, 4e-2)"
      ],
      "execution_count": 20,
      "outputs": [
        {
          "output_type": "display_data",
          "data": {
            "text/html": [
              "Total time: 00:52 <p><table style='width:300px; margin-bottom:10px'>\n",
              "  <tr>\n",
              "    <th>epoch</th>\n",
              "    <th>train_loss</th>\n",
              "    <th>valid_loss</th>\n",
              "    <th>accuracy</th>\n",
              "  </tr>\n",
              "  <tr>\n",
              "    <th>1</th>\n",
              "    <th>5.646002</th>\n",
              "    <th>5.250086</th>\n",
              "    <th>0.227174</th>\n",
              "  </tr>\n",
              "</table>\n"
            ],
            "text/plain": [
              "<IPython.core.display.HTML object>"
            ]
          },
          "metadata": {
            "tags": []
          }
        }
      ]
    },
    {
      "metadata": {
        "id": "vxlIMDZdSARI",
        "colab_type": "code",
        "outputId": "ed8fc6ca-fa6c-40ed-b2e0-19e7fbd604c4",
        "colab": {
          "base_uri": "https://localhost:8080/",
          "height": 181
        }
      },
      "cell_type": "code",
      "source": [
        "learn.unfreeze()\n",
        "learn.fit_one_cycle(5, slice(1e-3,1e-1))"
      ],
      "execution_count": 21,
      "outputs": [
        {
          "output_type": "display_data",
          "data": {
            "text/html": [
              "Total time: 05:19 <p><table style='width:300px; margin-bottom:10px'>\n",
              "  <tr>\n",
              "    <th>epoch</th>\n",
              "    <th>train_loss</th>\n",
              "    <th>valid_loss</th>\n",
              "    <th>accuracy</th>\n",
              "  </tr>\n",
              "  <tr>\n",
              "    <th>1</th>\n",
              "    <th>4.568991</th>\n",
              "    <th>4.587829</th>\n",
              "    <th>0.284613</th>\n",
              "  </tr>\n",
              "  <tr>\n",
              "    <th>2</th>\n",
              "    <th>4.231137</th>\n",
              "    <th>4.311650</th>\n",
              "    <th>0.316373</th>\n",
              "  </tr>\n",
              "  <tr>\n",
              "    <th>3</th>\n",
              "    <th>3.590477</th>\n",
              "    <th>3.930613</th>\n",
              "    <th>0.368364</th>\n",
              "  </tr>\n",
              "  <tr>\n",
              "    <th>4</th>\n",
              "    <th>2.672477</th>\n",
              "    <th>3.552130</th>\n",
              "    <th>0.448958</th>\n",
              "  </tr>\n",
              "  <tr>\n",
              "    <th>5</th>\n",
              "    <th>1.998346</th>\n",
              "    <th>3.554797</th>\n",
              "    <th>0.469776</th>\n",
              "  </tr>\n",
              "</table>\n"
            ],
            "text/plain": [
              "<IPython.core.display.HTML object>"
            ]
          },
          "metadata": {
            "tags": []
          }
        }
      ]
    },
    {
      "metadata": {
        "id": "1dygBpuzSyOK",
        "colab_type": "code",
        "outputId": "d2211646-9100-4425-9cc3-6a1439734855",
        "colab": {
          "base_uri": "https://localhost:8080/",
          "height": 35
        }
      },
      "cell_type": "code",
      "source": [
        "learn.predict(\"انسحاب القوات\", n_words=5)"
      ],
      "execution_count": 22,
      "outputs": [
        {
          "output_type": "execute_result",
          "data": {
            "text/plain": [
              "'انسحاب القوات برؤية مثيرة فيليب الأحفوري والتعمير'"
            ]
          },
          "metadata": {
            "tags": []
          },
          "execution_count": 22
        }
      ]
    },
    {
      "metadata": {
        "id": "31y5kWUBXhQF",
        "colab_type": "code",
        "outputId": "c7e58549-c859-4037-8c33-ea178ef9ffff",
        "colab": {
          "base_uri": "https://localhost:8080/",
          "height": 165
        }
      },
      "cell_type": "code",
      "source": [
        "# first amount of words (here 10), the next 10 target words (actual) and the ones predicted.\n",
        "learn.show_results(max_len = 6)"
      ],
      "execution_count": 23,
      "outputs": [
        {
          "output_type": "display_data",
          "data": {
            "text/html": [
              "<table>  <col width='34%'>  <col width='33%'>  <col width='33%'>  <tr>\n",
              "    <th>text</th>\n",
              "    <th>target</th>\n",
              "    <th>pred</th>\n",
              "  </tr>\n",
              "  <tr>\n",
              "    <th>xxbos مالي تشتبه في أول اصابة</th>\n",
              "    <th>الايبولا مع تجاوز وفيات المنطقة 90</th>\n",
              "    <th>زيكا . تجاوز مستوياتها المنطقة 90</th>\n",
              "  </tr>\n",
              "  <tr>\n",
              "    <th>xxbos اصابة مصور امريكي يعمل لشبكة</th>\n",
              "    <th>إن . بي . سي بالايبولا</th>\n",
              "    <th>هندية الاماراتي بي باريبا سي بالايبولا</th>\n",
              "  </tr>\n",
              "  <tr>\n",
              "    <th>أدوار المنافسة على اللقب في المكسيك</th>\n",
              "    <th>تقرير : تويتر تبحث رفع الحد</th>\n",
              "    <th>فينجر تايواني إدمان ستعقد رفع الحد</th>\n",
              "  </tr>\n",
              "  <tr>\n",
              "    <th>مصر والمغرب والعراق يفوزون بجائزة الشيخ</th>\n",
              "    <th>2016 xxbos مهرجان في السعودية للحفاظ</th>\n",
              "    <th>للكتاب - ميشيل سينمائي السماء للحفاظ</th>\n",
              "  </tr>\n",
              "  <tr>\n",
              "    <th>قضية الاستبداد في الفكر السياسي الإسلامي</th>\n",
              "    <th>قائد أمريكي : أفغانستان بحاجة لدعم</th>\n",
              "    <th>وزنياكي بالحرس يخضع إستراتيجية يطلبون الإرهابية</th>\n",
              "  </tr>\n",
              "</table>\n"
            ],
            "text/plain": [
              "<IPython.core.display.HTML object>"
            ]
          },
          "metadata": {
            "tags": []
          }
        }
      ]
    },
    {
      "metadata": {
        "id": "zCHxrmqoXhH7",
        "colab_type": "code",
        "outputId": "82282e34-80ef-48a3-cddf-ad86bd1798f6",
        "colab": {
          "base_uri": "https://localhost:8080/",
          "height": 361
        }
      },
      "cell_type": "code",
      "source": [
        "learn.save_encoder('ft_enc')\n",
        "learn.recorder.plot_losses()"
      ],
      "execution_count": 24,
      "outputs": [
        {
          "output_type": "display_data",
          "data": {
            "image/png": "[encoded data removed]",
            "text/plain": [
              "<matplotlib.figure.Figure at 0x7ff291db0d30>"
            ]
          },
          "metadata": {
            "tags": []
          }
        }
      ]
    },
    {
      "metadata": {
        "id": "Hcr1cya6XhCw",
        "colab_type": "code",
        "colab": {}
      },
      "cell_type": "code",
      "source": [
        "#classifier\n",
        "learn_clas = text_classifier_learner(data_clas, drop_mult=0.5)\n",
        "learn_clas.load_encoder('ft_enc')"
      ],
      "execution_count": 0,
      "outputs": []
    },
    {
      "metadata": {
        "id": "J2yRxwmUXg88",
        "colab_type": "code",
        "outputId": "0538ee74-ab77-4659-9ac8-35dd9671e8e8",
        "colab": {
          "base_uri": "https://localhost:8080/",
          "height": 83
        }
      },
      "cell_type": "code",
      "source": [
        "data_clas.show_batch(2)"
      ],
      "execution_count": 26,
      "outputs": [
        {
          "output_type": "display_data",
          "data": {
            "text/html": [
              "<table>  <col width='90%'>  <col width='10%'>  <tr>\n",
              "    <th>text</th>\n",
              "    <th>target</th>\n",
              "  </tr>\n",
              "  <tr>\n",
              "    <th>xxbos مقابلة - رئيس تداول : xxunk إلى تطبيق آلية ( xxup xxunk ) قبل مراجعة إم . اس . سي . آي للتصنيف السعودي في يونيو</th>\n",
              "    <th>business</th>\n",
              "  </tr>\n",
              "  <tr>\n",
              "    <th>xxbos عمليات ( او . إم . في ) xxunk في ليبيا لم تتأثر جراء انفجار في خط أنابيب</th>\n",
              "    <th>business</th>\n",
              "  </tr>\n",
              "</table>\n"
            ],
            "text/plain": [
              "<IPython.core.display.HTML object>"
            ]
          },
          "metadata": {
            "tags": []
          }
        }
      ]
    },
    {
      "metadata": {
        "id": "8hNA1VrGXg0u",
        "colab_type": "code",
        "outputId": "835fdc95-a66e-488a-e43a-15de8fb584a6",
        "colab": {
          "base_uri": "https://localhost:8080/",
          "height": 452
        }
      },
      "cell_type": "code",
      "source": [
        "learn_clas.lr_find(start_lr = slice(10e-7,10e-5),end_lr=slice(0.1,10))\n",
        "learn_clas.recorder.plot(skip_end=10)"
      ],
      "execution_count": 27,
      "outputs": [
        {
          "output_type": "display_data",
          "data": {
            "text/html": [
              "\n",
              "    <div>\n",
              "        <style>\n",
              "            /* Turns off some styling */\n",
              "            progress {\n",
              "                /* gets rid of default border in Firefox and Opera. */\n",
              "                border: none;\n",
              "                /* Needs to be in here for Safari polyfill so background images work as expected. */\n",
              "                background-size: auto;\n",
              "            }\n",
              "            .progress-bar-interrupted, .progress-bar-interrupted::-webkit-progress-bar {\n",
              "                background: #F44336;\n",
              "            }\n",
              "        </style>\n",
              "      <progress value='0' class='' max='1', style='width:300px; height:20px; vertical-align: middle;'></progress>\n",
              "      0.00% [0/1 00:00<00:00]\n",
              "    </div>\n",
              "    \n",
              "<table style='width:300px; margin-bottom:10px'>\n",
              "  <tr>\n",
              "    <th>epoch</th>\n",
              "    <th>train_loss</th>\n",
              "    <th>valid_loss</th>\n",
              "    <th>accuracy</th>\n",
              "  </tr>\n",
              "</table>\n",
              "\n",
              "\n",
              "    <div>\n",
              "        <style>\n",
              "            /* Turns off some styling */\n",
              "            progress {\n",
              "                /* gets rid of default border in Firefox and Opera. */\n",
              "                border: none;\n",
              "                /* Needs to be in here for Safari polyfill so background images work as expected. */\n",
              "                background-size: auto;\n",
              "            }\n",
              "            .progress-bar-interrupted, .progress-bar-interrupted::-webkit-progress-bar {\n",
              "                background: #F44336;\n",
              "            }\n",
              "        </style>\n",
              "      <progress value='0' class='progress-bar-interrupted' max='1422', style='width:300px; height:20px; vertical-align: middle;'></progress>\n",
              "      Interrupted\n",
              "    </div>\n",
              "    "
            ],
            "text/plain": [
              "<IPython.core.display.HTML object>"
            ]
          },
          "metadata": {
            "tags": []
          }
        },
        {
          "output_type": "stream",
          "text": [
            "LR Finder is complete, type {learner_name}.recorder.plot() to see the graph.\n"
          ],
          "name": "stdout"
        },
        {
          "output_type": "display_data",
          "data": {
            "image/png": "[encoded data removed]",
            "text/plain": [
              "<matplotlib.figure.Figure at 0x7ff294515d68>"
            ]
          },
          "metadata": {
            "tags": []
          }
        }
      ]
    },
    {
      "metadata": {
        "id": "x5oIIA0JXgwz",
        "colab_type": "code",
        "outputId": "b71e0841-db18-4f6f-b353-989449db0607",
        "colab": {
          "base_uri": "https://localhost:8080/",
          "height": 95
        }
      },
      "cell_type": "code",
      "source": [
        "learn_clas.fit_one_cycle(1, 5e-3)"
      ],
      "execution_count": 28,
      "outputs": [
        {
          "output_type": "display_data",
          "data": {
            "text/html": [
              "Total time: 00:48 <p><table style='width:300px; margin-bottom:10px'>\n",
              "  <tr>\n",
              "    <th>epoch</th>\n",
              "    <th>train_loss</th>\n",
              "    <th>valid_loss</th>\n",
              "    <th>accuracy</th>\n",
              "  </tr>\n",
              "  <tr>\n",
              "    <th>1</th>\n",
              "    <th>0.602384</th>\n",
              "    <th>0.449486</th>\n",
              "    <th>0.835808</th>\n",
              "  </tr>\n",
              "</table>\n"
            ],
            "text/plain": [
              "<IPython.core.display.HTML object>"
            ]
          },
          "metadata": {
            "tags": []
          }
        }
      ]
    },
    {
      "metadata": {
        "id": "bRlw7bRPYHon",
        "colab_type": "code",
        "outputId": "de2c4dea-b9d4-45ac-a794-b30a9a6d5db8",
        "colab": {
          "base_uri": "https://localhost:8080/",
          "height": 95
        }
      },
      "cell_type": "code",
      "source": [
        "learn_clas.freeze_to(-2)\n",
        "learn_clas.fit_one_cycle(1, 2e-3)"
      ],
      "execution_count": 29,
      "outputs": [
        {
          "output_type": "display_data",
          "data": {
            "text/html": [
              "Total time: 00:56 <p><table style='width:300px; margin-bottom:10px'>\n",
              "  <tr>\n",
              "    <th>epoch</th>\n",
              "    <th>train_loss</th>\n",
              "    <th>valid_loss</th>\n",
              "    <th>accuracy</th>\n",
              "  </tr>\n",
              "  <tr>\n",
              "    <th>1</th>\n",
              "    <th>0.509054</th>\n",
              "    <th>0.386798</th>\n",
              "    <th>0.861548</th>\n",
              "  </tr>\n",
              "</table>\n"
            ],
            "text/plain": [
              "<IPython.core.display.HTML object>"
            ]
          },
          "metadata": {
            "tags": []
          }
        }
      ]
    },
    {
      "metadata": {
        "id": "wKR0XxvMYMGv",
        "colab_type": "code",
        "outputId": "c6d8928c-c745-4cf3-bcc8-6ce7b61f471a",
        "colab": {
          "base_uri": "https://localhost:8080/",
          "height": 181
        }
      },
      "cell_type": "code",
      "source": [
        "learn_clas.unfreeze()\n",
        "learn_clas.fit_one_cycle(5, 2e-3)"
      ],
      "execution_count": 30,
      "outputs": [
        {
          "output_type": "display_data",
          "data": {
            "text/html": [
              "Total time: 09:54 <p><table style='width:300px; margin-bottom:10px'>\n",
              "  <tr>\n",
              "    <th>epoch</th>\n",
              "    <th>train_loss</th>\n",
              "    <th>valid_loss</th>\n",
              "    <th>accuracy</th>\n",
              "  </tr>\n",
              "  <tr>\n",
              "    <th>1</th>\n",
              "    <th>0.413703</th>\n",
              "    <th>0.339160</th>\n",
              "    <th>0.881754</th>\n",
              "  </tr>\n",
              "  <tr>\n",
              "    <th>2</th>\n",
              "    <th>0.386218</th>\n",
              "    <th>0.298221</th>\n",
              "    <th>0.894755</th>\n",
              "  </tr>\n",
              "  <tr>\n",
              "    <th>3</th>\n",
              "    <th>0.280060</th>\n",
              "    <th>0.249428</th>\n",
              "    <th>0.916630</th>\n",
              "  </tr>\n",
              "  <tr>\n",
              "    <th>4</th>\n",
              "    <th>0.223554</th>\n",
              "    <th>0.228464</th>\n",
              "    <th>0.922955</th>\n",
              "  </tr>\n",
              "  <tr>\n",
              "    <th>5</th>\n",
              "    <th>0.180743</th>\n",
              "    <th>0.225633</th>\n",
              "    <th>0.924976</th>\n",
              "  </tr>\n",
              "</table>\n"
            ],
            "text/plain": [
              "<IPython.core.display.HTML object>"
            ]
          },
          "metadata": {
            "tags": []
          }
        }
      ]
    },
    {
      "metadata": {
        "id": "QLb8Die-p8_i",
        "colab_type": "code",
        "outputId": "155ad4ca-55f5-4eee-faef-931e82194913",
        "colab": {
          "base_uri": "https://localhost:8080/",
          "height": 361
        }
      },
      "cell_type": "code",
      "source": [
        "learn_clas.recorder.plot_losses()"
      ],
      "execution_count": 32,
      "outputs": [
        {
          "output_type": "display_data",
          "data": {
            "image/png": "[encoded data removed]",
            "text/plain": [
              "<matplotlib.figure.Figure at 0x7ff298adeef0>"
            ]
          },
          "metadata": {
            "tags": []
          }
        }
      ]
    },
    {
      "metadata": {
        "id": "5Fnyq1m1XIjw",
        "colab_type": "code",
        "outputId": "a279ec9b-8734-4f3f-db95-c200b4112948",
        "colab": {
          "base_uri": "https://localhost:8080/",
          "height": 95
        }
      },
      "cell_type": "code",
      "source": [
        "# extra from deep French \n",
        "# https://github.com/tchambon/deepfrench/blob/master/ULMFit%20Classifier%20example.ipynb\n",
        "learn_clas.freeze_to(-3)\n",
        "learn_clas.fit_one_cycle(1, 1e-3)"
      ],
      "execution_count": 33,
      "outputs": [
        {
          "output_type": "display_data",
          "data": {
            "text/html": [
              "Total time: 01:27 <p><table style='width:300px; margin-bottom:10px'>\n",
              "  <tr>\n",
              "    <th>epoch</th>\n",
              "    <th>train_loss</th>\n",
              "    <th>valid_loss</th>\n",
              "    <th>accuracy</th>\n",
              "  </tr>\n",
              "  <tr>\n",
              "    <th>1</th>\n",
              "    <th>0.199299</th>\n",
              "    <th>0.222254</th>\n",
              "    <th>0.926821</th>\n",
              "  </tr>\n",
              "</table>\n"
            ],
            "text/plain": [
              "<IPython.core.display.HTML object>"
            ]
          },
          "metadata": {
            "tags": []
          }
        }
      ]
    },
    {
      "metadata": {
        "id": "u6Wce6SZYkOX",
        "colab_type": "code",
        "outputId": "c06324b3-7ede-4df6-a755-9eeab0036498",
        "colab": {
          "base_uri": "https://localhost:8080/",
          "height": 159
        }
      },
      "cell_type": "code",
      "source": [
        "learn_clas.unfreeze()\n",
        "learn_clas.fit_one_cycle(4, 1e-3, moms=(0.8,0.7))"
      ],
      "execution_count": 34,
      "outputs": [
        {
          "output_type": "display_data",
          "data": {
            "text/html": [
              "Total time: 07:50 <p><table style='width:300px; margin-bottom:10px'>\n",
              "  <tr>\n",
              "    <th>epoch</th>\n",
              "    <th>train_loss</th>\n",
              "    <th>valid_loss</th>\n",
              "    <th>accuracy</th>\n",
              "  </tr>\n",
              "  <tr>\n",
              "    <th>1</th>\n",
              "    <th>0.166583</th>\n",
              "    <th>0.224842</th>\n",
              "    <th>0.929368</th>\n",
              "  </tr>\n",
              "  <tr>\n",
              "    <th>2</th>\n",
              "    <th>0.177946</th>\n",
              "    <th>0.219182</th>\n",
              "    <th>0.932267</th>\n",
              "  </tr>\n",
              "  <tr>\n",
              "    <th>3</th>\n",
              "    <th>0.146617</th>\n",
              "    <th>0.219140</th>\n",
              "    <th>0.933058</th>\n",
              "  </tr>\n",
              "  <tr>\n",
              "    <th>4</th>\n",
              "    <th>0.119597</th>\n",
              "    <th>0.219995</th>\n",
              "    <th>0.933409</th>\n",
              "  </tr>\n",
              "</table>\n"
            ],
            "text/plain": [
              "<IPython.core.display.HTML object>"
            ]
          },
          "metadata": {
            "tags": []
          }
        }
      ]
    },
    {
      "metadata": {
        "id": "bOEAGExgY8_9",
        "colab_type": "code",
        "outputId": "0462a4c8-3d48-409a-a4e7-ac8a55d4e70d",
        "colab": {
          "base_uri": "https://localhost:8080/",
          "height": 116
        }
      },
      "cell_type": "code",
      "source": [
        "learn_clas.fit_one_cycle(2, 2e-3, moms=(0.8,0.7))"
      ],
      "execution_count": 35,
      "outputs": [
        {
          "output_type": "display_data",
          "data": {
            "text/html": [
              "Total time: 04:00 <p><table style='width:300px; margin-bottom:10px'>\n",
              "  <tr>\n",
              "    <th>epoch</th>\n",
              "    <th>train_loss</th>\n",
              "    <th>valid_loss</th>\n",
              "    <th>accuracy</th>\n",
              "  </tr>\n",
              "  <tr>\n",
              "    <th>1</th>\n",
              "    <th>0.213343</th>\n",
              "    <th>0.234883</th>\n",
              "    <th>0.925591</th>\n",
              "  </tr>\n",
              "  <tr>\n",
              "    <th>2</th>\n",
              "    <th>0.147348</th>\n",
              "    <th>0.220090</th>\n",
              "    <th>0.933058</th>\n",
              "  </tr>\n",
              "</table>\n"
            ],
            "text/plain": [
              "<IPython.core.display.HTML object>"
            ]
          },
          "metadata": {
            "tags": []
          }
        }
      ]
    },
    {
      "metadata": {
        "id": "LoA_kZKLxnrX",
        "colab_type": "code",
        "outputId": "d41cf7ce-757a-4bef-8b2a-690622861fc1",
        "colab": {
          "base_uri": "https://localhost:8080/",
          "height": 35
        }
      },
      "cell_type": "code",
      "source": [
        "print(learn_clas.validate()) "
      ],
      "execution_count": 36,
      "outputs": [
        {
          "output_type": "stream",
          "text": [
            "[0.22009039, tensor(0.9331)]\n"
          ],
          "name": "stdout"
        }
      ]
    },
    {
      "metadata": {
        "id": "2crOXys2YRf_",
        "colab_type": "code",
        "outputId": "fd5f220e-b271-44df-e7f1-595d08988bd0",
        "colab": {
          "base_uri": "https://localhost:8080/",
          "height": 361
        }
      },
      "cell_type": "code",
      "source": [
        "learn_clas.recorder.plot_losses()"
      ],
      "execution_count": 37,
      "outputs": [
        {
          "output_type": "display_data",
          "data": {
            "image/png": "[encoded data removed]",
            "text/plain": [
              "<matplotlib.figure.Figure at 0x7ff2928b3080>"
            ]
          },
          "metadata": {
            "tags": []
          }
        }
      ]
    },
    {
      "metadata": {
        "id": "3Ii6zO7EYVuK",
        "colab_type": "code",
        "outputId": "a3a28ad5-898d-4f0e-8b63-e6078ec917a1",
        "colab": {
          "base_uri": "https://localhost:8080/",
          "height": 468
        }
      },
      "cell_type": "code",
      "source": [
        "learn_clas.show_results(rows=20)"
      ],
      "execution_count": 38,
      "outputs": [
        {
          "output_type": "display_data",
          "data": {
            "text/html": [
              "<table>  <col width='85%'>  <col width='7.5%'>  <col width='7.5%'>  <tr>\n",
              "    <th>text</th>\n",
              "    <th>target</th>\n",
              "    <th>prediction</th>\n",
              "  </tr>\n",
              "  <tr>\n",
              "    <th>xxbos مسؤول : بنك ( xxunk . آي . آي . بي ) الذي xxunk الصين لن xxunk عن أي فساد xxunk الاقتصاد</th>\n",
              "    <th>business</th>\n",
              "    <th>business</th>\n",
              "  </tr>\n",
              "  <tr>\n",
              "    <th>xxbos أوباما : يجب على العالم أن يتوصل لاتفاق بشأن المناخ في باريس \" بينما لا يزال هذا في xxunk \"</th>\n",
              "    <th>world_news</th>\n",
              "    <th>sci_env</th>\n",
              "  </tr>\n",
              "  <tr>\n",
              "    <th>xxbos بي . إم . دبليو وانتل وموبايل آي يختبرون 40 سيارة بدون سائق في النصف / 2 من 2017</th>\n",
              "    <th>sci_env</th>\n",
              "    <th>business</th>\n",
              "  </tr>\n",
              "  <tr>\n",
              "    <th>xxbos جازبروم : لم xxunk شراء حصة بي . بي في تي . ان . كي - بي . بي</th>\n",
              "    <th>business</th>\n",
              "    <th>business</th>\n",
              "  </tr>\n",
              "  <tr>\n",
              "    <th>xxbos بي . إم . دبليو وانتل وموبايل آي يختبرون 40 سيارة بدون سائق في النصف / 2 من 2017</th>\n",
              "    <th>sci_env</th>\n",
              "    <th>business</th>\n",
              "  </tr>\n",
              "  <tr>\n",
              "    <th>xxbos مقابلة - xxunk المصرية : طرح أسهم رؤية في البورصة في النصف / 2 xxunk مرتقبة 2.5 مليار جنيه</th>\n",
              "    <th>business</th>\n",
              "    <th>business</th>\n",
              "  </tr>\n",
              "  <tr>\n",
              "    <th>xxbos مسح : إنتاج قطاع الصناعات التحويلية في بريطانيا ينكمش بأسرع وتيرة له في أكثر من 3 سنوات بعد الاستفتاء</th>\n",
              "    <th>business</th>\n",
              "    <th>business</th>\n",
              "  </tr>\n",
              "  <tr>\n",
              "    <th>xxbos إف . بي . آي : أكثر من 200 أمريكي xxunk أو حاولوا السفر لسوريا للقتال مع xxunk</th>\n",
              "    <th>world_news</th>\n",
              "    <th>world_news</th>\n",
              "  </tr>\n",
              "  <tr>\n",
              "    <th>xxbos ( حتى على الموت لا xxunk من xxunk ) .. امرأة تسرق xxunk من xxunk في دار xxunk</th>\n",
              "    <th>entertainment</th>\n",
              "    <th>entertainment</th>\n",
              "  </tr>\n",
              "  <tr>\n",
              "    <th>xxbos هيئة بوزارة العدل الأمريكية تحقق في قرارات ( إف . بي . آي ) في تحقيق بريد كلينتون</th>\n",
              "    <th>world_news</th>\n",
              "    <th>world_news</th>\n",
              "  </tr>\n",
              "  <tr>\n",
              "    <th>xxbos قمة رويترز - رئيس بورصة مصر : شركات كثيرة تخطط لطرح أسهمها في النصف / 1 من 2016</th>\n",
              "    <th>business</th>\n",
              "    <th>business</th>\n",
              "  </tr>\n",
              "  <tr>\n",
              "    <th>xxbos ملخص - فيتش : انفصال بريطانيا قد يؤثر على دول الشرق الأوسط وافريقيا من خلال الأسواق والتجارة xxunk</th>\n",
              "    <th>business</th>\n",
              "    <th>business</th>\n",
              "  </tr>\n",
              "  <tr>\n",
              "    <th>xxbos تقرير : الافراج عن رجل في آلاباما بعد ان مكث 30 عاما في انتظار تنفيذ حكم الاعدام</th>\n",
              "    <th>entertainment</th>\n",
              "    <th>entertainment</th>\n",
              "  </tr>\n",
              "  <tr>\n",
              "    <th>xxbos تقرير : أبل تصنع ما بين 3 إلى 5 ملايين ساعة ذكية شهريا والمبيعات بدءا من أكتوبر</th>\n",
              "    <th>sci_env</th>\n",
              "    <th>sci_env</th>\n",
              "  </tr>\n",
              "  <tr>\n",
              "    <th>xxbos xxunk تستهدف زيادة مبيعاتها في مصر أكثر من 10 % خلال 2015 مع طرح 5 xxunk جديدة</th>\n",
              "    <th>business</th>\n",
              "    <th>business</th>\n",
              "  </tr>\n",
              "  <tr>\n",
              "    <th>xxbos إف . بي . آي يعرض مكافأة مالية للعثور على 7 لوحات سرقت من متحف في ميزوري</th>\n",
              "    <th>sci_env</th>\n",
              "    <th>entertainment</th>\n",
              "  </tr>\n",
              "  <tr>\n",
              "    <th>xxbos مسح يتوقع ان يتصدر ( ألعاب الموت ) و(ذا هوبيت ) قائمة أكثر الافلام مشاهدة هذا العام</th>\n",
              "    <th>entertainment</th>\n",
              "    <th>entertainment</th>\n",
              "  </tr>\n",
              "  <tr>\n",
              "    <th>xxbos اويل موفمنتس : صادرات اوبك تنخفض 10 آلاف ب / ي في 4 أسابيع حتى 18 مايو</th>\n",
              "    <th>business</th>\n",
              "    <th>business</th>\n",
              "  </tr>\n",
              "  <tr>\n",
              "    <th>xxbos صحيفة : بنك بي . بي . في . إيه الأسباني يتطلع لشراء مصرف آخر في تركيا</th>\n",
              "    <th>business</th>\n",
              "    <th>business</th>\n",
              "  </tr>\n",
              "  <tr>\n",
              "    <th>xxbos مصادر : صادرات العراق من خام البصرة قد تزيد إلى xxunk مليون ب / ي في فبراير</th>\n",
              "    <th>business</th>\n",
              "    <th>business</th>\n",
              "  </tr>\n",
              "</table>\n"
            ],
            "text/plain": [
              "<IPython.core.display.HTML object>"
            ]
          },
          "metadata": {
            "tags": []
          }
        }
      ]
    },
    {
      "metadata": {
        "id": "OQFCW1PKd7im",
        "colab_type": "code",
        "outputId": "6d862821-5d02-4d16-efb8-a720d212185c",
        "colab": {
          "base_uri": "https://localhost:8080/",
          "height": 71
        }
      },
      "cell_type": "code",
      "source": [
        "learn_clas.predict(\"نائب وزير خارجية روسيا: زعيم حماس سيزور موسكو على الأرجح مطلع 2019\")"
      ],
      "execution_count": 39,
      "outputs": [
        {
          "output_type": "execute_result",
          "data": {
            "text/plain": [
              "(Category world_news,\n",
              " tensor(4),\n",
              " tensor([2.4427e-03, 3.6813e-04, 5.2262e-04, 8.5571e-04, 9.9581e-01]))"
            ]
          },
          "metadata": {
            "tags": []
          },
          "execution_count": 39
        }
      ]
    },
    {
      "metadata": {
        "id": "fZzx3WiY6XMw",
        "colab_type": "code",
        "outputId": "6efa3bad-bff6-4285-8dc0-782c5a90d88f",
        "colab": {
          "base_uri": "https://localhost:8080/",
          "height": 238
        }
      },
      "cell_type": "code",
      "source": [
        "# get predictions\n",
        "# 0 business\n",
        "# 1 entertainment\n",
        "# 2 sci_env\n",
        "# 3 sports\n",
        "# 4 world_news\n",
        "\n",
        "preds, targets = learn_clas.get_preds()\n",
        "\n",
        "predictions = np.argmax(preds, axis = 1)\n",
        "pd.crosstab(predictions, targets)"
      ],
      "execution_count": 40,
      "outputs": [
        {
          "output_type": "execute_result",
          "data": {
            "text/html": [
              "<div>\n",
              "<style scoped>\n",
              "    .dataframe tbody tr th:only-of-type {\n",
              "        vertical-align: middle;\n",
              "    }\n",
              "\n",
              "    .dataframe tbody tr th {\n",
              "        vertical-align: top;\n",
              "    }\n",
              "\n",
              "    .dataframe thead th {\n",
              "        text-align: right;\n",
              "    }\n",
              "</style>\n",
              "<table border=\"1\" class=\"dataframe\">\n",
              "  <thead>\n",
              "    <tr style=\"text-align: right;\">\n",
              "      <th>col_0</th>\n",
              "      <th>0</th>\n",
              "      <th>1</th>\n",
              "      <th>2</th>\n",
              "      <th>3</th>\n",
              "      <th>4</th>\n",
              "    </tr>\n",
              "    <tr>\n",
              "      <th>row_0</th>\n",
              "      <th></th>\n",
              "      <th></th>\n",
              "      <th></th>\n",
              "      <th></th>\n",
              "      <th></th>\n",
              "    </tr>\n",
              "  </thead>\n",
              "  <tbody>\n",
              "    <tr>\n",
              "      <th>0</th>\n",
              "      <td>2179</td>\n",
              "      <td>22</td>\n",
              "      <td>25</td>\n",
              "      <td>4</td>\n",
              "      <td>65</td>\n",
              "    </tr>\n",
              "    <tr>\n",
              "      <th>1</th>\n",
              "      <td>19</td>\n",
              "      <td>2100</td>\n",
              "      <td>95</td>\n",
              "      <td>22</td>\n",
              "      <td>82</td>\n",
              "    </tr>\n",
              "    <tr>\n",
              "      <th>2</th>\n",
              "      <td>33</td>\n",
              "      <td>81</td>\n",
              "      <td>2128</td>\n",
              "      <td>7</td>\n",
              "      <td>107</td>\n",
              "    </tr>\n",
              "    <tr>\n",
              "      <th>3</th>\n",
              "      <td>7</td>\n",
              "      <td>19</td>\n",
              "      <td>0</td>\n",
              "      <td>2167</td>\n",
              "      <td>18</td>\n",
              "    </tr>\n",
              "    <tr>\n",
              "      <th>4</th>\n",
              "      <td>57</td>\n",
              "      <td>48</td>\n",
              "      <td>37</td>\n",
              "      <td>14</td>\n",
              "      <td>2047</td>\n",
              "    </tr>\n",
              "  </tbody>\n",
              "</table>\n",
              "</div>"
            ],
            "text/plain": [
              "col_0     0     1     2     3     4\n",
              "row_0                              \n",
              "0      2179    22    25     4    65\n",
              "1        19  2100    95    22    82\n",
              "2        33    81  2128     7   107\n",
              "3         7    19     0  2167    18\n",
              "4        57    48    37    14  2047"
            ]
          },
          "metadata": {
            "tags": []
          },
          "execution_count": 40
        }
      ]
    },
    {
      "metadata": {
        "id": "V9H0jg2DwMRB",
        "colab_type": "code",
        "outputId": "20eaa20a-b9f4-4d0b-97ec-1e698c6bc787",
        "colab": {
          "base_uri": "https://localhost:8080/",
          "height": 106
        }
      },
      "cell_type": "code",
      "source": [
        "!cat data/reuters/tmp/classes.txt"
      ],
      "execution_count": 19,
      "outputs": [
        {
          "output_type": "stream",
          "text": [
            "business\n",
            "entertainment\n",
            "sci_env\n",
            "sports\n",
            "world_news\n"
          ],
          "name": "stdout"
        }
      ]
    },
    {
      "metadata": {
        "id": "7gpcLGZZwVc8",
        "colab_type": "code",
        "colab": {}
      },
      "cell_type": "code",
      "source": [
        ""
      ],
      "execution_count": 0,
      "outputs": []
    }
  ]
}
