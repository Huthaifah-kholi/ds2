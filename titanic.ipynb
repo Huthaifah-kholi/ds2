{
 "cells": [
  {
   "cell_type": "markdown",
   "metadata": {},
   "source": [
    "## Titanic data - GLM model (logistic regression) in caret \n",
    "Full dataset from: biostat.mc.vanderbilt.edu/wiki/pub/Main/DataSets/titanic3.xls (edited some column names)  \n",
    "Feature info: http://biostat.mc.vanderbilt.edu/wiki/pub/Main/DataSets/titanic3info.txt  \n",
    "Kaggle competition: https://www.kaggle.com/c/titanic    \n",
    "Note: Titanic sank on April 14, 1912 (April 14 is start of collision, early April 15 sunk UK time)"
   ]
  },
  {
   "cell_type": "code",
   "execution_count": 244,
   "metadata": {},
   "outputs": [
    {
     "data": {
      "text/html": [
       "<ol class=list-inline>\n",
       "\t<li>1309</li>\n",
       "\t<li>14</li>\n",
       "</ol>\n"
      ],
      "text/latex": [
       "\\begin{enumerate*}\n",
       "\\item 1309\n",
       "\\item 14\n",
       "\\end{enumerate*}\n"
      ],
      "text/markdown": [
       "1. 1309\n",
       "2. 14\n",
       "\n",
       "\n"
      ],
      "text/plain": [
       "[1] 1309   14"
      ]
     },
     "metadata": {},
     "output_type": "display_data"
    },
    {
     "data": {
      "text/html": [
       "<table>\n",
       "<thead><tr><th scope=col>pclass</th><th scope=col>survived</th><th scope=col>name</th><th scope=col>sex</th><th scope=col>age</th><th scope=col>sibsp</th><th scope=col>parch</th><th scope=col>ticket</th><th scope=col>fare</th><th scope=col>cabin</th><th scope=col>embarked</th><th scope=col>boat</th><th scope=col>body</th><th scope=col>homedest</th></tr></thead>\n",
       "<tbody>\n",
       "\t<tr><td>1                                              </td><td>1                                              </td><td>Allen, Miss. Elisabeth Walton                  </td><td>female                                         </td><td>29.0000                                        </td><td>0                                              </td><td>0                                              </td><td>24160                                          </td><td>211.3375                                       </td><td>B5                                             </td><td>S                                              </td><td>2                                              </td><td> NA                                            </td><td>St Louis, MO                                   </td></tr>\n",
       "\t<tr><td>1                                              </td><td>1                                              </td><td>Allison, Master. Hudson Trevor                 </td><td>male                                           </td><td> 0.9167                                        </td><td>1                                              </td><td>2                                              </td><td>113781                                         </td><td>151.5500                                       </td><td>C22 C26                                        </td><td>S                                              </td><td>11                                             </td><td> NA                                            </td><td>Montreal, PQ / Chesterville, ON                </td></tr>\n",
       "\t<tr><td>1                                              </td><td>0                                              </td><td>Allison, Miss. Helen Loraine                   </td><td>female                                         </td><td> 2.0000                                        </td><td>1                                              </td><td>2                                              </td><td>113781                                         </td><td>151.5500                                       </td><td>C22 C26                                        </td><td>S                                              </td><td>                                               </td><td> NA                                            </td><td>Montreal, PQ / Chesterville, ON                </td></tr>\n",
       "\t<tr><td>1                                              </td><td>0                                              </td><td>Allison, Mr. Hudson Joshua Creighton           </td><td>male                                           </td><td>30.0000                                        </td><td>1                                              </td><td>2                                              </td><td>113781                                         </td><td>151.5500                                       </td><td>C22 C26                                        </td><td>S                                              </td><td>                                               </td><td>135                                            </td><td>Montreal, PQ / Chesterville, ON                </td></tr>\n",
       "\t<tr><td>1                                              </td><td>0                                              </td><td>Allison, Mrs. Hudson J C (Bessie Waldo Daniels)</td><td>female                                         </td><td>25.0000                                        </td><td>1                                              </td><td>2                                              </td><td>113781                                         </td><td>151.5500                                       </td><td>C22 C26                                        </td><td>S                                              </td><td>                                               </td><td> NA                                            </td><td>Montreal, PQ / Chesterville, ON                </td></tr>\n",
       "</tbody>\n",
       "</table>\n"
      ],
      "text/latex": [
       "\\begin{tabular}{r|llllllllllllll}\n",
       " pclass & survived & name & sex & age & sibsp & parch & ticket & fare & cabin & embarked & boat & body & homedest\\\\\n",
       "\\hline\n",
       "\t 1                                               & 1                                               & Allen, Miss. Elisabeth Walton                   & female                                          & 29.0000                                         & 0                                               & 0                                               & 24160                                           & 211.3375                                        & B5                                              & S                                               & 2                                               &  NA                                             & St Louis, MO                                   \\\\\n",
       "\t 1                                               & 1                                               & Allison, Master. Hudson Trevor                  & male                                            &  0.9167                                         & 1                                               & 2                                               & 113781                                          & 151.5500                                        & C22 C26                                         & S                                               & 11                                              &  NA                                             & Montreal, PQ / Chesterville, ON                \\\\\n",
       "\t 1                                               & 0                                               & Allison, Miss. Helen Loraine                    & female                                          &  2.0000                                         & 1                                               & 2                                               & 113781                                          & 151.5500                                        & C22 C26                                         & S                                               &                                                 &  NA                                             & Montreal, PQ / Chesterville, ON                \\\\\n",
       "\t 1                                               & 0                                               & Allison, Mr. Hudson Joshua Creighton            & male                                            & 30.0000                                         & 1                                               & 2                                               & 113781                                          & 151.5500                                        & C22 C26                                         & S                                               &                                                 & 135                                             & Montreal, PQ / Chesterville, ON                \\\\\n",
       "\t 1                                               & 0                                               & Allison, Mrs. Hudson J C (Bessie Waldo Daniels) & female                                          & 25.0000                                         & 1                                               & 2                                               & 113781                                          & 151.5500                                        & C22 C26                                         & S                                               &                                                 &  NA                                             & Montreal, PQ / Chesterville, ON                \\\\\n",
       "\\end{tabular}\n"
      ],
      "text/markdown": [
       "\n",
       "pclass | survived | name | sex | age | sibsp | parch | ticket | fare | cabin | embarked | boat | body | homedest | \n",
       "|---|---|---|---|---|\n",
       "| 1                                               | 1                                               | Allen, Miss. Elisabeth Walton                   | female                                          | 29.0000                                         | 0                                               | 0                                               | 24160                                           | 211.3375                                        | B5                                              | S                                               | 2                                               |  NA                                             | St Louis, MO                                    | \n",
       "| 1                                               | 1                                               | Allison, Master. Hudson Trevor                  | male                                            |  0.9167                                         | 1                                               | 2                                               | 113781                                          | 151.5500                                        | C22 C26                                         | S                                               | 11                                              |  NA                                             | Montreal, PQ / Chesterville, ON                 | \n",
       "| 1                                               | 0                                               | Allison, Miss. Helen Loraine                    | female                                          |  2.0000                                         | 1                                               | 2                                               | 113781                                          | 151.5500                                        | C22 C26                                         | S                                               |                                                 |  NA                                             | Montreal, PQ / Chesterville, ON                 | \n",
       "| 1                                               | 0                                               | Allison, Mr. Hudson Joshua Creighton            | male                                            | 30.0000                                         | 1                                               | 2                                               | 113781                                          | 151.5500                                        | C22 C26                                         | S                                               |                                                 | 135                                             | Montreal, PQ / Chesterville, ON                 | \n",
       "| 1                                               | 0                                               | Allison, Mrs. Hudson J C (Bessie Waldo Daniels) | female                                          | 25.0000                                         | 1                                               | 2                                               | 113781                                          | 151.5500                                        | C22 C26                                         | S                                               |                                                 |  NA                                             | Montreal, PQ / Chesterville, ON                 | \n",
       "\n",
       "\n"
      ],
      "text/plain": [
       "  pclass survived name                                            sex   \n",
       "1 1      1        Allen, Miss. Elisabeth Walton                   female\n",
       "2 1      1        Allison, Master. Hudson Trevor                  male  \n",
       "3 1      0        Allison, Miss. Helen Loraine                    female\n",
       "4 1      0        Allison, Mr. Hudson Joshua Creighton            male  \n",
       "5 1      0        Allison, Mrs. Hudson J C (Bessie Waldo Daniels) female\n",
       "  age     sibsp parch ticket fare     cabin   embarked boat body\n",
       "1 29.0000 0     0     24160  211.3375 B5      S        2     NA \n",
       "2  0.9167 1     2     113781 151.5500 C22 C26 S        11    NA \n",
       "3  2.0000 1     2     113781 151.5500 C22 C26 S              NA \n",
       "4 30.0000 1     2     113781 151.5500 C22 C26 S             135 \n",
       "5 25.0000 1     2     113781 151.5500 C22 C26 S              NA \n",
       "  homedest                       \n",
       "1 St Louis, MO                   \n",
       "2 Montreal, PQ / Chesterville, ON\n",
       "3 Montreal, PQ / Chesterville, ON\n",
       "4 Montreal, PQ / Chesterville, ON\n",
       "5 Montreal, PQ / Chesterville, ON"
      ]
     },
     "metadata": {},
     "output_type": "display_data"
    },
    {
     "name": "stdout",
     "output_type": "stream",
     "text": [
      "'data.frame':\t1309 obs. of  14 variables:\n",
      " $ pclass  : int  1 1 1 1 1 1 1 1 1 1 ...\n",
      " $ survived: int  1 1 0 0 0 1 1 0 1 0 ...\n",
      " $ name    : Factor w/ 1307 levels \"Abbing, Mr. Anthony\",..: 22 24 25 26 27 31 46 47 51 55 ...\n",
      " $ sex     : Factor w/ 2 levels \"female\",\"male\": 1 2 1 2 1 2 1 2 1 2 ...\n",
      " $ age     : num  29 0.917 2 30 25 ...\n",
      " $ sibsp   : int  0 1 1 1 1 0 1 0 2 0 ...\n",
      " $ parch   : int  0 2 2 2 2 0 0 0 0 0 ...\n",
      " $ ticket  : Factor w/ 929 levels \"110152\",\"110413\",..: 188 50 50 50 50 125 93 16 77 826 ...\n",
      " $ fare    : num  211 152 152 152 152 ...\n",
      " $ cabin   : Factor w/ 187 levels \"\",\"A10\",\"A11\",..: 45 81 81 81 81 151 147 17 63 1 ...\n",
      " $ embarked: Factor w/ 4 levels \"\",\"C\",\"Q\",\"S\": 4 4 4 4 4 4 4 4 4 2 ...\n",
      " $ boat    : Factor w/ 28 levels \"\",\"1\",\"10\",\"11\",..: 13 4 1 1 1 14 3 1 28 1 ...\n",
      " $ body    : int  NA NA NA 135 NA NA NA NA NA 22 ...\n",
      " $ homedest: Factor w/ 370 levels \"\",\"?Havana, Cuba\",..: 310 232 232 232 232 238 163 25 23 230 ...\n"
     ]
    }
   ],
   "source": [
    "# we are using caret ...\n",
    "library(caret)\n",
    "\n",
    "# download from above, put in a folder and read (this is all titanic data)\n",
    "titanic <- read.csv('titanicfull.csv') # option: , stringsAsFactors = F (not very useful here)\n",
    "#length(titanic) # 14 columns\n",
    "#nrow(titanic) # 1309 rows \n",
    "# dim gets both rows and cols\n",
    "dim(titanic)\n",
    "head(titanic, 5) # first 5 rows  \n",
    "# column names \n",
    "# colnames(titanic)\n",
    "str(titanic)"
   ]
  },
  {
   "cell_type": "code",
   "execution_count": 245,
   "metadata": {},
   "outputs": [
    {
     "data": {
      "text/plain": [
       "     pclass         survived                                   name     \n",
       " Min.   :1.000   Min.   :0.000   Connolly, Miss. Kate            :   2  \n",
       " 1st Qu.:2.000   1st Qu.:0.000   Kelly, Mr. James                :   2  \n",
       " Median :3.000   Median :0.000   Abbing, Mr. Anthony             :   1  \n",
       " Mean   :2.295   Mean   :0.382   Abbott, Master. Eugene Joseph   :   1  \n",
       " 3rd Qu.:3.000   3rd Qu.:1.000   Abbott, Mr. Rossmore Edward     :   1  \n",
       " Max.   :3.000   Max.   :1.000   Abbott, Mrs. Stanton (Rosa Hunt):   1  \n",
       "                                 (Other)                         :1301  \n",
       "     sex           age              sibsp            parch      \n",
       " female:466   Min.   : 0.1667   Min.   :0.0000   Min.   :0.000  \n",
       " male  :843   1st Qu.:21.0000   1st Qu.:0.0000   1st Qu.:0.000  \n",
       "              Median :28.0000   Median :0.0000   Median :0.000  \n",
       "              Mean   :29.8811   Mean   :0.4989   Mean   :0.385  \n",
       "              3rd Qu.:39.0000   3rd Qu.:1.0000   3rd Qu.:0.000  \n",
       "              Max.   :80.0000   Max.   :8.0000   Max.   :9.000  \n",
       "              NA's   :263                                       \n",
       "      ticket          fare                     cabin      embarked\n",
       " CA. 2343:  11   Min.   :  0.000                  :1014    :  2   \n",
       " 1601    :   8   1st Qu.:  7.896   C23 C25 C27    :   6   C:270   \n",
       " CA 2144 :   8   Median : 14.454   B57 B59 B63 B66:   5   Q:123   \n",
       " 3101295 :   7   Mean   : 33.295   G6             :   5   S:914   \n",
       " 347077  :   7   3rd Qu.: 31.275   B96 B98        :   4           \n",
       " 347082  :   7   Max.   :512.329   C22 C26        :   4           \n",
       " (Other) :1261   NA's   :1         (Other)        : 271           \n",
       "      boat          body                       homedest  \n",
       "        :823   Min.   :  1.0                       :564  \n",
       " 13     : 39   1st Qu.: 72.0   New York, NY        : 64  \n",
       " C      : 38   Median :155.0   London              : 14  \n",
       " 15     : 37   Mean   :160.8   Montreal, PQ        : 10  \n",
       " 14     : 33   3rd Qu.:256.0   Cornwall / Akron, OH:  9  \n",
       " 4      : 31   Max.   :328.0   Paris, France       :  9  \n",
       " (Other):308   NA's   :1188    (Other)             :639  "
      ]
     },
     "metadata": {},
     "output_type": "display_data"
    }
   ],
   "source": [
    "# gets stats and missing values\n",
    "summary(titanic)"
   ]
  },
  {
   "cell_type": "code",
   "execution_count": 246,
   "metadata": {},
   "outputs": [
    {
     "data": {
      "text/html": [
       "14.4354220647773"
      ],
      "text/latex": [
       "14.4354220647773"
      ],
      "text/markdown": [
       "14.4354220647773"
      ],
      "text/plain": [
       "[1] 14.43542"
      ]
     },
     "metadata": {},
     "output_type": "display_data"
    },
    {
     "data": {
      "text/html": [
       "31.338819523269"
      ],
      "text/latex": [
       "31.338819523269"
      ],
      "text/markdown": [
       "31.338819523269"
      ],
      "text/plain": [
       "[1] 31.33882"
      ]
     },
     "metadata": {},
     "output_type": "display_data"
    }
   ],
   "source": [
    "# missing data: we have 1 missing fare, 263 age, 2 embarked, many cabin and boat. \n",
    "# Let's assume others are not important (home dest, boat, ..)\n",
    "\n",
    "# first, deal with fare - get row with missing fare \n",
    "mfare <- titanic[is.na(titanic$fare),]\n",
    "\n",
    "# calculate mean of similar rows (trying to be more accurate - this is a matter of life and death!)\n",
    "meanFare <- mean((titanic[(titanic$pclass == 3 & titanic$embarked == 'S'),])$fare, na.rm = T)\n",
    "meanFare\n",
    "\n",
    "# calculate mean age for people with parch < 2 and sibsp < 2 (most of those missing age in this range)\n",
    "meanAge <- mean((titanic[(titanic$parch < 2 & titanic$sibsp < 2),])$age, na.rm = T)\n",
    "meanAge"
   ]
  },
  {
   "cell_type": "code",
   "execution_count": 247,
   "metadata": {
    "collapsed": true
   },
   "outputs": [],
   "source": [
    "# assign mean to the row(s)\n",
    "titanic$fare[is.na(titanic$fare)] <- meanFare"
   ]
  },
  {
   "cell_type": "code",
   "execution_count": 248,
   "metadata": {
    "collapsed": true
   },
   "outputs": [],
   "source": [
    "# identify rows with missing age \n",
    "#mage <- titanic[is.na(titanic$age),]\n",
    "#dim(mage)\n",
    "# to impute, we can be more detailed and group by sex, sibsp, parch and even title (ex. Dr). This is \n",
    "# left as an exercise. We'll just take the mean here (not a great idea)\n",
    "#titanic$age[is.na(titanic$age)] <- mean(titanic$age, na.rm = T) # mean = 29.88\n",
    "titanic$age[is.na(titanic$age)] <- meanAge"
   ]
  },
  {
   "cell_type": "markdown",
   "metadata": {},
   "source": [
    "#### Note: no detailed info available on the life boats feature, but it seems highly correlated to survival. Only a few people whose 'boat' feature is empty survived (23) and fewer ones with non-empty 'boat' feature died (9). So, unless life boats were assigned before disaster, this feature should not be used."
   ]
  },
  {
   "cell_type": "code",
   "execution_count": 249,
   "metadata": {
    "collapsed": true
   },
   "outputs": [],
   "source": [
    "# impute boat and cabin - add two new columns\n",
    "titanic$boat2 <- ifelse(titanic$boat =='',0, 1)\n",
    "titanic$cabin2 <- ifelse(titanic$cabin =='',0, 1)\n",
    "# we'll convrt to factor after finding correlation"
   ]
  },
  {
   "cell_type": "code",
   "execution_count": 250,
   "metadata": {},
   "outputs": [
    {
     "data": {
      "text/html": [
       "7"
      ],
      "text/latex": [
       "7"
      ],
      "text/markdown": [
       "7"
      ],
      "text/plain": [
       "[1] 7"
      ]
     },
     "metadata": {},
     "output_type": "display_data"
    },
    {
     "data": {
      "text/html": [
       "<table>\n",
       "<thead><tr><th scope=col>pclass</th><th scope=col>survived</th><th scope=col>age</th><th scope=col>sibsp</th><th scope=col>parch</th><th scope=col>fare</th><th scope=col>boat2</th><th scope=col>cabin2</th></tr></thead>\n",
       "<tbody>\n",
       "\t<tr><td>1       </td><td>1       </td><td>29.0000 </td><td>0       </td><td>0       </td><td>211.3375</td><td>1       </td><td>1       </td></tr>\n",
       "\t<tr><td>1       </td><td>1       </td><td> 0.9167 </td><td>1       </td><td>2       </td><td>151.5500</td><td>1       </td><td>1       </td></tr>\n",
       "\t<tr><td>1       </td><td>0       </td><td> 2.0000 </td><td>1       </td><td>2       </td><td>151.5500</td><td>0       </td><td>1       </td></tr>\n",
       "\t<tr><td>1       </td><td>0       </td><td>30.0000 </td><td>1       </td><td>2       </td><td>151.5500</td><td>0       </td><td>1       </td></tr>\n",
       "\t<tr><td>1       </td><td>0       </td><td>25.0000 </td><td>1       </td><td>2       </td><td>151.5500</td><td>0       </td><td>1       </td></tr>\n",
       "</tbody>\n",
       "</table>\n"
      ],
      "text/latex": [
       "\\begin{tabular}{r|llllllll}\n",
       " pclass & survived & age & sibsp & parch & fare & boat2 & cabin2\\\\\n",
       "\\hline\n",
       "\t 1        & 1        & 29.0000  & 0        & 0        & 211.3375 & 1        & 1       \\\\\n",
       "\t 1        & 1        &  0.9167  & 1        & 2        & 151.5500 & 1        & 1       \\\\\n",
       "\t 1        & 0        &  2.0000  & 1        & 2        & 151.5500 & 0        & 1       \\\\\n",
       "\t 1        & 0        & 30.0000  & 1        & 2        & 151.5500 & 0        & 1       \\\\\n",
       "\t 1        & 0        & 25.0000  & 1        & 2        & 151.5500 & 0        & 1       \\\\\n",
       "\\end{tabular}\n"
      ],
      "text/markdown": [
       "\n",
       "pclass | survived | age | sibsp | parch | fare | boat2 | cabin2 | \n",
       "|---|---|---|---|---|\n",
       "| 1        | 1        | 29.0000  | 0        | 0        | 211.3375 | 1        | 1        | \n",
       "| 1        | 1        |  0.9167  | 1        | 2        | 151.5500 | 1        | 1        | \n",
       "| 1        | 0        |  2.0000  | 1        | 2        | 151.5500 | 0        | 1        | \n",
       "| 1        | 0        | 30.0000  | 1        | 2        | 151.5500 | 0        | 1        | \n",
       "| 1        | 0        | 25.0000  | 1        | 2        | 151.5500 | 0        | 1        | \n",
       "\n",
       "\n"
      ],
      "text/plain": [
       "  pclass survived age     sibsp parch fare     boat2 cabin2\n",
       "1 1      1        29.0000 0     0     211.3375 1     1     \n",
       "2 1      1         0.9167 1     2     151.5500 1     1     \n",
       "3 1      0         2.0000 1     2     151.5500 0     1     \n",
       "4 1      0        30.0000 1     2     151.5500 0     1     \n",
       "5 1      0        25.0000 1     2     151.5500 0     1     "
      ]
     },
     "metadata": {},
     "output_type": "display_data"
    }
   ],
   "source": [
    "# find correlation\n",
    "num_cols <- sapply(titanic, is.numeric)\n",
    "titanic_num <- titanic[num_cols]\n",
    "# impute body or remove it (int, has NA's). Let's drop it \n",
    "titanic_num$body <- NULL\n",
    "titanic_cor <- cor(titanic_num)\n",
    "findCorrelation(titanic_cor, cutoff = 0.90) # boot2 (feature # 7) has over 90% correlation\n",
    "head(titanic_num,5)"
   ]
  },
  {
   "cell_type": "markdown",
   "metadata": {},
   "source": [
    "### Note: if boat2 is included, over .97 accuracy is reached - highly correlated to survival. It was removed from this model"
   ]
  },
  {
   "cell_type": "code",
   "execution_count": 251,
   "metadata": {
    "collapsed": true
   },
   "outputs": [],
   "source": [
    "# now set these to factor (can ignore boat2 as it won't be used)\n",
    "titanic$boat2 <- factor(titanic$boat2)\n",
    "titanic$cabin2 <- factor(titanic$cabin2)"
   ]
  },
  {
   "cell_type": "code",
   "execution_count": 252,
   "metadata": {},
   "outputs": [
    {
     "data": {
      "text/html": [
       "<table>\n",
       "<thead><tr><th></th><th scope=col>pclass</th><th scope=col>survived</th><th scope=col>name</th><th scope=col>sex</th><th scope=col>age</th><th scope=col>sibsp</th><th scope=col>parch</th><th scope=col>ticket</th><th scope=col>fare</th><th scope=col>cabin</th><th scope=col>embarked</th><th scope=col>boat</th><th scope=col>body</th><th scope=col>homedest</th><th scope=col>boat2</th><th scope=col>cabin2</th></tr></thead>\n",
       "<tbody>\n",
       "\t<tr><th scope=row>169</th><td>1                                        </td><td>1                                        </td><td>Icard, Miss. Amelie                      </td><td>female                                   </td><td>38                                       </td><td>0                                        </td><td>0                                        </td><td>113572                                   </td><td>80                                       </td><td>B28                                      </td><td>                                         </td><td>6                                        </td><td>NA                                       </td><td>                                         </td><td>1                                        </td><td>1                                        </td></tr>\n",
       "\t<tr><th scope=row>285</th><td>1                                        </td><td>1                                        </td><td>Stone, Mrs. George Nelson (Martha Evelyn)</td><td>female                                   </td><td>62                                       </td><td>0                                        </td><td>0                                        </td><td>113572                                   </td><td>80                                       </td><td>B28                                      </td><td>                                         </td><td>6                                        </td><td>NA                                       </td><td>Cincinatti, OH                           </td><td>1                                        </td><td>1                                        </td></tr>\n",
       "</tbody>\n",
       "</table>\n"
      ],
      "text/latex": [
       "\\begin{tabular}{r|llllllllllllllll}\n",
       "  & pclass & survived & name & sex & age & sibsp & parch & ticket & fare & cabin & embarked & boat & body & homedest & boat2 & cabin2\\\\\n",
       "\\hline\n",
       "\t169 & 1                                         & 1                                         & Icard, Miss. Amelie                       & female                                    & 38                                        & 0                                         & 0                                         & 113572                                    & 80                                        & B28                                       &                                           & 6                                         & NA                                        &                                           & 1                                         & 1                                        \\\\\n",
       "\t285 & 1                                         & 1                                         & Stone, Mrs. George Nelson (Martha Evelyn) & female                                    & 62                                        & 0                                         & 0                                         & 113572                                    & 80                                        & B28                                       &                                           & 6                                         & NA                                        & Cincinatti, OH                            & 1                                         & 1                                        \\\\\n",
       "\\end{tabular}\n"
      ],
      "text/markdown": [
       "\n",
       "| <!--/--> | pclass | survived | name | sex | age | sibsp | parch | ticket | fare | cabin | embarked | boat | body | homedest | boat2 | cabin2 | \n",
       "|---|---|\n",
       "| 169 | 1                                         | 1                                         | Icard, Miss. Amelie                       | female                                    | 38                                        | 0                                         | 0                                         | 113572                                    | 80                                        | B28                                       |                                           | 6                                         | NA                                        |                                           | 1                                         | 1                                         | \n",
       "| 285 | 1                                         | 1                                         | Stone, Mrs. George Nelson (Martha Evelyn) | female                                    | 62                                        | 0                                         | 0                                         | 113572                                    | 80                                        | B28                                       |                                           | 6                                         | NA                                        | Cincinatti, OH                            | 1                                         | 1                                         | \n",
       "\n",
       "\n"
      ],
      "text/plain": [
       "    pclass survived name                                      sex    age sibsp\n",
       "169 1      1        Icard, Miss. Amelie                       female 38  0    \n",
       "285 1      1        Stone, Mrs. George Nelson (Martha Evelyn) female 62  0    \n",
       "    parch ticket fare cabin embarked boat body homedest       boat2 cabin2\n",
       "169 0     113572 80   B28            6    NA                  1     1     \n",
       "285 0     113572 80   B28            6    NA   Cincinatti, OH 1     1     "
      ]
     },
     "metadata": {},
     "output_type": "display_data"
    },
    {
     "data": {
      "text/html": [
       "<table>\n",
       "<thead><tr><th scope=col>pclass</th><th scope=col>survived</th><th scope=col>name</th><th scope=col>sex</th><th scope=col>age</th><th scope=col>sibsp</th><th scope=col>parch</th><th scope=col>ticket</th><th scope=col>fare</th><th scope=col>cabin</th><th scope=col>embarked</th><th scope=col>boat</th><th scope=col>body</th><th scope=col>homedest</th><th scope=col>boat2</th><th scope=col>cabin2</th></tr></thead>\n",
       "<tbody>\n",
       "</tbody>\n",
       "</table>\n"
      ],
      "text/latex": [
       "\\begin{tabular}{r|llllllllllllllll}\n",
       " pclass & survived & name & sex & age & sibsp & parch & ticket & fare & cabin & embarked & boat & body & homedest & boat2 & cabin2\\\\\n",
       "\\hline\n",
       "\\end{tabular}\n"
      ],
      "text/markdown": [
       "\n",
       "pclass | survived | name | sex | age | sibsp | parch | ticket | fare | cabin | embarked | boat | body | homedest | boat2 | cabin2 | \n",
       "||\n",
       "\n",
       "\n"
      ],
      "text/plain": [
       "     pclass survived name sex age sibsp parch ticket fare cabin embarked boat\n",
       "     body homedest boat2 cabin2"
      ]
     },
     "metadata": {},
     "output_type": "display_data"
    }
   ],
   "source": [
    "# finally, we have 2 missing for emabarked. Since most are from S, we set these as S\n",
    "titanic[(titanic$embarked == ''),]\n",
    "titanic$embarked[titanic$embarked == ''] <- 'S'\n",
    "titanic[(titanic$embarked == ''),]"
   ]
  },
  {
   "cell_type": "code",
   "execution_count": 253,
   "metadata": {
    "collapsed": true
   },
   "outputs": [],
   "source": [
    "# change these to factor? based on description, these sould be numbers\n",
    "# can keep pclass as ordered category (although reversed in meaning: class 1 is more valuable than class 3)\n",
    "\n",
    "#titanic$sibsp <- factor(titanic$sibsp)\n",
    "#titanic$parch <- factor(titanic$parch)"
   ]
  },
  {
   "cell_type": "code",
   "execution_count": 254,
   "metadata": {},
   "outputs": [
    {
     "data": {
      "text/html": [
       "<ol class=list-inline>\n",
       "\t<li>982</li>\n",
       "\t<li>16</li>\n",
       "</ol>\n"
      ],
      "text/latex": [
       "\\begin{enumerate*}\n",
       "\\item 982\n",
       "\\item 16\n",
       "\\end{enumerate*}\n"
      ],
      "text/markdown": [
       "1. 982\n",
       "2. 16\n",
       "\n",
       "\n"
      ],
      "text/plain": [
       "[1] 982  16"
      ]
     },
     "metadata": {},
     "output_type": "display_data"
    },
    {
     "data": {
      "text/html": [
       "<ol class=list-inline>\n",
       "\t<li>327</li>\n",
       "\t<li>16</li>\n",
       "</ol>\n"
      ],
      "text/latex": [
       "\\begin{enumerate*}\n",
       "\\item 327\n",
       "\\item 16\n",
       "\\end{enumerate*}\n"
      ],
      "text/markdown": [
       "1. 327\n",
       "2. 16\n",
       "\n",
       "\n"
      ],
      "text/plain": [
       "[1] 327  16"
      ]
     },
     "metadata": {},
     "output_type": "display_data"
    }
   ],
   "source": [
    "set.seed(4321)\n",
    "titanic_sampling_vector <- createDataPartition(titanic$survived, p = 0.75, list = FALSE)\n",
    "titanic_train <- titanic[titanic_sampling_vector,]\n",
    "titanic_train_labels <- titanic$survived[titanic_sampling_vector]\n",
    "titanic_test <- titanic[-titanic_sampling_vector,]\n",
    "titanic_test_labels <- titanic$survived[-titanic_sampling_vector]\n",
    "dim(titanic_train)\n",
    "dim(titanic_test)"
   ]
  },
  {
   "cell_type": "code",
   "execution_count": 255,
   "metadata": {},
   "outputs": [
    {
     "data": {
      "text/plain": [
       "\n",
       "Call:\n",
       "glm(formula = survived ~ pclass + sex + age + fare + parch + \n",
       "    sibsp + embarked + cabin2, family = binomial(\"logit\"), data = titanic_train)\n",
       "\n",
       "Deviance Residuals: \n",
       "    Min       1Q   Median       3Q      Max  \n",
       "-2.4700  -0.6199  -0.4318   0.6305   2.4644  \n",
       "\n",
       "Coefficients:\n",
       "              Estimate Std. Error z value Pr(>|z|)    \n",
       "(Intercept)  4.6549754  0.5919683   7.864 3.73e-15 ***\n",
       "pclass      -0.8084071  0.1579277  -5.119 3.07e-07 ***\n",
       "sexmale     -2.6198465  0.1869679 -14.012  < 2e-16 ***\n",
       "age         -0.0406998  0.0075479  -5.392 6.96e-08 ***\n",
       "fare         0.0006016  0.0021136   0.285  0.77592    \n",
       "parch       -0.0419751  0.0998995  -0.420  0.67436    \n",
       "sibsp       -0.2411905  0.1043393  -2.312  0.02080 *  \n",
       "embarkedQ   -0.6614609  0.3458636  -1.912  0.05581 .  \n",
       "embarkedS   -0.6647668  0.2196220  -3.027  0.00247 ** \n",
       "cabin21      0.6014154  0.2786675   2.158  0.03091 *  \n",
       "---\n",
       "Signif. codes:  0 '***' 0.001 '**' 0.01 '*' 0.05 '.' 0.1 ' ' 1\n",
       "\n",
       "(Dispersion parameter for binomial family taken to be 1)\n",
       "\n",
       "    Null deviance: 1308.86  on 981  degrees of freedom\n",
       "Residual deviance:  885.62  on 972  degrees of freedom\n",
       "AIC: 905.62\n",
       "\n",
       "Number of Fisher Scoring iterations: 5\n"
      ]
     },
     "metadata": {},
     "output_type": "display_data"
    }
   ],
   "source": [
    "# define glm model: ignore  - name - ticket  - boat2 - body - homedest \n",
    "# we are not using cross validation for simplicity\n",
    "titanic_glm <- glm(survived ~ pclass + sex + age + fare + parch + sibsp + embarked + cabin2  , \n",
    "                   data = titanic_train, family = binomial(\"logit\"))\n",
    "summary(titanic_glm)"
   ]
  },
  {
   "cell_type": "code",
   "execution_count": 256,
   "metadata": {},
   "outputs": [
    {
     "data": {
      "text/html": [
       "0.791242362525458"
      ],
      "text/latex": [
       "0.791242362525458"
      ],
      "text/markdown": [
       "0.791242362525458"
      ],
      "text/plain": [
       "[1] 0.7912424"
      ]
     },
     "metadata": {},
     "output_type": "display_data"
    }
   ],
   "source": [
    "# assess the train model\n",
    "train_predictions <- predict(titanic_glm, newdata = titanic_train, type = \"response\")\n",
    "train_class_predictions <- as.numeric(train_predictions > 0.5)\n",
    "mean(train_class_predictions == titanic_train$survived)"
   ]
  },
  {
   "cell_type": "code",
   "execution_count": 257,
   "metadata": {},
   "outputs": [
    {
     "data": {
      "text/html": [
       "0.788990825688073"
      ],
      "text/latex": [
       "0.788990825688073"
      ],
      "text/markdown": [
       "0.788990825688073"
      ],
      "text/plain": [
       "[1] 0.7889908"
      ]
     },
     "metadata": {},
     "output_type": "display_data"
    }
   ],
   "source": [
    "test_predictions <- predict(titanic_glm, newdata = titanic_test, type = \"response\")\n",
    "test_class_predictions <- as.numeric(test_predictions > 0.5)\n",
    "mean(test_class_predictions == titanic_test$survived)"
   ]
  },
  {
   "cell_type": "code",
   "execution_count": 258,
   "metadata": {},
   "outputs": [
    {
     "data": {
      "text/plain": [
       "Confusion Matrix and Statistics\n",
       "\n",
       "          Reference\n",
       "Prediction   0   1\n",
       "         0 174  38\n",
       "         1  31  84\n",
       "                                         \n",
       "               Accuracy : 0.789          \n",
       "                 95% CI : (0.7407, 0.832)\n",
       "    No Information Rate : 0.6269         \n",
       "    P-Value [Acc > NIR] : 1.987e-10      \n",
       "                                         \n",
       "                  Kappa : 0.5436         \n",
       " Mcnemar's Test P-Value : 0.4701         \n",
       "                                         \n",
       "              Precision : 0.7304         \n",
       "                 Recall : 0.6885         \n",
       "                     F1 : 0.7089         \n",
       "             Prevalence : 0.3731         \n",
       "         Detection Rate : 0.2569         \n",
       "   Detection Prevalence : 0.3517         \n",
       "      Balanced Accuracy : 0.7687         \n",
       "                                         \n",
       "       'Positive' Class : 1              \n",
       "                                         "
      ]
     },
     "metadata": {},
     "output_type": "display_data"
    }
   ],
   "source": [
    "confusionMatrix(data = test_class_predictions, reference = titanic_test$survived, \n",
    "                mode = \"prec_recall\", positive = \"1\")"
   ]
  },
  {
   "cell_type": "code",
   "execution_count": 259,
   "metadata": {},
   "outputs": [
    {
     "data": {
      "text/html": [
       "0.832906837265095"
      ],
      "text/latex": [
       "0.832906837265095"
      ],
      "text/markdown": [
       "0.832906837265095"
      ],
      "text/plain": [
       "[1] 0.8329068"
      ]
     },
     "metadata": {},
     "output_type": "display_data"
    },
    {
     "data": {
      "image/png": "[encoded data removed]",
      "text/plain": [
       "plot without title"
      ]
     },
     "metadata": {},
     "output_type": "display_data"
    }
   ],
   "source": [
    "# Compute AUC for predicting Class with the model \n",
    "# see https://www.r-bloggers.com/evaluating-logistic-regression-models/\n",
    "library(ROCR)\n",
    "prob <- predict(titanic_glm, newdata=titanic_test, type=\"response\")\n",
    "pred <- prediction(prob, titanic_test$survived)\n",
    "perf <- performance(pred, measure = \"tpr\", x.measure = \"fpr\")\n",
    "\n",
    "# see how good our work is\n",
    "plot(perf)\n",
    "abline(0, 1) #add a 45 degree line\n",
    "\n",
    "auc <- performance(pred, measure = \"auc\") \n",
    "#auc\n",
    "auc <- auc@y.values[[1]]\n",
    "auc"
   ]
  },
  {
   "cell_type": "code",
   "execution_count": 260,
   "metadata": {},
   "outputs": [
    {
     "data": {
      "text/plain": [
       "         Observed\n",
       "Predicted FALSE TRUE\n",
       "    FALSE   174   38\n",
       "    TRUE     31   84"
      ]
     },
     "metadata": {},
     "output_type": "display_data"
    },
    {
     "data": {
      "text/plain": [
       "Confusion Matrix and Statistics\n",
       "\n",
       "          Reference\n",
       "Prediction FALSE TRUE\n",
       "     FALSE   174   31\n",
       "     TRUE     38   84\n",
       "                                         \n",
       "               Accuracy : 0.789          \n",
       "                 95% CI : (0.7407, 0.832)\n",
       "    No Information Rate : 0.6483         \n",
       "    P-Value [Acc > NIR] : 2.105e-08      \n",
       "                                         \n",
       "                  Kappa : 0.5436         \n",
       " Mcnemar's Test P-Value : 0.4701         \n",
       "                                         \n",
       "            Sensitivity : 0.7304         \n",
       "            Specificity : 0.8208         \n",
       "         Pos Pred Value : 0.6885         \n",
       "         Neg Pred Value : 0.8488         \n",
       "             Prevalence : 0.3517         \n",
       "         Detection Rate : 0.2569         \n",
       "   Detection Prevalence : 0.3731         \n",
       "      Balanced Accuracy : 0.7756         \n",
       "                                         \n",
       "       'Positive' Class : TRUE           \n",
       "                                         "
      ]
     },
     "metadata": {},
     "output_type": "display_data"
    },
    {
     "data": {
      "image/png": "[encoded data removed]",
      "text/plain": [
       "Plot with title \"ROC curve Titanic (Logistic Regression)\""
      ]
     },
     "metadata": {},
     "output_type": "display_data"
    }
   ],
   "source": [
    "# ---- http://shahramabyari.com/2016/02/22/measuring-performance-of-classifiers/ -----\n",
    "# sensitivity = TP rate or recall (+ves ratio correctly identified)\n",
    "# specificity = TN rate (-ves ratio correctly identified)\n",
    "\n",
    "#Predict the test data and calculate confusion matrix\n",
    "predictions <- ifelse(predict(titanic_glm, titanic_test, type='response') > 0.5, TRUE, FALSE)\n",
    "confusion  <- table(predictions, as.logical(titanic_test$survived),dnn = c('Predicted','Observed'))\n",
    "confusion\n",
    "plot(perf, col=rainbow(7), main=\"ROC curve Titanic (Logistic Regression)\", \n",
    "     xlab=\"1 - Specificity\", ylab=\"Sensitivity\") \n",
    "abline(0, 1)\n",
    "# confusion matrix outputs sensitivity and specificity but label should be classes (used as.logical)\n",
    "confusionMatrix(as.logical(titanic_test$survived), predictions, positive = \"TRUE\")"
   ]
  },
  {
   "cell_type": "markdown",
   "metadata": {},
   "source": [
    "#### training and testing performances are close. Good enough. Now your turn to tune parameters and try the Kaggle challenge (train and test already split). The two next cells are extra."
   ]
  },
  {
   "cell_type": "code",
   "execution_count": 261,
   "metadata": {},
   "outputs": [
    {
     "data": {
      "text/plain": [
       "\n",
       "  0   1 \n",
       "809 500 "
      ]
     },
     "metadata": {},
     "output_type": "display_data"
    },
    {
     "data": {
      "text/plain": [
       "\n",
       "       0        1 \n",
       "0.618029 0.381971 "
      ]
     },
     "metadata": {},
     "output_type": "display_data"
    }
   ],
   "source": [
    "# Explore the target\n",
    "table(titanic$survived)\n",
    "prop.table(table(titanic$survived))"
   ]
  },
  {
   "cell_type": "code",
   "execution_count": 262,
   "metadata": {},
   "outputs": [
    {
     "data": {
      "image/png": "[encoded data removed]",
      "text/plain": [
       "Plot with title \"Histogram of titanic$fare\""
      ]
     },
     "metadata": {},
     "output_type": "display_data"
    }
   ],
   "source": [
    "par(mfrow=c(3,2))\n",
    "hist(titanic$pclass)\n",
    "hist(titanic$age)\n",
    "# set these to numeric\n",
    "#titanic$sibsp <- as.numeric(titanic$sibsp)\n",
    "hist(titanic$sibsp)\n",
    "hist(titanic$parch)\n",
    "hist(titanic$fare)"
   ]
  },
  {
   "cell_type": "code",
   "execution_count": null,
   "metadata": {
    "collapsed": true
   },
   "outputs": [],
   "source": []
  }
 ],
 "metadata": {
  "kernelspec": {
   "display_name": "R",
   "language": "R",
   "name": "ir"
  },
  "language_info": {
   "codemirror_mode": "r",
   "file_extension": ".r",
   "mimetype": "text/x-r-source",
   "name": "R",
   "pygments_lexer": "r",
   "version": "3.3.3"
  }
 },
 "nbformat": 4,
 "nbformat_minor": 2
}
