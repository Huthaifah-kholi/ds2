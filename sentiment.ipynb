{
 "cells": [
  {
   "cell_type": "markdown",
   "metadata": {},
   "source": [
    "### Sentiment analysis using Keras and Word2Vec  \n",
    "Data from Kaggle: https://inclass.kaggle.com/c/si650winter11  \n",
    "Based on code from https://github.com/PacktPublishing/Deep-Learning-with-Keras/blob/master/Chapter05/learn_embedding_from_scratch.py  \n",
    "See also  https://github.com/sujitpal/intro-dl-talk-code/blob/master/src/04-umich-sentiment-analysis.ipynb"
   ]
  },
  {
   "cell_type": "code",
   "execution_count": 74,
   "metadata": {},
   "outputs": [],
   "source": [
    "from keras.layers import Dense, Dropout, SpatialDropout1D\n",
    "from keras.layers.convolutional import Conv1D\n",
    "from keras.layers.embeddings import Embedding\n",
    "from keras.layers.pooling import GlobalMaxPooling1D\n",
    "from keras.models import Sequential\n",
    "from keras.preprocessing.sequence import pad_sequences\n",
    "from keras.utils import np_utils\n",
    "from sklearn.model_selection import train_test_split \n",
    "from sklearn.metrics import confusion_matrix, classification_report, accuracy_score\n",
    "import collections\n",
    "import matplotlib.pyplot as plt\n",
    "import nltk\n",
    "import numpy as np\n",
    "\n",
    "np.random.seed(42)"
   ]
  },
  {
   "cell_type": "code",
   "execution_count": 75,
   "metadata": {
    "collapsed": true
   },
   "outputs": [],
   "source": [
    "INPUT_FILE = \"umich_train.txt\"\n",
    "VOCAB_SIZE = 5000\n",
    "EMBED_SIZE = 100\n",
    "NUM_FILTERS = 256\n",
    "NUM_WORDS = 3\n",
    "BATCH_SIZE = 64\n",
    "NUM_EPOCHS = 20"
   ]
  },
  {
   "cell_type": "code",
   "execution_count": 76,
   "metadata": {},
   "outputs": [
    {
     "name": "stdout",
     "output_type": "stream",
     "text": [
      "(4960, 42) (2126, 42) (4960, 2) (2126, 2)\n"
     ]
    }
   ],
   "source": [
    "counter = collections.Counter()\n",
    "\n",
    "with open(INPUT_FILE, \"r\", encoding='utf-8') as f:\n",
    "    maxlen = 0\n",
    "    for line in f:\n",
    "        _, sent = line.strip().split(\"\\t\")\n",
    "        words = [x.lower() for x in nltk.word_tokenize(sent)]\n",
    "        if len(words) > maxlen:\n",
    "            maxlen = len(words)\n",
    "        for word in words:\n",
    "            counter[word] += 1\n",
    "    \n",
    "word2index = collections.defaultdict(int)\n",
    "for wid, word in enumerate(counter.most_common(VOCAB_SIZE)):\n",
    "    word2index[word[0]] = wid + 1\n",
    "vocab_sz = len(word2index) + 1\n",
    "index2word = {v:k for k, v in word2index.items()}\n",
    "    \n",
    "xs, ys = [], []\n",
    "with open(INPUT_FILE, \"r\", encoding='utf-8') as f:\n",
    "    for line in f:\n",
    "        label, sent = line.strip().split(\"\\t\")\n",
    "        ys.append(int(label))\n",
    "        words = [x.lower() for x in nltk.word_tokenize(sent)]\n",
    "        wids = [word2index[word] for word in words]\n",
    "        xs.append(wids)\n",
    "\n",
    "X = pad_sequences(xs, maxlen=maxlen)\n",
    "y = np_utils.to_categorical(ys, num_classes=2)\n",
    "\n",
    "X_train, X_test, y_train, y_test = train_test_split(X, y, test_size=0.3, \n",
    "                                                random_state=42)\n",
    "print(X_train.shape, X_test.shape, y_train.shape, y_test.shape)"
   ]
  },
  {
   "cell_type": "code",
   "execution_count": 77,
   "metadata": {},
   "outputs": [
    {
     "name": "stdout",
     "output_type": "stream",
     "text": [
      "Train on 4960 samples, validate on 2126 samples\n",
      "Epoch 1/20\n",
      "4960/4960 [==============================] - 9s - loss: 0.2554 - acc: 0.9065 - val_loss: 0.0348 - val_acc: 0.9845\n",
      "Epoch 2/20\n",
      "4960/4960 [==============================] - 9s - loss: 0.0171 - acc: 0.9933 - val_loss: 0.0205 - val_acc: 0.9929\n",
      "Epoch 3/20\n",
      "4960/4960 [==============================] - 9s - loss: 0.0061 - acc: 0.9984 - val_loss: 0.0169 - val_acc: 0.9939\n",
      "Epoch 4/20\n",
      "4960/4960 [==============================] - 8s - loss: 0.0030 - acc: 0.9992 - val_loss: 0.0170 - val_acc: 0.9934\n",
      "Epoch 5/20\n",
      "4960/4960 [==============================] - 9s - loss: 0.0013 - acc: 0.9996 - val_loss: 0.0167 - val_acc: 0.9944\n",
      "Epoch 6/20\n",
      "4960/4960 [==============================] - 9s - loss: 0.0011 - acc: 0.9998 - val_loss: 0.0160 - val_acc: 0.9939\n",
      "Epoch 7/20\n",
      "4960/4960 [==============================] - 9s - loss: 0.0011 - acc: 0.9998 - val_loss: 0.0160 - val_acc: 0.9934\n",
      "Epoch 8/20\n",
      "4960/4960 [==============================] - 9s - loss: 0.0014 - acc: 0.9996 - val_loss: 0.0162 - val_acc: 0.9934\n",
      "Epoch 9/20\n",
      "4960/4960 [==============================] - 10s - loss: 0.0013 - acc: 0.9996 - val_loss: 0.0158 - val_acc: 0.9939\n",
      "Epoch 10/20\n",
      "4960/4960 [==============================] - 10s - loss: 0.0011 - acc: 0.9998 - val_loss: 0.0159 - val_acc: 0.9939\n",
      "Epoch 11/20\n",
      "4960/4960 [==============================] - 9s - loss: 9.0495e-04 - acc: 0.9998 - val_loss: 0.0162 - val_acc: 0.9939\n",
      "Epoch 12/20\n",
      "4960/4960 [==============================] - 8s - loss: 7.7130e-04 - acc: 0.9998 - val_loss: 0.0161 - val_acc: 0.9934\n",
      "Epoch 13/20\n",
      "4960/4960 [==============================] - 9s - loss: 0.0010 - acc: 0.9996 - val_loss: 0.0157 - val_acc: 0.9939\n",
      "Epoch 14/20\n",
      "4960/4960 [==============================] - 9s - loss: 0.0014 - acc: 0.9996 - val_loss: 0.0158 - val_acc: 0.9944\n",
      "Epoch 15/20\n",
      "4960/4960 [==============================] - 9s - loss: 7.9451e-04 - acc: 0.9998 - val_loss: 0.0159 - val_acc: 0.9944\n",
      "Epoch 16/20\n",
      "4960/4960 [==============================] - 9s - loss: 8.9885e-04 - acc: 0.9998 - val_loss: 0.0171 - val_acc: 0.9939\n",
      "Epoch 17/20\n",
      "4960/4960 [==============================] - 9s - loss: 9.7350e-04 - acc: 0.9998 - val_loss: 0.0167 - val_acc: 0.9934\n",
      "Epoch 18/20\n",
      "4960/4960 [==============================] - 9s - loss: 0.0011 - acc: 0.9998 - val_loss: 0.0167 - val_acc: 0.9939\n",
      "Epoch 19/20\n",
      "4960/4960 [==============================] - 9s - loss: 8.6692e-04 - acc: 0.9998 - val_loss: 0.0161 - val_acc: 0.9939\n",
      "Epoch 20/20\n",
      "4960/4960 [==============================] - 9s - loss: 6.5735e-04 - acc: 0.9998 - val_loss: 0.0170 - val_acc: 0.9939\n"
     ]
    },
    {
     "data": {
      "image/png": "[encoded data removed]",
      "text/plain": [
       "<matplotlib.figure.Figure at 0x221eb867828>"
      ]
     },
     "metadata": {},
     "output_type": "display_data"
    },
    {
     "name": "stdout",
     "output_type": "stream",
     "text": [
      "Test score: 0.017, accuracy: 0.994\n"
     ]
    }
   ],
   "source": [
    "model = Sequential()\n",
    "model.add(Embedding(vocab_sz, EMBED_SIZE, input_length=maxlen))\n",
    "#model.add(SpatialDropout1D(Dropout(0.2))) #---- not supported in keras 2\n",
    "model.add(SpatialDropout1D(0.2))\n",
    "model.add(Conv1D(filters=NUM_FILTERS, kernel_size=NUM_WORDS, activation=\"relu\"))\n",
    "model.add(GlobalMaxPooling1D())\n",
    "model.add(Dense(2, activation=\"softmax\"))\n",
    "\n",
    "model.compile(optimizer=\"adam\", loss=\"categorical_crossentropy\",\n",
    "              metrics=[\"accuracy\"])\n",
    "history = model.fit(Xtrain, Ytrain, batch_size=BATCH_SIZE,\n",
    "                    epochs=NUM_EPOCHS,\n",
    "                    validation_data=(Xtest, Ytest))              \n",
    "\n",
    "# plot loss function\n",
    "plt.subplot(221)\n",
    "plt.title(\"accuracy\")\n",
    "plt.plot(history.history[\"acc\"], color=\"r\", label=\"train\")\n",
    "plt.plot(history.history[\"val_acc\"], color=\"b\", label=\"validation\")\n",
    "plt.legend(loc=\"best\")\n",
    "\n",
    "plt.subplot(222)\n",
    "plt.title(\"loss\")\n",
    "plt.plot(history.history[\"loss\"], color=\"r\", label=\"train\")\n",
    "plt.plot(history.history[\"val_loss\"], color=\"b\", label=\"validation\")\n",
    "plt.legend(loc=\"best\")\n",
    "\n",
    "plt.tight_layout()\n",
    "plt.show()\n",
    "\n",
    "# evaluate model\n",
    "score = model.evaluate(X_test, y_test, verbose=0 ) # verbose=1 to see output\n",
    "print(\"Test score: {:.3f}, accuracy: {:.3f}\".format(score[0], score[1]))"
   ]
  },
  {
   "cell_type": "code",
   "execution_count": 78,
   "metadata": {},
   "outputs": [
    {
     "name": "stdout",
     "output_type": "stream",
     "text": [
      "2048/2126 [===========================>..] - ETA: 0s\n",
      "Confusion matrix:\n",
      " [[ 909    5]\n",
      " [   8 1204]]\n",
      "\n",
      "Classification report:\n",
      "              precision    recall  f1-score   support\n",
      "\n",
      "          0       0.99      0.99      0.99       914\n",
      "          1       1.00      0.99      0.99      1212\n",
      "\n",
      "avg / total       0.99      0.99      0.99      2126\n",
      "\n"
     ]
    }
   ],
   "source": [
    "y_test_labels = [np.argmax(i) for i in y_test] # need to bring labels back for the test set\n",
    "preds = model.predict_classes(X_test)\n",
    "print(\"\\nConfusion matrix:\\n\", confusion_matrix(y_test_labels, preds))\n",
    "print(\"\\nClassification report:\\n\",classification_report(y_test_labels, preds))"
   ]
  },
  {
   "cell_type": "code",
   "execution_count": null,
   "metadata": {
    "collapsed": true
   },
   "outputs": [],
   "source": []
  }
 ],
 "metadata": {
  "kernelspec": {
   "display_name": "Python [default]",
   "language": "python",
   "name": "python3"
  },
  "language_info": {
   "codemirror_mode": {
    "name": "ipython",
    "version": 3
   },
   "file_extension": ".py",
   "mimetype": "text/x-python",
   "name": "python",
   "nbconvert_exporter": "python",
   "pygments_lexer": "ipython3",
   "version": "3.5.2"
  }
 },
 "nbformat": 4,
 "nbformat_minor": 2
}
