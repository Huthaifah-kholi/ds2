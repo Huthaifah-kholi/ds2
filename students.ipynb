{
 "cells": [
  {
   "cell_type": "markdown",
   "metadata": {},
   "source": [
    "# Linear Regression (Students Tests Data) \n",
    "### original data from UCI: https://archive.ics.uci.edu/ml/datasets/Student+Performance with some features removed"
   ]
  },
  {
   "cell_type": "code",
   "execution_count": null,
   "metadata": {
    "collapsed": true
   },
   "outputs": [],
   "source": [
    "# This code is for learning purposes\n",
    "# Draft, April 16, 2017 by Abed Khooli for the Applied Data Science training (https://github.com/abedkhooli/ds2)\n",
    "# Licensed under Creative Commons non-commercial (CC BY-NC 4.0)"
   ]
  },
  {
   "cell_type": "code",
   "execution_count": 12,
   "metadata": {},
   "outputs": [],
   "source": [
    "# students tests linear regression \n",
    "\n",
    "# reference the caret package (wrapper of many machine learning R algorithms)\n",
    "library(caret) # caret also loads 2 packages: lattice and ggplot2\n",
    "\n",
    "# Read CSV, note the delimiter (sep) in a data frame\n",
    "df <- read.csv('students.csv')"
   ]
  },
  {
   "cell_type": "code",
   "execution_count": 13,
   "metadata": {},
   "outputs": [
    {
     "data": {
      "text/html": [
       "<table>\n",
       "<thead><tr><th scope=col>X</th><th scope=col>school</th><th scope=col>sex</th><th scope=col>age</th><th scope=col>address</th><th scope=col>famsize</th><th scope=col>Pstatus</th><th scope=col>Medu</th><th scope=col>Fedu</th><th scope=col>Mjob</th><th scope=col>...</th><th scope=col>higher</th><th scope=col>internet</th><th scope=col>famrel</th><th scope=col>freetime</th><th scope=col>goout</th><th scope=col>health</th><th scope=col>absences</th><th scope=col>G1</th><th scope=col>G2</th><th scope=col>G3</th></tr></thead>\n",
       "<tbody>\n",
       "\t<tr><td>1      </td><td>R      </td><td>F      </td><td>18     </td><td>U      </td><td>GT3    </td><td>A      </td><td>4      </td><td>4      </td><td>at_home</td><td>...    </td><td>yes    </td><td>no     </td><td>4      </td><td>3      </td><td>4      </td><td>3      </td><td> 6     </td><td>5      </td><td>6      </td><td> 6     </td></tr>\n",
       "\t<tr><td>2      </td><td>R      </td><td>F      </td><td>19     </td><td>U      </td><td>GT3    </td><td>T      </td><td>1      </td><td>1      </td><td>at_home</td><td>...    </td><td>yes    </td><td>yes    </td><td>5      </td><td>3      </td><td>3      </td><td>3      </td><td> 4     </td><td>5      </td><td>5      </td><td> 6     </td></tr>\n",
       "\t<tr><td>3      </td><td>R      </td><td>F      </td><td>19     </td><td>U      </td><td>LE3    </td><td>T      </td><td>1      </td><td>1      </td><td>at_home</td><td>...    </td><td>yes    </td><td>yes    </td><td>4      </td><td>3      </td><td>2      </td><td>3      </td><td>10     </td><td>7      </td><td>8      </td><td>10     </td></tr>\n",
       "</tbody>\n",
       "</table>\n"
      ],
      "text/latex": [
       "\\begin{tabular}{r|llllllllllllllllllllllllllllll}\n",
       " X & school & sex & age & address & famsize & Pstatus & Medu & Fedu & Mjob & ... & higher & internet & famrel & freetime & goout & health & absences & G1 & G2 & G3\\\\\n",
       "\\hline\n",
       "\t 1         & R         & F         & 18        & U         & GT3       & A         & 4         & 4         & at\\_home & ...       & yes       & no        & 4         & 3         & 4         & 3         &  6        & 5         & 6         &  6       \\\\\n",
       "\t 2         & R         & F         & 19        & U         & GT3       & T         & 1         & 1         & at\\_home & ...       & yes       & yes       & 5         & 3         & 3         & 3         &  4        & 5         & 5         &  6       \\\\\n",
       "\t 3         & R         & F         & 19        & U         & LE3       & T         & 1         & 1         & at\\_home & ...       & yes       & yes       & 4         & 3         & 2         & 3         & 10        & 7         & 8         & 10       \\\\\n",
       "\\end{tabular}\n"
      ],
      "text/markdown": [
       "\n",
       "X | school | sex | age | address | famsize | Pstatus | Medu | Fedu | Mjob | ... | higher | internet | famrel | freetime | goout | health | absences | G1 | G2 | G3 | \n",
       "|---|---|---|\n",
       "| 1       | R       | F       | 18      | U       | GT3     | A       | 4       | 4       | at_home | ...     | yes     | no      | 4       | 3       | 4       | 3       |  6      | 5       | 6       |  6      | \n",
       "| 2       | R       | F       | 19      | U       | GT3     | T       | 1       | 1       | at_home | ...     | yes     | yes     | 5       | 3       | 3       | 3       |  4      | 5       | 5       |  6      | \n",
       "| 3       | R       | F       | 19      | U       | LE3     | T       | 1       | 1       | at_home | ...     | yes     | yes     | 4       | 3       | 2       | 3       | 10      | 7       | 8       | 10      | \n",
       "\n",
       "\n"
      ],
      "text/plain": [
       "  X school sex age address famsize Pstatus Medu Fedu Mjob    ... higher\n",
       "1 1 R      F   18  U       GT3     A       4    4    at_home ... yes   \n",
       "2 2 R      F   19  U       GT3     T       1    1    at_home ... yes   \n",
       "3 3 R      F   19  U       LE3     T       1    1    at_home ... yes   \n",
       "  internet famrel freetime goout health absences G1 G2 G3\n",
       "1 no       4      3        4     3       6       5  6   6\n",
       "2 yes      5      3        3     3       4       5  5   6\n",
       "3 yes      4      3        2     3      10       7  8  10"
      ]
     },
     "metadata": {},
     "output_type": "display_data"
    }
   ],
   "source": [
    "# explore the data\n",
    "head(df,3)"
   ]
  },
  {
   "cell_type": "code",
   "execution_count": 14,
   "metadata": {},
   "outputs": [
    {
     "data": {
      "text/html": [
       "<table>\n",
       "<thead><tr><th scope=col>school</th><th scope=col>sex</th><th scope=col>age</th><th scope=col>address</th><th scope=col>famsize</th><th scope=col>Pstatus</th><th scope=col>Medu</th><th scope=col>Fedu</th><th scope=col>Mjob</th><th scope=col>Fjob</th><th scope=col>...</th><th scope=col>higher</th><th scope=col>internet</th><th scope=col>famrel</th><th scope=col>freetime</th><th scope=col>goout</th><th scope=col>health</th><th scope=col>absences</th><th scope=col>G1</th><th scope=col>G2</th><th scope=col>G3</th></tr></thead>\n",
       "<tbody>\n",
       "\t<tr><td>R      </td><td>F      </td><td>18     </td><td>U      </td><td>GT3    </td><td>A      </td><td>4      </td><td>4      </td><td>at_home</td><td>teacher</td><td>...    </td><td>yes    </td><td>no     </td><td>4      </td><td>3      </td><td>4      </td><td>3      </td><td> 6     </td><td>5      </td><td>6      </td><td> 6     </td></tr>\n",
       "\t<tr><td>R      </td><td>F      </td><td>19     </td><td>U      </td><td>GT3    </td><td>T      </td><td>1      </td><td>1      </td><td>at_home</td><td>other  </td><td>...    </td><td>yes    </td><td>yes    </td><td>5      </td><td>3      </td><td>3      </td><td>3      </td><td> 4     </td><td>5      </td><td>5      </td><td> 6     </td></tr>\n",
       "\t<tr><td>R      </td><td>F      </td><td>19     </td><td>U      </td><td>LE3    </td><td>T      </td><td>1      </td><td>1      </td><td>at_home</td><td>other  </td><td>...    </td><td>yes    </td><td>yes    </td><td>4      </td><td>3      </td><td>2      </td><td>3      </td><td>10     </td><td>7      </td><td>8      </td><td>10     </td></tr>\n",
       "</tbody>\n",
       "</table>\n"
      ],
      "text/latex": [
       "\\begin{tabular}{r|lllllllllllllllllllllllllllll}\n",
       " school & sex & age & address & famsize & Pstatus & Medu & Fedu & Mjob & Fjob & ... & higher & internet & famrel & freetime & goout & health & absences & G1 & G2 & G3\\\\\n",
       "\\hline\n",
       "\t R         & F         & 18        & U         & GT3       & A         & 4         & 4         & at\\_home & teacher   & ...       & yes       & no        & 4         & 3         & 4         & 3         &  6        & 5         & 6         &  6       \\\\\n",
       "\t R         & F         & 19        & U         & GT3       & T         & 1         & 1         & at\\_home & other     & ...       & yes       & yes       & 5         & 3         & 3         & 3         &  4        & 5         & 5         &  6       \\\\\n",
       "\t R         & F         & 19        & U         & LE3       & T         & 1         & 1         & at\\_home & other     & ...       & yes       & yes       & 4         & 3         & 2         & 3         & 10        & 7         & 8         & 10       \\\\\n",
       "\\end{tabular}\n"
      ],
      "text/markdown": [
       "\n",
       "school | sex | age | address | famsize | Pstatus | Medu | Fedu | Mjob | Fjob | ... | higher | internet | famrel | freetime | goout | health | absences | G1 | G2 | G3 | \n",
       "|---|---|---|\n",
       "| R       | F       | 18      | U       | GT3     | A       | 4       | 4       | at_home | teacher | ...     | yes     | no      | 4       | 3       | 4       | 3       |  6      | 5       | 6       |  6      | \n",
       "| R       | F       | 19      | U       | GT3     | T       | 1       | 1       | at_home | other   | ...     | yes     | yes     | 5       | 3       | 3       | 3       |  4      | 5       | 5       |  6      | \n",
       "| R       | F       | 19      | U       | LE3     | T       | 1       | 1       | at_home | other   | ...     | yes     | yes     | 4       | 3       | 2       | 3       | 10      | 7       | 8       | 10      | \n",
       "\n",
       "\n"
      ],
      "text/plain": [
       "  school sex age address famsize Pstatus Medu Fedu Mjob    Fjob    ... higher\n",
       "1 R      F   18  U       GT3     A       4    4    at_home teacher ... yes   \n",
       "2 R      F   19  U       GT3     T       1    1    at_home other   ... yes   \n",
       "3 R      F   19  U       LE3     T       1    1    at_home other   ... yes   \n",
       "  internet famrel freetime goout health absences G1 G2 G3\n",
       "1 no       4      3        4     3       6       5  6   6\n",
       "2 yes      5      3        3     3       4       5  5   6\n",
       "3 yes      4      3        2     3      10       7  8  10"
      ]
     },
     "metadata": {},
     "output_type": "display_data"
    },
    {
     "data": {
      "text/html": [
       "FALSE"
      ],
      "text/latex": [
       "FALSE"
      ],
      "text/markdown": [
       "FALSE"
      ],
      "text/plain": [
       "[1] FALSE"
      ]
     },
     "metadata": {},
     "output_type": "display_data"
    },
    {
     "data": {
      "text/html": [
       "<table>\n",
       "<thead><tr><th scope=col>age</th><th scope=col>Medu</th><th scope=col>Fedu</th><th scope=col>traveltime</th><th scope=col>studytime</th><th scope=col>failures</th><th scope=col>famrel</th><th scope=col>freetime</th><th scope=col>goout</th><th scope=col>health</th><th scope=col>absences</th><th scope=col>G1</th><th scope=col>G2</th><th scope=col>G3</th></tr></thead>\n",
       "<tbody>\n",
       "\t<tr><td>18</td><td>4 </td><td>4 </td><td>2 </td><td>2 </td><td>0 </td><td>4 </td><td>3 </td><td>4 </td><td>3 </td><td> 6</td><td>5 </td><td>6 </td><td> 6</td></tr>\n",
       "\t<tr><td>19</td><td>1 </td><td>1 </td><td>1 </td><td>2 </td><td>0 </td><td>5 </td><td>3 </td><td>3 </td><td>3 </td><td> 4</td><td>5 </td><td>5 </td><td> 6</td></tr>\n",
       "\t<tr><td>19</td><td>1 </td><td>1 </td><td>1 </td><td>2 </td><td>3 </td><td>4 </td><td>3 </td><td>2 </td><td>3 </td><td>10</td><td>7 </td><td>8 </td><td>10</td></tr>\n",
       "</tbody>\n",
       "</table>\n"
      ],
      "text/latex": [
       "\\begin{tabular}{r|llllllllllllll}\n",
       " age & Medu & Fedu & traveltime & studytime & failures & famrel & freetime & goout & health & absences & G1 & G2 & G3\\\\\n",
       "\\hline\n",
       "\t 18 & 4  & 4  & 2  & 2  & 0  & 4  & 3  & 4  & 3  &  6 & 5  & 6  &  6\\\\\n",
       "\t 19 & 1  & 1  & 1  & 2  & 0  & 5  & 3  & 3  & 3  &  4 & 5  & 5  &  6\\\\\n",
       "\t 19 & 1  & 1  & 1  & 2  & 3  & 4  & 3  & 2  & 3  & 10 & 7  & 8  & 10\\\\\n",
       "\\end{tabular}\n"
      ],
      "text/markdown": [
       "\n",
       "age | Medu | Fedu | traveltime | studytime | failures | famrel | freetime | goout | health | absences | G1 | G2 | G3 | \n",
       "|---|---|---|\n",
       "| 18 | 4  | 4  | 2  | 2  | 0  | 4  | 3  | 4  | 3  |  6 | 5  | 6  |  6 | \n",
       "| 19 | 1  | 1  | 1  | 2  | 0  | 5  | 3  | 3  | 3  |  4 | 5  | 5  |  6 | \n",
       "| 19 | 1  | 1  | 1  | 2  | 3  | 4  | 3  | 2  | 3  | 10 | 7  | 8  | 10 | \n",
       "\n",
       "\n"
      ],
      "text/plain": [
       "  age Medu Fedu traveltime studytime failures famrel freetime goout health\n",
       "1 18  4    4    2          2         0        4      3        4     3     \n",
       "2 19  1    1    1          2         0        5      3        3     3     \n",
       "3 19  1    1    1          2         3        4      3        2     3     \n",
       "  absences G1 G2 G3\n",
       "1  6       5  6   6\n",
       "2  4       5  5   6\n",
       "3 10       7  8  10"
      ]
     },
     "metadata": {},
     "output_type": "display_data"
    }
   ],
   "source": [
    "# get rid of the first column (serial number)\n",
    "df <- df[ , 2:ncol(df)]   # or df <- df[ , -1]\n",
    "\n",
    "# check the new df\n",
    "head(df, 3)\n",
    "\n",
    "# see if df has missing values\n",
    "any(is.na(df)) # false\n",
    "\n",
    "# identify numerical columns\n",
    "num_col <- sapply(df, is.numeric)\n",
    "\n",
    "# derive data frame of numerical columns\n",
    "df_num <- df[num_col]\n",
    "\n",
    "# display first 3 rows\n",
    "head(df_num,3)"
   ]
  },
  {
   "cell_type": "markdown",
   "metadata": {},
   "source": [
    "### Note: all numerical features above from Medu to absenses are ordered, so no additional processing is required for these. Categorical features should be inspected and may require pre-processing (ex. convert to factor)."
   ]
  },
  {
   "cell_type": "code",
   "execution_count": 15,
   "metadata": {},
   "outputs": [
    {
     "data": {
      "text/html": [
       "<table>\n",
       "<thead><tr><th></th><th scope=col>age</th><th scope=col>Medu</th><th scope=col>Fedu</th><th scope=col>traveltime</th><th scope=col>studytime</th><th scope=col>failures</th><th scope=col>famrel</th><th scope=col>freetime</th><th scope=col>goout</th><th scope=col>health</th><th scope=col>absences</th><th scope=col>G1</th><th scope=col>G2</th><th scope=col>G3</th></tr></thead>\n",
       "<tbody>\n",
       "\t<tr><th scope=row>age</th><td> 1.000000000</td><td> 0.007290627</td><td>-0.027293193</td><td>-0.108984299</td><td>-0.094090884</td><td> 0.14571275 </td><td> 0.011506383</td><td> 0.10679849 </td><td>-0.049060257</td><td> 0.008010967</td><td>-0.003118663</td><td> 0.01200620 </td><td> 0.06253879 </td><td> 0.08118949 </td></tr>\n",
       "\t<tr><th scope=row>Medu</th><td> 0.007290627</td><td> 1.000000000</td><td> 0.623455112</td><td>-0.171639305</td><td> 0.064944137</td><td>-0.23667996 </td><td>-0.003914458</td><td> 0.03089087 </td><td> 0.064094438</td><td>-0.046877829</td><td> 0.100284818</td><td> 0.20534100 </td><td> 0.21552717 </td><td> 0.21714750 </td></tr>\n",
       "\t<tr><th scope=row>Fedu</th><td>-0.027293193</td><td> 0.623455112</td><td> 1.000000000</td><td>-0.158194054</td><td>-0.009174639</td><td>-0.25040844 </td><td>-0.001369727</td><td>-0.01284553 </td><td> 0.043104668</td><td> 0.014741537</td><td> 0.024472887</td><td> 0.19026994 </td><td> 0.16489339 </td><td> 0.15245694 </td></tr>\n",
       "\t<tr><th scope=row>traveltime</th><td>-0.108984299</td><td>-0.171639305</td><td>-0.158194054</td><td> 1.000000000</td><td>-0.100909119</td><td> 0.09223875 </td><td>-0.016807986</td><td>-0.01702494 </td><td> 0.028539674</td><td> 0.007500606</td><td>-0.012943775</td><td>-0.09303999 </td><td>-0.15319796 </td><td>-0.11714205 </td></tr>\n",
       "\t<tr><th scope=row>studytime</th><td>-0.094090884</td><td> 0.064944137</td><td>-0.009174639</td><td>-0.100909119</td><td> 1.000000000</td><td>-0.17356303 </td><td> 0.039730704</td><td>-0.14319841 </td><td>-0.063903675</td><td>-0.075615863</td><td>-0.062700175</td><td> 0.16061192 </td><td> 0.13588000 </td><td> 0.09781969 </td></tr>\n",
       "\t<tr><th scope=row>failures</th><td> 0.145712751</td><td>-0.236679963</td><td>-0.250408444</td><td> 0.092238746</td><td>-0.173563031</td><td> 1.00000000 </td><td>-0.044336626</td><td> 0.09198747 </td><td> 0.124560922</td><td> 0.065827282</td><td> 0.063725833</td><td>-0.35471761 </td><td>-0.35589563 </td><td>-0.36041494 </td></tr>\n",
       "\t<tr><th scope=row>famrel</th><td> 0.011506383</td><td>-0.003914458</td><td>-0.001369727</td><td>-0.016807986</td><td> 0.039730704</td><td>-0.04433663 </td><td> 1.000000000</td><td> 0.15070144 </td><td> 0.064568411</td><td> 0.094055728</td><td>-0.044354095</td><td> 0.02216832 </td><td>-0.01828135 </td><td> 0.05136343 </td></tr>\n",
       "\t<tr><th scope=row>freetime</th><td> 0.106798492</td><td> 0.030890867</td><td>-0.012845528</td><td>-0.017024944</td><td>-0.143198407</td><td> 0.09198747 </td><td> 0.150701444</td><td> 1.00000000 </td><td> 0.285018715</td><td> 0.075733357</td><td>-0.058077922</td><td> 0.01261293 </td><td>-0.01377714 </td><td> 0.01130724 </td></tr>\n",
       "\t<tr><th scope=row>goout</th><td>-0.049060257</td><td> 0.064094438</td><td> 0.043104668</td><td> 0.028539674</td><td>-0.063903675</td><td> 0.12456092 </td><td> 0.064568411</td><td> 0.28501871 </td><td> 1.000000000</td><td>-0.009577254</td><td> 0.044302220</td><td>-0.14910397 </td><td>-0.16225003 </td><td>-0.13279147 </td></tr>\n",
       "\t<tr><th scope=row>health</th><td> 0.008010967</td><td>-0.046877829</td><td> 0.014741537</td><td> 0.007500606</td><td>-0.075615863</td><td> 0.06582728 </td><td> 0.094055728</td><td> 0.07573336 </td><td>-0.009577254</td><td> 1.000000000</td><td>-0.029936711</td><td>-0.07317207 </td><td>-0.09771987 </td><td>-0.06133460 </td></tr>\n",
       "\t<tr><th scope=row>absences</th><td>-0.003118663</td><td> 0.100284818</td><td> 0.024472887</td><td>-0.012943775</td><td>-0.062700175</td><td> 0.06372583 </td><td>-0.044354095</td><td>-0.05807792 </td><td> 0.044302220</td><td>-0.029936711</td><td> 1.000000000</td><td>-0.03100290 </td><td>-0.03177670 </td><td> 0.03424732 </td></tr>\n",
       "\t<tr><th scope=row>G1</th><td> 0.012006198</td><td> 0.205340997</td><td> 0.190269936</td><td>-0.093039992</td><td> 0.160611915</td><td>-0.35471761 </td><td> 0.022168316</td><td> 0.01261293 </td><td>-0.149103967</td><td>-0.073172073</td><td>-0.031002901</td><td> 1.00000000 </td><td> 0.85211807 </td><td> 0.80146793 </td></tr>\n",
       "\t<tr><th scope=row>G2</th><td> 0.062538787</td><td> 0.215527168</td><td> 0.164893393</td><td>-0.153197963</td><td> 0.135879999</td><td>-0.35589563 </td><td>-0.018281347</td><td>-0.01377714 </td><td>-0.162250034</td><td>-0.097719866</td><td>-0.031776704</td><td> 0.85211807 </td><td> 1.00000000 </td><td> 0.90486799 </td></tr>\n",
       "\t<tr><th scope=row>G3</th><td> 0.081189488</td><td> 0.217147496</td><td> 0.152456939</td><td>-0.117142053</td><td> 0.097819690</td><td>-0.36041494 </td><td> 0.051363429</td><td> 0.01130724 </td><td>-0.132791474</td><td>-0.061334605</td><td> 0.034247316</td><td> 0.80146793 </td><td> 0.90486799 </td><td> 1.00000000 </td></tr>\n",
       "</tbody>\n",
       "</table>\n"
      ],
      "text/latex": [
       "\\begin{tabular}{r|llllllllllllll}\n",
       "  & age & Medu & Fedu & traveltime & studytime & failures & famrel & freetime & goout & health & absences & G1 & G2 & G3\\\\\n",
       "\\hline\n",
       "\tage &  1.000000000 &  0.007290627 & -0.027293193 & -0.108984299 & -0.094090884 &  0.14571275  &  0.011506383 &  0.10679849  & -0.049060257 &  0.008010967 & -0.003118663 &  0.01200620  &  0.06253879  &  0.08118949 \\\\\n",
       "\tMedu &  0.007290627 &  1.000000000 &  0.623455112 & -0.171639305 &  0.064944137 & -0.23667996  & -0.003914458 &  0.03089087  &  0.064094438 & -0.046877829 &  0.100284818 &  0.20534100  &  0.21552717  &  0.21714750 \\\\\n",
       "\tFedu & -0.027293193 &  0.623455112 &  1.000000000 & -0.158194054 & -0.009174639 & -0.25040844  & -0.001369727 & -0.01284553  &  0.043104668 &  0.014741537 &  0.024472887 &  0.19026994  &  0.16489339  &  0.15245694 \\\\\n",
       "\ttraveltime & -0.108984299 & -0.171639305 & -0.158194054 &  1.000000000 & -0.100909119 &  0.09223875  & -0.016807986 & -0.01702494  &  0.028539674 &  0.007500606 & -0.012943775 & -0.09303999  & -0.15319796  & -0.11714205 \\\\\n",
       "\tstudytime & -0.094090884 &  0.064944137 & -0.009174639 & -0.100909119 &  1.000000000 & -0.17356303  &  0.039730704 & -0.14319841  & -0.063903675 & -0.075615863 & -0.062700175 &  0.16061192  &  0.13588000  &  0.09781969 \\\\\n",
       "\tfailures &  0.145712751 & -0.236679963 & -0.250408444 &  0.092238746 & -0.173563031 &  1.00000000  & -0.044336626 &  0.09198747  &  0.124560922 &  0.065827282 &  0.063725833 & -0.35471761  & -0.35589563  & -0.36041494 \\\\\n",
       "\tfamrel &  0.011506383 & -0.003914458 & -0.001369727 & -0.016807986 &  0.039730704 & -0.04433663  &  1.000000000 &  0.15070144  &  0.064568411 &  0.094055728 & -0.044354095 &  0.02216832  & -0.01828135  &  0.05136343 \\\\\n",
       "\tfreetime &  0.106798492 &  0.030890867 & -0.012845528 & -0.017024944 & -0.143198407 &  0.09198747  &  0.150701444 &  1.00000000  &  0.285018715 &  0.075733357 & -0.058077922 &  0.01261293  & -0.01377714  &  0.01130724 \\\\\n",
       "\tgoout & -0.049060257 &  0.064094438 &  0.043104668 &  0.028539674 & -0.063903675 &  0.12456092  &  0.064568411 &  0.28501871  &  1.000000000 & -0.009577254 &  0.044302220 & -0.14910397  & -0.16225003  & -0.13279147 \\\\\n",
       "\thealth &  0.008010967 & -0.046877829 &  0.014741537 &  0.007500606 & -0.075615863 &  0.06582728  &  0.094055728 &  0.07573336  & -0.009577254 &  1.000000000 & -0.029936711 & -0.07317207  & -0.09771987  & -0.06133460 \\\\\n",
       "\tabsences & -0.003118663 &  0.100284818 &  0.024472887 & -0.012943775 & -0.062700175 &  0.06372583  & -0.044354095 & -0.05807792  &  0.044302220 & -0.029936711 &  1.000000000 & -0.03100290  & -0.03177670  &  0.03424732 \\\\\n",
       "\tG1 &  0.012006198 &  0.205340997 &  0.190269936 & -0.093039992 &  0.160611915 & -0.35471761  &  0.022168316 &  0.01261293  & -0.149103967 & -0.073172073 & -0.031002901 &  1.00000000  &  0.85211807  &  0.80146793 \\\\\n",
       "\tG2 &  0.062538787 &  0.215527168 &  0.164893393 & -0.153197963 &  0.135879999 & -0.35589563  & -0.018281347 & -0.01377714  & -0.162250034 & -0.097719866 & -0.031776704 &  0.85211807  &  1.00000000  &  0.90486799 \\\\\n",
       "\tG3 &  0.081189488 &  0.217147496 &  0.152456939 & -0.117142053 &  0.097819690 & -0.36041494  &  0.051363429 &  0.01130724  & -0.132791474 & -0.061334605 &  0.034247316 &  0.80146793  &  0.90486799  &  1.00000000 \\\\\n",
       "\\end{tabular}\n"
      ],
      "text/markdown": [
       "\n",
       "| <!--/--> | age | Medu | Fedu | traveltime | studytime | failures | famrel | freetime | goout | health | absences | G1 | G2 | G3 | \n",
       "|---|---|---|---|---|---|---|---|---|---|---|---|---|---|\n",
       "| age |  1.000000000 |  0.007290627 | -0.027293193 | -0.108984299 | -0.094090884 |  0.14571275  |  0.011506383 |  0.10679849  | -0.049060257 |  0.008010967 | -0.003118663 |  0.01200620  |  0.06253879  |  0.08118949  | \n",
       "| Medu |  0.007290627 |  1.000000000 |  0.623455112 | -0.171639305 |  0.064944137 | -0.23667996  | -0.003914458 |  0.03089087  |  0.064094438 | -0.046877829 |  0.100284818 |  0.20534100  |  0.21552717  |  0.21714750  | \n",
       "| Fedu | -0.027293193 |  0.623455112 |  1.000000000 | -0.158194054 | -0.009174639 | -0.25040844  | -0.001369727 | -0.01284553  |  0.043104668 |  0.014741537 |  0.024472887 |  0.19026994  |  0.16489339  |  0.15245694  | \n",
       "| traveltime | -0.108984299 | -0.171639305 | -0.158194054 |  1.000000000 | -0.100909119 |  0.09223875  | -0.016807986 | -0.01702494  |  0.028539674 |  0.007500606 | -0.012943775 | -0.09303999  | -0.15319796  | -0.11714205  | \n",
       "| studytime | -0.094090884 |  0.064944137 | -0.009174639 | -0.100909119 |  1.000000000 | -0.17356303  |  0.039730704 | -0.14319841  | -0.063903675 | -0.075615863 | -0.062700175 |  0.16061192  |  0.13588000  |  0.09781969  | \n",
       "| failures |  0.145712751 | -0.236679963 | -0.250408444 |  0.092238746 | -0.173563031 |  1.00000000  | -0.044336626 |  0.09198747  |  0.124560922 |  0.065827282 |  0.063725833 | -0.35471761  | -0.35589563  | -0.36041494  | \n",
       "| famrel |  0.011506383 | -0.003914458 | -0.001369727 | -0.016807986 |  0.039730704 | -0.04433663  |  1.000000000 |  0.15070144  |  0.064568411 |  0.094055728 | -0.044354095 |  0.02216832  | -0.01828135  |  0.05136343  | \n",
       "| freetime |  0.106798492 |  0.030890867 | -0.012845528 | -0.017024944 | -0.143198407 |  0.09198747  |  0.150701444 |  1.00000000  |  0.285018715 |  0.075733357 | -0.058077922 |  0.01261293  | -0.01377714  |  0.01130724  | \n",
       "| goout | -0.049060257 |  0.064094438 |  0.043104668 |  0.028539674 | -0.063903675 |  0.12456092  |  0.064568411 |  0.28501871  |  1.000000000 | -0.009577254 |  0.044302220 | -0.14910397  | -0.16225003  | -0.13279147  | \n",
       "| health |  0.008010967 | -0.046877829 |  0.014741537 |  0.007500606 | -0.075615863 |  0.06582728  |  0.094055728 |  0.07573336  | -0.009577254 |  1.000000000 | -0.029936711 | -0.07317207  | -0.09771987  | -0.06133460  | \n",
       "| absences | -0.003118663 |  0.100284818 |  0.024472887 | -0.012943775 | -0.062700175 |  0.06372583  | -0.044354095 | -0.05807792  |  0.044302220 | -0.029936711 |  1.000000000 | -0.03100290  | -0.03177670  |  0.03424732  | \n",
       "| G1 |  0.012006198 |  0.205340997 |  0.190269936 | -0.093039992 |  0.160611915 | -0.35471761  |  0.022168316 |  0.01261293  | -0.149103967 | -0.073172073 | -0.031002901 |  1.00000000  |  0.85211807  |  0.80146793  | \n",
       "| G2 |  0.062538787 |  0.215527168 |  0.164893393 | -0.153197963 |  0.135879999 | -0.35589563  | -0.018281347 | -0.01377714  | -0.162250034 | -0.097719866 | -0.031776704 |  0.85211807  |  1.00000000  |  0.90486799  | \n",
       "| G3 |  0.081189488 |  0.217147496 |  0.152456939 | -0.117142053 |  0.097819690 | -0.36041494  |  0.051363429 |  0.01130724  | -0.132791474 | -0.061334605 |  0.034247316 |  0.80146793  |  0.90486799  |  1.00000000  | \n",
       "\n",
       "\n"
      ],
      "text/plain": [
       "           age          Medu         Fedu         traveltime   studytime   \n",
       "age         1.000000000  0.007290627 -0.027293193 -0.108984299 -0.094090884\n",
       "Medu        0.007290627  1.000000000  0.623455112 -0.171639305  0.064944137\n",
       "Fedu       -0.027293193  0.623455112  1.000000000 -0.158194054 -0.009174639\n",
       "traveltime -0.108984299 -0.171639305 -0.158194054  1.000000000 -0.100909119\n",
       "studytime  -0.094090884  0.064944137 -0.009174639 -0.100909119  1.000000000\n",
       "failures    0.145712751 -0.236679963 -0.250408444  0.092238746 -0.173563031\n",
       "famrel      0.011506383 -0.003914458 -0.001369727 -0.016807986  0.039730704\n",
       "freetime    0.106798492  0.030890867 -0.012845528 -0.017024944 -0.143198407\n",
       "goout      -0.049060257  0.064094438  0.043104668  0.028539674 -0.063903675\n",
       "health      0.008010967 -0.046877829  0.014741537  0.007500606 -0.075615863\n",
       "absences   -0.003118663  0.100284818  0.024472887 -0.012943775 -0.062700175\n",
       "G1          0.012006198  0.205340997  0.190269936 -0.093039992  0.160611915\n",
       "G2          0.062538787  0.215527168  0.164893393 -0.153197963  0.135879999\n",
       "G3          0.081189488  0.217147496  0.152456939 -0.117142053  0.097819690\n",
       "           failures    famrel       freetime    goout        health      \n",
       "age         0.14571275  0.011506383  0.10679849 -0.049060257  0.008010967\n",
       "Medu       -0.23667996 -0.003914458  0.03089087  0.064094438 -0.046877829\n",
       "Fedu       -0.25040844 -0.001369727 -0.01284553  0.043104668  0.014741537\n",
       "traveltime  0.09223875 -0.016807986 -0.01702494  0.028539674  0.007500606\n",
       "studytime  -0.17356303  0.039730704 -0.14319841 -0.063903675 -0.075615863\n",
       "failures    1.00000000 -0.044336626  0.09198747  0.124560922  0.065827282\n",
       "famrel     -0.04433663  1.000000000  0.15070144  0.064568411  0.094055728\n",
       "freetime    0.09198747  0.150701444  1.00000000  0.285018715  0.075733357\n",
       "goout       0.12456092  0.064568411  0.28501871  1.000000000 -0.009577254\n",
       "health      0.06582728  0.094055728  0.07573336 -0.009577254  1.000000000\n",
       "absences    0.06372583 -0.044354095 -0.05807792  0.044302220 -0.029936711\n",
       "G1         -0.35471761  0.022168316  0.01261293 -0.149103967 -0.073172073\n",
       "G2         -0.35589563 -0.018281347 -0.01377714 -0.162250034 -0.097719866\n",
       "G3         -0.36041494  0.051363429  0.01130724 -0.132791474 -0.061334605\n",
       "           absences     G1          G2          G3         \n",
       "age        -0.003118663  0.01200620  0.06253879  0.08118949\n",
       "Medu        0.100284818  0.20534100  0.21552717  0.21714750\n",
       "Fedu        0.024472887  0.19026994  0.16489339  0.15245694\n",
       "traveltime -0.012943775 -0.09303999 -0.15319796 -0.11714205\n",
       "studytime  -0.062700175  0.16061192  0.13588000  0.09781969\n",
       "failures    0.063725833 -0.35471761 -0.35589563 -0.36041494\n",
       "famrel     -0.044354095  0.02216832 -0.01828135  0.05136343\n",
       "freetime   -0.058077922  0.01261293 -0.01377714  0.01130724\n",
       "goout       0.044302220 -0.14910397 -0.16225003 -0.13279147\n",
       "health     -0.029936711 -0.07317207 -0.09771987 -0.06133460\n",
       "absences    1.000000000 -0.03100290 -0.03177670  0.03424732\n",
       "G1         -0.031002901  1.00000000  0.85211807  0.80146793\n",
       "G2         -0.031776704  0.85211807  1.00000000  0.90486799\n",
       "G3          0.034247316  0.80146793  0.90486799  1.00000000"
      ]
     },
     "metadata": {},
     "output_type": "display_data"
    },
    {
     "data": {
      "text/html": [
       "13"
      ],
      "text/latex": [
       "13"
      ],
      "text/markdown": [
       "13"
      ],
      "text/plain": [
       "[1] 13"
      ]
     },
     "metadata": {},
     "output_type": "display_data"
    }
   ],
   "source": [
    "# check if features are correlated (works only on numerical features)\n",
    "df_cor <- cor(df_num)\n",
    "df_cor\n",
    "\n",
    "# seems feature # 13 (G2) is strongly correlated (at least 90%)\n",
    "findCorrelation(df_cor, cutoff = 0.9) \n",
    "\n",
    "# can also find if features are linear combination of others\n",
    "#findLinearCombos(df_num)\n"
   ]
  },
  {
   "cell_type": "code",
   "execution_count": 16,
   "metadata": {},
   "outputs": [
    {
     "data": {
      "text/html": [
       "<table>\n",
       "<thead><tr><th></th><th scope=col>school</th><th scope=col>sex</th><th scope=col>age</th><th scope=col>address</th><th scope=col>famsize</th><th scope=col>Pstatus</th><th scope=col>Medu</th><th scope=col>Fedu</th><th scope=col>Mjob</th><th scope=col>Fjob</th><th scope=col>...</th><th scope=col>higher</th><th scope=col>internet</th><th scope=col>famrel</th><th scope=col>freetime</th><th scope=col>goout</th><th scope=col>health</th><th scope=col>absences</th><th scope=col>G1</th><th scope=col>G2</th><th scope=col>G3</th></tr></thead>\n",
       "<tbody>\n",
       "\t<tr><th scope=row>129</th><td>R       </td><td>M       </td><td>18      </td><td>R       </td><td>GT3     </td><td>T       </td><td>2       </td><td>2       </td><td>services</td><td>other   </td><td>...     </td><td>yes     </td><td>yes     </td><td>3       </td><td>3       </td><td>3       </td><td>4       </td><td>0       </td><td> 7      </td><td>4       </td><td>0       </td></tr>\n",
       "\t<tr><th scope=row>131</th><td>R       </td><td>F       </td><td>19      </td><td>R       </td><td>GT3     </td><td>T       </td><td>3       </td><td>4       </td><td>services</td><td>teacher </td><td>...     </td><td>yes     </td><td>yes     </td><td>4       </td><td>2       </td><td>2       </td><td>5       </td><td>0       </td><td>12      </td><td>0       </td><td>0       </td></tr>\n",
       "\t<tr><th scope=row>132</th><td>R       </td><td>F       </td><td>19      </td><td>U       </td><td>GT3     </td><td>T       </td><td>1       </td><td>1       </td><td>at_home </td><td>other   </td><td>...     </td><td>yes     </td><td>yes     </td><td>4       </td><td>3       </td><td>3       </td><td>4       </td><td>0       </td><td> 8      </td><td>0       </td><td>0       </td></tr>\n",
       "\t<tr><th scope=row>135</th><td>R       </td><td>M       </td><td>19      </td><td>R       </td><td>GT3     </td><td>T       </td><td>3       </td><td>4       </td><td>at_home </td><td>teacher </td><td>...     </td><td>yes     </td><td>no      </td><td>5       </td><td>3       </td><td>3       </td><td>5       </td><td>0       </td><td> 9      </td><td>0       </td><td>0       </td></tr>\n",
       "\t<tr><th scope=row>136</th><td>R       </td><td>F       </td><td>19      </td><td>U       </td><td>GT3     </td><td>T       </td><td>4       </td><td>4       </td><td>services</td><td>at_home </td><td>...     </td><td>yes     </td><td>yes     </td><td>4       </td><td>3       </td><td>3       </td><td>5       </td><td>0       </td><td>11      </td><td>0       </td><td>0       </td></tr>\n",
       "</tbody>\n",
       "</table>\n"
      ],
      "text/latex": [
       "\\begin{tabular}{r|lllllllllllllllllllllllllllll}\n",
       "  & school & sex & age & address & famsize & Pstatus & Medu & Fedu & Mjob & Fjob & ... & higher & internet & famrel & freetime & goout & health & absences & G1 & G2 & G3\\\\\n",
       "\\hline\n",
       "\t129 & R        & M        & 18       & R        & GT3      & T        & 2        & 2        & services & other    & ...      & yes      & yes      & 3        & 3        & 3        & 4        & 0        &  7       & 4        & 0       \\\\\n",
       "\t131 & R        & F        & 19       & R        & GT3      & T        & 3        & 4        & services & teacher  & ...      & yes      & yes      & 4        & 2        & 2        & 5        & 0        & 12       & 0        & 0       \\\\\n",
       "\t132 & R          & F          & 19         & U          & GT3        & T          & 1          & 1          & at\\_home  & other      & ...        & yes        & yes        & 4          & 3          & 3          & 4          & 0          &  8         & 0          & 0         \\\\\n",
       "\t135 & R          & M          & 19         & R          & GT3        & T          & 3          & 4          & at\\_home  & teacher    & ...        & yes        & no         & 5          & 3          & 3          & 5          & 0          &  9         & 0          & 0         \\\\\n",
       "\t136 & R         & F         & 19        & U         & GT3       & T         & 4         & 4         & services  & at\\_home & ...       & yes       & yes       & 4         & 3         & 3         & 5         & 0         & 11        & 0         & 0        \\\\\n",
       "\\end{tabular}\n"
      ],
      "text/markdown": [
       "\n",
       "| <!--/--> | school | sex | age | address | famsize | Pstatus | Medu | Fedu | Mjob | Fjob | ... | higher | internet | famrel | freetime | goout | health | absences | G1 | G2 | G3 | \n",
       "|---|---|---|---|---|\n",
       "| 129 | R        | M        | 18       | R        | GT3      | T        | 2        | 2        | services | other    | ...      | yes      | yes      | 3        | 3        | 3        | 4        | 0        |  7       | 4        | 0        | \n",
       "| 131 | R        | F        | 19       | R        | GT3      | T        | 3        | 4        | services | teacher  | ...      | yes      | yes      | 4        | 2        | 2        | 5        | 0        | 12       | 0        | 0        | \n",
       "| 132 | R        | F        | 19       | U        | GT3      | T        | 1        | 1        | at_home  | other    | ...      | yes      | yes      | 4        | 3        | 3        | 4        | 0        |  8       | 0        | 0        | \n",
       "| 135 | R        | M        | 19       | R        | GT3      | T        | 3        | 4        | at_home  | teacher  | ...      | yes      | no       | 5        | 3        | 3        | 5        | 0        |  9       | 0        | 0        | \n",
       "| 136 | R        | F        | 19       | U        | GT3      | T        | 4        | 4        | services | at_home  | ...      | yes      | yes      | 4        | 3        | 3        | 5        | 0        | 11       | 0        | 0        | \n",
       "\n",
       "\n"
      ],
      "text/plain": [
       "    school sex age address famsize Pstatus Medu Fedu Mjob     Fjob    ...\n",
       "129 R      M   18  R       GT3     T       2    2    services other   ...\n",
       "131 R      F   19  R       GT3     T       3    4    services teacher ...\n",
       "132 R      F   19  U       GT3     T       1    1    at_home  other   ...\n",
       "135 R      M   19  R       GT3     T       3    4    at_home  teacher ...\n",
       "136 R      F   19  U       GT3     T       4    4    services at_home ...\n",
       "    higher internet famrel freetime goout health absences G1 G2 G3\n",
       "129 yes    yes      3      3        3     4      0         7 4  0 \n",
       "131 yes    yes      4      2        2     5      0        12 0  0 \n",
       "132 yes    yes      4      3        3     4      0         8 0  0 \n",
       "135 yes    no       5      3        3     5      0         9 0  0 \n",
       "136 yes    yes      4      3        3     5      0        11 0  0 "
      ]
     },
     "metadata": {},
     "output_type": "display_data"
    }
   ],
   "source": [
    "# students with zero G3. These probably have no school records for G3 and absences. Let's remove them\n",
    "G3Z <- df[which(df$G3 ==0),]\n",
    "head(G3Z, 5)"
   ]
  },
  {
   "cell_type": "code",
   "execution_count": 17,
   "metadata": {},
   "outputs": [
    {
     "data": {
      "text/html": [
       "<ol class=list-inline>\n",
       "\t<li>357</li>\n",
       "\t<li>29</li>\n",
       "</ol>\n"
      ],
      "text/latex": [
       "\\begin{enumerate*}\n",
       "\\item 357\n",
       "\\item 29\n",
       "\\end{enumerate*}\n"
      ],
      "text/markdown": [
       "1. 357\n",
       "2. 29\n",
       "\n",
       "\n"
      ],
      "text/plain": [
       "[1] 357  29"
      ]
     },
     "metadata": {},
     "output_type": "display_data"
    }
   ],
   "source": [
    "df <- df[which(df$G3 !=0),]\n",
    "dim(df)"
   ]
  },
  {
   "cell_type": "code",
   "execution_count": 18,
   "metadata": {},
   "outputs": [
    {
     "data": {
      "text/html": [
       "<table>\n",
       "<thead><tr><th></th><th scope=col>freqRatio</th><th scope=col>percentUnique</th><th scope=col>zeroVar</th><th scope=col>nzv</th></tr></thead>\n",
       "<tbody>\n",
       "\t<tr><th scope=row>school</th><td> 7.500000</td><td>0.5602241</td><td>FALSE    </td><td>FALSE    </td></tr>\n",
       "\t<tr><th scope=row>sex</th><td> 1.075581</td><td>0.5602241</td><td>FALSE    </td><td>FALSE    </td></tr>\n",
       "\t<tr><th scope=row>age</th><td> 4.028571</td><td>1.4005602</td><td>FALSE    </td><td>FALSE    </td></tr>\n",
       "\t<tr><th scope=row>address</th><td> 3.576923</td><td>0.5602241</td><td>FALSE    </td><td>FALSE    </td></tr>\n",
       "\t<tr><th scope=row>famsize</th><td> 2.336449</td><td>0.5602241</td><td>FALSE    </td><td>FALSE    </td></tr>\n",
       "\t<tr><th scope=row>Pstatus</th><td> 8.153846</td><td>0.5602241</td><td>FALSE    </td><td>FALSE    </td></tr>\n",
       "\t<tr><th scope=row>Medu</th><td> 1.388889</td><td>1.4005602</td><td>FALSE    </td><td>FALSE    </td></tr>\n",
       "\t<tr><th scope=row>Fedu</th><td> 1.085106</td><td>1.4005602</td><td>FALSE    </td><td>FALSE    </td></tr>\n",
       "\t<tr><th scope=row>Mjob</th><td> 1.351064</td><td>1.4005602</td><td>FALSE    </td><td>FALSE    </td></tr>\n",
       "\t<tr><th scope=row>Fjob</th><td> 1.960000</td><td>1.4005602</td><td>FALSE    </td><td>FALSE    </td></tr>\n",
       "\t<tr><th scope=row>reason</th><td> 1.272727</td><td>1.1204482</td><td>FALSE    </td><td>FALSE    </td></tr>\n",
       "\t<tr><th scope=row>traveltime</th><td> 2.484211</td><td>1.1204482</td><td>FALSE    </td><td>FALSE    </td></tr>\n",
       "\t<tr><th scope=row>studytime</th><td> 1.978261</td><td>1.1204482</td><td>FALSE    </td><td>FALSE    </td></tr>\n",
       "\t<tr><th scope=row>failures</th><td> 7.350000</td><td>1.1204482</td><td>FALSE    </td><td>FALSE    </td></tr>\n",
       "\t<tr><th scope=row>schoolsup</th><td> 6.140000</td><td>0.5602241</td><td>FALSE    </td><td>FALSE    </td></tr>\n",
       "\t<tr><th scope=row>famsup</th><td> 1.586957</td><td>0.5602241</td><td>FALSE    </td><td>FALSE    </td></tr>\n",
       "\t<tr><th scope=row>paid</th><td> 1.063584</td><td>0.5602241</td><td>FALSE    </td><td>FALSE    </td></tr>\n",
       "\t<tr><th scope=row>activities</th><td> 1.016949</td><td>0.5602241</td><td>FALSE    </td><td>FALSE    </td></tr>\n",
       "\t<tr><th scope=row>nursery</th><td> 4.028169</td><td>0.5602241</td><td>FALSE    </td><td>FALSE    </td></tr>\n",
       "\t<tr><th scope=row>higher</th><td>24.500000</td><td>0.5602241</td><td>FALSE    </td><td> TRUE    </td></tr>\n",
       "\t<tr><th scope=row>internet</th><td> 5.155172</td><td>0.5602241</td><td>FALSE    </td><td>FALSE    </td></tr>\n",
       "\t<tr><th scope=row>famrel</th><td> 1.854167</td><td>1.4005602</td><td>FALSE    </td><td>FALSE    </td></tr>\n",
       "\t<tr><th scope=row>freetime</th><td> 1.283019</td><td>1.4005602</td><td>FALSE    </td><td>FALSE    </td></tr>\n",
       "\t<tr><th scope=row>goout</th><td> 1.297872</td><td>1.4005602</td><td>FALSE    </td><td>FALSE    </td></tr>\n",
       "\t<tr><th scope=row>health</th><td> 1.602410</td><td>1.4005602</td><td>FALSE    </td><td>FALSE    </td></tr>\n",
       "\t<tr><th scope=row>absences</th><td> 1.184615</td><td>9.5238095</td><td>FALSE    </td><td>FALSE    </td></tr>\n",
       "\t<tr><th scope=row>G1</th><td> 1.210526</td><td>4.4817927</td><td>FALSE    </td><td>FALSE    </td></tr>\n",
       "\t<tr><th scope=row>G2</th><td> 1.022727</td><td>4.2016807</td><td>FALSE    </td><td>FALSE    </td></tr>\n",
       "\t<tr><th scope=row>G3</th><td> 1.191489</td><td>4.7619048</td><td>FALSE    </td><td>FALSE    </td></tr>\n",
       "</tbody>\n",
       "</table>\n"
      ],
      "text/latex": [
       "\\begin{tabular}{r|llll}\n",
       "  & freqRatio & percentUnique & zeroVar & nzv\\\\\n",
       "\\hline\n",
       "\tschool &  7.500000 & 0.5602241 & FALSE     & FALSE    \\\\\n",
       "\tsex &  1.075581 & 0.5602241 & FALSE     & FALSE    \\\\\n",
       "\tage &  4.028571 & 1.4005602 & FALSE     & FALSE    \\\\\n",
       "\taddress &  3.576923 & 0.5602241 & FALSE     & FALSE    \\\\\n",
       "\tfamsize &  2.336449 & 0.5602241 & FALSE     & FALSE    \\\\\n",
       "\tPstatus &  8.153846 & 0.5602241 & FALSE     & FALSE    \\\\\n",
       "\tMedu &  1.388889 & 1.4005602 & FALSE     & FALSE    \\\\\n",
       "\tFedu &  1.085106 & 1.4005602 & FALSE     & FALSE    \\\\\n",
       "\tMjob &  1.351064 & 1.4005602 & FALSE     & FALSE    \\\\\n",
       "\tFjob &  1.960000 & 1.4005602 & FALSE     & FALSE    \\\\\n",
       "\treason &  1.272727 & 1.1204482 & FALSE     & FALSE    \\\\\n",
       "\ttraveltime &  2.484211 & 1.1204482 & FALSE     & FALSE    \\\\\n",
       "\tstudytime &  1.978261 & 1.1204482 & FALSE     & FALSE    \\\\\n",
       "\tfailures &  7.350000 & 1.1204482 & FALSE     & FALSE    \\\\\n",
       "\tschoolsup &  6.140000 & 0.5602241 & FALSE     & FALSE    \\\\\n",
       "\tfamsup &  1.586957 & 0.5602241 & FALSE     & FALSE    \\\\\n",
       "\tpaid &  1.063584 & 0.5602241 & FALSE     & FALSE    \\\\\n",
       "\tactivities &  1.016949 & 0.5602241 & FALSE     & FALSE    \\\\\n",
       "\tnursery &  4.028169 & 0.5602241 & FALSE     & FALSE    \\\\\n",
       "\thigher & 24.500000 & 0.5602241 & FALSE     &  TRUE    \\\\\n",
       "\tinternet &  5.155172 & 0.5602241 & FALSE     & FALSE    \\\\\n",
       "\tfamrel &  1.854167 & 1.4005602 & FALSE     & FALSE    \\\\\n",
       "\tfreetime &  1.283019 & 1.4005602 & FALSE     & FALSE    \\\\\n",
       "\tgoout &  1.297872 & 1.4005602 & FALSE     & FALSE    \\\\\n",
       "\thealth &  1.602410 & 1.4005602 & FALSE     & FALSE    \\\\\n",
       "\tabsences &  1.184615 & 9.5238095 & FALSE     & FALSE    \\\\\n",
       "\tG1 &  1.210526 & 4.4817927 & FALSE     & FALSE    \\\\\n",
       "\tG2 &  1.022727 & 4.2016807 & FALSE     & FALSE    \\\\\n",
       "\tG3 &  1.191489 & 4.7619048 & FALSE     & FALSE    \\\\\n",
       "\\end{tabular}\n"
      ],
      "text/markdown": [
       "\n",
       "| <!--/--> | freqRatio | percentUnique | zeroVar | nzv | \n",
       "|---|---|---|---|---|---|---|---|---|---|---|---|---|---|---|---|---|---|---|---|---|---|---|---|---|---|---|---|---|\n",
       "| school |  7.500000 | 0.5602241 | FALSE     | FALSE     | \n",
       "| sex |  1.075581 | 0.5602241 | FALSE     | FALSE     | \n",
       "| age |  4.028571 | 1.4005602 | FALSE     | FALSE     | \n",
       "| address |  3.576923 | 0.5602241 | FALSE     | FALSE     | \n",
       "| famsize |  2.336449 | 0.5602241 | FALSE     | FALSE     | \n",
       "| Pstatus |  8.153846 | 0.5602241 | FALSE     | FALSE     | \n",
       "| Medu |  1.388889 | 1.4005602 | FALSE     | FALSE     | \n",
       "| Fedu |  1.085106 | 1.4005602 | FALSE     | FALSE     | \n",
       "| Mjob |  1.351064 | 1.4005602 | FALSE     | FALSE     | \n",
       "| Fjob |  1.960000 | 1.4005602 | FALSE     | FALSE     | \n",
       "| reason |  1.272727 | 1.1204482 | FALSE     | FALSE     | \n",
       "| traveltime |  2.484211 | 1.1204482 | FALSE     | FALSE     | \n",
       "| studytime |  1.978261 | 1.1204482 | FALSE     | FALSE     | \n",
       "| failures |  7.350000 | 1.1204482 | FALSE     | FALSE     | \n",
       "| schoolsup |  6.140000 | 0.5602241 | FALSE     | FALSE     | \n",
       "| famsup |  1.586957 | 0.5602241 | FALSE     | FALSE     | \n",
       "| paid |  1.063584 | 0.5602241 | FALSE     | FALSE     | \n",
       "| activities |  1.016949 | 0.5602241 | FALSE     | FALSE     | \n",
       "| nursery |  4.028169 | 0.5602241 | FALSE     | FALSE     | \n",
       "| higher | 24.500000 | 0.5602241 | FALSE     |  TRUE     | \n",
       "| internet |  5.155172 | 0.5602241 | FALSE     | FALSE     | \n",
       "| famrel |  1.854167 | 1.4005602 | FALSE     | FALSE     | \n",
       "| freetime |  1.283019 | 1.4005602 | FALSE     | FALSE     | \n",
       "| goout |  1.297872 | 1.4005602 | FALSE     | FALSE     | \n",
       "| health |  1.602410 | 1.4005602 | FALSE     | FALSE     | \n",
       "| absences |  1.184615 | 9.5238095 | FALSE     | FALSE     | \n",
       "| G1 |  1.210526 | 4.4817927 | FALSE     | FALSE     | \n",
       "| G2 |  1.022727 | 4.2016807 | FALSE     | FALSE     | \n",
       "| G3 |  1.191489 | 4.7619048 | FALSE     | FALSE     | \n",
       "\n",
       "\n"
      ],
      "text/plain": [
       "           freqRatio percentUnique zeroVar nzv  \n",
       "school      7.500000 0.5602241     FALSE   FALSE\n",
       "sex         1.075581 0.5602241     FALSE   FALSE\n",
       "age         4.028571 1.4005602     FALSE   FALSE\n",
       "address     3.576923 0.5602241     FALSE   FALSE\n",
       "famsize     2.336449 0.5602241     FALSE   FALSE\n",
       "Pstatus     8.153846 0.5602241     FALSE   FALSE\n",
       "Medu        1.388889 1.4005602     FALSE   FALSE\n",
       "Fedu        1.085106 1.4005602     FALSE   FALSE\n",
       "Mjob        1.351064 1.4005602     FALSE   FALSE\n",
       "Fjob        1.960000 1.4005602     FALSE   FALSE\n",
       "reason      1.272727 1.1204482     FALSE   FALSE\n",
       "traveltime  2.484211 1.1204482     FALSE   FALSE\n",
       "studytime   1.978261 1.1204482     FALSE   FALSE\n",
       "failures    7.350000 1.1204482     FALSE   FALSE\n",
       "schoolsup   6.140000 0.5602241     FALSE   FALSE\n",
       "famsup      1.586957 0.5602241     FALSE   FALSE\n",
       "paid        1.063584 0.5602241     FALSE   FALSE\n",
       "activities  1.016949 0.5602241     FALSE   FALSE\n",
       "nursery     4.028169 0.5602241     FALSE   FALSE\n",
       "higher     24.500000 0.5602241     FALSE    TRUE\n",
       "internet    5.155172 0.5602241     FALSE   FALSE\n",
       "famrel      1.854167 1.4005602     FALSE   FALSE\n",
       "freetime    1.283019 1.4005602     FALSE   FALSE\n",
       "goout       1.297872 1.4005602     FALSE   FALSE\n",
       "health      1.602410 1.4005602     FALSE   FALSE\n",
       "absences    1.184615 9.5238095     FALSE   FALSE\n",
       "G1          1.210526 4.4817927     FALSE   FALSE\n",
       "G2          1.022727 4.2016807     FALSE   FALSE\n",
       "G3          1.191489 4.7619048     FALSE   FALSE"
      ]
     },
     "metadata": {},
     "output_type": "display_data"
    }
   ],
   "source": [
    "# check if variance is very small (near zero variance)\n",
    "nearZeroVar(df, saveMetrics = TRUE) # everything is OK"
   ]
  },
  {
   "cell_type": "code",
   "execution_count": 19,
   "metadata": {},
   "outputs": [
    {
     "data": {
      "text/html": [
       "<table>\n",
       "<thead><tr><th></th><th scope=col>school</th><th scope=col>sex</th><th scope=col>age</th><th scope=col>address</th><th scope=col>famsize</th><th scope=col>Pstatus</th><th scope=col>Medu</th><th scope=col>Fedu</th><th scope=col>Mjob</th><th scope=col>Fjob</th><th scope=col>...</th><th scope=col>higher</th><th scope=col>internet</th><th scope=col>famrel</th><th scope=col>freetime</th><th scope=col>goout</th><th scope=col>health</th><th scope=col>absences</th><th scope=col>G1</th><th scope=col>G2</th><th scope=col>G3</th></tr></thead>\n",
       "<tbody>\n",
       "\t<tr><th scope=row>3</th><td>R       </td><td>F       </td><td>19      </td><td>U       </td><td>LE3     </td><td>T       </td><td>1       </td><td>1       </td><td>at_home </td><td>other   </td><td>...     </td><td>yes     </td><td>yes     </td><td>4       </td><td>3       </td><td>2       </td><td>3       </td><td>10      </td><td> 7      </td><td> 8      </td><td>10      </td></tr>\n",
       "\t<tr><th scope=row>5</th><td>R       </td><td>F       </td><td>19      </td><td>U       </td><td>GT3     </td><td>T       </td><td>3       </td><td>3       </td><td>other   </td><td>other   </td><td>...     </td><td>yes     </td><td>no      </td><td>4       </td><td>3       </td><td>2       </td><td>5       </td><td> 4      </td><td> 6      </td><td>10      </td><td>10      </td></tr>\n",
       "\t<tr><th scope=row>6</th><td>R       </td><td>M       </td><td>19      </td><td>U       </td><td>LE3     </td><td>T       </td><td>4       </td><td>3       </td><td>services</td><td>other   </td><td>...     </td><td>yes     </td><td>yes     </td><td>5       </td><td>4       </td><td>2       </td><td>5       </td><td>10      </td><td>15      </td><td>15      </td><td>15      </td></tr>\n",
       "</tbody>\n",
       "</table>\n"
      ],
      "text/latex": [
       "\\begin{tabular}{r|lllllllllllllllllllllllllllll}\n",
       "  & school & sex & age & address & famsize & Pstatus & Medu & Fedu & Mjob & Fjob & ... & higher & internet & famrel & freetime & goout & health & absences & G1 & G2 & G3\\\\\n",
       "\\hline\n",
       "\t3 & R          & F          & 19         & U          & LE3        & T          & 1          & 1          & at\\_home  & other      & ...        & yes        & yes        & 4          & 3          & 2          & 3          & 10         &  7         &  8         & 10        \\\\\n",
       "\t5 & R        & F        & 19       & U        & GT3      & T        & 3        & 3        & other    & other    & ...      & yes      & no       & 4        & 3        & 2        & 5        &  4       &  6       & 10       & 10      \\\\\n",
       "\t6 & R        & M        & 19       & U        & LE3      & T        & 4        & 3        & services & other    & ...      & yes      & yes      & 5        & 4        & 2        & 5        & 10       & 15       & 15       & 15      \\\\\n",
       "\\end{tabular}\n"
      ],
      "text/markdown": [
       "\n",
       "| <!--/--> | school | sex | age | address | famsize | Pstatus | Medu | Fedu | Mjob | Fjob | ... | higher | internet | famrel | freetime | goout | health | absences | G1 | G2 | G3 | \n",
       "|---|---|---|\n",
       "| 3 | R        | F        | 19       | U        | LE3      | T        | 1        | 1        | at_home  | other    | ...      | yes      | yes      | 4        | 3        | 2        | 3        | 10       |  7       |  8       | 10       | \n",
       "| 5 | R        | F        | 19       | U        | GT3      | T        | 3        | 3        | other    | other    | ...      | yes      | no       | 4        | 3        | 2        | 5        |  4       |  6       | 10       | 10       | \n",
       "| 6 | R        | M        | 19       | U        | LE3      | T        | 4        | 3        | services | other    | ...      | yes      | yes      | 5        | 4        | 2        | 5        | 10       | 15       | 15       | 15       | \n",
       "\n",
       "\n"
      ],
      "text/plain": [
       "  school sex age address famsize Pstatus Medu Fedu Mjob     Fjob  ... higher\n",
       "3 R      F   19  U       LE3     T       1    1    at_home  other ... yes   \n",
       "5 R      F   19  U       GT3     T       3    3    other    other ... yes   \n",
       "6 R      M   19  U       LE3     T       4    3    services other ... yes   \n",
       "  internet famrel freetime goout health absences G1 G2 G3\n",
       "3 yes      4      3        2     3      10        7  8 10\n",
       "5 no       4      3        2     5       4        6 10 10\n",
       "6 yes      5      4        2     5      10       15 15 15"
      ]
     },
     "metadata": {},
     "output_type": "display_data"
    },
    {
     "data": {
      "text/html": [
       "<table>\n",
       "<thead><tr><th></th><th scope=col>school</th><th scope=col>sex</th><th scope=col>age</th><th scope=col>address</th><th scope=col>famsize</th><th scope=col>Pstatus</th><th scope=col>Medu</th><th scope=col>Fedu</th><th scope=col>Mjob</th><th scope=col>Fjob</th><th scope=col>...</th><th scope=col>higher</th><th scope=col>internet</th><th scope=col>famrel</th><th scope=col>freetime</th><th scope=col>goout</th><th scope=col>health</th><th scope=col>absences</th><th scope=col>G1</th><th scope=col>G2</th><th scope=col>G3</th></tr></thead>\n",
       "<tbody>\n",
       "\t<tr><th scope=row>1</th><td>R       </td><td>F       </td><td>18      </td><td>U       </td><td>GT3     </td><td>A       </td><td>4       </td><td>4       </td><td>at_home </td><td>teacher </td><td>...     </td><td>yes     </td><td>no      </td><td>4       </td><td>3       </td><td>4       </td><td>3       </td><td>6       </td><td> 5      </td><td> 6      </td><td> 6      </td></tr>\n",
       "\t<tr><th scope=row>2</th><td>R       </td><td>F       </td><td>19      </td><td>U       </td><td>GT3     </td><td>T       </td><td>1       </td><td>1       </td><td>at_home </td><td>other   </td><td>...     </td><td>yes     </td><td>yes     </td><td>5       </td><td>3       </td><td>3       </td><td>3       </td><td>4       </td><td> 5      </td><td> 5      </td><td> 6      </td></tr>\n",
       "\t<tr><th scope=row>4</th><td>R       </td><td>F       </td><td>19      </td><td>U       </td><td>GT3     </td><td>T       </td><td>4       </td><td>2       </td><td>health  </td><td>services</td><td>...     </td><td>yes     </td><td>yes     </td><td>3       </td><td>2       </td><td>2       </td><td>5       </td><td>2       </td><td>15      </td><td>14      </td><td>15      </td></tr>\n",
       "</tbody>\n",
       "</table>\n"
      ],
      "text/latex": [
       "\\begin{tabular}{r|lllllllllllllllllllllllllllll}\n",
       "  & school & sex & age & address & famsize & Pstatus & Medu & Fedu & Mjob & Fjob & ... & higher & internet & famrel & freetime & goout & health & absences & G1 & G2 & G3\\\\\n",
       "\\hline\n",
       "\t1 & R         & F         & 18        & U         & GT3       & A         & 4         & 4         & at\\_home & teacher   & ...       & yes       & no        & 4         & 3         & 4         & 3         & 6         &  5        &  6        &  6       \\\\\n",
       "\t2 & R         & F         & 19        & U         & GT3       & T         & 1         & 1         & at\\_home & other     & ...       & yes       & yes       & 5         & 3         & 3         & 3         & 4         &  5        &  5        &  6       \\\\\n",
       "\t4 & R        & F        & 19       & U        & GT3      & T        & 4        & 2        & health   & services & ...      & yes      & yes      & 3        & 2        & 2        & 5        & 2        & 15       & 14       & 15      \\\\\n",
       "\\end{tabular}\n"
      ],
      "text/markdown": [
       "\n",
       "| <!--/--> | school | sex | age | address | famsize | Pstatus | Medu | Fedu | Mjob | Fjob | ... | higher | internet | famrel | freetime | goout | health | absences | G1 | G2 | G3 | \n",
       "|---|---|---|\n",
       "| 1 | R        | F        | 18       | U        | GT3      | A        | 4        | 4        | at_home  | teacher  | ...      | yes      | no       | 4        | 3        | 4        | 3        | 6        |  5       |  6       |  6       | \n",
       "| 2 | R        | F        | 19       | U        | GT3      | T        | 1        | 1        | at_home  | other    | ...      | yes      | yes      | 5        | 3        | 3        | 3        | 4        |  5       |  5       |  6       | \n",
       "| 4 | R        | F        | 19       | U        | GT3      | T        | 4        | 2        | health   | services | ...      | yes      | yes      | 3        | 2        | 2        | 5        | 2        | 15       | 14       | 15       | \n",
       "\n",
       "\n"
      ],
      "text/plain": [
       "  school sex age address famsize Pstatus Medu Fedu Mjob    Fjob     ... higher\n",
       "1 R      F   18  U       GT3     A       4    4    at_home teacher  ... yes   \n",
       "2 R      F   19  U       GT3     T       1    1    at_home other    ... yes   \n",
       "4 R      F   19  U       GT3     T       4    2    health  services ... yes   \n",
       "  internet famrel freetime goout health absences G1 G2 G3\n",
       "1 no       4      3        4     3      6         5  6  6\n",
       "2 yes      5      3        3     3      4         5  5  6\n",
       "4 yes      3      2        2     5      2        15 14 15"
      ]
     },
     "metadata": {},
     "output_type": "display_data"
    }
   ],
   "source": [
    "# set seed to re-generate same random values to split dataset\n",
    "set.seed(100)\n",
    "\n",
    "# caret simplifies split for training and testing\n",
    "df_sampling_vector <- createDataPartition(df$G3, p =0.75, list = FALSE)\n",
    "df_train <- df[df_sampling_vector, ]\n",
    "df_test <- df[-df_sampling_vector, ]\n",
    "\n",
    "# verify\n",
    "head(df_train, 3)\n",
    "head(df_test, 3)"
   ]
  },
  {
   "cell_type": "code",
   "execution_count": 20,
   "metadata": {},
   "outputs": [
    {
     "data": {
      "text/html": [
       "<ol class=list-inline>\n",
       "\t<li>10</li>\n",
       "\t<li>10</li>\n",
       "\t<li>15</li>\n",
       "</ol>\n"
      ],
      "text/latex": [
       "\\begin{enumerate*}\n",
       "\\item 10\n",
       "\\item 10\n",
       "\\item 15\n",
       "\\end{enumerate*}\n"
      ],
      "text/markdown": [
       "1. 10\n",
       "2. 10\n",
       "3. 15\n",
       "\n",
       "\n"
      ],
      "text/plain": [
       "[1] 10 10 15"
      ]
     },
     "metadata": {},
     "output_type": "display_data"
    },
    {
     "data": {
      "text/html": [
       "<ol class=list-inline>\n",
       "\t<li>6</li>\n",
       "\t<li>6</li>\n",
       "\t<li>15</li>\n",
       "</ol>\n"
      ],
      "text/latex": [
       "\\begin{enumerate*}\n",
       "\\item 6\n",
       "\\item 6\n",
       "\\item 15\n",
       "\\end{enumerate*}\n"
      ],
      "text/markdown": [
       "1. 6\n",
       "2. 6\n",
       "3. 15\n",
       "\n",
       "\n"
      ],
      "text/plain": [
       "[1]  6  6 15"
      ]
     },
     "metadata": {},
     "output_type": "display_data"
    }
   ],
   "source": [
    "# keep labels (outputs) for train and test data\n",
    "df_train_label <- df$G3[df_sampling_vector]\n",
    "head(df_train_label,3)\n",
    "\n",
    "df_test_label <- df$G3[-df_sampling_vector]\n",
    "head(df_test_label,3)"
   ]
  },
  {
   "cell_type": "code",
   "execution_count": 21,
   "metadata": {},
   "outputs": [
    {
     "data": {
      "text/plain": [
       "\n",
       "Call:\n",
       "lm(formula = G3 ~ ., data = df_train)\n",
       "\n",
       "Residuals:\n",
       "     Min       1Q   Median       3Q      Max \n",
       "-2.17520 -0.43861 -0.05084  0.57472  1.89537 \n",
       "\n",
       "Coefficients:\n",
       "                  Estimate Std. Error t value Pr(>|t|)    \n",
       "(Intercept)       4.798584   2.405255   1.995  0.04721 *  \n",
       "schoolR1         -0.149731   0.191249  -0.783  0.43448    \n",
       "sexM             -0.003729   0.119853  -0.031  0.97521    \n",
       "age              -0.210783   0.121285  -1.738  0.08355 .  \n",
       "addressU          0.124912   0.143456   0.871  0.38480    \n",
       "famsizeLE3       -0.046029   0.118215  -0.389  0.69736    \n",
       "PstatusT         -0.251091   0.187300  -1.341  0.18137    \n",
       "Medu             -0.038205   0.079016  -0.484  0.62919    \n",
       "Fedu             -0.033085   0.067524  -0.490  0.62461    \n",
       "Mjobhealth        0.158300   0.268476   0.590  0.55602    \n",
       "Mjobother        -0.324216   0.193704  -1.674  0.09552 .  \n",
       "Mjobservices     -0.082780   0.208430  -0.397  0.69162    \n",
       "Mjobteacher       0.120564   0.253415   0.476  0.63469    \n",
       "Fjobhealth        0.198799   0.350834   0.567  0.57150    \n",
       "Fjobother         0.233091   0.258484   0.902  0.36812    \n",
       "Fjobservices      0.075906   0.264922   0.287  0.77473    \n",
       "Fjobteacher       0.124370   0.325009   0.383  0.70232    \n",
       "reasonhome        0.232412   0.139041   1.672  0.09596 .  \n",
       "reasonother       0.258041   0.192049   1.344  0.18038    \n",
       "reasonreputation  0.186101   0.151190   1.231  0.21960    \n",
       "traveltime       -0.080619   0.086169  -0.936  0.35046    \n",
       "studytime         0.018441   0.071449   0.258  0.79655    \n",
       "failures          0.035370   0.089270   0.396  0.69232    \n",
       "schoolsupyes     -0.186049   0.168305  -1.105  0.27012    \n",
       "famsupyes         0.061217   0.118669   0.516  0.60644    \n",
       "paidyes          -0.220381   0.114534  -1.924  0.05556 .  \n",
       "activitiesyes    -0.123891   0.112668  -1.100  0.27264    \n",
       "nurseryyes       -0.140250   0.135799  -1.033  0.30278    \n",
       "higheryes        -0.220648   0.306474  -0.720  0.47228    \n",
       "internetyes      -0.006059   0.161876  -0.037  0.97018    \n",
       "famrel            0.171766   0.061331   2.801  0.00553 ** \n",
       "freetime         -0.013124   0.061569  -0.213  0.83139    \n",
       "goout            -0.078695   0.054447  -1.445  0.14971    \n",
       "health           -0.051976   0.041045  -1.266  0.20668    \n",
       "absences         -0.012466   0.007634  -1.633  0.10384    \n",
       "G1                0.086960   0.040511   2.147  0.03286 *  \n",
       "G2                0.904111   0.041499  21.786  < 2e-16 ***\n",
       "---\n",
       "Signif. codes:  0 '***' 0.001 '**' 0.01 '*' 0.05 '.' 0.1 ' ' 1\n",
       "\n",
       "Residual standard error: 0.8191 on 232 degrees of freedom\n",
       "Multiple R-squared:  0.9453,\tAdjusted R-squared:  0.9368 \n",
       "F-statistic: 111.4 on 36 and 232 DF,  p-value: < 2.2e-16\n"
      ]
     },
     "metadata": {},
     "output_type": "display_data"
    }
   ],
   "source": [
    "# train a linear model. This means consider g3 as function of all other features\n",
    "student_lm <- lm(G3 ~ ., data = df_train)\n",
    "\n",
    "# evaluate training model\n",
    "summary(student_lm)"
   ]
  },
  {
   "cell_type": "code",
   "execution_count": 22,
   "metadata": {},
   "outputs": [
    {
     "data": {
      "image/png": "[encoded data removed]",
      "text/plain": [
       "Plot with title \"\""
      ]
     },
     "metadata": {},
     "output_type": "display_data"
    },
    {
     "data": {
      "image/png": "[encoded data removed]",
      "text/plain": [
       "Plot with title \"\""
      ]
     },
     "metadata": {},
     "output_type": "display_data"
    },
    {
     "data": {
      "image/png": "[encoded data removed]",
      "text/plain": [
       "Plot with title \"\""
      ]
     },
     "metadata": {},
     "output_type": "display_data"
    },
    {
     "data": {
      "image/png": "[encoded data removed]",
      "text/plain": [
       "Plot with title \"\""
      ]
     },
     "metadata": {},
     "output_type": "display_data"
    }
   ],
   "source": [
    "# check for useless features if you get singularities above (in summary)\n",
    "# alias(celt_lm) # here, no section for Complete (only Model)\n",
    "# if singular, we could use \n",
    "# celt_lm2 <- lm(G3 ~. -G2, data = df_train)\n",
    "# summary(celt_lm2$residuals)\n",
    "# summary(celt_lm2)\n",
    "plot(student_lm)"
   ]
  },
  {
   "cell_type": "code",
   "execution_count": 23,
   "metadata": {
    "collapsed": true
   },
   "outputs": [],
   "source": [
    "# now predict the test data outputs\n",
    "student_pred <- predict(student_lm, df_test)"
   ]
  },
  {
   "cell_type": "code",
   "execution_count": 24,
   "metadata": {
    "collapsed": true
   },
   "outputs": [],
   "source": [
    "# define a function to calcculare mean squared errors\n",
    "compute_mse <- function(predictions, actual) {\n",
    "mean( (predictions - actual) ^ 2 )\n",
    "}"
   ]
  },
  {
   "cell_type": "code",
   "execution_count": 29,
   "metadata": {},
   "outputs": [
    {
     "name": "stdout",
     "output_type": "stream",
     "text": [
      "[1] \"MSE:  0.715551248275164\"\n",
      "[1] \"RMSE:  0.845902623400096\"\n"
     ]
    }
   ],
   "source": [
    "# pass the predictions and actual values to test model\n",
    "mse <- compute_mse(student_pred, df_test$G3) \n",
    "# root mean squared error\n",
    "rmse <- sqrt(mse)\n",
    "print(paste(\"MSE: \", mse))\n",
    "print(paste(\"RMSE: \", rmse))"
   ]
  },
  {
   "cell_type": "code",
   "execution_count": 28,
   "metadata": {},
   "outputs": [
    {
     "data": {
      "text/html": [
       "<dl class=dl-horizontal>\n",
       "\t<dt>RMSE</dt>\n",
       "\t\t<dd>0.845902623400096</dd>\n",
       "\t<dt>Rsquared</dt>\n",
       "\t\t<dd>0.929949201435275</dd>\n",
       "</dl>\n"
      ],
      "text/latex": [
       "\\begin{description*}\n",
       "\\item[RMSE] 0.845902623400096\n",
       "\\item[Rsquared] 0.929949201435275\n",
       "\\end{description*}\n"
      ],
      "text/markdown": [
       "RMSE\n",
       ":   0.845902623400096Rsquared\n",
       ":   0.929949201435275\n",
       "\n"
      ],
      "text/plain": [
       "     RMSE  Rsquared \n",
       "0.8459026 0.9299492 "
      ]
     },
     "metadata": {},
     "output_type": "display_data"
    }
   ],
   "source": [
    "# caret has a function to calculate RMSE and R^2\n",
    "postResample(pred = student_pred, obs = df_test$G3)"
   ]
  },
  {
   "cell_type": "code",
   "execution_count": 35,
   "metadata": {},
   "outputs": [
    {
     "data": {
      "text/html": [
       "0.933802044371345"
      ],
      "text/latex": [
       "0.933802044371345"
      ],
      "text/markdown": [
       "0.933802044371345"
      ],
      "text/plain": [
       "[1] 0.9338020444"
      ]
     },
     "metadata": {},
     "output_type": "display_data"
    },
    {
     "data": {
      "text/html": [
       "0.926926601697948"
      ],
      "text/latex": [
       "0.926926601697948"
      ],
      "text/markdown": [
       "0.926926601697948"
      ],
      "text/plain": [
       "[1] 0.9269266017"
      ]
     },
     "metadata": {},
     "output_type": "display_data"
    }
   ],
   "source": [
    "#--- SSR, SSE and SST: see https://www.youtube.com/watch?v=aq8VU5KLmkY \n",
    "# on how to calculate R2\n",
    "\n",
    "SSR <- sum((student_pred - mean(df_test$G3))^2)\n",
    "SSE <- sum((df_test$G3 - student_pred)^2)\n",
    "SST <- SSR + SSE\n",
    "\n",
    "Rsq <- SSR/SST\n",
    "Rsq # this looks correct comapred to caret's value\n",
    "\n",
    "# using approximation (not encouraged)\n",
    "SSE = sum((student_pred - df_test$G3)^2)\n",
    "# here, SST is calculated directly\n",
    "SST = sum( (mean(df_test$G3) - df_test$G3)^2)\n",
    "\n",
    "R2 = 1 - SSE/SST\n",
    "R2\n",
    "# slight difference "
   ]
  },
  {
   "cell_type": "markdown",
   "metadata": {
    "collapsed": true
   },
   "source": [
    "### Practice: test different features (hold some) and compare performance. Also try other train/test ratios and try to predict total grade (out of 60)"
   ]
  },
  {
   "cell_type": "code",
   "execution_count": null,
   "metadata": {
    "collapsed": true
   },
   "outputs": [],
   "source": []
  }
 ],
 "metadata": {
  "kernelspec": {
   "display_name": "R",
   "language": "R",
   "name": "ir"
  },
  "language_info": {
   "codemirror_mode": "r",
   "file_extension": ".r",
   "mimetype": "text/x-r-source",
   "name": "R",
   "pygments_lexer": "r",
   "version": "3.3.3"
  }
 },
 "nbformat": 4,
 "nbformat_minor": 2
}
